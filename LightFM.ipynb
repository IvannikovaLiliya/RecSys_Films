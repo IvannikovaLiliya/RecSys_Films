{
 "cells": [
  {
   "cell_type": "markdown",
   "id": "c5f10c28",
   "metadata": {},
   "source": [
    "# Import"
   ]
  },
  {
   "cell_type": "code",
   "execution_count": 1,
   "id": "74d57851",
   "metadata": {
    "ExecuteTime": {
     "end_time": "2024-01-09T08:57:11.096893Z",
     "start_time": "2024-01-09T08:57:10.316409Z"
    }
   },
   "outputs": [],
   "source": [
    "import pandas as pd\n",
    "import plotly.graph_objs as go\n",
    "import string\n",
    "import re\n",
    "import numpy as np\n",
    "import seaborn as sns\n",
    "import matplotlib.pyplot as plt\n",
    "from matplotlib.pyplot import figure\n",
    "#import cufflinks as cf\n",
    "from plotly.offline import iplot\n",
    "from tqdm import tqdm\n",
    "\n",
    "from collections import Counter\n",
    "from typing import Dict, Text\n",
    "from ast import literal_eval\n",
    "from datetime import datetime\n",
    "import plotly.express as px\n",
    "\n",
    "#cf.go_offline()\n",
    "#cf.set_config_file(offline = False, world_readable = True)\n",
    "\n",
    "import plotly.io as pio\n",
    "pio.renderers.default='notebook'\n",
    "\n",
    "import warnings\n",
    "warnings.simplefilter('ignore')"
   ]
  },
  {
   "cell_type": "code",
   "execution_count": 2,
   "id": "3e15d988",
   "metadata": {
    "ExecuteTime": {
     "end_time": "2024-01-09T08:57:11.106052Z",
     "start_time": "2024-01-09T08:57:11.097676Z"
    }
   },
   "outputs": [],
   "source": [
    "from rectools import Columns\n",
    "from rectools.dataset import Dataset"
   ]
  },
  {
   "cell_type": "code",
   "execution_count": 3,
   "id": "5365982a",
   "metadata": {
    "ExecuteTime": {
     "end_time": "2024-01-09T08:57:11.110534Z",
     "start_time": "2024-01-09T08:57:11.107675Z"
    }
   },
   "outputs": [
    {
     "data": {
      "text/plain": [
       "'/Users/liliyaivannikova/Documents/project/git/RecSys_Films'"
      ]
     },
     "execution_count": 3,
     "metadata": {},
     "output_type": "execute_result"
    }
   ],
   "source": [
    "import os\n",
    "us = os.getcwd()\n",
    "us"
   ]
  },
  {
   "cell_type": "code",
   "execution_count": 4,
   "id": "cbc2b297",
   "metadata": {
    "ExecuteTime": {
     "end_time": "2024-01-09T08:57:15.591412Z",
     "start_time": "2024-01-09T08:57:11.111275Z"
    }
   },
   "outputs": [],
   "source": [
    "if 'liliyaivannikova' in us:\n",
    "    PATH = r'/Users/liliyaivannikova/Documents/project/ml-latest/'\n",
    "    movies = pd.read_csv(PATH + r'movies.csv')\n",
    "    rating = pd.read_csv(PATH + r'ratings.csv')\n",
    "elif 'Владислав' in us:\n",
    "    movies = pd.read_csv(r'dataset/movies.csv')\n",
    "    rating = pd.read_csv(r'dataset/ratings.csv')"
   ]
  },
  {
   "cell_type": "code",
   "execution_count": 5,
   "id": "1ce21742",
   "metadata": {
    "ExecuteTime": {
     "end_time": "2024-01-09T08:57:15.593969Z",
     "start_time": "2024-01-09T08:57:15.592199Z"
    }
   },
   "outputs": [
    {
     "name": "stdout",
     "output_type": "stream",
     "text": [
      "\n",
      "movies: (86537, 3)\n",
      "rating: (33832162, 4)\n",
      "\n"
     ]
    }
   ],
   "source": [
    "print(f'''\n",
    "movies: {movies.shape}\n",
    "rating: {rating.shape}\n",
    "''')"
   ]
  },
  {
   "cell_type": "code",
   "execution_count": 6,
   "id": "2f1bd9f3",
   "metadata": {
    "ExecuteTime": {
     "end_time": "2024-01-09T08:57:15.599343Z",
     "start_time": "2024-01-09T08:57:15.594681Z"
    }
   },
   "outputs": [
    {
     "data": {
      "text/html": [
       "<div>\n",
       "<style scoped>\n",
       "    .dataframe tbody tr th:only-of-type {\n",
       "        vertical-align: middle;\n",
       "    }\n",
       "\n",
       "    .dataframe tbody tr th {\n",
       "        vertical-align: top;\n",
       "    }\n",
       "\n",
       "    .dataframe thead th {\n",
       "        text-align: right;\n",
       "    }\n",
       "</style>\n",
       "<table border=\"1\" class=\"dataframe\">\n",
       "  <thead>\n",
       "    <tr style=\"text-align: right;\">\n",
       "      <th></th>\n",
       "      <th>MOVIEID</th>\n",
       "      <th>TITLE</th>\n",
       "      <th>GENRES</th>\n",
       "    </tr>\n",
       "  </thead>\n",
       "  <tbody>\n",
       "    <tr>\n",
       "      <th>0</th>\n",
       "      <td>1</td>\n",
       "      <td>Toy Story (1995)</td>\n",
       "      <td>Adventure|Animation|Children|Comedy|Fantasy</td>\n",
       "    </tr>\n",
       "    <tr>\n",
       "      <th>1</th>\n",
       "      <td>2</td>\n",
       "      <td>Jumanji (1995)</td>\n",
       "      <td>Adventure|Children|Fantasy</td>\n",
       "    </tr>\n",
       "    <tr>\n",
       "      <th>2</th>\n",
       "      <td>3</td>\n",
       "      <td>Grumpier Old Men (1995)</td>\n",
       "      <td>Comedy|Romance</td>\n",
       "    </tr>\n",
       "    <tr>\n",
       "      <th>3</th>\n",
       "      <td>4</td>\n",
       "      <td>Waiting to Exhale (1995)</td>\n",
       "      <td>Comedy|Drama|Romance</td>\n",
       "    </tr>\n",
       "    <tr>\n",
       "      <th>4</th>\n",
       "      <td>5</td>\n",
       "      <td>Father of the Bride Part II (1995)</td>\n",
       "      <td>Comedy</td>\n",
       "    </tr>\n",
       "  </tbody>\n",
       "</table>\n",
       "</div>"
      ],
      "text/plain": [
       "   MOVIEID                               TITLE  \\\n",
       "0        1                    Toy Story (1995)   \n",
       "1        2                      Jumanji (1995)   \n",
       "2        3             Grumpier Old Men (1995)   \n",
       "3        4            Waiting to Exhale (1995)   \n",
       "4        5  Father of the Bride Part II (1995)   \n",
       "\n",
       "                                        GENRES  \n",
       "0  Adventure|Animation|Children|Comedy|Fantasy  \n",
       "1                   Adventure|Children|Fantasy  \n",
       "2                               Comedy|Romance  \n",
       "3                         Comedy|Drama|Romance  \n",
       "4                                       Comedy  "
      ]
     },
     "execution_count": 6,
     "metadata": {},
     "output_type": "execute_result"
    }
   ],
   "source": [
    "movies.columns = [col.upper() for col in movies.columns]\n",
    "movies.head()"
   ]
  },
  {
   "cell_type": "code",
   "execution_count": 7,
   "id": "9129d676",
   "metadata": {
    "ExecuteTime": {
     "end_time": "2024-01-09T08:57:15.700874Z",
     "start_time": "2024-01-09T08:57:15.600566Z"
    }
   },
   "outputs": [],
   "source": [
    "movies['REALEASE'] = movies['TITLE'].str.extract(\"\\((\\d{4})\\)\", expand=True)\n",
    "movies['REALEASE'] = pd.to_datetime(movies['REALEASE'], format='%Y')\n",
    "movies['REALEASE'] = movies['REALEASE'].dt.year\n",
    "movies['TITLE'] = movies['TITLE'].str[:-7]"
   ]
  },
  {
   "cell_type": "code",
   "execution_count": 8,
   "id": "17b93cb4",
   "metadata": {
    "ExecuteTime": {
     "end_time": "2024-01-09T08:57:15.705528Z",
     "start_time": "2024-01-09T08:57:15.701878Z"
    }
   },
   "outputs": [
    {
     "data": {
      "text/html": [
       "<div>\n",
       "<style scoped>\n",
       "    .dataframe tbody tr th:only-of-type {\n",
       "        vertical-align: middle;\n",
       "    }\n",
       "\n",
       "    .dataframe tbody tr th {\n",
       "        vertical-align: top;\n",
       "    }\n",
       "\n",
       "    .dataframe thead th {\n",
       "        text-align: right;\n",
       "    }\n",
       "</style>\n",
       "<table border=\"1\" class=\"dataframe\">\n",
       "  <thead>\n",
       "    <tr style=\"text-align: right;\">\n",
       "      <th></th>\n",
       "      <th>MOVIEID</th>\n",
       "      <th>TITLE</th>\n",
       "      <th>GENRES</th>\n",
       "      <th>REALEASE</th>\n",
       "    </tr>\n",
       "  </thead>\n",
       "  <tbody>\n",
       "    <tr>\n",
       "      <th>0</th>\n",
       "      <td>1</td>\n",
       "      <td>Toy Story</td>\n",
       "      <td>Adventure|Animation|Children|Comedy|Fantasy</td>\n",
       "      <td>1995.0</td>\n",
       "    </tr>\n",
       "    <tr>\n",
       "      <th>1</th>\n",
       "      <td>2</td>\n",
       "      <td>Jumanji</td>\n",
       "      <td>Adventure|Children|Fantasy</td>\n",
       "      <td>1995.0</td>\n",
       "    </tr>\n",
       "    <tr>\n",
       "      <th>2</th>\n",
       "      <td>3</td>\n",
       "      <td>Grumpier Old Men</td>\n",
       "      <td>Comedy|Romance</td>\n",
       "      <td>1995.0</td>\n",
       "    </tr>\n",
       "    <tr>\n",
       "      <th>3</th>\n",
       "      <td>4</td>\n",
       "      <td>Waiting to Exhale</td>\n",
       "      <td>Comedy|Drama|Romance</td>\n",
       "      <td>1995.0</td>\n",
       "    </tr>\n",
       "    <tr>\n",
       "      <th>4</th>\n",
       "      <td>5</td>\n",
       "      <td>Father of the Bride Part II</td>\n",
       "      <td>Comedy</td>\n",
       "      <td>1995.0</td>\n",
       "    </tr>\n",
       "  </tbody>\n",
       "</table>\n",
       "</div>"
      ],
      "text/plain": [
       "   MOVIEID                        TITLE  \\\n",
       "0        1                    Toy Story   \n",
       "1        2                      Jumanji   \n",
       "2        3             Grumpier Old Men   \n",
       "3        4            Waiting to Exhale   \n",
       "4        5  Father of the Bride Part II   \n",
       "\n",
       "                                        GENRES  REALEASE  \n",
       "0  Adventure|Animation|Children|Comedy|Fantasy    1995.0  \n",
       "1                   Adventure|Children|Fantasy    1995.0  \n",
       "2                               Comedy|Romance    1995.0  \n",
       "3                         Comedy|Drama|Romance    1995.0  \n",
       "4                                       Comedy    1995.0  "
      ]
     },
     "execution_count": 8,
     "metadata": {},
     "output_type": "execute_result"
    }
   ],
   "source": [
    "movies.head()"
   ]
  },
  {
   "cell_type": "code",
   "execution_count": 9,
   "id": "fcf0b520",
   "metadata": {
    "ExecuteTime": {
     "end_time": "2024-01-09T08:57:15.964314Z",
     "start_time": "2024-01-09T08:57:15.707743Z"
    }
   },
   "outputs": [],
   "source": [
    "dfx = movies['GENRES'].str.get_dummies(sep='|')\n",
    "for col in dfx.columns:\n",
    "    dfx[col] = dfx[col].astype('int8')\n"
   ]
  },
  {
   "cell_type": "code",
   "execution_count": 10,
   "id": "c1a6946c",
   "metadata": {
    "ExecuteTime": {
     "end_time": "2024-01-09T08:57:16.023007Z",
     "start_time": "2024-01-09T08:57:15.965071Z"
    }
   },
   "outputs": [],
   "source": [
    "movies = pd.concat([movies, dfx], axis=1) #.drop(columns=['GENRES'])\n",
    "movies['TITLE'] = movies['TITLE'].astype('category')\n",
    "movies['REALEASE'] = movies['REALEASE'].astype('float16')"
   ]
  },
  {
   "cell_type": "code",
   "execution_count": 11,
   "id": "14986849",
   "metadata": {
    "ExecuteTime": {
     "end_time": "2024-01-09T08:57:16.037522Z",
     "start_time": "2024-01-09T08:57:16.023787Z"
    }
   },
   "outputs": [],
   "source": [
    "movies['GENRES'] = movies['GENRES'].str.replace('|', ',')"
   ]
  },
  {
   "cell_type": "code",
   "execution_count": 12,
   "id": "ade07a2f",
   "metadata": {
    "ExecuteTime": {
     "end_time": "2024-01-09T08:57:16.044894Z",
     "start_time": "2024-01-09T08:57:16.038357Z"
    }
   },
   "outputs": [
    {
     "data": {
      "text/html": [
       "<div>\n",
       "<style scoped>\n",
       "    .dataframe tbody tr th:only-of-type {\n",
       "        vertical-align: middle;\n",
       "    }\n",
       "\n",
       "    .dataframe tbody tr th {\n",
       "        vertical-align: top;\n",
       "    }\n",
       "\n",
       "    .dataframe thead th {\n",
       "        text-align: right;\n",
       "    }\n",
       "</style>\n",
       "<table border=\"1\" class=\"dataframe\">\n",
       "  <thead>\n",
       "    <tr style=\"text-align: right;\">\n",
       "      <th></th>\n",
       "      <th>MOVIEID</th>\n",
       "      <th>TITLE</th>\n",
       "      <th>GENRES</th>\n",
       "      <th>REALEASE</th>\n",
       "      <th>(no genres listed)</th>\n",
       "      <th>Action</th>\n",
       "      <th>Adventure</th>\n",
       "      <th>Animation</th>\n",
       "      <th>Children</th>\n",
       "      <th>Comedy</th>\n",
       "      <th>...</th>\n",
       "      <th>Film-Noir</th>\n",
       "      <th>Horror</th>\n",
       "      <th>IMAX</th>\n",
       "      <th>Musical</th>\n",
       "      <th>Mystery</th>\n",
       "      <th>Romance</th>\n",
       "      <th>Sci-Fi</th>\n",
       "      <th>Thriller</th>\n",
       "      <th>War</th>\n",
       "      <th>Western</th>\n",
       "    </tr>\n",
       "  </thead>\n",
       "  <tbody>\n",
       "    <tr>\n",
       "      <th>0</th>\n",
       "      <td>1</td>\n",
       "      <td>Toy Story</td>\n",
       "      <td>Adventure,Animation,Children,Comedy,Fantasy</td>\n",
       "      <td>1995.0</td>\n",
       "      <td>0</td>\n",
       "      <td>0</td>\n",
       "      <td>1</td>\n",
       "      <td>1</td>\n",
       "      <td>1</td>\n",
       "      <td>1</td>\n",
       "      <td>...</td>\n",
       "      <td>0</td>\n",
       "      <td>0</td>\n",
       "      <td>0</td>\n",
       "      <td>0</td>\n",
       "      <td>0</td>\n",
       "      <td>0</td>\n",
       "      <td>0</td>\n",
       "      <td>0</td>\n",
       "      <td>0</td>\n",
       "      <td>0</td>\n",
       "    </tr>\n",
       "    <tr>\n",
       "      <th>1</th>\n",
       "      <td>2</td>\n",
       "      <td>Jumanji</td>\n",
       "      <td>Adventure,Children,Fantasy</td>\n",
       "      <td>1995.0</td>\n",
       "      <td>0</td>\n",
       "      <td>0</td>\n",
       "      <td>1</td>\n",
       "      <td>0</td>\n",
       "      <td>1</td>\n",
       "      <td>0</td>\n",
       "      <td>...</td>\n",
       "      <td>0</td>\n",
       "      <td>0</td>\n",
       "      <td>0</td>\n",
       "      <td>0</td>\n",
       "      <td>0</td>\n",
       "      <td>0</td>\n",
       "      <td>0</td>\n",
       "      <td>0</td>\n",
       "      <td>0</td>\n",
       "      <td>0</td>\n",
       "    </tr>\n",
       "    <tr>\n",
       "      <th>2</th>\n",
       "      <td>3</td>\n",
       "      <td>Grumpier Old Men</td>\n",
       "      <td>Comedy,Romance</td>\n",
       "      <td>1995.0</td>\n",
       "      <td>0</td>\n",
       "      <td>0</td>\n",
       "      <td>0</td>\n",
       "      <td>0</td>\n",
       "      <td>0</td>\n",
       "      <td>1</td>\n",
       "      <td>...</td>\n",
       "      <td>0</td>\n",
       "      <td>0</td>\n",
       "      <td>0</td>\n",
       "      <td>0</td>\n",
       "      <td>0</td>\n",
       "      <td>1</td>\n",
       "      <td>0</td>\n",
       "      <td>0</td>\n",
       "      <td>0</td>\n",
       "      <td>0</td>\n",
       "    </tr>\n",
       "    <tr>\n",
       "      <th>3</th>\n",
       "      <td>4</td>\n",
       "      <td>Waiting to Exhale</td>\n",
       "      <td>Comedy,Drama,Romance</td>\n",
       "      <td>1995.0</td>\n",
       "      <td>0</td>\n",
       "      <td>0</td>\n",
       "      <td>0</td>\n",
       "      <td>0</td>\n",
       "      <td>0</td>\n",
       "      <td>1</td>\n",
       "      <td>...</td>\n",
       "      <td>0</td>\n",
       "      <td>0</td>\n",
       "      <td>0</td>\n",
       "      <td>0</td>\n",
       "      <td>0</td>\n",
       "      <td>1</td>\n",
       "      <td>0</td>\n",
       "      <td>0</td>\n",
       "      <td>0</td>\n",
       "      <td>0</td>\n",
       "    </tr>\n",
       "    <tr>\n",
       "      <th>4</th>\n",
       "      <td>5</td>\n",
       "      <td>Father of the Bride Part II</td>\n",
       "      <td>Comedy</td>\n",
       "      <td>1995.0</td>\n",
       "      <td>0</td>\n",
       "      <td>0</td>\n",
       "      <td>0</td>\n",
       "      <td>0</td>\n",
       "      <td>0</td>\n",
       "      <td>1</td>\n",
       "      <td>...</td>\n",
       "      <td>0</td>\n",
       "      <td>0</td>\n",
       "      <td>0</td>\n",
       "      <td>0</td>\n",
       "      <td>0</td>\n",
       "      <td>0</td>\n",
       "      <td>0</td>\n",
       "      <td>0</td>\n",
       "      <td>0</td>\n",
       "      <td>0</td>\n",
       "    </tr>\n",
       "  </tbody>\n",
       "</table>\n",
       "<p>5 rows × 24 columns</p>\n",
       "</div>"
      ],
      "text/plain": [
       "   MOVIEID                        TITLE  \\\n",
       "0        1                    Toy Story   \n",
       "1        2                      Jumanji   \n",
       "2        3             Grumpier Old Men   \n",
       "3        4            Waiting to Exhale   \n",
       "4        5  Father of the Bride Part II   \n",
       "\n",
       "                                        GENRES  REALEASE  (no genres listed)  \\\n",
       "0  Adventure,Animation,Children,Comedy,Fantasy    1995.0                   0   \n",
       "1                   Adventure,Children,Fantasy    1995.0                   0   \n",
       "2                               Comedy,Romance    1995.0                   0   \n",
       "3                         Comedy,Drama,Romance    1995.0                   0   \n",
       "4                                       Comedy    1995.0                   0   \n",
       "\n",
       "   Action  Adventure  Animation  Children  Comedy  ...  Film-Noir  Horror  \\\n",
       "0       0          1          1         1       1  ...          0       0   \n",
       "1       0          1          0         1       0  ...          0       0   \n",
       "2       0          0          0         0       1  ...          0       0   \n",
       "3       0          0          0         0       1  ...          0       0   \n",
       "4       0          0          0         0       1  ...          0       0   \n",
       "\n",
       "   IMAX  Musical  Mystery  Romance  Sci-Fi  Thriller  War  Western  \n",
       "0     0        0        0        0       0         0    0        0  \n",
       "1     0        0        0        0       0         0    0        0  \n",
       "2     0        0        0        1       0         0    0        0  \n",
       "3     0        0        0        1       0         0    0        0  \n",
       "4     0        0        0        0       0         0    0        0  \n",
       "\n",
       "[5 rows x 24 columns]"
      ]
     },
     "execution_count": 12,
     "metadata": {},
     "output_type": "execute_result"
    }
   ],
   "source": [
    "movies.head()"
   ]
  },
  {
   "cell_type": "code",
   "execution_count": 13,
   "id": "64aeb5f0",
   "metadata": {
    "ExecuteTime": {
     "end_time": "2024-01-09T08:57:16.050206Z",
     "start_time": "2024-01-09T08:57:16.046312Z"
    }
   },
   "outputs": [
    {
     "data": {
      "text/html": [
       "<div>\n",
       "<style scoped>\n",
       "    .dataframe tbody tr th:only-of-type {\n",
       "        vertical-align: middle;\n",
       "    }\n",
       "\n",
       "    .dataframe tbody tr th {\n",
       "        vertical-align: top;\n",
       "    }\n",
       "\n",
       "    .dataframe thead th {\n",
       "        text-align: right;\n",
       "    }\n",
       "</style>\n",
       "<table border=\"1\" class=\"dataframe\">\n",
       "  <thead>\n",
       "    <tr style=\"text-align: right;\">\n",
       "      <th></th>\n",
       "      <th>USERID</th>\n",
       "      <th>MOVIEID</th>\n",
       "      <th>RATING</th>\n",
       "      <th>TIMESTAMP</th>\n",
       "    </tr>\n",
       "  </thead>\n",
       "  <tbody>\n",
       "    <tr>\n",
       "      <th>0</th>\n",
       "      <td>1</td>\n",
       "      <td>1</td>\n",
       "      <td>4.0</td>\n",
       "      <td>1225734739</td>\n",
       "    </tr>\n",
       "    <tr>\n",
       "      <th>1</th>\n",
       "      <td>1</td>\n",
       "      <td>110</td>\n",
       "      <td>4.0</td>\n",
       "      <td>1225865086</td>\n",
       "    </tr>\n",
       "    <tr>\n",
       "      <th>2</th>\n",
       "      <td>1</td>\n",
       "      <td>158</td>\n",
       "      <td>4.0</td>\n",
       "      <td>1225733503</td>\n",
       "    </tr>\n",
       "    <tr>\n",
       "      <th>3</th>\n",
       "      <td>1</td>\n",
       "      <td>260</td>\n",
       "      <td>4.5</td>\n",
       "      <td>1225735204</td>\n",
       "    </tr>\n",
       "    <tr>\n",
       "      <th>4</th>\n",
       "      <td>1</td>\n",
       "      <td>356</td>\n",
       "      <td>5.0</td>\n",
       "      <td>1225735119</td>\n",
       "    </tr>\n",
       "  </tbody>\n",
       "</table>\n",
       "</div>"
      ],
      "text/plain": [
       "   USERID  MOVIEID  RATING   TIMESTAMP\n",
       "0       1        1     4.0  1225734739\n",
       "1       1      110     4.0  1225865086\n",
       "2       1      158     4.0  1225733503\n",
       "3       1      260     4.5  1225735204\n",
       "4       1      356     5.0  1225735119"
      ]
     },
     "execution_count": 13,
     "metadata": {},
     "output_type": "execute_result"
    }
   ],
   "source": [
    "rating.columns = [col.upper() for col in rating.columns]\n",
    "rating.head()"
   ]
  },
  {
   "cell_type": "markdown",
   "id": "ad5e78a9",
   "metadata": {},
   "source": [
    "# Обработка полей"
   ]
  },
  {
   "cell_type": "code",
   "execution_count": 14,
   "id": "ad0c0e33",
   "metadata": {
    "ExecuteTime": {
     "end_time": "2024-01-09T08:57:16.415624Z",
     "start_time": "2024-01-09T08:57:16.051218Z"
    }
   },
   "outputs": [],
   "source": [
    "rating['TIMESTAMP'] = pd.to_datetime(rating['TIMESTAMP'], unit='s')"
   ]
  },
  {
   "cell_type": "code",
   "execution_count": 15,
   "id": "8800cf6b",
   "metadata": {
    "ExecuteTime": {
     "end_time": "2024-01-09T08:57:16.420191Z",
     "start_time": "2024-01-09T08:57:16.416523Z"
    }
   },
   "outputs": [
    {
     "data": {
      "text/html": [
       "<div>\n",
       "<style scoped>\n",
       "    .dataframe tbody tr th:only-of-type {\n",
       "        vertical-align: middle;\n",
       "    }\n",
       "\n",
       "    .dataframe tbody tr th {\n",
       "        vertical-align: top;\n",
       "    }\n",
       "\n",
       "    .dataframe thead th {\n",
       "        text-align: right;\n",
       "    }\n",
       "</style>\n",
       "<table border=\"1\" class=\"dataframe\">\n",
       "  <thead>\n",
       "    <tr style=\"text-align: right;\">\n",
       "      <th></th>\n",
       "      <th>USERID</th>\n",
       "      <th>MOVIEID</th>\n",
       "      <th>RATING</th>\n",
       "      <th>TIMESTAMP</th>\n",
       "    </tr>\n",
       "  </thead>\n",
       "  <tbody>\n",
       "    <tr>\n",
       "      <th>0</th>\n",
       "      <td>1</td>\n",
       "      <td>1</td>\n",
       "      <td>4.0</td>\n",
       "      <td>2008-11-03 17:52:19</td>\n",
       "    </tr>\n",
       "    <tr>\n",
       "      <th>1</th>\n",
       "      <td>1</td>\n",
       "      <td>110</td>\n",
       "      <td>4.0</td>\n",
       "      <td>2008-11-05 06:04:46</td>\n",
       "    </tr>\n",
       "    <tr>\n",
       "      <th>2</th>\n",
       "      <td>1</td>\n",
       "      <td>158</td>\n",
       "      <td>4.0</td>\n",
       "      <td>2008-11-03 17:31:43</td>\n",
       "    </tr>\n",
       "    <tr>\n",
       "      <th>3</th>\n",
       "      <td>1</td>\n",
       "      <td>260</td>\n",
       "      <td>4.5</td>\n",
       "      <td>2008-11-03 18:00:04</td>\n",
       "    </tr>\n",
       "    <tr>\n",
       "      <th>4</th>\n",
       "      <td>1</td>\n",
       "      <td>356</td>\n",
       "      <td>5.0</td>\n",
       "      <td>2008-11-03 17:58:39</td>\n",
       "    </tr>\n",
       "  </tbody>\n",
       "</table>\n",
       "</div>"
      ],
      "text/plain": [
       "   USERID  MOVIEID  RATING           TIMESTAMP\n",
       "0       1        1     4.0 2008-11-03 17:52:19\n",
       "1       1      110     4.0 2008-11-05 06:04:46\n",
       "2       1      158     4.0 2008-11-03 17:31:43\n",
       "3       1      260     4.5 2008-11-03 18:00:04\n",
       "4       1      356     5.0 2008-11-03 17:58:39"
      ]
     },
     "execution_count": 15,
     "metadata": {},
     "output_type": "execute_result"
    }
   ],
   "source": [
    "rating.head()"
   ]
  },
  {
   "cell_type": "markdown",
   "id": "e58fe25d",
   "metadata": {},
   "source": [
    "<font color='red'> **Убрал записи  пустыми значениями ~3298, это около 0.01%, фигня короче, можно сносить.** </font>"
   ]
  },
  {
   "cell_type": "code",
   "execution_count": 16,
   "id": "14787f95",
   "metadata": {
    "ExecuteTime": {
     "end_time": "2024-01-09T08:57:16.423077Z",
     "start_time": "2024-01-09T08:57:16.421086Z"
    }
   },
   "outputs": [
    {
     "data": {
      "text/plain": [
       "(33832162, 4)"
      ]
     },
     "execution_count": 16,
     "metadata": {},
     "output_type": "execute_result"
    }
   ],
   "source": [
    "rating.shape"
   ]
  },
  {
   "cell_type": "code",
   "execution_count": 17,
   "id": "6a3e63d3",
   "metadata": {
    "ExecuteTime": {
     "end_time": "2024-01-09T08:57:17.094440Z",
     "start_time": "2024-01-09T08:57:16.423910Z"
    }
   },
   "outputs": [],
   "source": [
    "rating = rating[~((rating.TIMESTAMP.isna())|(rating.USERID.isna())|(rating.RATING.isna()))]"
   ]
  },
  {
   "cell_type": "code",
   "execution_count": 18,
   "id": "fbebb6a0",
   "metadata": {
    "ExecuteTime": {
     "end_time": "2024-01-09T08:57:25.500958Z",
     "start_time": "2024-01-09T08:57:17.095356Z"
    }
   },
   "outputs": [
    {
     "data": {
      "text/html": [
       "<div>\n",
       "<style scoped>\n",
       "    .dataframe tbody tr th:only-of-type {\n",
       "        vertical-align: middle;\n",
       "    }\n",
       "\n",
       "    .dataframe tbody tr th {\n",
       "        vertical-align: top;\n",
       "    }\n",
       "\n",
       "    .dataframe thead th {\n",
       "        text-align: right;\n",
       "    }\n",
       "</style>\n",
       "<table border=\"1\" class=\"dataframe\">\n",
       "  <thead>\n",
       "    <tr style=\"text-align: right;\">\n",
       "      <th></th>\n",
       "      <th>index</th>\n",
       "      <th>USERID</th>\n",
       "    </tr>\n",
       "  </thead>\n",
       "  <tbody>\n",
       "    <tr>\n",
       "      <th>0</th>\n",
       "      <td>189614</td>\n",
       "      <td>33332</td>\n",
       "    </tr>\n",
       "    <tr>\n",
       "      <th>1</th>\n",
       "      <td>48766</td>\n",
       "      <td>9554</td>\n",
       "    </tr>\n",
       "    <tr>\n",
       "      <th>2</th>\n",
       "      <td>207216</td>\n",
       "      <td>9178</td>\n",
       "    </tr>\n",
       "    <tr>\n",
       "      <th>3</th>\n",
       "      <td>175998</td>\n",
       "      <td>9016</td>\n",
       "    </tr>\n",
       "    <tr>\n",
       "      <th>4</th>\n",
       "      <td>76618</td>\n",
       "      <td>8919</td>\n",
       "    </tr>\n",
       "  </tbody>\n",
       "</table>\n",
       "</div>"
      ],
      "text/plain": [
       "    index  USERID\n",
       "0  189614   33332\n",
       "1   48766    9554\n",
       "2  207216    9178\n",
       "3  175998    9016\n",
       "4   76618    8919"
      ]
     },
     "execution_count": 18,
     "metadata": {},
     "output_type": "execute_result"
    }
   ],
   "source": [
    "rating['USERID'].astype(str).value_counts().reset_index()[:5] "
   ]
  },
  {
   "cell_type": "code",
   "execution_count": 19,
   "id": "62a475d2",
   "metadata": {
    "ExecuteTime": {
     "end_time": "2024-01-09T08:57:26.304999Z",
     "start_time": "2024-01-09T08:57:25.502234Z"
    }
   },
   "outputs": [
    {
     "name": "stdout",
     "output_type": "stream",
     "text": [
      "(33832162, 4)\n",
      "(33798830, 4)\n"
     ]
    }
   ],
   "source": [
    "# при eda нашла странного юзера, уберем его при построении\n",
    "print(rating.shape)\n",
    "rating.query('USERID != 189614', inplace = True)\n",
    "print(rating.shape)"
   ]
  },
  {
   "cell_type": "markdown",
   "id": "2447160e",
   "metadata": {},
   "source": [
    "# LightFM"
   ]
  },
  {
   "cell_type": "code",
   "execution_count": 20,
   "id": "f0b53d2d",
   "metadata": {
    "ExecuteTime": {
     "end_time": "2024-01-09T08:57:26.353936Z",
     "start_time": "2024-01-09T08:57:26.305867Z"
    }
   },
   "outputs": [],
   "source": [
    "from lightfm import LightFM\n",
    "from lightfm.data import Dataset\n",
    "import scipy.sparse as sp\n",
    "from lightfm.evaluation import precision_at_k"
   ]
  },
  {
   "cell_type": "code",
   "execution_count": 21,
   "id": "091dc891",
   "metadata": {
    "ExecuteTime": {
     "end_time": "2024-01-09T08:57:26.357051Z",
     "start_time": "2024-01-09T08:57:26.354860Z"
    }
   },
   "outputs": [],
   "source": [
    "def train_test(df, n_days):\n",
    "    df['weight'] = np.where(df['RATING'] >= 4, 1, 0)\n",
    "    train_df = df.loc[df['datetime'] < df['datetime'].max() - pd.DateOffset(days=n_days),\n",
    "                     ['item_id', 'user_id', 'weight']].copy()\n",
    "    test_df = df.loc[df['datetime'] >= df['datetime'].max() - pd.DateOffset(days=n_days),\n",
    "                    ['item_id', 'user_id', 'weight']].copy()\n",
    "\n",
    "    return train_df, test_df"
   ]
  },
  {
   "cell_type": "code",
   "execution_count": 22,
   "id": "8015fa2d",
   "metadata": {
    "ExecuteTime": {
     "end_time": "2024-01-09T08:57:26.361678Z",
     "start_time": "2024-01-09T08:57:26.357860Z"
    }
   },
   "outputs": [],
   "source": [
    "class LightFM_ML():\n",
    "\n",
    "    def __init__(self, model = None, df = None):\n",
    "        if model is None:\n",
    "            self.model = LightFM(learning_rate = 0.05,\n",
    "                                 loss = 'warp', \n",
    "                                 random_state = 111)\n",
    "        else:\n",
    "            self.model = model\n",
    "        \n",
    "        self.df = df\n",
    "        \n",
    "    def IMDb(self):\n",
    "        \"\"\"\n",
    "            Обработка кейсов, когда нет оценок по user_id\n",
    "        \"\"\"\n",
    "        if self.df is None:\n",
    "            return None\n",
    "        else:\n",
    "            pass\n",
    "        # прописать IMDb\n",
    "        \n",
    "    def fit(self, df_train, epochs, item_features, num_threads):\n",
    "        \"\"\"\n",
    "            Обучение модели LightFM\n",
    "        \"\"\"\n",
    "        for i in tqdm(range(epochs)): \n",
    "            self.model.fit_partial(df_train, \n",
    "                            epochs = epochs, \n",
    "                            item_features = item_features,\n",
    "                            num_threads = num_threads)\n",
    "            \n",
    "    def predict(self, user_id, k):\n",
    "        \"\"\"\n",
    "            Рекомендации для пользователей\n",
    "        \"\"\"\n",
    "        predictions = {}\n",
    "        for user in user_id:\n",
    "            predictions[user] = self.recommend(user_id=user, k=k)\n",
    "        return predictions\n",
    "\n",
    "\n",
    "    def recommend(self, user_id, k, movies_to_predict):\n",
    "        \"\"\"\n",
    "            Расчет рекомендаций\n",
    "        \"\"\"\n",
    "        # Если ранее такого пользователя не было, используем IMDb\n",
    "        try:\n",
    "            \n",
    "            n_movies = self.df['item_id'].unique()\n",
    "\n",
    "            prediction = self.model.predict(user_ids = user_id * len(movies_to_predict), \n",
    "                                        item_ids = movies_to_predict * len(user_id)\n",
    "                                        )\n",
    "            predict = np.array(n_movies)[np.argsort(-prediction)][:k]\n",
    "            return predict.tolist()\n",
    "        \n",
    "        except:\n",
    "            return self.IMDb()[:k]"
   ]
  },
  {
   "cell_type": "code",
   "execution_count": 23,
   "id": "c9908d61",
   "metadata": {
    "ExecuteTime": {
     "end_time": "2024-01-09T08:57:26.364050Z",
     "start_time": "2024-01-09T08:57:26.362548Z"
    }
   },
   "outputs": [],
   "source": [
    "def precision_k(model, df_test, k):\n",
    "    test_precision = precision_at_k(model=model, \n",
    "                            test_interactions=df_test,\n",
    "                            k=k).mean()\n",
    "    return test_precision"
   ]
  },
  {
   "cell_type": "code",
   "execution_count": 24,
   "id": "d7ed8ec9",
   "metadata": {
    "ExecuteTime": {
     "end_time": "2024-01-09T08:57:26.367246Z",
     "start_time": "2024-01-09T08:57:26.364757Z"
    }
   },
   "outputs": [],
   "source": [
    "rating.rename({'USERID':'user_id',\n",
    "            'MOVIEID':'item_id',\n",
    "            #'RATING':'weight',\n",
    "            'TIMESTAMP':'datetime'}, axis=1, inplace=True)"
   ]
  },
  {
   "cell_type": "code",
   "execution_count": 25,
   "id": "964334c8",
   "metadata": {
    "ExecuteTime": {
     "end_time": "2024-01-09T08:57:26.370395Z",
     "start_time": "2024-01-09T08:57:26.368133Z"
    }
   },
   "outputs": [],
   "source": [
    "movies.rename({'MOVIEID':'item_id'}, axis=1, inplace=True)"
   ]
  },
  {
   "cell_type": "code",
   "execution_count": 26,
   "id": "31176ded",
   "metadata": {
    "ExecuteTime": {
     "end_time": "2024-01-09T08:57:27.968072Z",
     "start_time": "2024-01-09T08:57:26.371283Z"
    }
   },
   "outputs": [],
   "source": [
    "train_df, test_df = train_test(rating, 180)"
   ]
  },
  {
   "cell_type": "code",
   "execution_count": null,
   "id": "b10cb1f0",
   "metadata": {},
   "outputs": [],
   "source": []
  },
  {
   "cell_type": "code",
   "execution_count": 27,
   "id": "750118be",
   "metadata": {
    "ExecuteTime": {
     "end_time": "2024-01-09T08:57:42.039389Z",
     "start_time": "2024-01-09T08:57:27.974152Z"
    }
   },
   "outputs": [],
   "source": [
    "dataset = Dataset()\n",
    "dataset.fit(train_df['user_id'], train_df['item_id'])\n",
    "dataset.fit_partial(users=test_df['user_id'], items=test_df['item_id'])"
   ]
  },
  {
   "cell_type": "code",
   "execution_count": 28,
   "id": "b713e5fe",
   "metadata": {
    "ExecuteTime": {
     "end_time": "2024-01-09T08:58:19.150356Z",
     "start_time": "2024-01-09T08:57:42.040346Z"
    }
   },
   "outputs": [],
   "source": [
    "interactions, _ = dataset.build_interactions(train_df.loc[:, ['user_id', 'item_id']].values.tolist())\n",
    "interactions_test, _ = dataset.build_interactions(test_df.loc[:, ['user_id', 'item_id']].values.tolist())"
   ]
  },
  {
   "cell_type": "code",
   "execution_count": 29,
   "id": "13504368",
   "metadata": {
    "ExecuteTime": {
     "end_time": "2024-01-09T08:58:19.162235Z",
     "start_time": "2024-01-09T08:58:19.152197Z"
    }
   },
   "outputs": [],
   "source": [
    "movies_to_predict = [dataset._item_id_mapping[x] for x in test_df['item_id'].unique()]"
   ]
  },
  {
   "cell_type": "code",
   "execution_count": 30,
   "id": "2e082fde",
   "metadata": {
    "ExecuteTime": {
     "end_time": "2024-01-09T08:58:19.166199Z",
     "start_time": "2024-01-09T08:58:19.163827Z"
    }
   },
   "outputs": [],
   "source": [
    "model = LightFM(no_components=10,\n",
    "                loss='warp', \n",
    "                random_state=111,\n",
    "                learning_rate=0.05)\n",
    "\n",
    "lfm_model = LightFM_ML(model, rating)"
   ]
  },
  {
   "cell_type": "code",
   "execution_count": 31,
   "id": "c7e637f8",
   "metadata": {
    "ExecuteTime": {
     "end_time": "2024-01-09T09:10:01.333548Z",
     "start_time": "2024-01-09T08:58:19.167023Z"
    }
   },
   "outputs": [
    {
     "name": "stderr",
     "output_type": "stream",
     "text": [
      "100%|████████████████████████████████████████████| 5/5 [11:42<00:00, 140.43s/it]\n"
     ]
    }
   ],
   "source": [
    "# Обучение\n",
    "lfm_model.fit(interactions, \n",
    "              epochs=5, \n",
    "              item_features = None,\n",
    "              num_threads = 40)"
   ]
  },
  {
   "cell_type": "code",
   "execution_count": 32,
   "id": "fd251691",
   "metadata": {
    "ExecuteTime": {
     "end_time": "2024-01-09T09:10:01.551966Z",
     "start_time": "2024-01-09T09:10:01.334932Z"
    }
   },
   "outputs": [],
   "source": [
    "predict = lfm_model.recommend(user_id = [22], \n",
    "                              k = 10, \n",
    "                              movies_to_predict = movies_to_predict)"
   ]
  },
  {
   "cell_type": "code",
   "execution_count": 33,
   "id": "3b10e23c",
   "metadata": {
    "ExecuteTime": {
     "end_time": "2024-01-09T09:10:01.555954Z",
     "start_time": "2024-01-09T09:10:01.552935Z"
    }
   },
   "outputs": [
    {
     "data": {
      "text/plain": [
       "[3524, 2080, 79132, 4011, 1265, 209, 3361, 6534, 26184, 3186]"
      ]
     },
     "execution_count": 33,
     "metadata": {},
     "output_type": "execute_result"
    }
   ],
   "source": [
    "predict"
   ]
  },
  {
   "cell_type": "code",
   "execution_count": 34,
   "id": "1e70e18e",
   "metadata": {
    "ExecuteTime": {
     "end_time": "2024-01-09T09:10:53.059742Z",
     "start_time": "2024-01-09T09:10:01.556936Z"
    },
    "scrolled": true
   },
   "outputs": [
    {
     "data": {
      "text/plain": [
       "0.12345693"
      ]
     },
     "execution_count": 34,
     "metadata": {},
     "output_type": "execute_result"
    }
   ],
   "source": [
    "precision_k(model = lfm_model.model, df_test = interactions_test, k = 10)"
   ]
  },
  {
   "cell_type": "code",
   "execution_count": 35,
   "id": "5916437f",
   "metadata": {
    "ExecuteTime": {
     "end_time": "2024-01-09T09:59:36.624624Z",
     "start_time": "2024-01-09T09:10:53.060738Z"
    }
   },
   "outputs": [
    {
     "data": {
      "text/plain": [
       "0.39999077"
      ]
     },
     "execution_count": 35,
     "metadata": {},
     "output_type": "execute_result"
    }
   ],
   "source": [
    "precision_k(model = lfm_model.model, df_test = interactions, k = 10)"
   ]
  },
  {
   "cell_type": "code",
   "execution_count": null,
   "id": "c39ce81e",
   "metadata": {},
   "outputs": [],
   "source": []
  },
  {
   "cell_type": "code",
   "execution_count": null,
   "id": "960393d8",
   "metadata": {},
   "outputs": [],
   "source": []
  }
 ],
 "metadata": {
  "kernelspec": {
   "display_name": "Python 3 (ipykernel)",
   "language": "python",
   "name": "python3"
  },
  "language_info": {
   "codemirror_mode": {
    "name": "ipython",
    "version": 3
   },
   "file_extension": ".py",
   "mimetype": "text/x-python",
   "name": "python",
   "nbconvert_exporter": "python",
   "pygments_lexer": "ipython3",
   "version": "3.10.13"
  },
  "toc": {
   "base_numbering": 1,
   "nav_menu": {},
   "number_sections": true,
   "sideBar": true,
   "skip_h1_title": false,
   "title_cell": "Table of Contents",
   "title_sidebar": "Contents",
   "toc_cell": false,
   "toc_position": {
    "height": "calc(100% - 180px)",
    "left": "10px",
    "top": "150px",
    "width": "270px"
   },
   "toc_section_display": true,
   "toc_window_display": true
  },
  "varInspector": {
   "cols": {
    "lenName": 16,
    "lenType": 16,
    "lenVar": 40
   },
   "kernels_config": {
    "python": {
     "delete_cmd_postfix": "",
     "delete_cmd_prefix": "del ",
     "library": "var_list.py",
     "varRefreshCmd": "print(var_dic_list())"
    },
    "r": {
     "delete_cmd_postfix": ") ",
     "delete_cmd_prefix": "rm(",
     "library": "var_list.r",
     "varRefreshCmd": "cat(var_dic_list()) "
    }
   },
   "types_to_exclude": [
    "module",
    "function",
    "builtin_function_or_method",
    "instance",
    "_Feature"
   ],
   "window_display": false
  }
 },
 "nbformat": 4,
 "nbformat_minor": 5
}
