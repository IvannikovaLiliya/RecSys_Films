{
 "cells": [
  {
   "cell_type": "markdown",
   "id": "c5f10c28",
   "metadata": {},
   "source": [
    "# Import"
   ]
  },
  {
   "cell_type": "code",
   "execution_count": 14,
   "id": "74d57851",
   "metadata": {
    "ExecuteTime": {
     "end_time": "2024-01-13T11:22:43.027050Z",
     "start_time": "2024-01-13T11:22:42.757752Z"
    }
   },
   "outputs": [],
   "source": [
    "import pandas as pd\n",
    "import plotly.graph_objs as go\n",
    "import string\n",
    "import re\n",
    "import numpy as np\n",
    "import seaborn as sns\n",
    "import matplotlib.pyplot as plt\n",
    "from matplotlib.pyplot import figure\n",
    "#import cufflinks as cf\n",
    "from plotly.offline import iplot\n",
    "from tqdm import tqdm\n",
    "\n",
    "from collections import Counter\n",
    "from typing import Dict, Text\n",
    "from ast import literal_eval\n",
    "from datetime import datetime\n",
    "import plotly.express as px\n",
    "\n",
    "#cf.go_offline()\n",
    "#cf.set_config_file(offline = False, world_readable = True)\n",
    "\n",
    "import plotly.io as pio\n",
    "pio.renderers.default='notebook'\n",
    "\n",
    "import warnings\n",
    "warnings.simplefilter('ignore')\n",
    "\n",
    "from rectools import Columns\n",
    "from rectools.dataset import Dataset\n",
    "\n",
    "from lightfm import LightFM as lf\n",
    "from lightfm.data import Dataset\n",
    "import scipy.sparse as sp\n",
    "from lightfm.evaluation import precision_at_k\n",
    "\n",
    "import os"
   ]
  },
  {
   "cell_type": "code",
   "execution_count": 2,
   "id": "5365982a",
   "metadata": {
    "ExecuteTime": {
     "end_time": "2024-01-13T11:09:55.261674Z",
     "start_time": "2024-01-13T11:09:55.258503Z"
    }
   },
   "outputs": [
    {
     "data": {
      "text/plain": [
       "'/Users/liliyaivannikova/Documents/project/git/RecSys_Films'"
      ]
     },
     "execution_count": 2,
     "metadata": {},
     "output_type": "execute_result"
    }
   ],
   "source": [
    "us = os.getcwd()\n",
    "us"
   ]
  },
  {
   "cell_type": "code",
   "execution_count": 3,
   "id": "cbc2b297",
   "metadata": {
    "ExecuteTime": {
     "end_time": "2024-01-13T11:10:00.635053Z",
     "start_time": "2024-01-13T11:09:55.729990Z"
    }
   },
   "outputs": [],
   "source": [
    "if 'liliyaivannikova' in us:\n",
    "    PATH = r'/Users/liliyaivannikova/Documents/project/ml-latest/'\n",
    "    movies = pd.read_csv(PATH + r'movies.csv')\n",
    "    rating = pd.read_csv(PATH + r'ratings.csv')\n",
    "elif 'Владислав' in us:\n",
    "    movies = pd.read_csv(r'dataset/movies.csv')\n",
    "    rating = pd.read_csv(r'dataset/ratings.csv')"
   ]
  },
  {
   "cell_type": "code",
   "execution_count": 4,
   "id": "1ce21742",
   "metadata": {
    "ExecuteTime": {
     "end_time": "2024-01-13T11:10:15.905894Z",
     "start_time": "2024-01-13T11:10:15.903985Z"
    }
   },
   "outputs": [
    {
     "name": "stdout",
     "output_type": "stream",
     "text": [
      "\n",
      "movies: (86537, 3)\n",
      "rating: (33832162, 4)\n",
      "\n"
     ]
    }
   ],
   "source": [
    "print(f'''\n",
    "movies: {movies.shape}\n",
    "rating: {rating.shape}\n",
    "''')"
   ]
  },
  {
   "cell_type": "code",
   "execution_count": 6,
   "id": "9129d676",
   "metadata": {
    "ExecuteTime": {
     "end_time": "2024-01-13T11:10:41.789834Z",
     "start_time": "2024-01-13T11:10:41.662325Z"
    }
   },
   "outputs": [],
   "source": [
    "movies.columns = [col.upper() for col in movies.columns]\n",
    "movies['REALEASE'] = movies['TITLE'].str.extract(\"\\((\\d{4})\\)\", expand=True)\n",
    "movies['REALEASE'] = pd.to_datetime(movies['REALEASE'], format='%Y')\n",
    "movies['REALEASE'] = movies['REALEASE'].dt.year\n",
    "movies['TITLE'] = movies['TITLE'].str[:-7]"
   ]
  },
  {
   "cell_type": "code",
   "execution_count": 7,
   "id": "fcf0b520",
   "metadata": {
    "ExecuteTime": {
     "end_time": "2024-01-13T11:11:07.660230Z",
     "start_time": "2024-01-13T11:11:07.443405Z"
    }
   },
   "outputs": [],
   "source": [
    "# dummy-кодирование жанров\n",
    "dfx = movies['GENRES'].str.get_dummies(sep='|')\n",
    "for col in dfx.columns:\n",
    "    dfx[col] = dfx[col].astype('int8')"
   ]
  },
  {
   "cell_type": "code",
   "execution_count": 8,
   "id": "c1a6946c",
   "metadata": {
    "ExecuteTime": {
     "end_time": "2024-01-13T11:11:26.460127Z",
     "start_time": "2024-01-13T11:11:26.383476Z"
    }
   },
   "outputs": [],
   "source": [
    "movies = pd.concat([movies, dfx], axis=1) #.drop(columns=['GENRES'])\n",
    "movies['TITLE'] = movies['TITLE'].astype('category')\n",
    "movies['REALEASE'] = movies['REALEASE'].astype('float16')\n",
    "movies['GENRES'] = movies['GENRES'].str.replace('|', ',')"
   ]
  },
  {
   "cell_type": "code",
   "execution_count": 10,
   "id": "64aeb5f0",
   "metadata": {
    "ExecuteTime": {
     "end_time": "2024-01-13T11:11:41.158872Z",
     "start_time": "2024-01-13T11:11:40.829432Z"
    }
   },
   "outputs": [],
   "source": [
    "rating.columns = [col.upper() for col in rating.columns]\n",
    "rating['TIMESTAMP'] = pd.to_datetime(rating['TIMESTAMP'], unit='s')"
   ]
  },
  {
   "cell_type": "markdown",
   "id": "ad5e78a9",
   "metadata": {},
   "source": [
    "# Фильтрация строк"
   ]
  },
  {
   "cell_type": "code",
   "execution_count": 11,
   "id": "14787f95",
   "metadata": {
    "ExecuteTime": {
     "end_time": "2024-01-13T11:12:39.094324Z",
     "start_time": "2024-01-13T11:12:38.440653Z"
    }
   },
   "outputs": [
    {
     "name": "stdout",
     "output_type": "stream",
     "text": [
      "(33832162, 4)\n",
      "(33832162, 4)\n"
     ]
    }
   ],
   "source": [
    "# пустые поля\n",
    "print(rating.shape)\n",
    "rating = rating[~((rating.TIMESTAMP.isna())|(rating.USERID.isna())|(rating.RATING.isna()))]\n",
    "print(rating.shape)"
   ]
  },
  {
   "cell_type": "code",
   "execution_count": null,
   "id": "7a431f56",
   "metadata": {},
   "outputs": [],
   "source": [
    "# при eda нашла странного юзера, уберем его при построении\n",
    "print(rating.shape)\n",
    "rating.query('USERID != 189614', inplace = True)\n",
    "print(rating.shape)"
   ]
  },
  {
   "cell_type": "code",
   "execution_count": null,
   "id": "324185b7",
   "metadata": {},
   "outputs": [],
   "source": []
  },
  {
   "cell_type": "markdown",
   "id": "2447160e",
   "metadata": {},
   "source": [
    "# LightFM"
   ]
  },
  {
   "cell_type": "code",
   "execution_count": 13,
   "id": "091dc891",
   "metadata": {
    "ExecuteTime": {
     "end_time": "2024-01-13T11:15:31.608212Z",
     "start_time": "2024-01-13T11:15:31.606050Z"
    }
   },
   "outputs": [],
   "source": [
    "def TrainTestSplit(df, n_days):\n",
    "    '''\n",
    "    df - датафрейм для разделения выборки\n",
    "    n_days - количество дней, которые попадут в тест\n",
    "    '''\n",
    "    #df['weight'] = np.where(df['RATING'] >= 4, 1, 0)\n",
    "    train_df = df.loc[df['datetime'] < df['datetime'].max() - pd.DateOffset(days=n_days),\n",
    "                     ['item_id', 'user_id', 'weight']].copy()\n",
    "    test_df = df.loc[df['datetime'] >= df['datetime'].max() - pd.DateOffset(days=n_days),\n",
    "                    ['item_id', 'user_id', 'weight']].copy()\n",
    "\n",
    "    return train_df, test_df"
   ]
  },
  {
   "cell_type": "code",
   "execution_count": 35,
   "id": "8015fa2d",
   "metadata": {
    "ExecuteTime": {
     "end_time": "2024-01-13T13:15:05.965413Z",
     "start_time": "2024-01-13T13:15:05.953579Z"
    }
   },
   "outputs": [],
   "source": [
    "class LightFM():\n",
    "\n",
    "    def __init__(self, model = None, df = None, IMDb_df = None, Genre = None):\n",
    "        \n",
    "        if model is None:\n",
    "            self.model = LightFM(learning_rate = 0.05,\n",
    "                                 loss = 'warp', \n",
    "                                 random_state = 111)\n",
    "        else:\n",
    "            self.model = model\n",
    "        \n",
    "        self.df = df\n",
    "        self.IMDb_df = IMDb_df\n",
    "        self.Genre = Genre\n",
    "        \n",
    "    def IMDb(self):\n",
    "        \"\"\"\n",
    "            Обработка кейсов, когда нет оценок по user_id\n",
    "        \"\"\"\n",
    "        if self.df is None:\n",
    "            return None\n",
    "        else:\n",
    "       \n",
    "            return self.IMDb_df['TITLE']\n",
    "               \n",
    "        \n",
    "    def fit(self, df_train, epochs, item_features, num_threads):\n",
    "        \"\"\"\n",
    "            Обучение модели LightFM\n",
    "        \"\"\"\n",
    "        for i in tqdm(range(epochs)): \n",
    "            self.model.fit_partial(df_train, \n",
    "                            epochs = epochs, \n",
    "                            item_features = item_features,\n",
    "                            num_threads = num_threads)\n",
    "            \n",
    "    def predict(self, user_id, k):\n",
    "        \"\"\"\n",
    "            Рекомендации для пользователей\n",
    "        \"\"\"\n",
    "        predictions = {}\n",
    "        for user in user_id:\n",
    "            predictions[user] = self.recommend(user_id=user, k=k)\n",
    "        return predictions\n",
    "\n",
    "\n",
    "    def recommend(self, user_id, k, movies_to_predict):\n",
    "        \"\"\"\n",
    "            Расчет рекомендаций\n",
    "        \"\"\"\n",
    "        # Если ранее такого пользователя не было, используем IMDb\n",
    "        try:\n",
    "            \n",
    "            n_movies = self.df['item_id'].unique()\n",
    "\n",
    "            prediction = self.model.predict(user_ids = user_id * len(movies_to_predict), \n",
    "                                        item_ids = movies_to_predict * len(user_id)\n",
    "                                        )\n",
    "            predict = np.array(n_movies)[np.argsort(-prediction)][:k]\n",
    "            return predict.tolist()\n",
    "        \n",
    "        except:\n",
    "            return self.IMDb()[:k].to_list()"
   ]
  },
  {
   "cell_type": "code",
   "execution_count": 40,
   "id": "d7ed8ec9",
   "metadata": {
    "ExecuteTime": {
     "end_time": "2024-01-13T13:17:44.739440Z",
     "start_time": "2024-01-13T13:17:44.733864Z"
    }
   },
   "outputs": [],
   "source": [
    "rating.rename({'USERID':'user_id',\n",
    "            'MOVIEID':'item_id',\n",
    "            'RATING':'weight',\n",
    "            'TIMESTAMP':'datetime'}, axis=1, inplace=True)"
   ]
  },
  {
   "cell_type": "code",
   "execution_count": 38,
   "id": "964334c8",
   "metadata": {
    "ExecuteTime": {
     "end_time": "2024-01-13T13:17:22.398492Z",
     "start_time": "2024-01-13T13:17:22.394453Z"
    }
   },
   "outputs": [],
   "source": [
    "movies.rename({'MOVIEID':'item_id'}, axis=1, inplace=True)"
   ]
  },
  {
   "cell_type": "code",
   "execution_count": 41,
   "id": "31176ded",
   "metadata": {
    "ExecuteTime": {
     "end_time": "2024-01-13T13:17:49.522390Z",
     "start_time": "2024-01-13T13:17:48.654260Z"
    }
   },
   "outputs": [],
   "source": [
    "train_df, test_df = TrainTestSplit(rating, 180)"
   ]
  },
  {
   "cell_type": "code",
   "execution_count": 50,
   "id": "750118be",
   "metadata": {
    "ExecuteTime": {
     "end_time": "2024-01-13T13:37:22.322001Z",
     "start_time": "2024-01-13T13:37:08.589423Z"
    }
   },
   "outputs": [],
   "source": [
    "dataset = Dataset()\n",
    "dataset.fit(train_df['user_id'], train_df['item_id'], item_features=movies['GENRES'].values)\n",
    "dataset.fit_partial(users=test_df['user_id'], items=test_df['item_id'])"
   ]
  },
  {
   "cell_type": "code",
   "execution_count": 51,
   "id": "b713e5fe",
   "metadata": {
    "ExecuteTime": {
     "end_time": "2024-01-13T13:37:59.798079Z",
     "start_time": "2024-01-13T13:37:28.121952Z"
    }
   },
   "outputs": [],
   "source": [
    "interactions, _ = dataset.build_interactions(train_df.loc[:, ['user_id', 'item_id']].values.tolist())\n",
    "interactions_test, _ = dataset.build_interactions(test_df.loc[:, ['user_id', 'item_id']].values.tolist())"
   ]
  },
  {
   "cell_type": "code",
   "execution_count": 52,
   "id": "18d063ff",
   "metadata": {
    "ExecuteTime": {
     "end_time": "2024-01-13T13:38:04.412014Z",
     "start_time": "2024-01-13T13:38:02.361150Z"
    }
   },
   "outputs": [],
   "source": [
    "train_movies = movies.loc[movies['item_id'].isin(train_df['item_id']), ['item_id', 'GENRES']]\n",
    "features = [[v[0], v[1:].values.tolist()] for i, v in train_movies.loc[:, ['item_id', 'GENRES']].iterrows()]\n",
    "movies_features = dataset.build_item_features(features)"
   ]
  },
  {
   "cell_type": "code",
   "execution_count": 53,
   "id": "13504368",
   "metadata": {
    "ExecuteTime": {
     "end_time": "2024-01-13T13:38:36.352144Z",
     "start_time": "2024-01-13T13:38:36.323840Z"
    }
   },
   "outputs": [],
   "source": [
    "movies_to_predict = [dataset._item_id_mapping[x] for x in test_df['item_id'].unique()]"
   ]
  },
  {
   "cell_type": "code",
   "execution_count": 56,
   "id": "2e082fde",
   "metadata": {
    "ExecuteTime": {
     "end_time": "2024-01-13T13:39:37.319957Z",
     "start_time": "2024-01-13T13:39:37.316061Z"
    }
   },
   "outputs": [],
   "source": [
    "model = lf(no_components=10,\n",
    "                loss='warp', \n",
    "                random_state=111,\n",
    "                learning_rate=0.05)\n",
    "\n",
    "lfm_model = LightFM(model, rating)"
   ]
  },
  {
   "cell_type": "code",
   "execution_count": 57,
   "id": "c7e637f8",
   "metadata": {
    "ExecuteTime": {
     "end_time": "2024-01-13T13:53:48.244190Z",
     "start_time": "2024-01-13T13:39:58.627875Z"
    }
   },
   "outputs": [
    {
     "name": "stderr",
     "output_type": "stream",
     "text": [
      "100%|████████████████████████████████████████████| 5/5 [13:49<00:00, 165.91s/it]\n"
     ]
    }
   ],
   "source": [
    "# Обучение\n",
    "lfm_model.fit(interactions, \n",
    "              epochs=5, \n",
    "              item_features = movies_features,\n",
    "              num_threads = 40)"
   ]
  },
  {
   "cell_type": "code",
   "execution_count": 58,
   "id": "fd251691",
   "metadata": {
    "ExecuteTime": {
     "end_time": "2024-01-13T13:55:05.154005Z",
     "start_time": "2024-01-13T13:55:04.979564Z"
    }
   },
   "outputs": [],
   "source": [
    "predict = lfm_model.recommend(user_id = [22], \n",
    "                              k = 10, \n",
    "                              movies_to_predict = movies_to_predict)"
   ]
  },
  {
   "cell_type": "code",
   "execution_count": 59,
   "id": "3b10e23c",
   "metadata": {
    "ExecuteTime": {
     "end_time": "2024-01-13T13:55:06.894571Z",
     "start_time": "2024-01-13T13:55:06.889952Z"
    }
   },
   "outputs": [
    {
     "data": {
      "text/plain": [
       "[119145, 1639, 259, 510, 520, 8644, 533, 457, 85, 1923]"
      ]
     },
     "execution_count": 59,
     "metadata": {},
     "output_type": "execute_result"
    }
   ],
   "source": [
    "predict"
   ]
  },
  {
   "cell_type": "code",
   "execution_count": 69,
   "id": "8c8581ab",
   "metadata": {
    "ExecuteTime": {
     "end_time": "2024-01-13T14:18:04.886915Z",
     "start_time": "2024-01-13T14:18:04.883075Z"
    }
   },
   "outputs": [],
   "source": [
    "def mapk(model, df_test, k, item_features):\n",
    "    test_precision = precision_at_k(model=model, \n",
    "                            test_interactions=df_test,\n",
    "                            k=k,\n",
    "                            item_features = movies_features)\n",
    "    map_at_k = sum(test_precision)/len(test_precision)\n",
    "    return map_at_k"
   ]
  },
  {
   "cell_type": "code",
   "execution_count": 70,
   "id": "1e70e18e",
   "metadata": {
    "ExecuteTime": {
     "end_time": "2024-01-13T14:19:07.745258Z",
     "start_time": "2024-01-13T14:18:05.605824Z"
    },
    "scrolled": true
   },
   "outputs": [
    {
     "data": {
      "text/plain": [
       "0.11825195914336005"
      ]
     },
     "execution_count": 70,
     "metadata": {},
     "output_type": "execute_result"
    }
   ],
   "source": [
    "mapk(model = lfm_model.model, df_test = interactions_test, k = 10, item_features = movies_features)"
   ]
  },
  {
   "cell_type": "code",
   "execution_count": null,
   "id": "c39ce81e",
   "metadata": {},
   "outputs": [],
   "source": []
  },
  {
   "cell_type": "code",
   "execution_count": null,
   "id": "960393d8",
   "metadata": {},
   "outputs": [],
   "source": []
  }
 ],
 "metadata": {
  "kernelspec": {
   "display_name": "Python 3 (ipykernel)",
   "language": "python",
   "name": "python3"
  },
  "language_info": {
   "codemirror_mode": {
    "name": "ipython",
    "version": 3
   },
   "file_extension": ".py",
   "mimetype": "text/x-python",
   "name": "python",
   "nbconvert_exporter": "python",
   "pygments_lexer": "ipython3",
   "version": "3.10.13"
  },
  "toc": {
   "base_numbering": 1,
   "nav_menu": {},
   "number_sections": true,
   "sideBar": true,
   "skip_h1_title": false,
   "title_cell": "Table of Contents",
   "title_sidebar": "Contents",
   "toc_cell": false,
   "toc_position": {
    "height": "calc(100% - 180px)",
    "left": "10px",
    "top": "150px",
    "width": "270px"
   },
   "toc_section_display": true,
   "toc_window_display": true
  },
  "varInspector": {
   "cols": {
    "lenName": 16,
    "lenType": 16,
    "lenVar": 40
   },
   "kernels_config": {
    "python": {
     "delete_cmd_postfix": "",
     "delete_cmd_prefix": "del ",
     "library": "var_list.py",
     "varRefreshCmd": "print(var_dic_list())"
    },
    "r": {
     "delete_cmd_postfix": ") ",
     "delete_cmd_prefix": "rm(",
     "library": "var_list.r",
     "varRefreshCmd": "cat(var_dic_list()) "
    }
   },
   "types_to_exclude": [
    "module",
    "function",
    "builtin_function_or_method",
    "instance",
    "_Feature"
   ],
   "window_display": false
  }
 },
 "nbformat": 4,
 "nbformat_minor": 5
}
