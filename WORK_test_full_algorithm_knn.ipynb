{
 "cells": [
  {
   "cell_type": "code",
   "execution_count": 1,
   "id": "112fd151",
   "metadata": {},
   "outputs": [],
   "source": [
    "import os\n",
    "\n",
    "import numpy as np\n",
    "import pandas as pd\n",
    "import scipy.sparse as sp\n",
    "\n",
    "from itertools import islice, cycle, product\n",
    "\n",
    "from tqdm import tqdm_notebook\n",
    "import warnings\n",
    "warnings.filterwarnings('ignore')"
   ]
  },
  {
   "cell_type": "code",
   "execution_count": 2,
   "id": "cb99b974",
   "metadata": {},
   "outputs": [
    {
     "ename": "NameError",
     "evalue": "name 'interactions' is not defined",
     "output_type": "error",
     "traceback": [
      "\u001b[1;31m---------------------------------------------------------------------------\u001b[0m",
      "\u001b[1;31mNameError\u001b[0m                                 Traceback (most recent call last)",
      "Cell \u001b[1;32mIn[2], line 1\u001b[0m\n\u001b[1;32m----> 1\u001b[0m \u001b[38;5;28;01mdel\u001b[39;00m interactions\n\u001b[0;32m      2\u001b[0m \u001b[38;5;28;01mdel\u001b[39;00m movies_metadata\n\u001b[0;32m      3\u001b[0m \u001b[38;5;28;01mdel\u001b[39;00m interactions_filtered\n",
      "\u001b[1;31mNameError\u001b[0m: name 'interactions' is not defined"
     ]
    }
   ],
   "source": [
    "del interactions\n",
    "del movies_metadata\n",
    "del interactions_filtered\n",
    "del users_inv_mapping\n",
    "del movies_inv_mapping\n",
    "del movie_name_mapper\n",
    "del recs"
   ]
  },
  {
   "cell_type": "markdown",
   "id": "13e7ca65",
   "metadata": {},
   "source": [
    "# 0. Загрузка усеченных данных (для теста функционала модели)"
   ]
  },
  {
   "cell_type": "code",
   "execution_count": 4,
   "id": "5e9c8137",
   "metadata": {},
   "outputs": [
    {
     "name": "stdout",
     "output_type": "stream",
     "text": [
      "(1000209, 4)\n",
      "CPU times: total: 3.11 s\n",
      "Wall time: 3.11 s\n"
     ]
    },
    {
     "data": {
      "text/html": [
       "<div>\n",
       "<style scoped>\n",
       "    .dataframe tbody tr th:only-of-type {\n",
       "        vertical-align: middle;\n",
       "    }\n",
       "\n",
       "    .dataframe tbody tr th {\n",
       "        vertical-align: top;\n",
       "    }\n",
       "\n",
       "    .dataframe thead th {\n",
       "        text-align: right;\n",
       "    }\n",
       "</style>\n",
       "<table border=\"1\" class=\"dataframe\">\n",
       "  <thead>\n",
       "    <tr style=\"text-align: right;\">\n",
       "      <th></th>\n",
       "      <th>userId</th>\n",
       "      <th>movieId</th>\n",
       "      <th>rating</th>\n",
       "      <th>timestamp</th>\n",
       "    </tr>\n",
       "  </thead>\n",
       "  <tbody>\n",
       "    <tr>\n",
       "      <th>0</th>\n",
       "      <td>1</td>\n",
       "      <td>1193</td>\n",
       "      <td>5</td>\n",
       "      <td>978300760</td>\n",
       "    </tr>\n",
       "    <tr>\n",
       "      <th>1</th>\n",
       "      <td>1</td>\n",
       "      <td>661</td>\n",
       "      <td>3</td>\n",
       "      <td>978302109</td>\n",
       "    </tr>\n",
       "    <tr>\n",
       "      <th>2</th>\n",
       "      <td>1</td>\n",
       "      <td>914</td>\n",
       "      <td>3</td>\n",
       "      <td>978301968</td>\n",
       "    </tr>\n",
       "  </tbody>\n",
       "</table>\n",
       "</div>"
      ],
      "text/plain": [
       "   userId  movieId  rating  timestamp\n",
       "0       1     1193       5  978300760\n",
       "1       1      661       3  978302109\n",
       "2       1      914       3  978301968"
      ]
     },
     "execution_count": 4,
     "metadata": {},
     "output_type": "execute_result"
    }
   ],
   "source": [
    "%%time\n",
    "interactions = pd.read_csv(\n",
    "    \"test_sparse_matrix_dataset_ratings.dat\",\n",
    "    sep=\"::\",\n",
    "    engine=\"python\",\n",
    "    header=None,\n",
    "    names=['userId','movieId','rating','timestamp'],\n",
    ")\n",
    "print(interactions.shape)\n",
    "interactions.head(3)"
   ]
  },
  {
   "cell_type": "code",
   "execution_count": 5,
   "id": "5eb2befb",
   "metadata": {},
   "outputs": [
    {
     "name": "stdout",
     "output_type": "stream",
     "text": [
      "(3883, 3)\n",
      "CPU times: total: 0 ns\n",
      "Wall time: 7 ms\n"
     ]
    },
    {
     "data": {
      "text/html": [
       "<div>\n",
       "<style scoped>\n",
       "    .dataframe tbody tr th:only-of-type {\n",
       "        vertical-align: middle;\n",
       "    }\n",
       "\n",
       "    .dataframe tbody tr th {\n",
       "        vertical-align: top;\n",
       "    }\n",
       "\n",
       "    .dataframe thead th {\n",
       "        text-align: right;\n",
       "    }\n",
       "</style>\n",
       "<table border=\"1\" class=\"dataframe\">\n",
       "  <thead>\n",
       "    <tr style=\"text-align: right;\">\n",
       "      <th></th>\n",
       "      <th>movieId</th>\n",
       "      <th>title</th>\n",
       "      <th>genres</th>\n",
       "    </tr>\n",
       "  </thead>\n",
       "  <tbody>\n",
       "    <tr>\n",
       "      <th>0</th>\n",
       "      <td>1</td>\n",
       "      <td>Toy Story (1995)</td>\n",
       "      <td>Animation|Children's|Comedy</td>\n",
       "    </tr>\n",
       "    <tr>\n",
       "      <th>1</th>\n",
       "      <td>2</td>\n",
       "      <td>Jumanji (1995)</td>\n",
       "      <td>Adventure|Children's|Fantasy</td>\n",
       "    </tr>\n",
       "    <tr>\n",
       "      <th>2</th>\n",
       "      <td>3</td>\n",
       "      <td>Grumpier Old Men (1995)</td>\n",
       "      <td>Comedy|Romance</td>\n",
       "    </tr>\n",
       "  </tbody>\n",
       "</table>\n",
       "</div>"
      ],
      "text/plain": [
       "   movieId                    title                        genres\n",
       "0        1         Toy Story (1995)   Animation|Children's|Comedy\n",
       "1        2           Jumanji (1995)  Adventure|Children's|Fantasy\n",
       "2        3  Grumpier Old Men (1995)                Comedy|Romance"
      ]
     },
     "execution_count": 5,
     "metadata": {},
     "output_type": "execute_result"
    }
   ],
   "source": [
    "%%time\n",
    "movies_metadata = pd.read_csv(\n",
    "    \"test_sparse_matrix_dataset_movies.dat\",\n",
    "    sep=\"::\",\n",
    "    engine=\"python\",\n",
    "    header=None,\n",
    "    names=['movieId','title','genres'],\n",
    "    encoding='latin-1'\n",
    ")\n",
    "print(movies_metadata.shape)\n",
    "movies_metadata.head(3)"
   ]
  },
  {
   "cell_type": "markdown",
   "id": "e82a7200",
   "metadata": {},
   "source": [
    "# 1. Загрузка БОЕВЫХ данных\n",
    "(это долго и больно, поэтому запускать только если уверены)"
   ]
  },
  {
   "cell_type": "markdown",
   "id": "dbeaab56",
   "metadata": {},
   "source": [
    "%%time\n",
    "interactions = pd.read_csv(\n",
    "    \"dataset/ratings.csv\",\n",
    "    sep=\",\",\n",
    "    engine=\"python\"\n",
    ")\n",
    "interactions.head(3)"
   ]
  },
  {
   "cell_type": "markdown",
   "id": "ecf20c44",
   "metadata": {},
   "source": [
    "%%time\n",
    "movies_metadata = pd.read_csv(\n",
    "    \"dataset/movies.csv\",\n",
    "    sep=\",\",\n",
    "    engine=\"python\",\n",
    "    encoding='latin-1'\n",
    ")\n",
    "\n",
    "movies_metadata.head(3)"
   ]
  },
  {
   "cell_type": "code",
   "execution_count": 6,
   "id": "a2d13779",
   "metadata": {},
   "outputs": [
    {
     "name": "stdout",
     "output_type": "stream",
     "text": [
      "interactions: (1000209, 4)\n",
      "movies_metadata: (3883, 3)\n"
     ]
    }
   ],
   "source": [
    "print(f'''interactions: {interactions.shape}\n",
    "movies_metadata: {movies_metadata.shape}''')"
   ]
  },
  {
   "cell_type": "markdown",
   "id": "90efa447",
   "metadata": {},
   "source": [
    "# ПРЕПРОЦЕССИНГ"
   ]
  },
  {
   "cell_type": "code",
   "execution_count": 7,
   "id": "d680e56d",
   "metadata": {},
   "outputs": [],
   "source": [
    "movies_metadata.columns = ['id', 'title', 'genres']"
   ]
  },
  {
   "cell_type": "code",
   "execution_count": 8,
   "id": "9322b4a6",
   "metadata": {},
   "outputs": [],
   "source": [
    "movies_metadata['id'] = movies_metadata['id'].astype(str)\n",
    "interactions['movieId'] = interactions['movieId'].astype(str)"
   ]
  },
  {
   "cell_type": "code",
   "execution_count": 9,
   "id": "81bad2b3",
   "metadata": {},
   "outputs": [
    {
     "name": "stdout",
     "output_type": "stream",
     "text": [
      "(1000209, 4) (1000209, 4)\n"
     ]
    }
   ],
   "source": [
    "interactions_filtered = interactions.loc[interactions['movieId'].isin(movies_metadata['id'])]\n",
    "print(interactions.shape, interactions_filtered.shape)"
   ]
  },
  {
   "cell_type": "code",
   "execution_count": 10,
   "id": "15ee10bb",
   "metadata": {},
   "outputs": [
    {
     "data": {
      "text/html": [
       "<div>\n",
       "<style scoped>\n",
       "    .dataframe tbody tr th:only-of-type {\n",
       "        vertical-align: middle;\n",
       "    }\n",
       "\n",
       "    .dataframe tbody tr th {\n",
       "        vertical-align: top;\n",
       "    }\n",
       "\n",
       "    .dataframe thead th {\n",
       "        text-align: right;\n",
       "    }\n",
       "</style>\n",
       "<table border=\"1\" class=\"dataframe\">\n",
       "  <thead>\n",
       "    <tr style=\"text-align: right;\">\n",
       "      <th></th>\n",
       "      <th>id</th>\n",
       "      <th>title</th>\n",
       "      <th>genres</th>\n",
       "    </tr>\n",
       "  </thead>\n",
       "  <tbody>\n",
       "    <tr>\n",
       "      <th>0</th>\n",
       "      <td>1</td>\n",
       "      <td>Toy Story (1995)</td>\n",
       "      <td>Animation|Children's|Comedy</td>\n",
       "    </tr>\n",
       "    <tr>\n",
       "      <th>1</th>\n",
       "      <td>2</td>\n",
       "      <td>Jumanji (1995)</td>\n",
       "      <td>Adventure|Children's|Fantasy</td>\n",
       "    </tr>\n",
       "    <tr>\n",
       "      <th>2</th>\n",
       "      <td>3</td>\n",
       "      <td>Grumpier Old Men (1995)</td>\n",
       "      <td>Comedy|Romance</td>\n",
       "    </tr>\n",
       "  </tbody>\n",
       "</table>\n",
       "</div>"
      ],
      "text/plain": [
       "  id                    title                        genres\n",
       "0  1         Toy Story (1995)   Animation|Children's|Comedy\n",
       "1  2           Jumanji (1995)  Adventure|Children's|Fantasy\n",
       "2  3  Grumpier Old Men (1995)                Comedy|Romance"
      ]
     },
     "execution_count": 10,
     "metadata": {},
     "output_type": "execute_result"
    }
   ],
   "source": [
    "movies_metadata.head(3)"
   ]
  },
  {
   "cell_type": "markdown",
   "id": "793d8152",
   "metadata": {},
   "source": [
    "#### Функция спарс-матрицы"
   ]
  },
  {
   "cell_type": "code",
   "execution_count": 11,
   "id": "6c209166",
   "metadata": {},
   "outputs": [],
   "source": [
    "def get_coo_matrix(\n",
    "        df: pd.DataFrame, \n",
    "        user_col: str,\n",
    "        item_col: str, \n",
    "        users_mapping: dict, \n",
    "        movies_mapping: dict,\n",
    "        weight_col: str = None\n",
    "        ):\n",
    "    if weight_col is None:\n",
    "        weights = np.ones(len(df), dtype=np.float32)\n",
    "    else:\n",
    "        weights = df[weight_col].astype(np.float32)\n",
    "    interaction_matrix = sp.coo_matrix((\n",
    "        weights, \n",
    "        (\n",
    "            df[user_col].map(users_mapping.get), \n",
    "            df[item_col].map(movies_mapping.get)\n",
    "        )\n",
    "    ))\n",
    "    return interaction_matrix"
   ]
  },
  {
   "cell_type": "code",
   "execution_count": 12,
   "id": "a02a54f5",
   "metadata": {},
   "outputs": [
    {
     "data": {
      "text/plain": [
       "6040"
      ]
     },
     "execution_count": 12,
     "metadata": {},
     "output_type": "execute_result"
    }
   ],
   "source": [
    "# маппинг пользователей\n",
    "users_inv_mapping = dict(enumerate(interactions_filtered['userId'].unique()))\n",
    "users_mapping = {v: k for k, v in users_inv_mapping.items()}\n",
    "len(users_mapping)"
   ]
  },
  {
   "cell_type": "code",
   "execution_count": 13,
   "id": "9c8f4908",
   "metadata": {},
   "outputs": [
    {
     "data": {
      "text/plain": [
       "3706"
      ]
     },
     "execution_count": 13,
     "metadata": {},
     "output_type": "execute_result"
    }
   ],
   "source": [
    "# маппинг фильмов\n",
    "movies_inv_mapping = dict(enumerate(interactions_filtered['movieId'].unique()))\n",
    "movies_mapping = {v: k for k, v in movies_inv_mapping.items()}\n",
    "len(movies_mapping)"
   ]
  },
  {
   "cell_type": "code",
   "execution_count": 14,
   "id": "0b644458",
   "metadata": {},
   "outputs": [
    {
     "name": "stdout",
     "output_type": "stream",
     "text": [
      "CPU times: total: 328 ms\n",
      "Wall time: 328 ms\n"
     ]
    }
   ],
   "source": [
    "%%time\n",
    "train_mat = get_coo_matrix(\n",
    "    interactions_filtered,\n",
    "    user_col = 'userId',\n",
    "    item_col = 'movieId',\n",
    "    users_mapping = users_mapping,\n",
    "    movies_mapping = movies_mapping\n",
    "    ).tocsr()"
   ]
  },
  {
   "cell_type": "code",
   "execution_count": 15,
   "id": "9041cbea",
   "metadata": {},
   "outputs": [
    {
     "data": {
      "text/plain": [
       "1000209"
      ]
     },
     "execution_count": 15,
     "metadata": {},
     "output_type": "execute_result"
    }
   ],
   "source": [
    "train_mat.size"
   ]
  },
  {
   "cell_type": "markdown",
   "id": "551eebaf",
   "metadata": {},
   "source": [
    "# Обучение модельки - KNN - CosineRecommender"
   ]
  },
  {
   "cell_type": "code",
   "execution_count": 16,
   "id": "56176d7b",
   "metadata": {},
   "outputs": [],
   "source": [
    "from implicit.nearest_neighbours import (\n",
    "    CosineRecommender,\n",
    "    BM25Recommender,\n",
    "    TFIDFRecommender\n",
    "    )"
   ]
  },
  {
   "cell_type": "code",
   "execution_count": 17,
   "id": "93745aa2",
   "metadata": {},
   "outputs": [
    {
     "data": {
      "application/vnd.jupyter.widget-view+json": {
       "model_id": "34287801161f4ddda43592a57ab5b496",
       "version_major": 2,
       "version_minor": 0
      },
      "text/plain": [
       "  0%|          | 0/6040 [00:00<?, ?it/s]"
      ]
     },
     "metadata": {},
     "output_type": "display_data"
    }
   ],
   "source": [
    "cosine_model = CosineRecommender(K = 20)\n",
    "cosine_model.fit(train_mat.T)"
   ]
  },
  {
   "cell_type": "markdown",
   "id": "eeb2d06c",
   "metadata": {},
   "source": [
    "#### Оценка модели"
   ]
  },
  {
   "cell_type": "code",
   "execution_count": 18,
   "id": "cc18c86d",
   "metadata": {},
   "outputs": [
    {
     "name": "stdout",
     "output_type": "stream",
     "text": [
      "Rekko for user 1, row number in matrix - 0\n"
     ]
    }
   ],
   "source": [
    "top_N = 10\n",
    "user_id = interactions_filtered['userId'].iloc[0]\n",
    "row_id = users_mapping[user_id]\n",
    "print(f'Rekko for user {user_id}, row number in matrix - {row_id}')"
   ]
  },
  {
   "cell_type": "code",
   "execution_count": 19,
   "id": "1b65d2ed",
   "metadata": {},
   "outputs": [],
   "source": [
    "# маппинг для movieId and title\n",
    "movie_name_mapper = dict(zip(movies_metadata['id'], movies_metadata['title']))"
   ]
  },
  {
   "cell_type": "code",
   "execution_count": 20,
   "id": "3b2a819c",
   "metadata": {},
   "outputs": [
    {
     "data": {
      "text/html": [
       "<div>\n",
       "<style scoped>\n",
       "    .dataframe tbody tr th:only-of-type {\n",
       "        vertical-align: middle;\n",
       "    }\n",
       "\n",
       "    .dataframe tbody tr th {\n",
       "        vertical-align: top;\n",
       "    }\n",
       "\n",
       "    .dataframe thead th {\n",
       "        text-align: right;\n",
       "    }\n",
       "</style>\n",
       "<table border=\"1\" class=\"dataframe\">\n",
       "  <thead>\n",
       "    <tr style=\"text-align: right;\">\n",
       "      <th></th>\n",
       "      <th>col_id</th>\n",
       "      <th>similarity</th>\n",
       "      <th>inv_movie_id</th>\n",
       "      <th>movieId</th>\n",
       "      <th>title</th>\n",
       "    </tr>\n",
       "  </thead>\n",
       "  <tbody>\n",
       "    <tr>\n",
       "      <th>0</th>\n",
       "      <td>2261.0</td>\n",
       "      <td>1.513339</td>\n",
       "      <td>2261</td>\n",
       "      <td>2582</td>\n",
       "      <td>Twin Dragons (Shuang long hui) (1992)</td>\n",
       "    </tr>\n",
       "    <tr>\n",
       "      <th>1</th>\n",
       "      <td>3649.0</td>\n",
       "      <td>1.512462</td>\n",
       "      <td>3649</td>\n",
       "      <td>396</td>\n",
       "      <td>Fall Time (1995)</td>\n",
       "    </tr>\n",
       "    <tr>\n",
       "      <th>2</th>\n",
       "      <td>3028.0</td>\n",
       "      <td>1.468497</td>\n",
       "      <td>3028</td>\n",
       "      <td>3133</td>\n",
       "      <td>Go West (1925)</td>\n",
       "    </tr>\n",
       "    <tr>\n",
       "      <th>3</th>\n",
       "      <td>2528.0</td>\n",
       "      <td>1.438797</td>\n",
       "      <td>2528</td>\n",
       "      <td>3371</td>\n",
       "      <td>Bound for Glory (1976)</td>\n",
       "    </tr>\n",
       "    <tr>\n",
       "      <th>4</th>\n",
       "      <td>4385.0</td>\n",
       "      <td>1.418650</td>\n",
       "      <td>4385</td>\n",
       "      <td>None</td>\n",
       "      <td>NaN</td>\n",
       "    </tr>\n",
       "    <tr>\n",
       "      <th>5</th>\n",
       "      <td>1263.0</td>\n",
       "      <td>1.404489</td>\n",
       "      <td>1263</td>\n",
       "      <td>3556</td>\n",
       "      <td>Virgin Suicides, The (1999)</td>\n",
       "    </tr>\n",
       "    <tr>\n",
       "      <th>6</th>\n",
       "      <td>3362.0</td>\n",
       "      <td>1.321948</td>\n",
       "      <td>3362</td>\n",
       "      <td>2197</td>\n",
       "      <td>Firelight (1997)</td>\n",
       "    </tr>\n",
       "    <tr>\n",
       "      <th>7</th>\n",
       "      <td>1319.0</td>\n",
       "      <td>1.305901</td>\n",
       "      <td>1319</td>\n",
       "      <td>3422</td>\n",
       "      <td>She's Gotta Have It (1986)</td>\n",
       "    </tr>\n",
       "    <tr>\n",
       "      <th>8</th>\n",
       "      <td>1245.0</td>\n",
       "      <td>1.303988</td>\n",
       "      <td>1245</td>\n",
       "      <td>2148</td>\n",
       "      <td>House (1986)</td>\n",
       "    </tr>\n",
       "    <tr>\n",
       "      <th>9</th>\n",
       "      <td>1883.0</td>\n",
       "      <td>1.254805</td>\n",
       "      <td>1883</td>\n",
       "      <td>23</td>\n",
       "      <td>Assassins (1995)</td>\n",
       "    </tr>\n",
       "  </tbody>\n",
       "</table>\n",
       "</div>"
      ],
      "text/plain": [
       "   col_id  similarity  inv_movie_id movieId  \\\n",
       "0  2261.0    1.513339          2261    2582   \n",
       "1  3649.0    1.512462          3649     396   \n",
       "2  3028.0    1.468497          3028    3133   \n",
       "3  2528.0    1.438797          2528    3371   \n",
       "4  4385.0    1.418650          4385    None   \n",
       "5  1263.0    1.404489          1263    3556   \n",
       "6  3362.0    1.321948          3362    2197   \n",
       "7  1319.0    1.305901          1319    3422   \n",
       "8  1245.0    1.303988          1245    2148   \n",
       "9  1883.0    1.254805          1883      23   \n",
       "\n",
       "                                   title  \n",
       "0  Twin Dragons (Shuang long hui) (1992)  \n",
       "1                       Fall Time (1995)  \n",
       "2                         Go West (1925)  \n",
       "3                 Bound for Glory (1976)  \n",
       "4                                    NaN  \n",
       "5            Virgin Suicides, The (1999)  \n",
       "6                       Firelight (1997)  \n",
       "7             She's Gotta Have It (1986)  \n",
       "8                           House (1986)  \n",
       "9                       Assassins (1995)  "
      ]
     },
     "execution_count": 20,
     "metadata": {},
     "output_type": "execute_result"
    }
   ],
   "source": [
    "recs = cosine_model.recommend(\n",
    "    row_id,\n",
    "    train_mat,\n",
    "    N = top_N,\n",
    "    filter_already_liked_items = True\n",
    "    )\n",
    "recs = pd.DataFrame(recs).T.rename(columns = {0: 'col_id', 1: 'similarity'})\n",
    "recs['inv_movie_id'] = recs['col_id'].astype(int)\n",
    "recs['movieId'] = recs['inv_movie_id'].map(movies_inv_mapping.get)\n",
    "recs['title'] = recs['movieId'].map(movie_name_mapper)\n",
    "\n",
    "recs"
   ]
  },
  {
   "cell_type": "code",
   "execution_count": null,
   "id": "b6ebcbe2",
   "metadata": {},
   "outputs": [],
   "source": []
  }
 ],
 "metadata": {
  "kernelspec": {
   "display_name": "Python 3 (ipykernel)",
   "language": "python",
   "name": "python3"
  },
  "language_info": {
   "codemirror_mode": {
    "name": "ipython",
    "version": 3
   },
   "file_extension": ".py",
   "mimetype": "text/x-python",
   "name": "python",
   "nbconvert_exporter": "python",
   "pygments_lexer": "ipython3",
   "version": "3.9.12"
  }
 },
 "nbformat": 4,
 "nbformat_minor": 5
}
