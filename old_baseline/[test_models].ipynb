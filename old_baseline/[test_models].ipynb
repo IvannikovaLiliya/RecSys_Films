{
 "cells": [
  {
   "cell_type": "markdown",
   "id": "187fbd4a",
   "metadata": {},
   "source": [
    "# Описание нотбука\n",
    "\n",
    "В этом нотбуке тестируются несколько разных моделей на небольших данных."
   ]
  },
  {
   "cell_type": "markdown",
   "id": "adb9a1df",
   "metadata": {},
   "source": [
    "# 0. Установка главной библиотеки"
   ]
  },
  {
   "cell_type": "markdown",
   "id": "ca422da4",
   "metadata": {},
   "source": [
    "**Тут было очень больно** для дальнейшей работы нам нужна библа scikit-surprise\n",
    "1. Т.к. библиотека использует cpython(как я понял из-за возникающих ошибок), а cpython это c++, то сначала необходимо установить Microsoft C++ Build Tools: https://visualstudio.microsoft.com/ru/visual-cpp-build-tools/"
   ]
  },
  {
   "cell_type": "markdown",
   "id": "ee14dd8a",
   "metadata": {},
   "source": [
    "2. Затем устанавливаем numpy cython"
   ]
  },
  {
   "cell_type": "markdown",
   "id": "e49db2d8",
   "metadata": {},
   "source": [
    "!pip install numpy cython"
   ]
  },
  {
   "cell_type": "markdown",
   "id": "f89f1302",
   "metadata": {},
   "source": [
    "3. Затем scikit-surprise"
   ]
  },
  {
   "cell_type": "markdown",
   "id": "71d25fb4",
   "metadata": {},
   "source": [
    "!pip install scikit-surprise"
   ]
  },
  {
   "cell_type": "markdown",
   "id": "ac5b92df",
   "metadata": {},
   "source": [
    "4. НЕОБХОДИМО ПЕРЕЗАГРУЗИТЬ ПК!!!"
   ]
  },
  {
   "cell_type": "markdown",
   "id": "0ef87cc8",
   "metadata": {},
   "source": [
    "**Библиотеку установил, но дальше какая-то дичь, пока не решил, надо будет разбираться(**"
   ]
  },
  {
   "cell_type": "code",
   "execution_count": 41,
   "id": "112fd151",
   "metadata": {},
   "outputs": [],
   "source": [
    "import os\n",
    "\n",
    "import time\n",
    "import datetime\n",
    "import random\n",
    "\n",
    "import numpy as np\n",
    "import pandas as pd\n",
    "import scipy.sparse as sp\n",
    "\n",
    "from surprise import Reader\n",
    "from surprise import SVD\n",
    "from surprise import SVDpp\n",
    "from surprise import NMF\n",
    "from surprise import Dataset, accuracy\n",
    "from surprise.model_selection import cross_validate\n",
    "from surprise.model_selection import train_test_split\n",
    "from surprise.model_selection import KFold\n",
    "from surprise import NormalPredictor\n",
    "from surprise import BaselineOnly\n",
    "from surprise import KNNBasic\n",
    "from surprise import KNNWithMeans\n",
    "from surprise import KNNBaseline\n",
    "from surprise import SlopeOne\n",
    "from surprise import CoClustering\n",
    "\n",
    "\n",
    "\n",
    "import warnings\n",
    "warnings.filterwarnings('ignore')"
   ]
  },
  {
   "cell_type": "markdown",
   "id": "13e7ca65",
   "metadata": {},
   "source": [
    "# 1. Загрузка усеченных данных (для теста функционала модели)"
   ]
  },
  {
   "cell_type": "code",
   "execution_count": 74,
   "id": "5e9c8137",
   "metadata": {},
   "outputs": [
    {
     "name": "stdout",
     "output_type": "stream",
     "text": [
      "(1000209, 4)\n",
      "CPU times: total: 3.62 s\n",
      "Wall time: 3.61 s\n"
     ]
    },
    {
     "data": {
      "text/html": [
       "<div>\n",
       "<style scoped>\n",
       "    .dataframe tbody tr th:only-of-type {\n",
       "        vertical-align: middle;\n",
       "    }\n",
       "\n",
       "    .dataframe tbody tr th {\n",
       "        vertical-align: top;\n",
       "    }\n",
       "\n",
       "    .dataframe thead th {\n",
       "        text-align: right;\n",
       "    }\n",
       "</style>\n",
       "<table border=\"1\" class=\"dataframe\">\n",
       "  <thead>\n",
       "    <tr style=\"text-align: right;\">\n",
       "      <th></th>\n",
       "      <th>userId</th>\n",
       "      <th>movieId</th>\n",
       "      <th>rating</th>\n",
       "      <th>timestamp</th>\n",
       "    </tr>\n",
       "  </thead>\n",
       "  <tbody>\n",
       "    <tr>\n",
       "      <th>0</th>\n",
       "      <td>1</td>\n",
       "      <td>1193</td>\n",
       "      <td>5</td>\n",
       "      <td>978300760</td>\n",
       "    </tr>\n",
       "    <tr>\n",
       "      <th>1</th>\n",
       "      <td>1</td>\n",
       "      <td>661</td>\n",
       "      <td>3</td>\n",
       "      <td>978302109</td>\n",
       "    </tr>\n",
       "    <tr>\n",
       "      <th>2</th>\n",
       "      <td>1</td>\n",
       "      <td>914</td>\n",
       "      <td>3</td>\n",
       "      <td>978301968</td>\n",
       "    </tr>\n",
       "  </tbody>\n",
       "</table>\n",
       "</div>"
      ],
      "text/plain": [
       "   userId  movieId  rating  timestamp\n",
       "0       1     1193       5  978300760\n",
       "1       1      661       3  978302109\n",
       "2       1      914       3  978301968"
      ]
     },
     "execution_count": 74,
     "metadata": {},
     "output_type": "execute_result"
    }
   ],
   "source": [
    "%%time\n",
    "interactions = pd.read_csv(\n",
    "    \"[test_models]_dataset_ratings.dat\",\n",
    "    sep=\"::\",\n",
    "    engine=\"python\",\n",
    "    header=None,\n",
    "    names=['userId','movieId','rating','timestamp'],\n",
    ")\n",
    "print(interactions.shape)\n",
    "interactions.head(3)"
   ]
  },
  {
   "cell_type": "code",
   "execution_count": 3,
   "id": "5eb2befb",
   "metadata": {},
   "outputs": [
    {
     "name": "stdout",
     "output_type": "stream",
     "text": [
      "(3883, 3)\n",
      "CPU times: total: 15.6 ms\n",
      "Wall time: 14.8 ms\n"
     ]
    },
    {
     "data": {
      "text/html": [
       "<div>\n",
       "<style scoped>\n",
       "    .dataframe tbody tr th:only-of-type {\n",
       "        vertical-align: middle;\n",
       "    }\n",
       "\n",
       "    .dataframe tbody tr th {\n",
       "        vertical-align: top;\n",
       "    }\n",
       "\n",
       "    .dataframe thead th {\n",
       "        text-align: right;\n",
       "    }\n",
       "</style>\n",
       "<table border=\"1\" class=\"dataframe\">\n",
       "  <thead>\n",
       "    <tr style=\"text-align: right;\">\n",
       "      <th></th>\n",
       "      <th>movieId</th>\n",
       "      <th>title</th>\n",
       "      <th>genres</th>\n",
       "    </tr>\n",
       "  </thead>\n",
       "  <tbody>\n",
       "    <tr>\n",
       "      <th>0</th>\n",
       "      <td>1</td>\n",
       "      <td>Toy Story (1995)</td>\n",
       "      <td>Animation|Children's|Comedy</td>\n",
       "    </tr>\n",
       "    <tr>\n",
       "      <th>1</th>\n",
       "      <td>2</td>\n",
       "      <td>Jumanji (1995)</td>\n",
       "      <td>Adventure|Children's|Fantasy</td>\n",
       "    </tr>\n",
       "    <tr>\n",
       "      <th>2</th>\n",
       "      <td>3</td>\n",
       "      <td>Grumpier Old Men (1995)</td>\n",
       "      <td>Comedy|Romance</td>\n",
       "    </tr>\n",
       "  </tbody>\n",
       "</table>\n",
       "</div>"
      ],
      "text/plain": [
       "   movieId                    title                        genres\n",
       "0        1         Toy Story (1995)   Animation|Children's|Comedy\n",
       "1        2           Jumanji (1995)  Adventure|Children's|Fantasy\n",
       "2        3  Grumpier Old Men (1995)                Comedy|Romance"
      ]
     },
     "execution_count": 3,
     "metadata": {},
     "output_type": "execute_result"
    }
   ],
   "source": [
    "%%time\n",
    "movies_metadata = pd.read_csv(\n",
    "    \"[test_models]_dataset_movies.dat\",\n",
    "    sep=\"::\",\n",
    "    engine=\"python\",\n",
    "    header=None,\n",
    "    names=['movieId','title','genres'],\n",
    "    encoding='latin-1'\n",
    ")\n",
    "print(movies_metadata.shape)\n",
    "movies_metadata.head(3)"
   ]
  },
  {
   "cell_type": "code",
   "execution_count": 4,
   "id": "33ebfd8a",
   "metadata": {},
   "outputs": [
    {
     "name": "stdout",
     "output_type": "stream",
     "text": [
      "interactions: (1000209, 4)\n",
      "movies_metadata: (3883, 3)\n"
     ]
    }
   ],
   "source": [
    "print(f'''interactions: {interactions.shape}\n",
    "movies_metadata: {movies_metadata.shape}''')"
   ]
  },
  {
   "cell_type": "markdown",
   "id": "90efa447",
   "metadata": {},
   "source": [
    "# 2. ПРЕПРОЦЕССИНГ"
   ]
  },
  {
   "cell_type": "code",
   "execution_count": 9,
   "id": "a061d9e6",
   "metadata": {},
   "outputs": [],
   "source": [
    "reader = Reader(rating_scale=(1, 5))"
   ]
  },
  {
   "cell_type": "code",
   "execution_count": 21,
   "id": "d87bd5aa",
   "metadata": {},
   "outputs": [],
   "source": [
    "data = Dataset.load_from_df(interactions[['userId', 'movieId', 'rating']], reader)"
   ]
  },
  {
   "cell_type": "code",
   "execution_count": 27,
   "id": "412d0e8f",
   "metadata": {},
   "outputs": [],
   "source": [
    "trainset, testset = train_test_split(data, test_size=.25)"
   ]
  },
  {
   "cell_type": "markdown",
   "id": "597f7e04",
   "metadata": {},
   "source": [
    "# 3. Тестирование разным моделей для рексиса"
   ]
  },
  {
   "cell_type": "markdown",
   "id": "c204ae5e",
   "metadata": {},
   "source": [
    "# SVD"
   ]
  },
  {
   "cell_type": "code",
   "execution_count": 57,
   "id": "311b5e19",
   "metadata": {},
   "outputs": [
    {
     "name": "stdout",
     "output_type": "stream",
     "text": [
      "Evaluating RMSE, MAE of algorithm SVD on 5 split(s).\n",
      "\n",
      "                  Fold 1  Fold 2  Fold 3  Fold 4  Fold 5  Mean    Std     \n",
      "RMSE (testset)    0.8722  0.8750  0.8759  0.8716  0.8718  0.8733  0.0018  \n",
      "MAE (testset)     0.6838  0.6867  0.6879  0.6837  0.6846  0.6854  0.0017  \n",
      "Fit time          6.62    6.74    6.70    6.72    6.75    6.71    0.05    \n",
      "Test time         1.65    1.11    1.44    1.11    1.46    1.35    0.21    \n",
      "\n",
      "Test Set Error\n",
      "--------------\n",
      "MAE:  0.6888\n",
      "--------------\n",
      "Finished in 53.031 sec.\n"
     ]
    }
   ],
   "source": [
    "svd = SVD()\n",
    "\n",
    "start = time.time()\n",
    "\n",
    "cross_validate(svd, data, measures=['RMSE', 'MAE'], cv=5, verbose=True)\n",
    "svd.fit(trainset)\n",
    "\n",
    "predictions = svd.test(testset)\n",
    "\n",
    "print(\"\\nTest Set Error\\n--------------\")\n",
    "accuracy.mae(predictions)\n",
    "print(\"--------------\\nFinished in {:.3f} sec.\".format(time.time()-start))"
   ]
  },
  {
   "cell_type": "markdown",
   "id": "7b726cce",
   "metadata": {},
   "source": [
    "# Неотрицательная матричная факторизация"
   ]
  },
  {
   "cell_type": "markdown",
   "id": "3e493ce9",
   "metadata": {},
   "source": [
    "**NMF** - Совместная фильтрация на основе факторизации матрицы"
   ]
  },
  {
   "cell_type": "code",
   "execution_count": 65,
   "id": "080e8d69",
   "metadata": {},
   "outputs": [
    {
     "name": "stdout",
     "output_type": "stream",
     "text": [
      "Evaluating RMSE, MAE of algorithm NMF on 5 split(s).\n",
      "\n",
      "                  Fold 1  Fold 2  Fold 3  Fold 4  Fold 5  Mean    Std     \n",
      "RMSE (testset)    0.9159  0.9146  0.9171  0.9199  0.9204  0.9176  0.0022  \n",
      "MAE (testset)     0.7237  0.7224  0.7253  0.7261  0.7279  0.7251  0.0019  \n",
      "Fit time          12.75   12.88   12.80   12.85   12.86   12.83   0.05    \n",
      "Test time         1.34    0.96    0.96    0.95    0.97    1.04    0.15    \n",
      "\n",
      "Test Set Error\n",
      "--------------\n",
      "MAE:  0.7246\n",
      "--------------\n",
      "Finished in 87.984 sec.\n"
     ]
    }
   ],
   "source": [
    "algo = NMF()\n",
    "\n",
    "start = time.time()\n",
    "\n",
    "cross_validate(algo, data, measures=['RMSE', 'MAE'], cv=5, verbose=True)\n",
    "algo.fit(trainset)\n",
    "\n",
    "predictions = algo.test(testset)\n",
    "\n",
    "print(\"\\nTest Set Error\\n--------------\")\n",
    "accuracy.mae(predictions)\n",
    "print(\"--------------\\nFinished in {:.3f} sec.\".format(time.time()-start))"
   ]
  },
  {
   "cell_type": "markdown",
   "id": "4d08a7ec",
   "metadata": {},
   "source": [
    "# Обычный KNN"
   ]
  },
  {
   "cell_type": "markdown",
   "id": "282a806a",
   "metadata": {},
   "source": [
    "**KNNBasic** - самая простая совместная фильтрация"
   ]
  },
  {
   "cell_type": "code",
   "execution_count": 67,
   "id": "c19a7ada",
   "metadata": {},
   "outputs": [
    {
     "name": "stdout",
     "output_type": "stream",
     "text": [
      "Computing the msd similarity matrix...\n",
      "Done computing similarity matrix.\n",
      "Computing the msd similarity matrix...\n",
      "Done computing similarity matrix.\n",
      "Computing the msd similarity matrix...\n",
      "Done computing similarity matrix.\n",
      "Computing the msd similarity matrix...\n",
      "Done computing similarity matrix.\n",
      "Computing the msd similarity matrix...\n",
      "Done computing similarity matrix.\n",
      "Evaluating RMSE, MAE of algorithm KNNBasic on 5 split(s).\n",
      "\n",
      "                  Fold 1  Fold 2  Fold 3  Fold 4  Fold 5  Mean    Std     \n",
      "RMSE (testset)    0.9233  0.9215  0.9212  0.9249  0.9229  0.9228  0.0013  \n",
      "MAE (testset)     0.7281  0.7262  0.7257  0.7296  0.7275  0.7274  0.0014  \n",
      "Fit time          27.89   27.86   28.65   27.71   28.03   28.03   0.33    \n",
      "Test time         77.55   75.78   76.68   73.17   74.37   75.51   1.57    \n",
      "Computing the msd similarity matrix...\n",
      "Done computing similarity matrix.\n",
      "\n",
      "Test Set Error\n",
      "--------------\n",
      "MAE:  0.7286\n",
      "--------------\n",
      "Finished in 633.976 sec.\n"
     ]
    }
   ],
   "source": [
    "algo = KNNBasic()\n",
    "\n",
    "start = time.time()\n",
    "\n",
    "cross_validate(algo, data, measures=['RMSE', 'MAE'], cv=5, verbose=True)\n",
    "algo.fit(trainset)\n",
    "\n",
    "predictions = algo.test(testset)\n",
    "\n",
    "print(\"\\nTest Set Error\\n--------------\")\n",
    "accuracy.mae(predictions)\n",
    "print(\"--------------\\nFinished in {:.3f} sec.\".format(time.time()-start))"
   ]
  },
  {
   "cell_type": "markdown",
   "id": "1f5bbaf2",
   "metadata": {},
   "source": [
    "# KNNWithMeans"
   ]
  },
  {
   "cell_type": "markdown",
   "id": "34d3802c",
   "metadata": {},
   "source": [
    "**KNNWithMeans** - реализует совместную фильтрацию, которая учитывает среднее значение рейтинга каждого пользователя"
   ]
  },
  {
   "cell_type": "code",
   "execution_count": 68,
   "id": "6597e63d",
   "metadata": {},
   "outputs": [
    {
     "name": "stdout",
     "output_type": "stream",
     "text": [
      "Computing the msd similarity matrix...\n",
      "Done computing similarity matrix.\n",
      "Computing the msd similarity matrix...\n",
      "Done computing similarity matrix.\n",
      "Computing the msd similarity matrix...\n",
      "Done computing similarity matrix.\n",
      "Computing the msd similarity matrix...\n",
      "Done computing similarity matrix.\n",
      "Computing the msd similarity matrix...\n",
      "Done computing similarity matrix.\n",
      "Evaluating RMSE, MAE of algorithm KNNWithMeans on 5 split(s).\n",
      "\n",
      "                  Fold 1  Fold 2  Fold 3  Fold 4  Fold 5  Mean    Std     \n",
      "RMSE (testset)    0.9295  0.9308  0.9272  0.9284  0.9312  0.9294  0.0015  \n",
      "MAE (testset)     0.7381  0.7392  0.7378  0.7382  0.7401  0.7387  0.0009  \n",
      "Fit time          28.26   28.45   28.62   28.36   28.33   28.41   0.12    \n",
      "Test time         77.39   76.66   75.14   75.18   75.71   76.02   0.88    \n",
      "Computing the msd similarity matrix...\n",
      "Done computing similarity matrix.\n",
      "\n",
      "Test Set Error\n",
      "--------------\n",
      "MAE:  0.7392\n",
      "--------------\n",
      "Finished in 640.283 sec.\n"
     ]
    }
   ],
   "source": [
    "algo = KNNWithMeans()\n",
    "\n",
    "start = time.time()\n",
    "\n",
    "cross_validate(algo, data, measures=['RMSE', 'MAE'], cv=5, verbose=True)\n",
    "algo.fit(trainset)\n",
    "\n",
    "predictions = algo.test(testset)\n",
    "\n",
    "print(\"\\nTest Set Error\\n--------------\")\n",
    "accuracy.mae(predictions)\n",
    "print(\"--------------\\nFinished in {:.3f} sec.\".format(time.time()-start))"
   ]
  },
  {
   "cell_type": "markdown",
   "id": "4c0a25f2",
   "metadata": {},
   "source": [
    "# KNNBaseline"
   ]
  },
  {
   "cell_type": "markdown",
   "id": "6ec3efa2",
   "metadata": {},
   "source": [
    "**KNNBaseline** - Совместная фильтрация с учетом базовых рейтингов"
   ]
  },
  {
   "cell_type": "code",
   "execution_count": 70,
   "id": "b395d898",
   "metadata": {},
   "outputs": [
    {
     "name": "stdout",
     "output_type": "stream",
     "text": [
      "Estimating biases using als...\n",
      "Computing the msd similarity matrix...\n",
      "Done computing similarity matrix.\n",
      "Estimating biases using als...\n",
      "Computing the msd similarity matrix...\n",
      "Done computing similarity matrix.\n",
      "Estimating biases using als...\n",
      "Computing the msd similarity matrix...\n",
      "Done computing similarity matrix.\n",
      "Estimating biases using als...\n",
      "Computing the msd similarity matrix...\n",
      "Done computing similarity matrix.\n",
      "Estimating biases using als...\n",
      "Computing the msd similarity matrix...\n",
      "Done computing similarity matrix.\n",
      "Evaluating RMSE, MAE of algorithm KNNBaseline on 5 split(s).\n",
      "\n",
      "                  Fold 1  Fold 2  Fold 3  Fold 4  Fold 5  Mean    Std     \n",
      "RMSE (testset)    0.8959  0.8964  0.8966  0.8933  0.8946  0.8954  0.0013  \n",
      "MAE (testset)     0.7077  0.7073  0.7075  0.7050  0.7062  0.7067  0.0010  \n",
      "Fit time          29.02   28.99   29.81   29.61   29.35   29.35   0.32    \n",
      "Test time         76.87   76.88   78.00   77.69   78.09   77.51   0.53    \n",
      "Estimating biases using als...\n",
      "Computing the msd similarity matrix...\n",
      "Done computing similarity matrix.\n",
      "\n",
      "Test Set Error\n",
      "--------------\n",
      "MAE:  0.7070\n",
      "--------------\n",
      "Finished in 656.473 sec.\n"
     ]
    }
   ],
   "source": [
    "algo = KNNBaseline()\n",
    "\n",
    "start = time.time()\n",
    "\n",
    "cross_validate(algo, data, measures=['RMSE', 'MAE'], cv=5, verbose=True)\n",
    "algo.fit(trainset)\n",
    "\n",
    "predictions = algo.test(testset)\n",
    "\n",
    "print(\"\\nTest Set Error\\n--------------\")\n",
    "accuracy.mae(predictions)\n",
    "print(\"--------------\\nFinished in {:.3f} sec.\".format(time.time()-start))"
   ]
  },
  {
   "cell_type": "markdown",
   "id": "3eb8e00d",
   "metadata": {},
   "source": [
    "# SlopeOne"
   ]
  },
  {
   "cell_type": "markdown",
   "id": "15cf5acc",
   "metadata": {},
   "source": [
    "**SlopeOne** - простой, но точный алгоритм совместной фильтрации"
   ]
  },
  {
   "cell_type": "code",
   "execution_count": 71,
   "id": "22cbd71f",
   "metadata": {},
   "outputs": [
    {
     "name": "stdout",
     "output_type": "stream",
     "text": [
      "Evaluating RMSE, MAE of algorithm SlopeOne on 5 split(s).\n",
      "\n",
      "                  Fold 1  Fold 2  Fold 3  Fold 4  Fold 5  Mean    Std     \n",
      "RMSE (testset)    0.9088  0.9079  0.9064  0.9053  0.9045  0.9066  0.0016  \n",
      "MAE (testset)     0.7162  0.7148  0.7149  0.7135  0.7127  0.7144  0.0012  \n",
      "Fit time          10.63   10.76   10.52   10.68   10.59   10.64   0.08    \n",
      "Test time         29.33   28.97   29.07   28.71   29.19   29.05   0.21    \n",
      "\n",
      "Test Set Error\n",
      "--------------\n",
      "MAE:  0.7144\n",
      "--------------\n",
      "Finished in 247.291 sec.\n"
     ]
    }
   ],
   "source": [
    "algo = SlopeOne()\n",
    "\n",
    "start = time.time()\n",
    "\n",
    "cross_validate(algo, data, measures=['RMSE', 'MAE'], cv=5, verbose=True)\n",
    "algo.fit(trainset)\n",
    "\n",
    "predictions = algo.test(testset)\n",
    "\n",
    "print(\"\\nTest Set Error\\n--------------\")\n",
    "accuracy.mae(predictions)\n",
    "print(\"--------------\\nFinished in {:.3f} sec.\".format(time.time()-start))"
   ]
  },
  {
   "cell_type": "markdown",
   "id": "deec2594",
   "metadata": {},
   "source": [
    "# CoClustering"
   ]
  },
  {
   "cell_type": "markdown",
   "id": "7097dfe5",
   "metadata": {},
   "source": [
    "**CoClustering** - Алгоритм совместной фильтрации на основе совместной кластеризации"
   ]
  },
  {
   "cell_type": "code",
   "execution_count": 72,
   "id": "0af821e2",
   "metadata": {},
   "outputs": [
    {
     "name": "stdout",
     "output_type": "stream",
     "text": [
      "Evaluating RMSE, MAE of algorithm CoClustering on 5 split(s).\n",
      "\n",
      "                  Fold 1  Fold 2  Fold 3  Fold 4  Fold 5  Mean    Std     \n",
      "RMSE (testset)    0.9139  0.9165  0.9153  0.9143  0.9139  0.9148  0.0010  \n",
      "MAE (testset)     0.7165  0.7183  0.7178  0.7156  0.7165  0.7169  0.0010  \n",
      "Fit time          16.84   16.80   16.91   16.87   16.86   16.86   0.04    \n",
      "Test time         0.58    1.29    0.56    1.29    0.57    0.86    0.35    \n",
      "\n",
      "Test Set Error\n",
      "--------------\n",
      "MAE:  0.7167\n",
      "--------------\n",
      "Finished in 110.656 sec.\n"
     ]
    }
   ],
   "source": [
    "algo = CoClustering()\n",
    "\n",
    "start = time.time()\n",
    "\n",
    "cross_validate(algo, data, measures=['RMSE', 'MAE'], cv=5, verbose=True)\n",
    "algo.fit(trainset)\n",
    "\n",
    "predictions = algo.test(testset)\n",
    "\n",
    "print(\"\\nTest Set Error\\n--------------\")\n",
    "accuracy.mae(predictions)\n",
    "print(\"--------------\\nFinished in {:.3f} sec.\".format(time.time()-start))"
   ]
  }
 ],
 "metadata": {
  "kernelspec": {
   "display_name": "Python 3 (ipykernel)",
   "language": "python",
   "name": "python3"
  },
  "language_info": {
   "codemirror_mode": {
    "name": "ipython",
    "version": 3
   },
   "file_extension": ".py",
   "mimetype": "text/x-python",
   "name": "python",
   "nbconvert_exporter": "python",
   "pygments_lexer": "ipython3",
   "version": "3.9.12"
  }
 },
 "nbformat": 4,
 "nbformat_minor": 5
}
