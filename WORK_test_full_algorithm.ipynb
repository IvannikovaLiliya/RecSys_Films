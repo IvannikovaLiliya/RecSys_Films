{
 "cells": [
  {
   "cell_type": "markdown",
   "id": "ca422da4",
   "metadata": {},
   "source": [
    "**Тут было очень больно** для дальнейшей работы нам нужна библа scikit-surprise\n",
    "1. Т.к. библиотека использует cpython(как я понял из-за возникающих ошибок), а cpython это c++, то сначала необходимо установить Microsoft C++ Build Tools: https://visualstudio.microsoft.com/ru/visual-cpp-build-tools/"
   ]
  },
  {
   "cell_type": "markdown",
   "id": "ee14dd8a",
   "metadata": {},
   "source": [
    "2. Затем устанавливаем numpy cython"
   ]
  },
  {
   "cell_type": "markdown",
   "id": "e49db2d8",
   "metadata": {},
   "source": [
    "!pip install numpy cython"
   ]
  },
  {
   "cell_type": "markdown",
   "id": "f89f1302",
   "metadata": {},
   "source": [
    "3. Затем scikit-surprise"
   ]
  },
  {
   "cell_type": "markdown",
   "id": "71d25fb4",
   "metadata": {},
   "source": [
    "!pip install scikit-surprise"
   ]
  },
  {
   "cell_type": "markdown",
   "id": "0ef87cc8",
   "metadata": {},
   "source": [
    "**Библиотеку установил, но дальше какая-то дичь, пока не решил, надо будет разбираться(**"
   ]
  },
  {
   "cell_type": "code",
   "execution_count": 27,
   "id": "112fd151",
   "metadata": {},
   "outputs": [
    {
     "ename": "ImportError",
     "evalue": "cannot import name 'SVD' from 'surprise' (unknown location)",
     "output_type": "error",
     "traceback": [
      "\u001b[1;31m---------------------------------------------------------------------------\u001b[0m",
      "\u001b[1;31mImportError\u001b[0m                               Traceback (most recent call last)",
      "Cell \u001b[1;32mIn[27], line 7\u001b[0m\n\u001b[0;32m      4\u001b[0m \u001b[38;5;28;01mimport\u001b[39;00m \u001b[38;5;21;01mpandas\u001b[39;00m \u001b[38;5;28;01mas\u001b[39;00m \u001b[38;5;21;01mpd\u001b[39;00m\n\u001b[0;32m      5\u001b[0m \u001b[38;5;28;01mimport\u001b[39;00m \u001b[38;5;21;01mscipy\u001b[39;00m\u001b[38;5;21;01m.\u001b[39;00m\u001b[38;5;21;01msparse\u001b[39;00m \u001b[38;5;28;01mas\u001b[39;00m \u001b[38;5;21;01msp\u001b[39;00m\n\u001b[1;32m----> 7\u001b[0m \u001b[38;5;28;01mfrom\u001b[39;00m \u001b[38;5;21;01msurprise\u001b[39;00m \u001b[38;5;28;01mimport\u001b[39;00m SVD\n\u001b[0;32m      8\u001b[0m \u001b[38;5;28;01mfrom\u001b[39;00m \u001b[38;5;21;01msurprise\u001b[39;00m \u001b[38;5;28;01mimport\u001b[39;00m SVDpp\n\u001b[0;32m      9\u001b[0m \u001b[38;5;28;01mfrom\u001b[39;00m \u001b[38;5;21;01msurprise\u001b[39;00m \u001b[38;5;28;01mimport\u001b[39;00m NMF\n",
      "\u001b[1;31mImportError\u001b[0m: cannot import name 'SVD' from 'surprise' (unknown location)"
     ]
    }
   ],
   "source": [
    "import os\n",
    "\n",
    "import numpy as np\n",
    "import pandas as pd\n",
    "import scipy.sparse as sp\n",
    "\n",
    "from scikit-surprise import SVD\n",
    "from surprise import SVDpp\n",
    "from surprise import NMF\n",
    "from surprise import Dataset, accuracy\n",
    "from surprise.model_selection import cross_validate\n",
    "from surprise.model_selection import train_test_split\n",
    "from surprise import Reader\n",
    "\n",
    "\n",
    "import warnings\n",
    "warnings.filterwarnings('ignore')"
   ]
  },
  {
   "cell_type": "code",
   "execution_count": 49,
   "id": "406528d1",
   "metadata": {},
   "outputs": [
    {
     "ename": "ImportError",
     "evalue": "cannot import name 'reader' from 'surprise' (unknown location)",
     "output_type": "error",
     "traceback": [
      "\u001b[1;31m---------------------------------------------------------------------------\u001b[0m",
      "\u001b[1;31mImportError\u001b[0m                               Traceback (most recent call last)",
      "Cell \u001b[1;32mIn[49], line 1\u001b[0m\n\u001b[1;32m----> 1\u001b[0m \u001b[38;5;28;01mfrom\u001b[39;00m \u001b[38;5;21;01msurprise\u001b[39;00m \u001b[38;5;28;01mimport\u001b[39;00m reader\n",
      "\u001b[1;31mImportError\u001b[0m: cannot import name 'reader' from 'surprise' (unknown location)"
     ]
    }
   ],
   "source": [
    "from surprise import reader"
   ]
  },
  {
   "cell_type": "code",
   "execution_count": null,
   "id": "cb99b974",
   "metadata": {},
   "outputs": [],
   "source": [
    "del interactions\n",
    "del movies_metadata\n",
    "del interactions_filtered\n",
    "del users_inv_mapping\n",
    "del movies_inv_mapping\n",
    "del movie_name_mapper\n",
    "del recs"
   ]
  },
  {
   "cell_type": "code",
   "execution_count": 46,
   "id": "b860ba50",
   "metadata": {},
   "outputs": [
    {
     "name": "stdout",
     "output_type": "stream",
     "text": [
      "\n",
      "Please wait a moment while I gather a list of all available modules...\n",
      "\n"
     ]
    },
    {
     "name": "stderr",
     "output_type": "stream",
     "text": [
      "C:\\Programming\\Anaconda\\lib\\pkgutil.py:93: UserWarning:\n",
      "\n",
      "The numpy.array_api submodule is still experimental. See NEP 47.\n",
      "\n",
      "C:\\Programming\\Anaconda\\lib\\site-packages\\_distutils_hack\\__init__.py:33: UserWarning:\n",
      "\n",
      "Setuptools is replacing distutils.\n",
      "\n",
      "C:\\Programming\\Anaconda\\lib\\site-packages\\torch\\distributed\\_shard\\checkpoint\\__init__.py:8: DeprecationWarning:\n",
      "\n",
      "torch.distributed._shard.checkpoint will be deprecated, use torch.distributed.checkpoint instead\n",
      "\n",
      "C:\\Programming\\Anaconda\\lib\\site-packages\\torch\\distributed\\_sharded_tensor\\__init__.py:8: DeprecationWarning:\n",
      "\n",
      "torch.distributed._sharded_tensor will be deprecated, use torch.distributed._shard.sharded_tensor instead\n",
      "\n",
      "C:\\Programming\\Anaconda\\lib\\site-packages\\torch\\distributed\\_sharding_spec\\__init__.py:8: DeprecationWarning:\n",
      "\n",
      "torch.distributed._sharding_spec will be deprecated, use torch.distributed._shard.sharding_spec instead\n",
      "\n",
      "[2023-12-10 23:43:19,617] torch.distributed.elastic.multiprocessing.redirects: [WARNING] NOTE: Redirects are currently not supported in Windows or MacOs.\n",
      "C:\\Programming\\Anaconda\\lib\\site-packages\\torchvision\\transforms\\_functional_pil.py:242: DeprecationWarning:\n",
      "\n",
      "BILINEAR is deprecated and will be removed in Pillow 10 (2023-07-01). Use Resampling.BILINEAR instead.\n",
      "\n",
      "C:\\Programming\\Anaconda\\lib\\site-packages\\torchvision\\transforms\\_functional_pil.py:288: DeprecationWarning:\n",
      "\n",
      "NEAREST is deprecated and will be removed in Pillow 10 (2023-07-01). Use Resampling.NEAREST or Dither.NONE instead.\n",
      "\n",
      "C:\\Programming\\Anaconda\\lib\\site-packages\\torchvision\\transforms\\_functional_pil.py:321: DeprecationWarning:\n",
      "\n",
      "BICUBIC is deprecated and will be removed in Pillow 10 (2023-07-01). Use Resampling.BICUBIC instead.\n",
      "\n",
      "C:\\Programming\\Anaconda\\lib\\pkgutil.py:108: VisibleDeprecationWarning:\n",
      "\n",
      "zmq.eventloop.minitornado is deprecated in pyzmq 14.0 and will be removed.\n",
      "    Install tornado itself to use zmq with the tornado IOLoop.\n",
      "    \n",
      "\n"
     ]
    },
    {
     "name": "stdout",
     "output_type": "stream",
     "text": [
      "Cython              cmath               matplotlib_inline   statistics\n",
      "IPython             cmd                 mdurl               statsmodels\n",
      "OpenSSL             code                menuinst            streamlit\n",
      "PIL                 codecs              mimetypes           string\n",
      "PyQt5               codeop              mistune             stringprep\n",
      "__future__          collections         ml_dtypes           struct\n",
      "_abc                colorama            mmap                subprocess\n",
      "_aix_support        colorlover          mmapfile            sunau\n",
      "_argon2_cffi_bindings colorsys            mmsystem            surprise\n",
      "_ast                comm                modulefinder        symbol\n",
      "_asyncio            commctrl            mpmath              sympy\n",
      "_bisect             compileall          msilib              symtable\n",
      "_blake2             concurrent          msvcrt              sys\n",
      "_bootlocale         conda               multiprocessing     sysconfig\n",
      "_bootsubprocess     conda_build         navigator_updater   tabnanny\n",
      "_bz2                conda_content_trust nbclassic           tarfile\n",
      "_cffi_backend       conda_env           nbclient            telnetlib\n",
      "_codecs             conda_package_handling nbconvert           tempfile\n",
      "_codecs_cn          conda_package_streaming nbformat            tenacity\n",
      "_codecs_hk          conda_token         nest_asyncio        tensorboard\n",
      "_codecs_iso2022     conda_verify        netbios             tensorboard_data_server\n",
      "_codecs_jp          configparser        netrc               tensorflow\n",
      "_codecs_kr          contextlib          networkx            tensorflow_estimator\n",
      "_codecs_tw          contextvars         nntplib             tensorflow_io_gcs_filesystem\n",
      "_collections        contourpy           notebook            termcolor\n",
      "_collections_abc    copy                notebook_shim       terminado\n",
      "_compat_pickle      copyreg             nt                  test\n",
      "_compression        crypt               ntpath              test_pycosat\n",
      "_contextvars        cryptography        ntsecuritycon       textwrap\n",
      "_csv                csv                 nturl2path          this\n",
      "_ctypes             ctypes              numbers             threading\n",
      "_ctypes_test        cufflinks           numpy               threadpoolctl\n",
      "_datetime           curses              oauthlib            time\n",
      "_decimal            cv2                 odbc                timeit\n",
      "_distutils_hack     cwp                 opcode              timer\n",
      "_elementtree        cycler              operator            tinycss2\n",
      "_functools          cython              opt_einsum          tkinter\n",
      "_hashlib            dataclasses         optparse            tlz\n",
      "_heapq              datetime            os                  token\n",
      "_imp                dateutil            packaging           tokenize\n",
      "_io                 dawg_python         pandas              toml\n",
      "_json               dbi                 pandocfilters       toolz\n",
      "_locale             dbm                 parser              torch\n",
      "_lsprof             dde                 parso               torchaudio\n",
      "_lzma               debugpy             past                torchgen\n",
      "_markupbase         decimal             pasta               torchutils\n",
      "_md5                decorator           pathlib             torchvision\n",
      "_msi                defusedxml          patsy               tornado\n",
      "_multibytecodec     difflib             pdb                 tqdm\n",
      "_multiprocessing    dis                 perfmon             trace\n",
      "_nsis               distutils           pickle              traceback\n",
      "_opcode             docopt              pickleshare         tracemalloc\n",
      "_operator           doctest             pickletools         traitlets\n",
      "_osx_support        duckdb              pip                 tty\n",
      "_overlapped         email               pipes               turtle\n",
      "_peg_parser         enchant             pkg_resources       turtledemo\n",
      "_pickle             encodings           pkginfo             typeguard\n",
      "_plotly_future_     ensurepip           pkgutil             types\n",
      "_plotly_utils       entrypoints         platform            typing\n",
      "_py_abc             enum                platformdirs        typing_extensions\n",
      "_pydecimal          errno               plistlib            tzdata\n",
      "_pyio               executing           plotly              tzlocal\n",
      "_pyrsistent_version fastjsonschema      plotly_express      ujson\n",
      "_queue              faulthandler        pluggy              unicodedata\n",
      "_random             filecmp             ply                 unittest\n",
      "_ruamel_yaml        fileinput           poplib              urllib\n",
      "_sha1               filelock            posixpath           urllib3\n",
      "_sha256             flatbuffers         pprint              uu\n",
      "_sha3               flit_core           profile             uuid\n",
      "_sha512             fnmatch             prometheus_client   validators\n",
      "_signal             fontTools           prompt_toolkit      venv\n",
      "_sitebuiltins       formatter           pstats              warnings\n",
      "_socket             fractions           psutil              watchdog\n",
      "_sqlite3            fsspec              pty                 wave\n",
      "_sre                ftplib              pure_eval           wcwidth\n",
      "_ssl                functools           pvectorc            weakref\n",
      "_stat               functorch           py_compile          webbrowser\n",
      "_statistics         future              pyarrow             webencodings\n",
      "_string             gast                pyasn1              websocket\n",
      "_strptime           gc                  pyasn1_modules      werkzeug\n",
      "_struct             genericpath         pyclbr              wheel\n",
      "_symtable           getopt              pycosat             widgetsnbextension\n",
      "_system_path        getpass             pycparser           win2kras\n",
      "_testbuffer         gettext             pydeck              win32api\n",
      "_testcapi           git                 pydoc               win32clipboard\n",
      "_testconsole        gitdb               pydoc_data          win32com\n",
      "_testimportmultiple glob                pyexpat             win32con\n",
      "_testinternalcapi   glob2               pygments            win32console\n",
      "_testmultiphase     google_auth_oauthlib pylab               win32cred\n",
      "_thread             graphlib            pymorphy2           win32crypt\n",
      "_threading_local    grpc                pymorphy2_dicts_ru  win32cryptcon\n",
      "_tkinter            gzip                pyparsing           win32event\n",
      "_tracemalloc        h5py                pyrsistent          win32evtlog\n",
      "_uuid               hashlib             pythoncom           win32evtlogutil\n",
      "_warnings           heapq               pytz                win32file\n",
      "_weakref            hmac                pywin               win32gui\n",
      "_weakrefset         html                pywin32_bootstrap   win32gui_struct\n",
      "_win32sysloader     http                pywin32_testutil    win32help\n",
      "_winapi             idlelib             pywintypes          win32inet\n",
      "_winxptheme         idna                pyximport           win32inetcon\n",
      "_xxsubinterpreters  imaplib             qtpy                win32job\n",
      "_yaml               imghdr              queue               win32lz\n",
      "_zoneinfo           imp                 quopri              win32net\n",
      "abc                 implicit            random              win32netcon\n",
      "absl                importlib           rasutil             win32pdh\n",
      "adbc_driver_duckdb  importlib_metadata  re                  win32pdhquery\n",
      "adodbapi            inspect             rectools            win32pdhutil\n",
      "afxres              io                  regcheck            win32pipe\n",
      "aifc                ipaddress           regutil             win32print\n",
      "altair              ipykernel           repo_cli            win32process\n",
      "anaconda_navigator  ipykernel_launcher  reprlib             win32profile\n",
      "antigravity         ipython_genutils    requests            win32ras\n",
      "anyio               ipywidgets          requests_oauthlib   win32rcparser\n",
      "argon2              isapi               rich                win32security\n",
      "argparse            isympy              rlcompleter         win32service\n",
      "array               itertools           rsa                 win32serviceutil\n",
      "ast                 jedi                runpy               win32timezone\n",
      "asttokens           jinja2              sched               win32trace\n",
      "astunparse          joblib              scipy               win32traceutil\n",
      "asynchat            json                seaborn             win32transaction\n",
      "asyncio             jsonschema          secrets             win32ts\n",
      "asyncore            jupyter             select              win32ui\n",
      "atexit              jupyter_client      selectors           win32uiole\n",
      "attr                jupyter_core        send2trash          win32verstamp\n",
      "attrs               jupyter_server      servicemanager      win32wnet\n",
      "audioop             jupyterlab_plotly   setuptools          win_inet_pton\n",
      "backcall            jupyterlab_pygments shelve              wincertstore\n",
      "backports           jupyterlab_widgets  shlex               winerror\n",
      "base64              jupyterthemes       shutil              winioctlcon\n",
      "bdb                 jwt                 signal              winnt\n",
      "binascii            kaleido             sipbuild            winperf\n",
      "binhex              keras               site                winpty\n",
      "binstar_client      keyword             six                 winreg\n",
      "bisect              kiwisolver          sklearn             winsound\n",
      "bleach              lesscpy             smmap               winxpgui\n",
      "blinker             lib2to3             smtpd               winxptheme\n",
      "brotli              libarchive          smtplib             wrapt\n",
      "bs4                 libfuturize         sndhdr              wsgiref\n",
      "builtins            libpasteurize       sniffio             xdrlib\n",
      "bz2                 lief                socket              xml\n",
      "cProfile            linecache           socketserver        xmlrpc\n",
      "cachetools          locale              socks               xxsubtype\n",
      "calendar            logging             sockshandler        yaml\n",
      "certifi             lxml                soupsieve           zipapp\n",
      "cffi                lzma                sqlite3             zipfile\n",
      "cgi                 mailbox             sre_compile         zipimport\n",
      "cgitb               mailcap             sre_constants       zipp\n",
      "chardet             markdown            sre_parse           zlib\n",
      "charset_normalizer  markdown_it         ssl                 zmq\n",
      "chunk               markupsafe          sspi                zoneinfo\n",
      "clang               marshal             sspicon             zstandard\n",
      "click               math                stack_data          ~andas\n",
      "clyent              matplotlib          stat                \n",
      "\n",
      "Enter any module name to get more help.  Or, type \"modules spam\" to search\n",
      "for modules whose name or summary contain the string \"spam\".\n",
      "\n"
     ]
    },
    {
     "name": "stderr",
     "output_type": "stream",
     "text": [
      "C:\\Programming\\Anaconda\\lib\\site-packages\\Pythonwin\\pywin\\scintilla\\view.py:814: ResourceWarning:\n",
      "\n",
      "unclosed file <_io.TextIOWrapper name='C:\\\\Programming\\\\Anaconda\\\\lib\\\\site-packages\\\\Pythonwin\\\\pywin\\\\default.cfg' mode='r' encoding='cp1251'>\n",
      "\n"
     ]
    }
   ],
   "source": [
    "help('modules')"
   ]
  },
  {
   "cell_type": "markdown",
   "id": "13e7ca65",
   "metadata": {},
   "source": [
    "# 0. Загрузка усеченных данных (для теста функционала модели)"
   ]
  },
  {
   "cell_type": "code",
   "execution_count": 4,
   "id": "5e9c8137",
   "metadata": {},
   "outputs": [
    {
     "name": "stdout",
     "output_type": "stream",
     "text": [
      "(1000209, 4)\n",
      "CPU times: total: 3.11 s\n",
      "Wall time: 3.11 s\n"
     ]
    },
    {
     "data": {
      "text/html": [
       "<div>\n",
       "<style scoped>\n",
       "    .dataframe tbody tr th:only-of-type {\n",
       "        vertical-align: middle;\n",
       "    }\n",
       "\n",
       "    .dataframe tbody tr th {\n",
       "        vertical-align: top;\n",
       "    }\n",
       "\n",
       "    .dataframe thead th {\n",
       "        text-align: right;\n",
       "    }\n",
       "</style>\n",
       "<table border=\"1\" class=\"dataframe\">\n",
       "  <thead>\n",
       "    <tr style=\"text-align: right;\">\n",
       "      <th></th>\n",
       "      <th>userId</th>\n",
       "      <th>movieId</th>\n",
       "      <th>rating</th>\n",
       "      <th>timestamp</th>\n",
       "    </tr>\n",
       "  </thead>\n",
       "  <tbody>\n",
       "    <tr>\n",
       "      <th>0</th>\n",
       "      <td>1</td>\n",
       "      <td>1193</td>\n",
       "      <td>5</td>\n",
       "      <td>978300760</td>\n",
       "    </tr>\n",
       "    <tr>\n",
       "      <th>1</th>\n",
       "      <td>1</td>\n",
       "      <td>661</td>\n",
       "      <td>3</td>\n",
       "      <td>978302109</td>\n",
       "    </tr>\n",
       "    <tr>\n",
       "      <th>2</th>\n",
       "      <td>1</td>\n",
       "      <td>914</td>\n",
       "      <td>3</td>\n",
       "      <td>978301968</td>\n",
       "    </tr>\n",
       "  </tbody>\n",
       "</table>\n",
       "</div>"
      ],
      "text/plain": [
       "   userId  movieId  rating  timestamp\n",
       "0       1     1193       5  978300760\n",
       "1       1      661       3  978302109\n",
       "2       1      914       3  978301968"
      ]
     },
     "execution_count": 4,
     "metadata": {},
     "output_type": "execute_result"
    }
   ],
   "source": [
    "%%time\n",
    "interactions = pd.read_csv(\n",
    "    \"test_sparse_matrix_dataset_ratings.dat\",\n",
    "    sep=\"::\",\n",
    "    engine=\"python\",\n",
    "    header=None,\n",
    "    names=['userId','movieId','rating','timestamp'],\n",
    ")\n",
    "print(interactions.shape)\n",
    "interactions.head(3)"
   ]
  },
  {
   "cell_type": "code",
   "execution_count": 5,
   "id": "5eb2befb",
   "metadata": {},
   "outputs": [
    {
     "name": "stdout",
     "output_type": "stream",
     "text": [
      "(3883, 3)\n",
      "CPU times: total: 0 ns\n",
      "Wall time: 7 ms\n"
     ]
    },
    {
     "data": {
      "text/html": [
       "<div>\n",
       "<style scoped>\n",
       "    .dataframe tbody tr th:only-of-type {\n",
       "        vertical-align: middle;\n",
       "    }\n",
       "\n",
       "    .dataframe tbody tr th {\n",
       "        vertical-align: top;\n",
       "    }\n",
       "\n",
       "    .dataframe thead th {\n",
       "        text-align: right;\n",
       "    }\n",
       "</style>\n",
       "<table border=\"1\" class=\"dataframe\">\n",
       "  <thead>\n",
       "    <tr style=\"text-align: right;\">\n",
       "      <th></th>\n",
       "      <th>movieId</th>\n",
       "      <th>title</th>\n",
       "      <th>genres</th>\n",
       "    </tr>\n",
       "  </thead>\n",
       "  <tbody>\n",
       "    <tr>\n",
       "      <th>0</th>\n",
       "      <td>1</td>\n",
       "      <td>Toy Story (1995)</td>\n",
       "      <td>Animation|Children's|Comedy</td>\n",
       "    </tr>\n",
       "    <tr>\n",
       "      <th>1</th>\n",
       "      <td>2</td>\n",
       "      <td>Jumanji (1995)</td>\n",
       "      <td>Adventure|Children's|Fantasy</td>\n",
       "    </tr>\n",
       "    <tr>\n",
       "      <th>2</th>\n",
       "      <td>3</td>\n",
       "      <td>Grumpier Old Men (1995)</td>\n",
       "      <td>Comedy|Romance</td>\n",
       "    </tr>\n",
       "  </tbody>\n",
       "</table>\n",
       "</div>"
      ],
      "text/plain": [
       "   movieId                    title                        genres\n",
       "0        1         Toy Story (1995)   Animation|Children's|Comedy\n",
       "1        2           Jumanji (1995)  Adventure|Children's|Fantasy\n",
       "2        3  Grumpier Old Men (1995)                Comedy|Romance"
      ]
     },
     "execution_count": 5,
     "metadata": {},
     "output_type": "execute_result"
    }
   ],
   "source": [
    "%%time\n",
    "movies_metadata = pd.read_csv(\n",
    "    \"test_sparse_matrix_dataset_movies.dat\",\n",
    "    sep=\"::\",\n",
    "    engine=\"python\",\n",
    "    header=None,\n",
    "    names=['movieId','title','genres'],\n",
    "    encoding='latin-1'\n",
    ")\n",
    "print(movies_metadata.shape)\n",
    "movies_metadata.head(3)"
   ]
  },
  {
   "cell_type": "markdown",
   "id": "e82a7200",
   "metadata": {},
   "source": [
    "# 1. Загрузка БОЕВЫХ данных\n",
    "(это долго и больно, поэтому запускать только если уверены)"
   ]
  },
  {
   "cell_type": "markdown",
   "id": "dbeaab56",
   "metadata": {},
   "source": [
    "%%time\n",
    "interactions = pd.read_csv(\n",
    "    \"dataset/ratings.csv\",\n",
    "    sep=\",\",\n",
    "    engine=\"python\"\n",
    ")\n",
    "interactions.head(3)"
   ]
  },
  {
   "cell_type": "markdown",
   "id": "ecf20c44",
   "metadata": {},
   "source": [
    "%%time\n",
    "movies_metadata = pd.read_csv(\n",
    "    \"dataset/movies.csv\",\n",
    "    sep=\",\",\n",
    "    engine=\"python\",\n",
    "    encoding='latin-1'\n",
    ")\n",
    "\n",
    "movies_metadata.head(3)"
   ]
  },
  {
   "cell_type": "code",
   "execution_count": 6,
   "id": "a2d13779",
   "metadata": {},
   "outputs": [
    {
     "name": "stdout",
     "output_type": "stream",
     "text": [
      "interactions: (1000209, 4)\n",
      "movies_metadata: (3883, 3)\n"
     ]
    }
   ],
   "source": [
    "print(f'''interactions: {interactions.shape}\n",
    "movies_metadata: {movies_metadata.shape}''')"
   ]
  },
  {
   "cell_type": "markdown",
   "id": "90efa447",
   "metadata": {},
   "source": [
    "# ПРЕПРОЦЕССИНГ"
   ]
  },
  {
   "cell_type": "code",
   "execution_count": 7,
   "id": "d680e56d",
   "metadata": {},
   "outputs": [],
   "source": [
    "movies_metadata.columns = ['id', 'title', 'genres']"
   ]
  },
  {
   "cell_type": "code",
   "execution_count": 8,
   "id": "9322b4a6",
   "metadata": {},
   "outputs": [],
   "source": [
    "movies_metadata['id'] = movies_metadata['id'].astype(str)\n",
    "interactions['movieId'] = interactions['movieId'].astype(str)"
   ]
  },
  {
   "cell_type": "code",
   "execution_count": 9,
   "id": "81bad2b3",
   "metadata": {},
   "outputs": [
    {
     "name": "stdout",
     "output_type": "stream",
     "text": [
      "(1000209, 4) (1000209, 4)\n"
     ]
    }
   ],
   "source": [
    "interactions_filtered = interactions.loc[interactions['movieId'].isin(movies_metadata['id'])]\n",
    "print(interactions.shape, interactions_filtered.shape)"
   ]
  },
  {
   "cell_type": "code",
   "execution_count": 10,
   "id": "15ee10bb",
   "metadata": {},
   "outputs": [
    {
     "data": {
      "text/html": [
       "<div>\n",
       "<style scoped>\n",
       "    .dataframe tbody tr th:only-of-type {\n",
       "        vertical-align: middle;\n",
       "    }\n",
       "\n",
       "    .dataframe tbody tr th {\n",
       "        vertical-align: top;\n",
       "    }\n",
       "\n",
       "    .dataframe thead th {\n",
       "        text-align: right;\n",
       "    }\n",
       "</style>\n",
       "<table border=\"1\" class=\"dataframe\">\n",
       "  <thead>\n",
       "    <tr style=\"text-align: right;\">\n",
       "      <th></th>\n",
       "      <th>id</th>\n",
       "      <th>title</th>\n",
       "      <th>genres</th>\n",
       "    </tr>\n",
       "  </thead>\n",
       "  <tbody>\n",
       "    <tr>\n",
       "      <th>0</th>\n",
       "      <td>1</td>\n",
       "      <td>Toy Story (1995)</td>\n",
       "      <td>Animation|Children's|Comedy</td>\n",
       "    </tr>\n",
       "    <tr>\n",
       "      <th>1</th>\n",
       "      <td>2</td>\n",
       "      <td>Jumanji (1995)</td>\n",
       "      <td>Adventure|Children's|Fantasy</td>\n",
       "    </tr>\n",
       "    <tr>\n",
       "      <th>2</th>\n",
       "      <td>3</td>\n",
       "      <td>Grumpier Old Men (1995)</td>\n",
       "      <td>Comedy|Romance</td>\n",
       "    </tr>\n",
       "  </tbody>\n",
       "</table>\n",
       "</div>"
      ],
      "text/plain": [
       "  id                    title                        genres\n",
       "0  1         Toy Story (1995)   Animation|Children's|Comedy\n",
       "1  2           Jumanji (1995)  Adventure|Children's|Fantasy\n",
       "2  3  Grumpier Old Men (1995)                Comedy|Romance"
      ]
     },
     "execution_count": 10,
     "metadata": {},
     "output_type": "execute_result"
    }
   ],
   "source": [
    "movies_metadata.head(3)"
   ]
  },
  {
   "cell_type": "markdown",
   "id": "793d8152",
   "metadata": {},
   "source": [
    "#### Функция спарс-матрицы"
   ]
  },
  {
   "cell_type": "code",
   "execution_count": 11,
   "id": "6c209166",
   "metadata": {},
   "outputs": [],
   "source": [
    "def get_coo_matrix(\n",
    "        df: pd.DataFrame, \n",
    "        user_col: str,\n",
    "        item_col: str, \n",
    "        users_mapping: dict, \n",
    "        movies_mapping: dict,\n",
    "        weight_col: str = None\n",
    "        ):\n",
    "    if weight_col is None:\n",
    "        weights = np.ones(len(df), dtype=np.float32)\n",
    "    else:\n",
    "        weights = df[weight_col].astype(np.float32)\n",
    "    interaction_matrix = sp.coo_matrix((\n",
    "        weights, \n",
    "        (\n",
    "            df[user_col].map(users_mapping.get), \n",
    "            df[item_col].map(movies_mapping.get)\n",
    "        )\n",
    "    ))\n",
    "    return interaction_matrix"
   ]
  },
  {
   "cell_type": "code",
   "execution_count": 12,
   "id": "a02a54f5",
   "metadata": {},
   "outputs": [
    {
     "data": {
      "text/plain": [
       "6040"
      ]
     },
     "execution_count": 12,
     "metadata": {},
     "output_type": "execute_result"
    }
   ],
   "source": [
    "# маппинг пользователей\n",
    "users_inv_mapping = dict(enumerate(interactions_filtered['userId'].unique()))\n",
    "users_mapping = {v: k for k, v in users_inv_mapping.items()}\n",
    "len(users_mapping)"
   ]
  },
  {
   "cell_type": "code",
   "execution_count": 13,
   "id": "9c8f4908",
   "metadata": {},
   "outputs": [
    {
     "data": {
      "text/plain": [
       "3706"
      ]
     },
     "execution_count": 13,
     "metadata": {},
     "output_type": "execute_result"
    }
   ],
   "source": [
    "# маппинг фильмов\n",
    "movies_inv_mapping = dict(enumerate(interactions_filtered['movieId'].unique()))\n",
    "movies_mapping = {v: k for k, v in movies_inv_mapping.items()}\n",
    "len(movies_mapping)"
   ]
  },
  {
   "cell_type": "code",
   "execution_count": 14,
   "id": "0b644458",
   "metadata": {},
   "outputs": [
    {
     "name": "stdout",
     "output_type": "stream",
     "text": [
      "CPU times: total: 328 ms\n",
      "Wall time: 328 ms\n"
     ]
    }
   ],
   "source": [
    "%%time\n",
    "train_mat = get_coo_matrix(\n",
    "    interactions_filtered,\n",
    "    user_col = 'userId',\n",
    "    item_col = 'movieId',\n",
    "    users_mapping = users_mapping,\n",
    "    movies_mapping = movies_mapping\n",
    "    ).tocsr()"
   ]
  },
  {
   "cell_type": "code",
   "execution_count": 15,
   "id": "9041cbea",
   "metadata": {},
   "outputs": [
    {
     "data": {
      "text/plain": [
       "1000209"
      ]
     },
     "execution_count": 15,
     "metadata": {},
     "output_type": "execute_result"
    }
   ],
   "source": [
    "train_mat.size"
   ]
  },
  {
   "cell_type": "markdown",
   "id": "551eebaf",
   "metadata": {},
   "source": [
    "# Обучение модельки - KNN - CosineRecommender"
   ]
  },
  {
   "cell_type": "code",
   "execution_count": 16,
   "id": "56176d7b",
   "metadata": {},
   "outputs": [],
   "source": [
    "from implicit.nearest_neighbours import (\n",
    "    CosineRecommender,\n",
    "    BM25Recommender,\n",
    "    TFIDFRecommender\n",
    "    )"
   ]
  },
  {
   "cell_type": "code",
   "execution_count": 17,
   "id": "93745aa2",
   "metadata": {},
   "outputs": [
    {
     "data": {
      "application/vnd.jupyter.widget-view+json": {
       "model_id": "34287801161f4ddda43592a57ab5b496",
       "version_major": 2,
       "version_minor": 0
      },
      "text/plain": [
       "  0%|          | 0/6040 [00:00<?, ?it/s]"
      ]
     },
     "metadata": {},
     "output_type": "display_data"
    }
   ],
   "source": [
    "cosine_model = CosineRecommender(K = 20)\n",
    "cosine_model.fit(train_mat.T)"
   ]
  },
  {
   "cell_type": "markdown",
   "id": "eeb2d06c",
   "metadata": {},
   "source": [
    "#### Оценка модели"
   ]
  },
  {
   "cell_type": "code",
   "execution_count": 18,
   "id": "cc18c86d",
   "metadata": {},
   "outputs": [
    {
     "name": "stdout",
     "output_type": "stream",
     "text": [
      "Rekko for user 1, row number in matrix - 0\n"
     ]
    }
   ],
   "source": [
    "top_N = 10\n",
    "user_id = interactions_filtered['userId'].iloc[0]\n",
    "row_id = users_mapping[user_id]\n",
    "print(f'Rekko for user {user_id}, row number in matrix - {row_id}')"
   ]
  },
  {
   "cell_type": "code",
   "execution_count": 19,
   "id": "1b65d2ed",
   "metadata": {},
   "outputs": [],
   "source": [
    "# маппинг для movieId and title\n",
    "movie_name_mapper = dict(zip(movies_metadata['id'], movies_metadata['title']))"
   ]
  },
  {
   "cell_type": "code",
   "execution_count": 20,
   "id": "3b2a819c",
   "metadata": {},
   "outputs": [
    {
     "data": {
      "text/html": [
       "<div>\n",
       "<style scoped>\n",
       "    .dataframe tbody tr th:only-of-type {\n",
       "        vertical-align: middle;\n",
       "    }\n",
       "\n",
       "    .dataframe tbody tr th {\n",
       "        vertical-align: top;\n",
       "    }\n",
       "\n",
       "    .dataframe thead th {\n",
       "        text-align: right;\n",
       "    }\n",
       "</style>\n",
       "<table border=\"1\" class=\"dataframe\">\n",
       "  <thead>\n",
       "    <tr style=\"text-align: right;\">\n",
       "      <th></th>\n",
       "      <th>col_id</th>\n",
       "      <th>similarity</th>\n",
       "      <th>inv_movie_id</th>\n",
       "      <th>movieId</th>\n",
       "      <th>title</th>\n",
       "    </tr>\n",
       "  </thead>\n",
       "  <tbody>\n",
       "    <tr>\n",
       "      <th>0</th>\n",
       "      <td>2261.0</td>\n",
       "      <td>1.513339</td>\n",
       "      <td>2261</td>\n",
       "      <td>2582</td>\n",
       "      <td>Twin Dragons (Shuang long hui) (1992)</td>\n",
       "    </tr>\n",
       "    <tr>\n",
       "      <th>1</th>\n",
       "      <td>3649.0</td>\n",
       "      <td>1.512462</td>\n",
       "      <td>3649</td>\n",
       "      <td>396</td>\n",
       "      <td>Fall Time (1995)</td>\n",
       "    </tr>\n",
       "    <tr>\n",
       "      <th>2</th>\n",
       "      <td>3028.0</td>\n",
       "      <td>1.468497</td>\n",
       "      <td>3028</td>\n",
       "      <td>3133</td>\n",
       "      <td>Go West (1925)</td>\n",
       "    </tr>\n",
       "    <tr>\n",
       "      <th>3</th>\n",
       "      <td>2528.0</td>\n",
       "      <td>1.438797</td>\n",
       "      <td>2528</td>\n",
       "      <td>3371</td>\n",
       "      <td>Bound for Glory (1976)</td>\n",
       "    </tr>\n",
       "    <tr>\n",
       "      <th>4</th>\n",
       "      <td>4385.0</td>\n",
       "      <td>1.418650</td>\n",
       "      <td>4385</td>\n",
       "      <td>None</td>\n",
       "      <td>NaN</td>\n",
       "    </tr>\n",
       "    <tr>\n",
       "      <th>5</th>\n",
       "      <td>1263.0</td>\n",
       "      <td>1.404489</td>\n",
       "      <td>1263</td>\n",
       "      <td>3556</td>\n",
       "      <td>Virgin Suicides, The (1999)</td>\n",
       "    </tr>\n",
       "    <tr>\n",
       "      <th>6</th>\n",
       "      <td>3362.0</td>\n",
       "      <td>1.321948</td>\n",
       "      <td>3362</td>\n",
       "      <td>2197</td>\n",
       "      <td>Firelight (1997)</td>\n",
       "    </tr>\n",
       "    <tr>\n",
       "      <th>7</th>\n",
       "      <td>1319.0</td>\n",
       "      <td>1.305901</td>\n",
       "      <td>1319</td>\n",
       "      <td>3422</td>\n",
       "      <td>She's Gotta Have It (1986)</td>\n",
       "    </tr>\n",
       "    <tr>\n",
       "      <th>8</th>\n",
       "      <td>1245.0</td>\n",
       "      <td>1.303988</td>\n",
       "      <td>1245</td>\n",
       "      <td>2148</td>\n",
       "      <td>House (1986)</td>\n",
       "    </tr>\n",
       "    <tr>\n",
       "      <th>9</th>\n",
       "      <td>1883.0</td>\n",
       "      <td>1.254805</td>\n",
       "      <td>1883</td>\n",
       "      <td>23</td>\n",
       "      <td>Assassins (1995)</td>\n",
       "    </tr>\n",
       "  </tbody>\n",
       "</table>\n",
       "</div>"
      ],
      "text/plain": [
       "   col_id  similarity  inv_movie_id movieId  \\\n",
       "0  2261.0    1.513339          2261    2582   \n",
       "1  3649.0    1.512462          3649     396   \n",
       "2  3028.0    1.468497          3028    3133   \n",
       "3  2528.0    1.438797          2528    3371   \n",
       "4  4385.0    1.418650          4385    None   \n",
       "5  1263.0    1.404489          1263    3556   \n",
       "6  3362.0    1.321948          3362    2197   \n",
       "7  1319.0    1.305901          1319    3422   \n",
       "8  1245.0    1.303988          1245    2148   \n",
       "9  1883.0    1.254805          1883      23   \n",
       "\n",
       "                                   title  \n",
       "0  Twin Dragons (Shuang long hui) (1992)  \n",
       "1                       Fall Time (1995)  \n",
       "2                         Go West (1925)  \n",
       "3                 Bound for Glory (1976)  \n",
       "4                                    NaN  \n",
       "5            Virgin Suicides, The (1999)  \n",
       "6                       Firelight (1997)  \n",
       "7             She's Gotta Have It (1986)  \n",
       "8                           House (1986)  \n",
       "9                       Assassins (1995)  "
      ]
     },
     "execution_count": 20,
     "metadata": {},
     "output_type": "execute_result"
    }
   ],
   "source": [
    "recs = cosine_model.recommend(\n",
    "    row_id,\n",
    "    train_mat,\n",
    "    N = top_N,\n",
    "    filter_already_liked_items = True\n",
    "    )\n",
    "recs = pd.DataFrame(recs).T.rename(columns = {0: 'col_id', 1: 'similarity'})\n",
    "recs['inv_movie_id'] = recs['col_id'].astype(int)\n",
    "recs['movieId'] = recs['inv_movie_id'].map(movies_inv_mapping.get)\n",
    "recs['title'] = recs['movieId'].map(movie_name_mapper)\n",
    "\n",
    "recs"
   ]
  },
  {
   "cell_type": "code",
   "execution_count": null,
   "id": "b6ebcbe2",
   "metadata": {},
   "outputs": [],
   "source": []
  }
 ],
 "metadata": {
  "kernelspec": {
   "display_name": "Python 3 (ipykernel)",
   "language": "python",
   "name": "python3"
  },
  "language_info": {
   "codemirror_mode": {
    "name": "ipython",
    "version": 3
   },
   "file_extension": ".py",
   "mimetype": "text/x-python",
   "name": "python",
   "nbconvert_exporter": "python",
   "pygments_lexer": "ipython3",
   "version": "3.9.12"
  }
 },
 "nbformat": 4,
 "nbformat_minor": 5
}
