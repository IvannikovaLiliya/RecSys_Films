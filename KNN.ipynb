{
 "cells": [
  {
   "cell_type": "markdown",
   "id": "c5f10c28",
   "metadata": {},
   "source": [
    "# Import"
   ]
  },
  {
   "cell_type": "code",
   "execution_count": 1,
   "id": "74d57851",
   "metadata": {
    "ExecuteTime": {
     "end_time": "2024-01-09T15:15:48.679270Z",
     "start_time": "2024-01-09T15:15:45.280468Z"
    }
   },
   "outputs": [],
   "source": [
    "import pandas as pd\n",
    "import plotly.graph_objs as go\n",
    "import string\n",
    "import re\n",
    "import numpy as np\n",
    "import seaborn as sns\n",
    "import matplotlib.pyplot as plt\n",
    "from matplotlib.pyplot import figure\n",
    "#import cufflinks as cf\n",
    "from plotly.offline import iplot\n",
    "from tqdm import tqdm\n",
    "\n",
    "from collections import Counter\n",
    "from typing import Dict, Text\n",
    "from ast import literal_eval\n",
    "from datetime import datetime\n",
    "import plotly.express as px\n",
    "\n",
    "#cf.go_offline()\n",
    "#cf.set_config_file(offline = False, world_readable = True)\n",
    "\n",
    "import plotly.io as pio\n",
    "pio.renderers.default='notebook'\n",
    "\n",
    "import warnings\n",
    "warnings.simplefilter('ignore')"
   ]
  },
  {
   "cell_type": "code",
   "execution_count": 2,
   "id": "33cf6872",
   "metadata": {
    "ExecuteTime": {
     "end_time": "2024-01-09T15:15:49.105681Z",
     "start_time": "2024-01-09T15:15:48.680383Z"
    }
   },
   "outputs": [],
   "source": [
    "from numpy.linalg import svd\n",
    "from sklearn.metrics import accuracy_score\n",
    "from sklearn.model_selection import cross_validate\n",
    "from sklearn.model_selection import train_test_split"
   ]
  },
  {
   "cell_type": "code",
   "execution_count": 3,
   "id": "3e15d988",
   "metadata": {
    "ExecuteTime": {
     "end_time": "2024-01-09T15:15:49.259250Z",
     "start_time": "2024-01-09T15:15:49.106478Z"
    }
   },
   "outputs": [],
   "source": [
    "from rectools import Columns\n",
    "from rectools.dataset import Dataset\n",
    "from rectools.models import ImplicitItemKNNWrapperModel\n",
    "from rectools.metrics import (\n",
    "    Precision,\n",
    "    Accuracy,\n",
    "    NDCG,\n",
    "    IntraListDiversity,\n",
    "    Serendipity,\n",
    "    calc_metrics,\n",
    ")"
   ]
  },
  {
   "cell_type": "code",
   "execution_count": 4,
   "id": "8cb194df",
   "metadata": {
    "ExecuteTime": {
     "end_time": "2024-01-09T15:15:49.263317Z",
     "start_time": "2024-01-09T15:15:49.260700Z"
    }
   },
   "outputs": [],
   "source": [
    "from implicit.nearest_neighbours import TFIDFRecommender, CosineRecommender"
   ]
  },
  {
   "cell_type": "code",
   "execution_count": 5,
   "id": "5365982a",
   "metadata": {
    "ExecuteTime": {
     "end_time": "2024-01-09T15:15:49.268292Z",
     "start_time": "2024-01-09T15:15:49.264092Z"
    }
   },
   "outputs": [
    {
     "data": {
      "text/plain": [
       "'/Users/liliyaivannikova/Documents/project/git/RecSys_Films'"
      ]
     },
     "execution_count": 5,
     "metadata": {},
     "output_type": "execute_result"
    }
   ],
   "source": [
    "import os\n",
    "us = os.getcwd()\n",
    "us"
   ]
  },
  {
   "cell_type": "code",
   "execution_count": 6,
   "id": "cbc2b297",
   "metadata": {
    "ExecuteTime": {
     "end_time": "2024-01-09T15:15:53.874910Z",
     "start_time": "2024-01-09T15:15:49.269311Z"
    }
   },
   "outputs": [],
   "source": [
    "if 'liliyaivannikova' in us:\n",
    "    PATH = r'/Users/liliyaivannikova/Documents/project/ml-latest/'\n",
    "    movies = pd.read_csv(PATH + r'movies.csv')\n",
    "    rating = pd.read_csv(PATH + r'ratings.csv')\n",
    "elif 'Владислав' in us:\n",
    "    movies = pd.read_csv(r'dataset/movies.csv')\n",
    "    rating = pd.read_csv(r'dataset/ratings.csv')"
   ]
  },
  {
   "cell_type": "code",
   "execution_count": 7,
   "id": "1ce21742",
   "metadata": {
    "ExecuteTime": {
     "end_time": "2024-01-09T15:15:53.877509Z",
     "start_time": "2024-01-09T15:15:53.875806Z"
    }
   },
   "outputs": [
    {
     "name": "stdout",
     "output_type": "stream",
     "text": [
      "\n",
      "movies: (86537, 3)\n",
      "rating: (33832162, 4)\n",
      "\n"
     ]
    }
   ],
   "source": [
    "print(f'''\n",
    "movies: {movies.shape}\n",
    "rating: {rating.shape}\n",
    "''')"
   ]
  },
  {
   "cell_type": "code",
   "execution_count": 8,
   "id": "2f1bd9f3",
   "metadata": {
    "ExecuteTime": {
     "end_time": "2024-01-09T15:15:53.883159Z",
     "start_time": "2024-01-09T15:15:53.878349Z"
    }
   },
   "outputs": [
    {
     "data": {
      "text/html": [
       "<div>\n",
       "<style scoped>\n",
       "    .dataframe tbody tr th:only-of-type {\n",
       "        vertical-align: middle;\n",
       "    }\n",
       "\n",
       "    .dataframe tbody tr th {\n",
       "        vertical-align: top;\n",
       "    }\n",
       "\n",
       "    .dataframe thead th {\n",
       "        text-align: right;\n",
       "    }\n",
       "</style>\n",
       "<table border=\"1\" class=\"dataframe\">\n",
       "  <thead>\n",
       "    <tr style=\"text-align: right;\">\n",
       "      <th></th>\n",
       "      <th>MOVIEID</th>\n",
       "      <th>TITLE</th>\n",
       "      <th>GENRES</th>\n",
       "    </tr>\n",
       "  </thead>\n",
       "  <tbody>\n",
       "    <tr>\n",
       "      <th>0</th>\n",
       "      <td>1</td>\n",
       "      <td>Toy Story (1995)</td>\n",
       "      <td>Adventure|Animation|Children|Comedy|Fantasy</td>\n",
       "    </tr>\n",
       "    <tr>\n",
       "      <th>1</th>\n",
       "      <td>2</td>\n",
       "      <td>Jumanji (1995)</td>\n",
       "      <td>Adventure|Children|Fantasy</td>\n",
       "    </tr>\n",
       "    <tr>\n",
       "      <th>2</th>\n",
       "      <td>3</td>\n",
       "      <td>Grumpier Old Men (1995)</td>\n",
       "      <td>Comedy|Romance</td>\n",
       "    </tr>\n",
       "    <tr>\n",
       "      <th>3</th>\n",
       "      <td>4</td>\n",
       "      <td>Waiting to Exhale (1995)</td>\n",
       "      <td>Comedy|Drama|Romance</td>\n",
       "    </tr>\n",
       "    <tr>\n",
       "      <th>4</th>\n",
       "      <td>5</td>\n",
       "      <td>Father of the Bride Part II (1995)</td>\n",
       "      <td>Comedy</td>\n",
       "    </tr>\n",
       "  </tbody>\n",
       "</table>\n",
       "</div>"
      ],
      "text/plain": [
       "   MOVIEID                               TITLE  \\\n",
       "0        1                    Toy Story (1995)   \n",
       "1        2                      Jumanji (1995)   \n",
       "2        3             Grumpier Old Men (1995)   \n",
       "3        4            Waiting to Exhale (1995)   \n",
       "4        5  Father of the Bride Part II (1995)   \n",
       "\n",
       "                                        GENRES  \n",
       "0  Adventure|Animation|Children|Comedy|Fantasy  \n",
       "1                   Adventure|Children|Fantasy  \n",
       "2                               Comedy|Romance  \n",
       "3                         Comedy|Drama|Romance  \n",
       "4                                       Comedy  "
      ]
     },
     "execution_count": 8,
     "metadata": {},
     "output_type": "execute_result"
    }
   ],
   "source": [
    "movies.columns = [col.upper() for col in movies.columns]\n",
    "movies.head()"
   ]
  },
  {
   "cell_type": "code",
   "execution_count": 9,
   "id": "9129d676",
   "metadata": {
    "ExecuteTime": {
     "end_time": "2024-01-09T15:15:53.985085Z",
     "start_time": "2024-01-09T15:15:53.884167Z"
    }
   },
   "outputs": [],
   "source": [
    "movies['REALEASE'] = movies['TITLE'].str.extract(\"\\((\\d{4})\\)\", expand=True)\n",
    "movies['REALEASE'] = pd.to_datetime(movies['REALEASE'], format='%Y')\n",
    "movies['REALEASE'] = movies['REALEASE'].dt.year\n",
    "movies['TITLE'] = movies['TITLE'].str[:-7]"
   ]
  },
  {
   "cell_type": "code",
   "execution_count": 10,
   "id": "17b93cb4",
   "metadata": {
    "ExecuteTime": {
     "end_time": "2024-01-09T15:15:53.990611Z",
     "start_time": "2024-01-09T15:15:53.987171Z"
    }
   },
   "outputs": [
    {
     "data": {
      "text/html": [
       "<div>\n",
       "<style scoped>\n",
       "    .dataframe tbody tr th:only-of-type {\n",
       "        vertical-align: middle;\n",
       "    }\n",
       "\n",
       "    .dataframe tbody tr th {\n",
       "        vertical-align: top;\n",
       "    }\n",
       "\n",
       "    .dataframe thead th {\n",
       "        text-align: right;\n",
       "    }\n",
       "</style>\n",
       "<table border=\"1\" class=\"dataframe\">\n",
       "  <thead>\n",
       "    <tr style=\"text-align: right;\">\n",
       "      <th></th>\n",
       "      <th>MOVIEID</th>\n",
       "      <th>TITLE</th>\n",
       "      <th>GENRES</th>\n",
       "      <th>REALEASE</th>\n",
       "    </tr>\n",
       "  </thead>\n",
       "  <tbody>\n",
       "    <tr>\n",
       "      <th>0</th>\n",
       "      <td>1</td>\n",
       "      <td>Toy Story</td>\n",
       "      <td>Adventure|Animation|Children|Comedy|Fantasy</td>\n",
       "      <td>1995.0</td>\n",
       "    </tr>\n",
       "    <tr>\n",
       "      <th>1</th>\n",
       "      <td>2</td>\n",
       "      <td>Jumanji</td>\n",
       "      <td>Adventure|Children|Fantasy</td>\n",
       "      <td>1995.0</td>\n",
       "    </tr>\n",
       "    <tr>\n",
       "      <th>2</th>\n",
       "      <td>3</td>\n",
       "      <td>Grumpier Old Men</td>\n",
       "      <td>Comedy|Romance</td>\n",
       "      <td>1995.0</td>\n",
       "    </tr>\n",
       "    <tr>\n",
       "      <th>3</th>\n",
       "      <td>4</td>\n",
       "      <td>Waiting to Exhale</td>\n",
       "      <td>Comedy|Drama|Romance</td>\n",
       "      <td>1995.0</td>\n",
       "    </tr>\n",
       "    <tr>\n",
       "      <th>4</th>\n",
       "      <td>5</td>\n",
       "      <td>Father of the Bride Part II</td>\n",
       "      <td>Comedy</td>\n",
       "      <td>1995.0</td>\n",
       "    </tr>\n",
       "  </tbody>\n",
       "</table>\n",
       "</div>"
      ],
      "text/plain": [
       "   MOVIEID                        TITLE  \\\n",
       "0        1                    Toy Story   \n",
       "1        2                      Jumanji   \n",
       "2        3             Grumpier Old Men   \n",
       "3        4            Waiting to Exhale   \n",
       "4        5  Father of the Bride Part II   \n",
       "\n",
       "                                        GENRES  REALEASE  \n",
       "0  Adventure|Animation|Children|Comedy|Fantasy    1995.0  \n",
       "1                   Adventure|Children|Fantasy    1995.0  \n",
       "2                               Comedy|Romance    1995.0  \n",
       "3                         Comedy|Drama|Romance    1995.0  \n",
       "4                                       Comedy    1995.0  "
      ]
     },
     "execution_count": 10,
     "metadata": {},
     "output_type": "execute_result"
    }
   ],
   "source": [
    "movies.head()"
   ]
  },
  {
   "cell_type": "code",
   "execution_count": 11,
   "id": "fcf0b520",
   "metadata": {
    "ExecuteTime": {
     "end_time": "2024-01-09T15:15:54.267024Z",
     "start_time": "2024-01-09T15:15:53.991336Z"
    }
   },
   "outputs": [],
   "source": [
    "dfx = movies['GENRES'].str.get_dummies(sep='|')\n",
    "for col in dfx.columns:\n",
    "    dfx[col] = dfx[col].astype('int8')\n"
   ]
  },
  {
   "cell_type": "code",
   "execution_count": 12,
   "id": "c1a6946c",
   "metadata": {
    "ExecuteTime": {
     "end_time": "2024-01-09T15:15:54.326123Z",
     "start_time": "2024-01-09T15:15:54.267914Z"
    }
   },
   "outputs": [],
   "source": [
    "movies = pd.concat([movies, dfx], axis=1) #.drop(columns=['GENRES'])\n",
    "movies['TITLE'] = movies['TITLE'].astype('category')\n",
    "movies['REALEASE'] = movies['REALEASE'].astype('float16')"
   ]
  },
  {
   "cell_type": "code",
   "execution_count": 13,
   "id": "14986849",
   "metadata": {
    "ExecuteTime": {
     "end_time": "2024-01-09T15:15:54.339971Z",
     "start_time": "2024-01-09T15:15:54.326848Z"
    }
   },
   "outputs": [],
   "source": [
    "movies['GENRES'] = movies['GENRES'].str.replace('|', ',')"
   ]
  },
  {
   "cell_type": "code",
   "execution_count": 14,
   "id": "ade07a2f",
   "metadata": {
    "ExecuteTime": {
     "end_time": "2024-01-09T15:15:54.346853Z",
     "start_time": "2024-01-09T15:15:54.340738Z"
    }
   },
   "outputs": [
    {
     "data": {
      "text/html": [
       "<div>\n",
       "<style scoped>\n",
       "    .dataframe tbody tr th:only-of-type {\n",
       "        vertical-align: middle;\n",
       "    }\n",
       "\n",
       "    .dataframe tbody tr th {\n",
       "        vertical-align: top;\n",
       "    }\n",
       "\n",
       "    .dataframe thead th {\n",
       "        text-align: right;\n",
       "    }\n",
       "</style>\n",
       "<table border=\"1\" class=\"dataframe\">\n",
       "  <thead>\n",
       "    <tr style=\"text-align: right;\">\n",
       "      <th></th>\n",
       "      <th>MOVIEID</th>\n",
       "      <th>TITLE</th>\n",
       "      <th>GENRES</th>\n",
       "      <th>REALEASE</th>\n",
       "      <th>(no genres listed)</th>\n",
       "      <th>Action</th>\n",
       "      <th>Adventure</th>\n",
       "      <th>Animation</th>\n",
       "      <th>Children</th>\n",
       "      <th>Comedy</th>\n",
       "      <th>...</th>\n",
       "      <th>Film-Noir</th>\n",
       "      <th>Horror</th>\n",
       "      <th>IMAX</th>\n",
       "      <th>Musical</th>\n",
       "      <th>Mystery</th>\n",
       "      <th>Romance</th>\n",
       "      <th>Sci-Fi</th>\n",
       "      <th>Thriller</th>\n",
       "      <th>War</th>\n",
       "      <th>Western</th>\n",
       "    </tr>\n",
       "  </thead>\n",
       "  <tbody>\n",
       "    <tr>\n",
       "      <th>0</th>\n",
       "      <td>1</td>\n",
       "      <td>Toy Story</td>\n",
       "      <td>Adventure,Animation,Children,Comedy,Fantasy</td>\n",
       "      <td>1995.0</td>\n",
       "      <td>0</td>\n",
       "      <td>0</td>\n",
       "      <td>1</td>\n",
       "      <td>1</td>\n",
       "      <td>1</td>\n",
       "      <td>1</td>\n",
       "      <td>...</td>\n",
       "      <td>0</td>\n",
       "      <td>0</td>\n",
       "      <td>0</td>\n",
       "      <td>0</td>\n",
       "      <td>0</td>\n",
       "      <td>0</td>\n",
       "      <td>0</td>\n",
       "      <td>0</td>\n",
       "      <td>0</td>\n",
       "      <td>0</td>\n",
       "    </tr>\n",
       "    <tr>\n",
       "      <th>1</th>\n",
       "      <td>2</td>\n",
       "      <td>Jumanji</td>\n",
       "      <td>Adventure,Children,Fantasy</td>\n",
       "      <td>1995.0</td>\n",
       "      <td>0</td>\n",
       "      <td>0</td>\n",
       "      <td>1</td>\n",
       "      <td>0</td>\n",
       "      <td>1</td>\n",
       "      <td>0</td>\n",
       "      <td>...</td>\n",
       "      <td>0</td>\n",
       "      <td>0</td>\n",
       "      <td>0</td>\n",
       "      <td>0</td>\n",
       "      <td>0</td>\n",
       "      <td>0</td>\n",
       "      <td>0</td>\n",
       "      <td>0</td>\n",
       "      <td>0</td>\n",
       "      <td>0</td>\n",
       "    </tr>\n",
       "    <tr>\n",
       "      <th>2</th>\n",
       "      <td>3</td>\n",
       "      <td>Grumpier Old Men</td>\n",
       "      <td>Comedy,Romance</td>\n",
       "      <td>1995.0</td>\n",
       "      <td>0</td>\n",
       "      <td>0</td>\n",
       "      <td>0</td>\n",
       "      <td>0</td>\n",
       "      <td>0</td>\n",
       "      <td>1</td>\n",
       "      <td>...</td>\n",
       "      <td>0</td>\n",
       "      <td>0</td>\n",
       "      <td>0</td>\n",
       "      <td>0</td>\n",
       "      <td>0</td>\n",
       "      <td>1</td>\n",
       "      <td>0</td>\n",
       "      <td>0</td>\n",
       "      <td>0</td>\n",
       "      <td>0</td>\n",
       "    </tr>\n",
       "    <tr>\n",
       "      <th>3</th>\n",
       "      <td>4</td>\n",
       "      <td>Waiting to Exhale</td>\n",
       "      <td>Comedy,Drama,Romance</td>\n",
       "      <td>1995.0</td>\n",
       "      <td>0</td>\n",
       "      <td>0</td>\n",
       "      <td>0</td>\n",
       "      <td>0</td>\n",
       "      <td>0</td>\n",
       "      <td>1</td>\n",
       "      <td>...</td>\n",
       "      <td>0</td>\n",
       "      <td>0</td>\n",
       "      <td>0</td>\n",
       "      <td>0</td>\n",
       "      <td>0</td>\n",
       "      <td>1</td>\n",
       "      <td>0</td>\n",
       "      <td>0</td>\n",
       "      <td>0</td>\n",
       "      <td>0</td>\n",
       "    </tr>\n",
       "    <tr>\n",
       "      <th>4</th>\n",
       "      <td>5</td>\n",
       "      <td>Father of the Bride Part II</td>\n",
       "      <td>Comedy</td>\n",
       "      <td>1995.0</td>\n",
       "      <td>0</td>\n",
       "      <td>0</td>\n",
       "      <td>0</td>\n",
       "      <td>0</td>\n",
       "      <td>0</td>\n",
       "      <td>1</td>\n",
       "      <td>...</td>\n",
       "      <td>0</td>\n",
       "      <td>0</td>\n",
       "      <td>0</td>\n",
       "      <td>0</td>\n",
       "      <td>0</td>\n",
       "      <td>0</td>\n",
       "      <td>0</td>\n",
       "      <td>0</td>\n",
       "      <td>0</td>\n",
       "      <td>0</td>\n",
       "    </tr>\n",
       "  </tbody>\n",
       "</table>\n",
       "<p>5 rows × 24 columns</p>\n",
       "</div>"
      ],
      "text/plain": [
       "   MOVIEID                        TITLE  \\\n",
       "0        1                    Toy Story   \n",
       "1        2                      Jumanji   \n",
       "2        3             Grumpier Old Men   \n",
       "3        4            Waiting to Exhale   \n",
       "4        5  Father of the Bride Part II   \n",
       "\n",
       "                                        GENRES  REALEASE  (no genres listed)  \\\n",
       "0  Adventure,Animation,Children,Comedy,Fantasy    1995.0                   0   \n",
       "1                   Adventure,Children,Fantasy    1995.0                   0   \n",
       "2                               Comedy,Romance    1995.0                   0   \n",
       "3                         Comedy,Drama,Romance    1995.0                   0   \n",
       "4                                       Comedy    1995.0                   0   \n",
       "\n",
       "   Action  Adventure  Animation  Children  Comedy  ...  Film-Noir  Horror  \\\n",
       "0       0          1          1         1       1  ...          0       0   \n",
       "1       0          1          0         1       0  ...          0       0   \n",
       "2       0          0          0         0       1  ...          0       0   \n",
       "3       0          0          0         0       1  ...          0       0   \n",
       "4       0          0          0         0       1  ...          0       0   \n",
       "\n",
       "   IMAX  Musical  Mystery  Romance  Sci-Fi  Thriller  War  Western  \n",
       "0     0        0        0        0       0         0    0        0  \n",
       "1     0        0        0        0       0         0    0        0  \n",
       "2     0        0        0        1       0         0    0        0  \n",
       "3     0        0        0        1       0         0    0        0  \n",
       "4     0        0        0        0       0         0    0        0  \n",
       "\n",
       "[5 rows x 24 columns]"
      ]
     },
     "execution_count": 14,
     "metadata": {},
     "output_type": "execute_result"
    }
   ],
   "source": [
    "movies.head()"
   ]
  },
  {
   "cell_type": "code",
   "execution_count": 15,
   "id": "64aeb5f0",
   "metadata": {
    "ExecuteTime": {
     "end_time": "2024-01-09T15:15:54.350367Z",
     "start_time": "2024-01-09T15:15:54.347609Z"
    }
   },
   "outputs": [
    {
     "data": {
      "text/html": [
       "<div>\n",
       "<style scoped>\n",
       "    .dataframe tbody tr th:only-of-type {\n",
       "        vertical-align: middle;\n",
       "    }\n",
       "\n",
       "    .dataframe tbody tr th {\n",
       "        vertical-align: top;\n",
       "    }\n",
       "\n",
       "    .dataframe thead th {\n",
       "        text-align: right;\n",
       "    }\n",
       "</style>\n",
       "<table border=\"1\" class=\"dataframe\">\n",
       "  <thead>\n",
       "    <tr style=\"text-align: right;\">\n",
       "      <th></th>\n",
       "      <th>USERID</th>\n",
       "      <th>MOVIEID</th>\n",
       "      <th>RATING</th>\n",
       "      <th>TIMESTAMP</th>\n",
       "    </tr>\n",
       "  </thead>\n",
       "  <tbody>\n",
       "    <tr>\n",
       "      <th>0</th>\n",
       "      <td>1</td>\n",
       "      <td>1</td>\n",
       "      <td>4.0</td>\n",
       "      <td>1225734739</td>\n",
       "    </tr>\n",
       "    <tr>\n",
       "      <th>1</th>\n",
       "      <td>1</td>\n",
       "      <td>110</td>\n",
       "      <td>4.0</td>\n",
       "      <td>1225865086</td>\n",
       "    </tr>\n",
       "    <tr>\n",
       "      <th>2</th>\n",
       "      <td>1</td>\n",
       "      <td>158</td>\n",
       "      <td>4.0</td>\n",
       "      <td>1225733503</td>\n",
       "    </tr>\n",
       "    <tr>\n",
       "      <th>3</th>\n",
       "      <td>1</td>\n",
       "      <td>260</td>\n",
       "      <td>4.5</td>\n",
       "      <td>1225735204</td>\n",
       "    </tr>\n",
       "    <tr>\n",
       "      <th>4</th>\n",
       "      <td>1</td>\n",
       "      <td>356</td>\n",
       "      <td>5.0</td>\n",
       "      <td>1225735119</td>\n",
       "    </tr>\n",
       "  </tbody>\n",
       "</table>\n",
       "</div>"
      ],
      "text/plain": [
       "   USERID  MOVIEID  RATING   TIMESTAMP\n",
       "0       1        1     4.0  1225734739\n",
       "1       1      110     4.0  1225865086\n",
       "2       1      158     4.0  1225733503\n",
       "3       1      260     4.5  1225735204\n",
       "4       1      356     5.0  1225735119"
      ]
     },
     "execution_count": 15,
     "metadata": {},
     "output_type": "execute_result"
    }
   ],
   "source": [
    "rating.columns = [col.upper() for col in rating.columns]\n",
    "rating.head()"
   ]
  },
  {
   "cell_type": "markdown",
   "id": "ad5e78a9",
   "metadata": {},
   "source": [
    "# Обработка полей"
   ]
  },
  {
   "cell_type": "code",
   "execution_count": 16,
   "id": "ad0c0e33",
   "metadata": {
    "ExecuteTime": {
     "end_time": "2024-01-09T15:15:54.682739Z",
     "start_time": "2024-01-09T15:15:54.351019Z"
    }
   },
   "outputs": [],
   "source": [
    "rating['TIMESTAMP'] = pd.to_datetime(rating['TIMESTAMP'], unit='s')"
   ]
  },
  {
   "cell_type": "code",
   "execution_count": 17,
   "id": "8800cf6b",
   "metadata": {
    "ExecuteTime": {
     "end_time": "2024-01-09T15:15:54.686861Z",
     "start_time": "2024-01-09T15:15:54.683508Z"
    }
   },
   "outputs": [
    {
     "data": {
      "text/html": [
       "<div>\n",
       "<style scoped>\n",
       "    .dataframe tbody tr th:only-of-type {\n",
       "        vertical-align: middle;\n",
       "    }\n",
       "\n",
       "    .dataframe tbody tr th {\n",
       "        vertical-align: top;\n",
       "    }\n",
       "\n",
       "    .dataframe thead th {\n",
       "        text-align: right;\n",
       "    }\n",
       "</style>\n",
       "<table border=\"1\" class=\"dataframe\">\n",
       "  <thead>\n",
       "    <tr style=\"text-align: right;\">\n",
       "      <th></th>\n",
       "      <th>USERID</th>\n",
       "      <th>MOVIEID</th>\n",
       "      <th>RATING</th>\n",
       "      <th>TIMESTAMP</th>\n",
       "    </tr>\n",
       "  </thead>\n",
       "  <tbody>\n",
       "    <tr>\n",
       "      <th>0</th>\n",
       "      <td>1</td>\n",
       "      <td>1</td>\n",
       "      <td>4.0</td>\n",
       "      <td>2008-11-03 17:52:19</td>\n",
       "    </tr>\n",
       "    <tr>\n",
       "      <th>1</th>\n",
       "      <td>1</td>\n",
       "      <td>110</td>\n",
       "      <td>4.0</td>\n",
       "      <td>2008-11-05 06:04:46</td>\n",
       "    </tr>\n",
       "    <tr>\n",
       "      <th>2</th>\n",
       "      <td>1</td>\n",
       "      <td>158</td>\n",
       "      <td>4.0</td>\n",
       "      <td>2008-11-03 17:31:43</td>\n",
       "    </tr>\n",
       "    <tr>\n",
       "      <th>3</th>\n",
       "      <td>1</td>\n",
       "      <td>260</td>\n",
       "      <td>4.5</td>\n",
       "      <td>2008-11-03 18:00:04</td>\n",
       "    </tr>\n",
       "    <tr>\n",
       "      <th>4</th>\n",
       "      <td>1</td>\n",
       "      <td>356</td>\n",
       "      <td>5.0</td>\n",
       "      <td>2008-11-03 17:58:39</td>\n",
       "    </tr>\n",
       "  </tbody>\n",
       "</table>\n",
       "</div>"
      ],
      "text/plain": [
       "   USERID  MOVIEID  RATING           TIMESTAMP\n",
       "0       1        1     4.0 2008-11-03 17:52:19\n",
       "1       1      110     4.0 2008-11-05 06:04:46\n",
       "2       1      158     4.0 2008-11-03 17:31:43\n",
       "3       1      260     4.5 2008-11-03 18:00:04\n",
       "4       1      356     5.0 2008-11-03 17:58:39"
      ]
     },
     "execution_count": 17,
     "metadata": {},
     "output_type": "execute_result"
    }
   ],
   "source": [
    "rating.head()"
   ]
  },
  {
   "cell_type": "markdown",
   "id": "e58fe25d",
   "metadata": {},
   "source": [
    "<font color='red'> **Убрал записи  пустыми значениями ~3298, это около 0.01%, фигня короче, можно сносить.** </font>"
   ]
  },
  {
   "cell_type": "code",
   "execution_count": 18,
   "id": "14787f95",
   "metadata": {
    "ExecuteTime": {
     "end_time": "2024-01-09T15:15:54.689266Z",
     "start_time": "2024-01-09T15:15:54.687496Z"
    }
   },
   "outputs": [
    {
     "data": {
      "text/plain": [
       "(33832162, 4)"
      ]
     },
     "execution_count": 18,
     "metadata": {},
     "output_type": "execute_result"
    }
   ],
   "source": [
    "rating.shape"
   ]
  },
  {
   "cell_type": "code",
   "execution_count": 19,
   "id": "6a3e63d3",
   "metadata": {
    "ExecuteTime": {
     "end_time": "2024-01-09T15:15:55.337906Z",
     "start_time": "2024-01-09T15:15:54.689970Z"
    }
   },
   "outputs": [],
   "source": [
    "rating = rating[~((rating.TIMESTAMP.isna())|(rating.USERID.isna())|(rating.RATING.isna()))]"
   ]
  },
  {
   "cell_type": "code",
   "execution_count": 20,
   "id": "fbebb6a0",
   "metadata": {
    "ExecuteTime": {
     "end_time": "2024-01-09T15:16:03.596833Z",
     "start_time": "2024-01-09T15:15:55.338788Z"
    }
   },
   "outputs": [
    {
     "data": {
      "text/html": [
       "<div>\n",
       "<style scoped>\n",
       "    .dataframe tbody tr th:only-of-type {\n",
       "        vertical-align: middle;\n",
       "    }\n",
       "\n",
       "    .dataframe tbody tr th {\n",
       "        vertical-align: top;\n",
       "    }\n",
       "\n",
       "    .dataframe thead th {\n",
       "        text-align: right;\n",
       "    }\n",
       "</style>\n",
       "<table border=\"1\" class=\"dataframe\">\n",
       "  <thead>\n",
       "    <tr style=\"text-align: right;\">\n",
       "      <th></th>\n",
       "      <th>index</th>\n",
       "      <th>USERID</th>\n",
       "    </tr>\n",
       "  </thead>\n",
       "  <tbody>\n",
       "    <tr>\n",
       "      <th>0</th>\n",
       "      <td>189614</td>\n",
       "      <td>33332</td>\n",
       "    </tr>\n",
       "    <tr>\n",
       "      <th>1</th>\n",
       "      <td>48766</td>\n",
       "      <td>9554</td>\n",
       "    </tr>\n",
       "    <tr>\n",
       "      <th>2</th>\n",
       "      <td>207216</td>\n",
       "      <td>9178</td>\n",
       "    </tr>\n",
       "    <tr>\n",
       "      <th>3</th>\n",
       "      <td>175998</td>\n",
       "      <td>9016</td>\n",
       "    </tr>\n",
       "    <tr>\n",
       "      <th>4</th>\n",
       "      <td>76618</td>\n",
       "      <td>8919</td>\n",
       "    </tr>\n",
       "  </tbody>\n",
       "</table>\n",
       "</div>"
      ],
      "text/plain": [
       "    index  USERID\n",
       "0  189614   33332\n",
       "1   48766    9554\n",
       "2  207216    9178\n",
       "3  175998    9016\n",
       "4   76618    8919"
      ]
     },
     "execution_count": 20,
     "metadata": {},
     "output_type": "execute_result"
    }
   ],
   "source": [
    "rating['USERID'].astype(str).value_counts().reset_index()[:5] "
   ]
  },
  {
   "cell_type": "code",
   "execution_count": 21,
   "id": "62a475d2",
   "metadata": {
    "ExecuteTime": {
     "end_time": "2024-01-09T15:16:04.443223Z",
     "start_time": "2024-01-09T15:16:03.597807Z"
    }
   },
   "outputs": [
    {
     "name": "stdout",
     "output_type": "stream",
     "text": [
      "(33832162, 4)\n",
      "(33798830, 4)\n"
     ]
    }
   ],
   "source": [
    "# при eda нашла странного юзера, уберем его при построении\n",
    "print(rating.shape)\n",
    "rating.query('USERID != 189614', inplace = True)\n",
    "print(rating.shape)"
   ]
  },
  {
   "cell_type": "markdown",
   "id": "f36bf73c",
   "metadata": {},
   "source": [
    "# Collaborative Filtering"
   ]
  },
  {
   "cell_type": "code",
   "execution_count": 28,
   "id": "a1aaf216",
   "metadata": {
    "ExecuteTime": {
     "end_time": "2024-01-09T15:16:34.505361Z",
     "start_time": "2024-01-09T15:16:34.499544Z"
    }
   },
   "outputs": [],
   "source": [
    "def train_test(df, n_days):\n",
    "    df['weight'] = np.where(df['RATING'] >= 4, 1, 0)\n",
    "    train_df = df.loc[df['datetime'] < df['datetime'].max() - pd.DateOffset(days=n_days),\n",
    "                     ['item_id', 'user_id', 'weight', 'datetime']].copy()\n",
    "    test_df = df.loc[df['datetime'] >= df['datetime'].max() - pd.DateOffset(days=n_days),\n",
    "                    ['item_id', 'user_id', 'weight', 'datetime']].copy()\n",
    "\n",
    "    return train_df, test_df"
   ]
  },
  {
   "cell_type": "code",
   "execution_count": 23,
   "id": "3e18fcdf",
   "metadata": {
    "ExecuteTime": {
     "end_time": "2024-01-09T15:16:04.449476Z",
     "start_time": "2024-01-09T15:16:04.447025Z"
    }
   },
   "outputs": [],
   "source": [
    "class KNN_ML():\n",
    "\n",
    "    def __init__(self, model = None, df = None):\n",
    "        if model is None:\n",
    "            self.model = ImplicitItemKNNWrapperModel(TFIDFRecommender(K=10))\n",
    "        else:\n",
    "            self.model = model\n",
    "        \n",
    "        self.df = df\n",
    "        \n",
    "    def fit(self, df_train):\n",
    "        \"\"\"\n",
    "            Обучение модели knn\n",
    "        \"\"\"\n",
    "        self.model.fit(df_train)\n",
    "\n",
    "    def recommend(self, df_train, k):\n",
    "        \"\"\"\n",
    "            Расчет рекомендаций\n",
    "        \"\"\"\n",
    "        prediction = self.model.recommend(users = self.df['user_id'].unique(), \n",
    "                                          dataset=df_train,\n",
    "                                          k = k,\n",
    "                                          filter_viewed = True\n",
    "                                        )\n",
    "        return prediction"
   ]
  },
  {
   "cell_type": "code",
   "execution_count": 25,
   "id": "6741fdbe",
   "metadata": {
    "ExecuteTime": {
     "end_time": "2024-01-09T15:16:04.455654Z",
     "start_time": "2024-01-09T15:16:04.452745Z"
    }
   },
   "outputs": [],
   "source": [
    "rating.rename({'USERID':'user_id',\n",
    "            'MOVIEID':'item_id',\n",
    "            #'RATING':'weight',\n",
    "            'TIMESTAMP':'datetime'}, axis=1, inplace=True)"
   ]
  },
  {
   "cell_type": "code",
   "execution_count": 30,
   "id": "9aec3032",
   "metadata": {
    "ExecuteTime": {
     "end_time": "2024-01-09T15:16:44.107496Z",
     "start_time": "2024-01-09T15:16:42.328901Z"
    }
   },
   "outputs": [],
   "source": [
    "train_df, test_df = train_test(rating, 180)"
   ]
  },
  {
   "cell_type": "code",
   "execution_count": 31,
   "id": "d3a18370",
   "metadata": {
    "ExecuteTime": {
     "end_time": "2024-01-09T15:16:50.683598Z",
     "start_time": "2024-01-09T15:16:49.698860Z"
    }
   },
   "outputs": [],
   "source": [
    "train = Dataset.construct(train_df)"
   ]
  },
  {
   "cell_type": "code",
   "execution_count": 32,
   "id": "24f6775a",
   "metadata": {
    "ExecuteTime": {
     "end_time": "2024-01-09T15:16:50.699316Z",
     "start_time": "2024-01-09T15:16:50.684691Z"
    }
   },
   "outputs": [],
   "source": [
    "test = Dataset.construct(test_df)"
   ]
  },
  {
   "cell_type": "code",
   "execution_count": 33,
   "id": "425eb290",
   "metadata": {
    "ExecuteTime": {
     "end_time": "2024-01-09T15:16:50.701691Z",
     "start_time": "2024-01-09T15:16:50.700162Z"
    }
   },
   "outputs": [],
   "source": [
    "model = ImplicitItemKNNWrapperModel(TFIDFRecommender(K=10))\n",
    "\n",
    "knn_model = KNN_ML(model, train_df)"
   ]
  },
  {
   "cell_type": "code",
   "execution_count": 34,
   "id": "1c4b4574",
   "metadata": {
    "ExecuteTime": {
     "end_time": "2024-01-09T15:17:28.131836Z",
     "start_time": "2024-01-09T15:16:50.702913Z"
    }
   },
   "outputs": [],
   "source": [
    "knn_model.fit(train)"
   ]
  },
  {
   "cell_type": "code",
   "execution_count": 35,
   "id": "ea14b822",
   "metadata": {
    "ExecuteTime": {
     "end_time": "2024-01-09T15:17:55.613445Z",
     "start_time": "2024-01-09T15:17:28.136457Z"
    }
   },
   "outputs": [],
   "source": [
    "recos = knn_model.recommend(train, k=10)"
   ]
  },
  {
   "cell_type": "code",
   "execution_count": 37,
   "id": "d38a4436",
   "metadata": {
    "ExecuteTime": {
     "end_time": "2024-01-10T10:06:56.856872Z",
     "start_time": "2024-01-10T10:06:56.851734Z"
    }
   },
   "outputs": [],
   "source": [
    "precision = Precision(k=10)"
   ]
  },
  {
   "cell_type": "code",
   "execution_count": 38,
   "id": "1c8114cb",
   "metadata": {
    "ExecuteTime": {
     "end_time": "2024-01-10T10:06:58.646642Z",
     "start_time": "2024-01-10T10:06:58.641646Z"
    }
   },
   "outputs": [],
   "source": [
    "metrics = {\n",
    "    \"precision\": precision\n",
    "}"
   ]
  },
  {
   "cell_type": "code",
   "execution_count": 40,
   "id": "867e3ac2",
   "metadata": {
    "ExecuteTime": {
     "end_time": "2024-01-10T10:08:08.832432Z",
     "start_time": "2024-01-10T10:08:07.731251Z"
    }
   },
   "outputs": [
    {
     "data": {
      "text/plain": [
       "{'precision': 0.0005412252418240442}"
      ]
     },
     "execution_count": 40,
     "metadata": {},
     "output_type": "execute_result"
    }
   ],
   "source": [
    "calc_metrics(\n",
    "    metrics,\n",
    "    reco=recos,\n",
    "    interactions=test_df,\n",
    "    prev_interactions=train_df,\n",
    "    catalog=train_df[Columns.Item].unique()\n",
    ")"
   ]
  },
  {
   "cell_type": "code",
   "execution_count": 63,
   "id": "aeae8e05",
   "metadata": {
    "ExecuteTime": {
     "end_time": "2024-01-07T19:08:08.730600Z",
     "start_time": "2024-01-07T19:08:08.683080Z"
    }
   },
   "outputs": [],
   "source": [
    "del df_test, df_train"
   ]
  },
  {
   "cell_type": "code",
   "execution_count": null,
   "id": "c3cc1f36",
   "metadata": {},
   "outputs": [],
   "source": []
  },
  {
   "cell_type": "code",
   "execution_count": null,
   "id": "32da1db4",
   "metadata": {},
   "outputs": [],
   "source": []
  },
  {
   "cell_type": "code",
   "execution_count": null,
   "id": "d6fee2f3",
   "metadata": {},
   "outputs": [],
   "source": []
  },
  {
   "cell_type": "code",
   "execution_count": null,
   "id": "40e84014",
   "metadata": {},
   "outputs": [],
   "source": []
  }
 ],
 "metadata": {
  "kernelspec": {
   "display_name": "Python 3 (ipykernel)",
   "language": "python",
   "name": "python3"
  },
  "language_info": {
   "codemirror_mode": {
    "name": "ipython",
    "version": 3
   },
   "file_extension": ".py",
   "mimetype": "text/x-python",
   "name": "python",
   "nbconvert_exporter": "python",
   "pygments_lexer": "ipython3",
   "version": "3.10.13"
  },
  "toc": {
   "base_numbering": 1,
   "nav_menu": {},
   "number_sections": true,
   "sideBar": true,
   "skip_h1_title": false,
   "title_cell": "Table of Contents",
   "title_sidebar": "Contents",
   "toc_cell": false,
   "toc_position": {
    "height": "calc(100% - 180px)",
    "left": "10px",
    "top": "150px",
    "width": "270px"
   },
   "toc_section_display": true,
   "toc_window_display": true
  },
  "varInspector": {
   "cols": {
    "lenName": 16,
    "lenType": 16,
    "lenVar": 40
   },
   "kernels_config": {
    "python": {
     "delete_cmd_postfix": "",
     "delete_cmd_prefix": "del ",
     "library": "var_list.py",
     "varRefreshCmd": "print(var_dic_list())"
    },
    "r": {
     "delete_cmd_postfix": ") ",
     "delete_cmd_prefix": "rm(",
     "library": "var_list.r",
     "varRefreshCmd": "cat(var_dic_list()) "
    }
   },
   "types_to_exclude": [
    "module",
    "function",
    "builtin_function_or_method",
    "instance",
    "_Feature"
   ],
   "window_display": false
  }
 },
 "nbformat": 4,
 "nbformat_minor": 5
}
