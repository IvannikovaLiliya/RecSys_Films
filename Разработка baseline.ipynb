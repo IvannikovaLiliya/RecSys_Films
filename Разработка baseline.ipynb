{
 "cells": [
  {
   "cell_type": "code",
   "execution_count": 1,
   "id": "74d57851",
   "metadata": {
    "ExecuteTime": {
     "end_time": "2023-12-05T19:53:57.190258Z",
     "start_time": "2023-12-05T19:53:56.036501Z"
    }
   },
   "outputs": [
    {
     "data": {
      "text/html": [
       "        <script type=\"text/javascript\">\n",
       "        window.PlotlyConfig = {MathJaxConfig: 'local'};\n",
       "        if (window.MathJax && window.MathJax.Hub && window.MathJax.Hub.Config) {window.MathJax.Hub.Config({SVG: {font: \"STIX-Web\"}});}\n",
       "        if (typeof require !== 'undefined') {\n",
       "        require.undef(\"plotly\");\n",
       "        requirejs.config({\n",
       "            paths: {\n",
       "                'plotly': ['https://cdn.plot.ly/plotly-2.27.0.min']\n",
       "            }\n",
       "        });\n",
       "        require(['plotly'], function(Plotly) {\n",
       "            window._Plotly = Plotly;\n",
       "        });\n",
       "        }\n",
       "        </script>\n",
       "        "
      ]
     },
     "metadata": {},
     "output_type": "display_data"
    }
   ],
   "source": [
    "import pandas as pd\n",
    "import plotly.graph_objs as go\n",
    "import string\n",
    "import re\n",
    "import numpy as np\n",
    "import seaborn as sns\n",
    "import matplotlib.pyplot as plt\n",
    "from matplotlib.pyplot import figure\n",
    "import cufflinks as cf\n",
    "from plotly.offline import iplot\n",
    "from tqdm import tqdm\n",
    "\n",
    "from collections import Counter\n",
    "from typing import Dict, Text\n",
    "from ast import literal_eval\n",
    "from datetime import datetime\n",
    "import plotly.express as px\n",
    "\n",
    "cf.go_offline()\n",
    "cf.set_config_file(offline = False, world_readable = True)\n",
    "\n",
    "import plotly.io as pio\n",
    "pio.renderers.default='notebook'\n",
    "\n",
    "import warnings\n",
    "warnings.simplefilter('ignore')"
   ]
  },
  {
   "cell_type": "code",
   "execution_count": 2,
   "id": "33cf6872",
   "metadata": {
    "ExecuteTime": {
     "end_time": "2023-12-05T19:53:57.262077Z",
     "start_time": "2023-12-05T19:53:57.191167Z"
    }
   },
   "outputs": [],
   "source": [
    "from numpy.linalg import svd\n",
    "from sklearn.metrics import accuracy_score\n",
    "from sklearn.model_selection import cross_validate\n",
    "from sklearn.model_selection import train_test_split"
   ]
  },
  {
   "cell_type": "markdown",
   "id": "a09ae255",
   "metadata": {},
   "source": [
    "# 0.IMPORT данных"
   ]
  },
  {
   "cell_type": "code",
   "execution_count": 17,
   "id": "5365982a",
   "metadata": {
    "ExecuteTime": {
     "end_time": "2023-12-05T19:53:57.266309Z",
     "start_time": "2023-12-05T19:53:57.263514Z"
    }
   },
   "outputs": [
    {
     "data": {
      "text/plain": [
       "'C:\\\\Users\\\\Владислав\\\\test_python_scripts\\\\project\\\\test project'"
      ]
     },
     "execution_count": 17,
     "metadata": {},
     "output_type": "execute_result"
    }
   ],
   "source": [
    "import os\n",
    "us = os.getcwd()\n",
    "us"
   ]
  },
  {
   "cell_type": "code",
   "execution_count": 18,
   "id": "cbc2b297",
   "metadata": {
    "ExecuteTime": {
     "end_time": "2023-12-05T19:53:57.313589Z",
     "start_time": "2023-12-05T19:53:57.267019Z"
    }
   },
   "outputs": [],
   "source": [
    "if 'liliyaivannikova' in us:\n",
    "    movies = pd.read_csv(r'/Users/liliyaivannikova/Documents/project/ml-latest/movies.csv')\n",
    "    rating = pd.read_csv(r'/Users/liliyaivannikova/Documents/project/ml-latest/ratings.csv')\n",
    "elif 'Владислав' in us:\n",
    "    movies = pd.read_csv(r'dataset/movies.csv')\n",
    "    rating = pd.read_csv(r'dataset/ratings.csv')"
   ]
  },
  {
   "cell_type": "code",
   "execution_count": 20,
   "id": "1ce21742",
   "metadata": {},
   "outputs": [
    {
     "name": "stdout",
     "output_type": "stream",
     "text": [
      "\n",
      "movies: (86537, 3)\n",
      "rating: (33832162, 4)\n",
      "\n"
     ]
    }
   ],
   "source": [
    "print(f'''\n",
    "movies: {movies.shape}\n",
    "rating: {rating.shape}\n",
    "''')"
   ]
  },
  {
   "cell_type": "code",
   "execution_count": 21,
   "id": "2f1bd9f3",
   "metadata": {
    "ExecuteTime": {
     "end_time": "2023-12-05T19:53:57.319125Z",
     "start_time": "2023-12-05T19:53:57.314577Z"
    }
   },
   "outputs": [
    {
     "data": {
      "text/html": [
       "<div>\n",
       "<style scoped>\n",
       "    .dataframe tbody tr th:only-of-type {\n",
       "        vertical-align: middle;\n",
       "    }\n",
       "\n",
       "    .dataframe tbody tr th {\n",
       "        vertical-align: top;\n",
       "    }\n",
       "\n",
       "    .dataframe thead th {\n",
       "        text-align: right;\n",
       "    }\n",
       "</style>\n",
       "<table border=\"1\" class=\"dataframe\">\n",
       "  <thead>\n",
       "    <tr style=\"text-align: right;\">\n",
       "      <th></th>\n",
       "      <th>MOVIEID</th>\n",
       "      <th>TITLE</th>\n",
       "      <th>GENRES</th>\n",
       "    </tr>\n",
       "  </thead>\n",
       "  <tbody>\n",
       "    <tr>\n",
       "      <th>0</th>\n",
       "      <td>1</td>\n",
       "      <td>Toy Story (1995)</td>\n",
       "      <td>Adventure|Animation|Children|Comedy|Fantasy</td>\n",
       "    </tr>\n",
       "    <tr>\n",
       "      <th>1</th>\n",
       "      <td>2</td>\n",
       "      <td>Jumanji (1995)</td>\n",
       "      <td>Adventure|Children|Fantasy</td>\n",
       "    </tr>\n",
       "    <tr>\n",
       "      <th>2</th>\n",
       "      <td>3</td>\n",
       "      <td>Grumpier Old Men (1995)</td>\n",
       "      <td>Comedy|Romance</td>\n",
       "    </tr>\n",
       "    <tr>\n",
       "      <th>3</th>\n",
       "      <td>4</td>\n",
       "      <td>Waiting to Exhale (1995)</td>\n",
       "      <td>Comedy|Drama|Romance</td>\n",
       "    </tr>\n",
       "    <tr>\n",
       "      <th>4</th>\n",
       "      <td>5</td>\n",
       "      <td>Father of the Bride Part II (1995)</td>\n",
       "      <td>Comedy</td>\n",
       "    </tr>\n",
       "  </tbody>\n",
       "</table>\n",
       "</div>"
      ],
      "text/plain": [
       "   MOVIEID                               TITLE  \\\n",
       "0        1                    Toy Story (1995)   \n",
       "1        2                      Jumanji (1995)   \n",
       "2        3             Grumpier Old Men (1995)   \n",
       "3        4            Waiting to Exhale (1995)   \n",
       "4        5  Father of the Bride Part II (1995)   \n",
       "\n",
       "                                        GENRES  \n",
       "0  Adventure|Animation|Children|Comedy|Fantasy  \n",
       "1                   Adventure|Children|Fantasy  \n",
       "2                               Comedy|Romance  \n",
       "3                         Comedy|Drama|Romance  \n",
       "4                                       Comedy  "
      ]
     },
     "execution_count": 21,
     "metadata": {},
     "output_type": "execute_result"
    }
   ],
   "source": [
    "movies.columns = [col.upper() for col in movies.columns]\n",
    "movies.head()"
   ]
  },
  {
   "cell_type": "code",
   "execution_count": 22,
   "id": "9129d676",
   "metadata": {
    "ExecuteTime": {
     "end_time": "2023-12-05T19:53:57.423035Z",
     "start_time": "2023-12-05T19:53:57.319898Z"
    }
   },
   "outputs": [],
   "source": [
    "movies['REALEASE'] = movies['TITLE'].str.extract(\"\\((\\d{4})\\)\", expand=True)\n",
    "movies['REALEASE'] = pd.to_datetime(movies['REALEASE'], format='%Y')\n",
    "movies['REALEASE'] = movies['REALEASE'].dt.year\n",
    "movies['TITLE'] = movies['TITLE'].str[:-7]"
   ]
  },
  {
   "cell_type": "code",
   "execution_count": 23,
   "id": "fcf0b520",
   "metadata": {
    "ExecuteTime": {
     "end_time": "2023-12-05T19:53:57.744529Z",
     "start_time": "2023-12-05T19:53:57.423699Z"
    }
   },
   "outputs": [],
   "source": [
    "dfx = movies['GENRES'].str.get_dummies(sep='|')\n",
    "for col in dfx.columns:\n",
    "    dfx[col] = dfx[col].astype('int8')\n"
   ]
  },
  {
   "cell_type": "code",
   "execution_count": 24,
   "id": "c1a6946c",
   "metadata": {
    "ExecuteTime": {
     "end_time": "2023-12-05T19:53:57.803979Z",
     "start_time": "2023-12-05T19:53:57.745319Z"
    }
   },
   "outputs": [],
   "source": [
    "movies = pd.concat([movies, dfx], axis=1).drop(columns=['GENRES'])\n",
    "movies['TITLE'] = movies['TITLE'].astype('category')\n",
    "movies['REALEASE'] = movies['REALEASE'].astype('float16')"
   ]
  },
  {
   "cell_type": "code",
   "execution_count": 25,
   "id": "365f3587",
   "metadata": {
    "ExecuteTime": {
     "end_time": "2023-12-05T19:53:57.808346Z",
     "start_time": "2023-12-05T19:53:57.805899Z"
    },
    "scrolled": true
   },
   "outputs": [
    {
     "data": {
      "text/plain": [
       "MOVIEID                  int64\n",
       "TITLE                 category\n",
       "REALEASE               float16\n",
       "(no genres listed)        int8\n",
       "Action                    int8\n",
       "Adventure                 int8\n",
       "Animation                 int8\n",
       "Children                  int8\n",
       "Comedy                    int8\n",
       "Crime                     int8\n",
       "Documentary               int8\n",
       "Drama                     int8\n",
       "Fantasy                   int8\n",
       "Film-Noir                 int8\n",
       "Horror                    int8\n",
       "IMAX                      int8\n",
       "Musical                   int8\n",
       "Mystery                   int8\n",
       "Romance                   int8\n",
       "Sci-Fi                    int8\n",
       "Thriller                  int8\n",
       "War                       int8\n",
       "Western                   int8\n",
       "dtype: object"
      ]
     },
     "execution_count": 25,
     "metadata": {},
     "output_type": "execute_result"
    }
   ],
   "source": [
    "movies.dtypes"
   ]
  },
  {
   "cell_type": "code",
   "execution_count": 26,
   "id": "ade07a2f",
   "metadata": {
    "ExecuteTime": {
     "end_time": "2023-12-05T19:53:57.814301Z",
     "start_time": "2023-12-05T19:53:57.808917Z"
    }
   },
   "outputs": [
    {
     "data": {
      "text/html": [
       "<div>\n",
       "<style scoped>\n",
       "    .dataframe tbody tr th:only-of-type {\n",
       "        vertical-align: middle;\n",
       "    }\n",
       "\n",
       "    .dataframe tbody tr th {\n",
       "        vertical-align: top;\n",
       "    }\n",
       "\n",
       "    .dataframe thead th {\n",
       "        text-align: right;\n",
       "    }\n",
       "</style>\n",
       "<table border=\"1\" class=\"dataframe\">\n",
       "  <thead>\n",
       "    <tr style=\"text-align: right;\">\n",
       "      <th></th>\n",
       "      <th>MOVIEID</th>\n",
       "      <th>TITLE</th>\n",
       "      <th>REALEASE</th>\n",
       "      <th>(no genres listed)</th>\n",
       "      <th>Action</th>\n",
       "      <th>Adventure</th>\n",
       "      <th>Animation</th>\n",
       "      <th>Children</th>\n",
       "      <th>Comedy</th>\n",
       "      <th>Crime</th>\n",
       "      <th>...</th>\n",
       "      <th>Film-Noir</th>\n",
       "      <th>Horror</th>\n",
       "      <th>IMAX</th>\n",
       "      <th>Musical</th>\n",
       "      <th>Mystery</th>\n",
       "      <th>Romance</th>\n",
       "      <th>Sci-Fi</th>\n",
       "      <th>Thriller</th>\n",
       "      <th>War</th>\n",
       "      <th>Western</th>\n",
       "    </tr>\n",
       "  </thead>\n",
       "  <tbody>\n",
       "    <tr>\n",
       "      <th>0</th>\n",
       "      <td>1</td>\n",
       "      <td>Toy Story</td>\n",
       "      <td>1995.0</td>\n",
       "      <td>0</td>\n",
       "      <td>0</td>\n",
       "      <td>1</td>\n",
       "      <td>1</td>\n",
       "      <td>1</td>\n",
       "      <td>1</td>\n",
       "      <td>0</td>\n",
       "      <td>...</td>\n",
       "      <td>0</td>\n",
       "      <td>0</td>\n",
       "      <td>0</td>\n",
       "      <td>0</td>\n",
       "      <td>0</td>\n",
       "      <td>0</td>\n",
       "      <td>0</td>\n",
       "      <td>0</td>\n",
       "      <td>0</td>\n",
       "      <td>0</td>\n",
       "    </tr>\n",
       "    <tr>\n",
       "      <th>1</th>\n",
       "      <td>2</td>\n",
       "      <td>Jumanji</td>\n",
       "      <td>1995.0</td>\n",
       "      <td>0</td>\n",
       "      <td>0</td>\n",
       "      <td>1</td>\n",
       "      <td>0</td>\n",
       "      <td>1</td>\n",
       "      <td>0</td>\n",
       "      <td>0</td>\n",
       "      <td>...</td>\n",
       "      <td>0</td>\n",
       "      <td>0</td>\n",
       "      <td>0</td>\n",
       "      <td>0</td>\n",
       "      <td>0</td>\n",
       "      <td>0</td>\n",
       "      <td>0</td>\n",
       "      <td>0</td>\n",
       "      <td>0</td>\n",
       "      <td>0</td>\n",
       "    </tr>\n",
       "    <tr>\n",
       "      <th>2</th>\n",
       "      <td>3</td>\n",
       "      <td>Grumpier Old Men</td>\n",
       "      <td>1995.0</td>\n",
       "      <td>0</td>\n",
       "      <td>0</td>\n",
       "      <td>0</td>\n",
       "      <td>0</td>\n",
       "      <td>0</td>\n",
       "      <td>1</td>\n",
       "      <td>0</td>\n",
       "      <td>...</td>\n",
       "      <td>0</td>\n",
       "      <td>0</td>\n",
       "      <td>0</td>\n",
       "      <td>0</td>\n",
       "      <td>0</td>\n",
       "      <td>1</td>\n",
       "      <td>0</td>\n",
       "      <td>0</td>\n",
       "      <td>0</td>\n",
       "      <td>0</td>\n",
       "    </tr>\n",
       "    <tr>\n",
       "      <th>3</th>\n",
       "      <td>4</td>\n",
       "      <td>Waiting to Exhale</td>\n",
       "      <td>1995.0</td>\n",
       "      <td>0</td>\n",
       "      <td>0</td>\n",
       "      <td>0</td>\n",
       "      <td>0</td>\n",
       "      <td>0</td>\n",
       "      <td>1</td>\n",
       "      <td>0</td>\n",
       "      <td>...</td>\n",
       "      <td>0</td>\n",
       "      <td>0</td>\n",
       "      <td>0</td>\n",
       "      <td>0</td>\n",
       "      <td>0</td>\n",
       "      <td>1</td>\n",
       "      <td>0</td>\n",
       "      <td>0</td>\n",
       "      <td>0</td>\n",
       "      <td>0</td>\n",
       "    </tr>\n",
       "    <tr>\n",
       "      <th>4</th>\n",
       "      <td>5</td>\n",
       "      <td>Father of the Bride Part II</td>\n",
       "      <td>1995.0</td>\n",
       "      <td>0</td>\n",
       "      <td>0</td>\n",
       "      <td>0</td>\n",
       "      <td>0</td>\n",
       "      <td>0</td>\n",
       "      <td>1</td>\n",
       "      <td>0</td>\n",
       "      <td>...</td>\n",
       "      <td>0</td>\n",
       "      <td>0</td>\n",
       "      <td>0</td>\n",
       "      <td>0</td>\n",
       "      <td>0</td>\n",
       "      <td>0</td>\n",
       "      <td>0</td>\n",
       "      <td>0</td>\n",
       "      <td>0</td>\n",
       "      <td>0</td>\n",
       "    </tr>\n",
       "  </tbody>\n",
       "</table>\n",
       "<p>5 rows × 23 columns</p>\n",
       "</div>"
      ],
      "text/plain": [
       "   MOVIEID                        TITLE  REALEASE  (no genres listed)  Action  \\\n",
       "0        1                    Toy Story    1995.0                   0       0   \n",
       "1        2                      Jumanji    1995.0                   0       0   \n",
       "2        3             Grumpier Old Men    1995.0                   0       0   \n",
       "3        4            Waiting to Exhale    1995.0                   0       0   \n",
       "4        5  Father of the Bride Part II    1995.0                   0       0   \n",
       "\n",
       "   Adventure  Animation  Children  Comedy  Crime  ...  Film-Noir  Horror  \\\n",
       "0          1          1         1       1      0  ...          0       0   \n",
       "1          1          0         1       0      0  ...          0       0   \n",
       "2          0          0         0       1      0  ...          0       0   \n",
       "3          0          0         0       1      0  ...          0       0   \n",
       "4          0          0         0       1      0  ...          0       0   \n",
       "\n",
       "   IMAX  Musical  Mystery  Romance  Sci-Fi  Thriller  War  Western  \n",
       "0     0        0        0        0       0         0    0        0  \n",
       "1     0        0        0        0       0         0    0        0  \n",
       "2     0        0        0        1       0         0    0        0  \n",
       "3     0        0        0        1       0         0    0        0  \n",
       "4     0        0        0        0       0         0    0        0  \n",
       "\n",
       "[5 rows x 23 columns]"
      ]
     },
     "execution_count": 26,
     "metadata": {},
     "output_type": "execute_result"
    }
   ],
   "source": [
    "movies.head()"
   ]
  },
  {
   "cell_type": "code",
   "execution_count": 27,
   "id": "64aeb5f0",
   "metadata": {
    "ExecuteTime": {
     "end_time": "2023-12-05T19:54:02.180021Z",
     "start_time": "2023-12-05T19:54:02.176918Z"
    }
   },
   "outputs": [
    {
     "data": {
      "text/html": [
       "<div>\n",
       "<style scoped>\n",
       "    .dataframe tbody tr th:only-of-type {\n",
       "        vertical-align: middle;\n",
       "    }\n",
       "\n",
       "    .dataframe tbody tr th {\n",
       "        vertical-align: top;\n",
       "    }\n",
       "\n",
       "    .dataframe thead th {\n",
       "        text-align: right;\n",
       "    }\n",
       "</style>\n",
       "<table border=\"1\" class=\"dataframe\">\n",
       "  <thead>\n",
       "    <tr style=\"text-align: right;\">\n",
       "      <th></th>\n",
       "      <th>USERID</th>\n",
       "      <th>MOVIEID</th>\n",
       "      <th>RATING</th>\n",
       "      <th>TIMESTAMP</th>\n",
       "    </tr>\n",
       "  </thead>\n",
       "  <tbody>\n",
       "    <tr>\n",
       "      <th>0</th>\n",
       "      <td>1</td>\n",
       "      <td>1</td>\n",
       "      <td>4.0</td>\n",
       "      <td>1225734739</td>\n",
       "    </tr>\n",
       "    <tr>\n",
       "      <th>1</th>\n",
       "      <td>1</td>\n",
       "      <td>110</td>\n",
       "      <td>4.0</td>\n",
       "      <td>1225865086</td>\n",
       "    </tr>\n",
       "    <tr>\n",
       "      <th>2</th>\n",
       "      <td>1</td>\n",
       "      <td>158</td>\n",
       "      <td>4.0</td>\n",
       "      <td>1225733503</td>\n",
       "    </tr>\n",
       "    <tr>\n",
       "      <th>3</th>\n",
       "      <td>1</td>\n",
       "      <td>260</td>\n",
       "      <td>4.5</td>\n",
       "      <td>1225735204</td>\n",
       "    </tr>\n",
       "    <tr>\n",
       "      <th>4</th>\n",
       "      <td>1</td>\n",
       "      <td>356</td>\n",
       "      <td>5.0</td>\n",
       "      <td>1225735119</td>\n",
       "    </tr>\n",
       "  </tbody>\n",
       "</table>\n",
       "</div>"
      ],
      "text/plain": [
       "   USERID  MOVIEID  RATING   TIMESTAMP\n",
       "0       1        1     4.0  1225734739\n",
       "1       1      110     4.0  1225865086\n",
       "2       1      158     4.0  1225733503\n",
       "3       1      260     4.5  1225735204\n",
       "4       1      356     5.0  1225735119"
      ]
     },
     "execution_count": 27,
     "metadata": {},
     "output_type": "execute_result"
    }
   ],
   "source": [
    "rating.columns = [col.upper() for col in rating.columns]\n",
    "rating.head()"
   ]
  },
  {
   "cell_type": "code",
   "execution_count": 28,
   "id": "f210bae6",
   "metadata": {
    "ExecuteTime": {
     "end_time": "2023-12-05T19:54:04.977813Z",
     "start_time": "2023-12-05T19:54:02.180543Z"
    }
   },
   "outputs": [
    {
     "data": {
      "text/html": [
       "<div>\n",
       "<style scoped>\n",
       "    .dataframe tbody tr th:only-of-type {\n",
       "        vertical-align: middle;\n",
       "    }\n",
       "\n",
       "    .dataframe tbody tr th {\n",
       "        vertical-align: top;\n",
       "    }\n",
       "\n",
       "    .dataframe thead th {\n",
       "        text-align: right;\n",
       "    }\n",
       "</style>\n",
       "<table border=\"1\" class=\"dataframe\">\n",
       "  <thead>\n",
       "    <tr style=\"text-align: right;\">\n",
       "      <th></th>\n",
       "      <th>MOVIEID</th>\n",
       "      <th>TITLE</th>\n",
       "      <th>REALEASE</th>\n",
       "      <th>(no genres listed)</th>\n",
       "      <th>Action</th>\n",
       "      <th>Adventure</th>\n",
       "      <th>Animation</th>\n",
       "      <th>Children</th>\n",
       "      <th>Comedy</th>\n",
       "      <th>Crime</th>\n",
       "      <th>...</th>\n",
       "      <th>Musical</th>\n",
       "      <th>Mystery</th>\n",
       "      <th>Romance</th>\n",
       "      <th>Sci-Fi</th>\n",
       "      <th>Thriller</th>\n",
       "      <th>War</th>\n",
       "      <th>Western</th>\n",
       "      <th>USERID</th>\n",
       "      <th>RATING</th>\n",
       "      <th>TIMESTAMP</th>\n",
       "    </tr>\n",
       "  </thead>\n",
       "  <tbody>\n",
       "    <tr>\n",
       "      <th>0</th>\n",
       "      <td>1</td>\n",
       "      <td>Toy Story</td>\n",
       "      <td>1995.0</td>\n",
       "      <td>0</td>\n",
       "      <td>0</td>\n",
       "      <td>1</td>\n",
       "      <td>1</td>\n",
       "      <td>1</td>\n",
       "      <td>1</td>\n",
       "      <td>0</td>\n",
       "      <td>...</td>\n",
       "      <td>0</td>\n",
       "      <td>0</td>\n",
       "      <td>0</td>\n",
       "      <td>0</td>\n",
       "      <td>0</td>\n",
       "      <td>0</td>\n",
       "      <td>0</td>\n",
       "      <td>1.0</td>\n",
       "      <td>4.0</td>\n",
       "      <td>1.225735e+09</td>\n",
       "    </tr>\n",
       "    <tr>\n",
       "      <th>1</th>\n",
       "      <td>1</td>\n",
       "      <td>Toy Story</td>\n",
       "      <td>1995.0</td>\n",
       "      <td>0</td>\n",
       "      <td>0</td>\n",
       "      <td>1</td>\n",
       "      <td>1</td>\n",
       "      <td>1</td>\n",
       "      <td>1</td>\n",
       "      <td>0</td>\n",
       "      <td>...</td>\n",
       "      <td>0</td>\n",
       "      <td>0</td>\n",
       "      <td>0</td>\n",
       "      <td>0</td>\n",
       "      <td>0</td>\n",
       "      <td>0</td>\n",
       "      <td>0</td>\n",
       "      <td>2.0</td>\n",
       "      <td>5.0</td>\n",
       "      <td>8.358160e+08</td>\n",
       "    </tr>\n",
       "    <tr>\n",
       "      <th>2</th>\n",
       "      <td>1</td>\n",
       "      <td>Toy Story</td>\n",
       "      <td>1995.0</td>\n",
       "      <td>0</td>\n",
       "      <td>0</td>\n",
       "      <td>1</td>\n",
       "      <td>1</td>\n",
       "      <td>1</td>\n",
       "      <td>1</td>\n",
       "      <td>0</td>\n",
       "      <td>...</td>\n",
       "      <td>0</td>\n",
       "      <td>0</td>\n",
       "      <td>0</td>\n",
       "      <td>0</td>\n",
       "      <td>0</td>\n",
       "      <td>0</td>\n",
       "      <td>0</td>\n",
       "      <td>7.0</td>\n",
       "      <td>4.0</td>\n",
       "      <td>9.745180e+08</td>\n",
       "    </tr>\n",
       "    <tr>\n",
       "      <th>3</th>\n",
       "      <td>1</td>\n",
       "      <td>Toy Story</td>\n",
       "      <td>1995.0</td>\n",
       "      <td>0</td>\n",
       "      <td>0</td>\n",
       "      <td>1</td>\n",
       "      <td>1</td>\n",
       "      <td>1</td>\n",
       "      <td>1</td>\n",
       "      <td>0</td>\n",
       "      <td>...</td>\n",
       "      <td>0</td>\n",
       "      <td>0</td>\n",
       "      <td>0</td>\n",
       "      <td>0</td>\n",
       "      <td>0</td>\n",
       "      <td>0</td>\n",
       "      <td>0</td>\n",
       "      <td>10.0</td>\n",
       "      <td>3.0</td>\n",
       "      <td>1.430666e+09</td>\n",
       "    </tr>\n",
       "    <tr>\n",
       "      <th>4</th>\n",
       "      <td>1</td>\n",
       "      <td>Toy Story</td>\n",
       "      <td>1995.0</td>\n",
       "      <td>0</td>\n",
       "      <td>0</td>\n",
       "      <td>1</td>\n",
       "      <td>1</td>\n",
       "      <td>1</td>\n",
       "      <td>1</td>\n",
       "      <td>0</td>\n",
       "      <td>...</td>\n",
       "      <td>0</td>\n",
       "      <td>0</td>\n",
       "      <td>0</td>\n",
       "      <td>0</td>\n",
       "      <td>0</td>\n",
       "      <td>0</td>\n",
       "      <td>0</td>\n",
       "      <td>12.0</td>\n",
       "      <td>5.0</td>\n",
       "      <td>8.625007e+08</td>\n",
       "    </tr>\n",
       "  </tbody>\n",
       "</table>\n",
       "<p>5 rows × 26 columns</p>\n",
       "</div>"
      ],
      "text/plain": [
       "   MOVIEID      TITLE  REALEASE  (no genres listed)  Action  Adventure  \\\n",
       "0        1  Toy Story    1995.0                   0       0          1   \n",
       "1        1  Toy Story    1995.0                   0       0          1   \n",
       "2        1  Toy Story    1995.0                   0       0          1   \n",
       "3        1  Toy Story    1995.0                   0       0          1   \n",
       "4        1  Toy Story    1995.0                   0       0          1   \n",
       "\n",
       "   Animation  Children  Comedy  Crime  ...  Musical  Mystery  Romance  Sci-Fi  \\\n",
       "0          1         1       1      0  ...        0        0        0       0   \n",
       "1          1         1       1      0  ...        0        0        0       0   \n",
       "2          1         1       1      0  ...        0        0        0       0   \n",
       "3          1         1       1      0  ...        0        0        0       0   \n",
       "4          1         1       1      0  ...        0        0        0       0   \n",
       "\n",
       "   Thriller  War  Western  USERID  RATING     TIMESTAMP  \n",
       "0         0    0        0     1.0     4.0  1.225735e+09  \n",
       "1         0    0        0     2.0     5.0  8.358160e+08  \n",
       "2         0    0        0     7.0     4.0  9.745180e+08  \n",
       "3         0    0        0    10.0     3.0  1.430666e+09  \n",
       "4         0    0        0    12.0     5.0  8.625007e+08  \n",
       "\n",
       "[5 rows x 26 columns]"
      ]
     },
     "execution_count": 28,
     "metadata": {},
     "output_type": "execute_result"
    }
   ],
   "source": [
    "df = movies.merge(rating, how=\"left\", on=\"MOVIEID\")\n",
    "df.head()"
   ]
  },
  {
   "cell_type": "code",
   "execution_count": 29,
   "id": "e910d8b6",
   "metadata": {
    "ExecuteTime": {
     "end_time": "2023-12-05T19:54:04.979833Z",
     "start_time": "2023-12-05T19:54:04.978483Z"
    }
   },
   "outputs": [],
   "source": [
    "del rating"
   ]
  },
  {
   "cell_type": "markdown",
   "id": "ad5e78a9",
   "metadata": {},
   "source": [
    "# 1. Препроцессинг общей таблицы"
   ]
  },
  {
   "cell_type": "code",
   "execution_count": 30,
   "id": "ad0c0e33",
   "metadata": {
    "ExecuteTime": {
     "end_time": "2023-12-05T19:54:05.190412Z",
     "start_time": "2023-12-05T19:54:04.980411Z"
    }
   },
   "outputs": [
    {
     "data": {
      "text/plain": [
       "\"df['YEAR'] = df['TIMESTAMP'].dt.year\\ndf['MONTH'] = df['TIMESTAMP'].dt.month\\ndf['TIME'] = df['TIMESTAMP'].dt.time\\ndf['DATE'] = df['TIMESTAMP'].dt.date\\ndf['WEEK_DAY'] = df['TIMESTAMP'].dt.day_name()\\ndf['DAY_NUM'] = df['TIMESTAMP'].dt.day_of_week\""
      ]
     },
     "execution_count": 30,
     "metadata": {},
     "output_type": "execute_result"
    }
   ],
   "source": [
    "df['TIMESTAMP'] = pd.to_datetime(df['TIMESTAMP'], unit='s')\n",
    "'''df['YEAR'] = df['TIMESTAMP'].dt.year\n",
    "df['MONTH'] = df['TIMESTAMP'].dt.month\n",
    "df['TIME'] = df['TIMESTAMP'].dt.time\n",
    "df['DATE'] = df['TIMESTAMP'].dt.date\n",
    "df['WEEK_DAY'] = df['TIMESTAMP'].dt.day_name()\n",
    "df['DAY_NUM'] = df['TIMESTAMP'].dt.day_of_week'''"
   ]
  },
  {
   "cell_type": "code",
   "execution_count": 31,
   "id": "178687f0",
   "metadata": {
    "ExecuteTime": {
     "end_time": "2023-12-05T19:54:05.192347Z",
     "start_time": "2023-12-05T19:54:05.191134Z"
    }
   },
   "outputs": [],
   "source": [
    "#df['RATING'] = df['RATING'].astype('float16')"
   ]
  },
  {
   "cell_type": "code",
   "execution_count": 32,
   "id": "8800cf6b",
   "metadata": {
    "ExecuteTime": {
     "end_time": "2023-12-05T19:54:05.199098Z",
     "start_time": "2023-12-05T19:54:05.193110Z"
    }
   },
   "outputs": [
    {
     "data": {
      "text/html": [
       "<div>\n",
       "<style scoped>\n",
       "    .dataframe tbody tr th:only-of-type {\n",
       "        vertical-align: middle;\n",
       "    }\n",
       "\n",
       "    .dataframe tbody tr th {\n",
       "        vertical-align: top;\n",
       "    }\n",
       "\n",
       "    .dataframe thead th {\n",
       "        text-align: right;\n",
       "    }\n",
       "</style>\n",
       "<table border=\"1\" class=\"dataframe\">\n",
       "  <thead>\n",
       "    <tr style=\"text-align: right;\">\n",
       "      <th></th>\n",
       "      <th>MOVIEID</th>\n",
       "      <th>TITLE</th>\n",
       "      <th>REALEASE</th>\n",
       "      <th>(no genres listed)</th>\n",
       "      <th>Action</th>\n",
       "      <th>Adventure</th>\n",
       "      <th>Animation</th>\n",
       "      <th>Children</th>\n",
       "      <th>Comedy</th>\n",
       "      <th>Crime</th>\n",
       "      <th>...</th>\n",
       "      <th>Musical</th>\n",
       "      <th>Mystery</th>\n",
       "      <th>Romance</th>\n",
       "      <th>Sci-Fi</th>\n",
       "      <th>Thriller</th>\n",
       "      <th>War</th>\n",
       "      <th>Western</th>\n",
       "      <th>USERID</th>\n",
       "      <th>RATING</th>\n",
       "      <th>TIMESTAMP</th>\n",
       "    </tr>\n",
       "  </thead>\n",
       "  <tbody>\n",
       "    <tr>\n",
       "      <th>0</th>\n",
       "      <td>1</td>\n",
       "      <td>Toy Story</td>\n",
       "      <td>1995.0</td>\n",
       "      <td>0</td>\n",
       "      <td>0</td>\n",
       "      <td>1</td>\n",
       "      <td>1</td>\n",
       "      <td>1</td>\n",
       "      <td>1</td>\n",
       "      <td>0</td>\n",
       "      <td>...</td>\n",
       "      <td>0</td>\n",
       "      <td>0</td>\n",
       "      <td>0</td>\n",
       "      <td>0</td>\n",
       "      <td>0</td>\n",
       "      <td>0</td>\n",
       "      <td>0</td>\n",
       "      <td>1.0</td>\n",
       "      <td>4.0</td>\n",
       "      <td>2008-11-03 17:52:19</td>\n",
       "    </tr>\n",
       "    <tr>\n",
       "      <th>1</th>\n",
       "      <td>1</td>\n",
       "      <td>Toy Story</td>\n",
       "      <td>1995.0</td>\n",
       "      <td>0</td>\n",
       "      <td>0</td>\n",
       "      <td>1</td>\n",
       "      <td>1</td>\n",
       "      <td>1</td>\n",
       "      <td>1</td>\n",
       "      <td>0</td>\n",
       "      <td>...</td>\n",
       "      <td>0</td>\n",
       "      <td>0</td>\n",
       "      <td>0</td>\n",
       "      <td>0</td>\n",
       "      <td>0</td>\n",
       "      <td>0</td>\n",
       "      <td>0</td>\n",
       "      <td>2.0</td>\n",
       "      <td>5.0</td>\n",
       "      <td>1996-06-26 19:06:11</td>\n",
       "    </tr>\n",
       "    <tr>\n",
       "      <th>2</th>\n",
       "      <td>1</td>\n",
       "      <td>Toy Story</td>\n",
       "      <td>1995.0</td>\n",
       "      <td>0</td>\n",
       "      <td>0</td>\n",
       "      <td>1</td>\n",
       "      <td>1</td>\n",
       "      <td>1</td>\n",
       "      <td>1</td>\n",
       "      <td>0</td>\n",
       "      <td>...</td>\n",
       "      <td>0</td>\n",
       "      <td>0</td>\n",
       "      <td>0</td>\n",
       "      <td>0</td>\n",
       "      <td>0</td>\n",
       "      <td>0</td>\n",
       "      <td>0</td>\n",
       "      <td>7.0</td>\n",
       "      <td>4.0</td>\n",
       "      <td>2000-11-18 03:27:04</td>\n",
       "    </tr>\n",
       "    <tr>\n",
       "      <th>3</th>\n",
       "      <td>1</td>\n",
       "      <td>Toy Story</td>\n",
       "      <td>1995.0</td>\n",
       "      <td>0</td>\n",
       "      <td>0</td>\n",
       "      <td>1</td>\n",
       "      <td>1</td>\n",
       "      <td>1</td>\n",
       "      <td>1</td>\n",
       "      <td>0</td>\n",
       "      <td>...</td>\n",
       "      <td>0</td>\n",
       "      <td>0</td>\n",
       "      <td>0</td>\n",
       "      <td>0</td>\n",
       "      <td>0</td>\n",
       "      <td>0</td>\n",
       "      <td>0</td>\n",
       "      <td>10.0</td>\n",
       "      <td>3.0</td>\n",
       "      <td>2015-05-03 15:19:54</td>\n",
       "    </tr>\n",
       "    <tr>\n",
       "      <th>4</th>\n",
       "      <td>1</td>\n",
       "      <td>Toy Story</td>\n",
       "      <td>1995.0</td>\n",
       "      <td>0</td>\n",
       "      <td>0</td>\n",
       "      <td>1</td>\n",
       "      <td>1</td>\n",
       "      <td>1</td>\n",
       "      <td>1</td>\n",
       "      <td>0</td>\n",
       "      <td>...</td>\n",
       "      <td>0</td>\n",
       "      <td>0</td>\n",
       "      <td>0</td>\n",
       "      <td>0</td>\n",
       "      <td>0</td>\n",
       "      <td>0</td>\n",
       "      <td>0</td>\n",
       "      <td>12.0</td>\n",
       "      <td>5.0</td>\n",
       "      <td>1997-05-01 15:32:18</td>\n",
       "    </tr>\n",
       "  </tbody>\n",
       "</table>\n",
       "<p>5 rows × 26 columns</p>\n",
       "</div>"
      ],
      "text/plain": [
       "   MOVIEID      TITLE  REALEASE  (no genres listed)  Action  Adventure  \\\n",
       "0        1  Toy Story    1995.0                   0       0          1   \n",
       "1        1  Toy Story    1995.0                   0       0          1   \n",
       "2        1  Toy Story    1995.0                   0       0          1   \n",
       "3        1  Toy Story    1995.0                   0       0          1   \n",
       "4        1  Toy Story    1995.0                   0       0          1   \n",
       "\n",
       "   Animation  Children  Comedy  Crime  ...  Musical  Mystery  Romance  Sci-Fi  \\\n",
       "0          1         1       1      0  ...        0        0        0       0   \n",
       "1          1         1       1      0  ...        0        0        0       0   \n",
       "2          1         1       1      0  ...        0        0        0       0   \n",
       "3          1         1       1      0  ...        0        0        0       0   \n",
       "4          1         1       1      0  ...        0        0        0       0   \n",
       "\n",
       "   Thriller  War  Western  USERID  RATING           TIMESTAMP  \n",
       "0         0    0        0     1.0     4.0 2008-11-03 17:52:19  \n",
       "1         0    0        0     2.0     5.0 1996-06-26 19:06:11  \n",
       "2         0    0        0     7.0     4.0 2000-11-18 03:27:04  \n",
       "3         0    0        0    10.0     3.0 2015-05-03 15:19:54  \n",
       "4         0    0        0    12.0     5.0 1997-05-01 15:32:18  \n",
       "\n",
       "[5 rows x 26 columns]"
      ]
     },
     "execution_count": 32,
     "metadata": {},
     "output_type": "execute_result"
    }
   ],
   "source": [
    "df.head()"
   ]
  },
  {
   "cell_type": "code",
   "execution_count": 33,
   "id": "f5a6cd67",
   "metadata": {
    "ExecuteTime": {
     "end_time": "2023-12-05T19:54:05.202445Z",
     "start_time": "2023-12-05T19:54:05.200012Z"
    },
    "scrolled": true
   },
   "outputs": [
    {
     "data": {
      "text/plain": [
       "MOVIEID                        int64\n",
       "TITLE                       category\n",
       "REALEASE                     float16\n",
       "(no genres listed)              int8\n",
       "Action                          int8\n",
       "Adventure                       int8\n",
       "Animation                       int8\n",
       "Children                        int8\n",
       "Comedy                          int8\n",
       "Crime                           int8\n",
       "Documentary                     int8\n",
       "Drama                           int8\n",
       "Fantasy                         int8\n",
       "Film-Noir                       int8\n",
       "Horror                          int8\n",
       "IMAX                            int8\n",
       "Musical                         int8\n",
       "Mystery                         int8\n",
       "Romance                         int8\n",
       "Sci-Fi                          int8\n",
       "Thriller                        int8\n",
       "War                             int8\n",
       "Western                         int8\n",
       "USERID                       float64\n",
       "RATING                       float64\n",
       "TIMESTAMP             datetime64[ns]\n",
       "dtype: object"
      ]
     },
     "execution_count": 33,
     "metadata": {},
     "output_type": "execute_result"
    }
   ],
   "source": [
    "df.dtypes"
   ]
  },
  {
   "cell_type": "code",
   "execution_count": 34,
   "id": "6294d074",
   "metadata": {
    "ExecuteTime": {
     "end_time": "2023-12-05T19:54:05.469796Z",
     "start_time": "2023-12-05T19:54:05.203322Z"
    }
   },
   "outputs": [],
   "source": [
    "stat_movies = df.groupby('MOVIEID')['USERID'].count().reset_index()"
   ]
  },
  {
   "cell_type": "code",
   "execution_count": 35,
   "id": "0a10c06b",
   "metadata": {
    "ExecuteTime": {
     "end_time": "2023-12-05T19:54:05.473477Z",
     "start_time": "2023-12-05T19:54:05.470499Z"
    }
   },
   "outputs": [
    {
     "data": {
      "text/html": [
       "<div>\n",
       "<style scoped>\n",
       "    .dataframe tbody tr th:only-of-type {\n",
       "        vertical-align: middle;\n",
       "    }\n",
       "\n",
       "    .dataframe tbody tr th {\n",
       "        vertical-align: top;\n",
       "    }\n",
       "\n",
       "    .dataframe thead th {\n",
       "        text-align: right;\n",
       "    }\n",
       "</style>\n",
       "<table border=\"1\" class=\"dataframe\">\n",
       "  <thead>\n",
       "    <tr style=\"text-align: right;\">\n",
       "      <th></th>\n",
       "      <th>MOVIEID</th>\n",
       "      <th>USERID</th>\n",
       "    </tr>\n",
       "  </thead>\n",
       "  <tbody>\n",
       "    <tr>\n",
       "      <th>0</th>\n",
       "      <td>1</td>\n",
       "      <td>76813</td>\n",
       "    </tr>\n",
       "    <tr>\n",
       "      <th>1</th>\n",
       "      <td>2</td>\n",
       "      <td>30209</td>\n",
       "    </tr>\n",
       "    <tr>\n",
       "      <th>2</th>\n",
       "      <td>3</td>\n",
       "      <td>15820</td>\n",
       "    </tr>\n",
       "    <tr>\n",
       "      <th>3</th>\n",
       "      <td>4</td>\n",
       "      <td>3028</td>\n",
       "    </tr>\n",
       "    <tr>\n",
       "      <th>4</th>\n",
       "      <td>5</td>\n",
       "      <td>15801</td>\n",
       "    </tr>\n",
       "    <tr>\n",
       "      <th>...</th>\n",
       "      <td>...</td>\n",
       "      <td>...</td>\n",
       "    </tr>\n",
       "    <tr>\n",
       "      <th>86532</th>\n",
       "      <td>288967</td>\n",
       "      <td>1</td>\n",
       "    </tr>\n",
       "    <tr>\n",
       "      <th>86533</th>\n",
       "      <td>288971</td>\n",
       "      <td>1</td>\n",
       "    </tr>\n",
       "    <tr>\n",
       "      <th>86534</th>\n",
       "      <td>288975</td>\n",
       "      <td>1</td>\n",
       "    </tr>\n",
       "    <tr>\n",
       "      <th>86535</th>\n",
       "      <td>288977</td>\n",
       "      <td>1</td>\n",
       "    </tr>\n",
       "    <tr>\n",
       "      <th>86536</th>\n",
       "      <td>288983</td>\n",
       "      <td>1</td>\n",
       "    </tr>\n",
       "  </tbody>\n",
       "</table>\n",
       "<p>86537 rows × 2 columns</p>\n",
       "</div>"
      ],
      "text/plain": [
       "       MOVIEID  USERID\n",
       "0            1   76813\n",
       "1            2   30209\n",
       "2            3   15820\n",
       "3            4    3028\n",
       "4            5   15801\n",
       "...        ...     ...\n",
       "86532   288967       1\n",
       "86533   288971       1\n",
       "86534   288975       1\n",
       "86535   288977       1\n",
       "86536   288983       1\n",
       "\n",
       "[86537 rows x 2 columns]"
      ]
     },
     "execution_count": 35,
     "metadata": {},
     "output_type": "execute_result"
    }
   ],
   "source": [
    "stat_movies"
   ]
  },
  {
   "cell_type": "code",
   "execution_count": 36,
   "id": "081c7869",
   "metadata": {
    "ExecuteTime": {
     "end_time": "2023-12-05T19:54:05.477072Z",
     "start_time": "2023-12-05T19:54:05.474082Z"
    }
   },
   "outputs": [
    {
     "data": {
      "text/plain": [
       "5.0"
      ]
     },
     "execution_count": 36,
     "metadata": {},
     "output_type": "execute_result"
    }
   ],
   "source": [
    "# зададим как порог минимальной оценки\n",
    "min_threshold = stat_movies['USERID'].quantile(0.5)\n",
    "min_threshold"
   ]
  },
  {
   "cell_type": "markdown",
   "id": "c825e06b",
   "metadata": {},
   "source": [
    "<font color='red'> **------------------------------------------------------------------------------------------------------------------------------------------------------------------------------------------------------------------** </font>"
   ]
  },
  {
   "cell_type": "markdown",
   "id": "e58fe25d",
   "metadata": {},
   "source": [
    "<font color='red'> **Попытался разбить тест и трейн по месяцу, но у нас есть пустые даты оценок, тут нужно подумать что с этим делать** </font>"
   ]
  },
  {
   "cell_type": "code",
   "execution_count": 46,
   "id": "6a3e63d3",
   "metadata": {},
   "outputs": [
    {
     "data": {
      "text/plain": [
       "(3298, 26)"
      ]
     },
     "execution_count": 46,
     "metadata": {},
     "output_type": "execute_result"
    }
   ],
   "source": [
    "df[df.TIMESTAMP.isna()].shape"
   ]
  },
  {
   "cell_type": "code",
   "execution_count": 40,
   "id": "1f1a1835",
   "metadata": {
    "ExecuteTime": {
     "end_time": "2023-12-05T19:54:10.954700Z",
     "start_time": "2023-12-05T19:54:05.477830Z"
    }
   },
   "outputs": [
    {
     "ename": "ValueError",
     "evalue": "Input y contains NaN.",
     "output_type": "error",
     "traceback": [
      "\u001b[1;31m---------------------------------------------------------------------------\u001b[0m",
      "\u001b[1;31mValueError\u001b[0m                                Traceback (most recent call last)",
      "Cell \u001b[1;32mIn[40], line 1\u001b[0m\n\u001b[1;32m----> 1\u001b[0m train, test \u001b[38;5;241m=\u001b[39m \u001b[43mtrain_test_split\u001b[49m\u001b[43m(\u001b[49m\u001b[43mdf\u001b[49m\u001b[43m,\u001b[49m\u001b[43m \u001b[49m\u001b[43mtest_size\u001b[49m\u001b[38;5;241;43m=\u001b[39;49m\u001b[38;5;241;43m0.3\u001b[39;49m\u001b[43m,\u001b[49m\u001b[43m \u001b[49m\u001b[43mstratify\u001b[49m\u001b[43m \u001b[49m\u001b[38;5;241;43m=\u001b[39;49m\u001b[43m \u001b[49m\u001b[43mdf\u001b[49m\u001b[38;5;241;43m.\u001b[39;49m\u001b[43mTIMESTAMP\u001b[49m\u001b[38;5;241;43m.\u001b[39;49m\u001b[43mdt\u001b[49m\u001b[38;5;241;43m.\u001b[39;49m\u001b[43mmonth\u001b[49m\u001b[43m)\u001b[49m\n",
      "File \u001b[1;32mC:\\Programming\\Anaconda\\lib\\site-packages\\sklearn\\utils\\_param_validation.py:211\u001b[0m, in \u001b[0;36mvalidate_params.<locals>.decorator.<locals>.wrapper\u001b[1;34m(*args, **kwargs)\u001b[0m\n\u001b[0;32m    205\u001b[0m \u001b[38;5;28;01mtry\u001b[39;00m:\n\u001b[0;32m    206\u001b[0m     \u001b[38;5;28;01mwith\u001b[39;00m config_context(\n\u001b[0;32m    207\u001b[0m         skip_parameter_validation\u001b[38;5;241m=\u001b[39m(\n\u001b[0;32m    208\u001b[0m             prefer_skip_nested_validation \u001b[38;5;129;01mor\u001b[39;00m global_skip_validation\n\u001b[0;32m    209\u001b[0m         )\n\u001b[0;32m    210\u001b[0m     ):\n\u001b[1;32m--> 211\u001b[0m         \u001b[38;5;28;01mreturn\u001b[39;00m func(\u001b[38;5;241m*\u001b[39margs, \u001b[38;5;241m*\u001b[39m\u001b[38;5;241m*\u001b[39mkwargs)\n\u001b[0;32m    212\u001b[0m \u001b[38;5;28;01mexcept\u001b[39;00m InvalidParameterError \u001b[38;5;28;01mas\u001b[39;00m e:\n\u001b[0;32m    213\u001b[0m     \u001b[38;5;66;03m# When the function is just a wrapper around an estimator, we allow\u001b[39;00m\n\u001b[0;32m    214\u001b[0m     \u001b[38;5;66;03m# the function to delegate validation to the estimator, but we replace\u001b[39;00m\n\u001b[0;32m    215\u001b[0m     \u001b[38;5;66;03m# the name of the estimator by the name of the function in the error\u001b[39;00m\n\u001b[0;32m    216\u001b[0m     \u001b[38;5;66;03m# message to avoid confusion.\u001b[39;00m\n\u001b[0;32m    217\u001b[0m     msg \u001b[38;5;241m=\u001b[39m re\u001b[38;5;241m.\u001b[39msub(\n\u001b[0;32m    218\u001b[0m         \u001b[38;5;124mr\u001b[39m\u001b[38;5;124m\"\u001b[39m\u001b[38;5;124mparameter of \u001b[39m\u001b[38;5;124m\\\u001b[39m\u001b[38;5;124mw+ must be\u001b[39m\u001b[38;5;124m\"\u001b[39m,\n\u001b[0;32m    219\u001b[0m         \u001b[38;5;124mf\u001b[39m\u001b[38;5;124m\"\u001b[39m\u001b[38;5;124mparameter of \u001b[39m\u001b[38;5;132;01m{\u001b[39;00mfunc\u001b[38;5;241m.\u001b[39m\u001b[38;5;18m__qualname__\u001b[39m\u001b[38;5;132;01m}\u001b[39;00m\u001b[38;5;124m must be\u001b[39m\u001b[38;5;124m\"\u001b[39m,\n\u001b[0;32m    220\u001b[0m         \u001b[38;5;28mstr\u001b[39m(e),\n\u001b[0;32m    221\u001b[0m     )\n",
      "File \u001b[1;32mC:\\Programming\\Anaconda\\lib\\site-packages\\sklearn\\model_selection\\_split.py:2670\u001b[0m, in \u001b[0;36mtrain_test_split\u001b[1;34m(test_size, train_size, random_state, shuffle, stratify, *arrays)\u001b[0m\n\u001b[0;32m   2666\u001b[0m         CVClass \u001b[38;5;241m=\u001b[39m ShuffleSplit\n\u001b[0;32m   2668\u001b[0m     cv \u001b[38;5;241m=\u001b[39m CVClass(test_size\u001b[38;5;241m=\u001b[39mn_test, train_size\u001b[38;5;241m=\u001b[39mn_train, random_state\u001b[38;5;241m=\u001b[39mrandom_state)\n\u001b[1;32m-> 2670\u001b[0m     train, test \u001b[38;5;241m=\u001b[39m \u001b[38;5;28mnext\u001b[39m(\u001b[43mcv\u001b[49m\u001b[38;5;241;43m.\u001b[39;49m\u001b[43msplit\u001b[49m\u001b[43m(\u001b[49m\u001b[43mX\u001b[49m\u001b[38;5;241;43m=\u001b[39;49m\u001b[43marrays\u001b[49m\u001b[43m[\u001b[49m\u001b[38;5;241;43m0\u001b[39;49m\u001b[43m]\u001b[49m\u001b[43m,\u001b[49m\u001b[43m \u001b[49m\u001b[43my\u001b[49m\u001b[38;5;241;43m=\u001b[39;49m\u001b[43mstratify\u001b[49m\u001b[43m)\u001b[49m)\n\u001b[0;32m   2672\u001b[0m \u001b[38;5;28;01mreturn\u001b[39;00m \u001b[38;5;28mlist\u001b[39m(\n\u001b[0;32m   2673\u001b[0m     chain\u001b[38;5;241m.\u001b[39mfrom_iterable(\n\u001b[0;32m   2674\u001b[0m         (_safe_indexing(a, train), _safe_indexing(a, test)) \u001b[38;5;28;01mfor\u001b[39;00m a \u001b[38;5;129;01min\u001b[39;00m arrays\n\u001b[0;32m   2675\u001b[0m     )\n\u001b[0;32m   2676\u001b[0m )\n",
      "File \u001b[1;32mC:\\Programming\\Anaconda\\lib\\site-packages\\sklearn\\model_selection\\_split.py:2229\u001b[0m, in \u001b[0;36mStratifiedShuffleSplit.split\u001b[1;34m(self, X, y, groups)\u001b[0m\n\u001b[0;32m   2195\u001b[0m \u001b[38;5;28;01mdef\u001b[39;00m \u001b[38;5;21msplit\u001b[39m(\u001b[38;5;28mself\u001b[39m, X, y, groups\u001b[38;5;241m=\u001b[39m\u001b[38;5;28;01mNone\u001b[39;00m):\n\u001b[0;32m   2196\u001b[0m \u001b[38;5;250m    \u001b[39m\u001b[38;5;124;03m\"\"\"Generate indices to split data into training and test set.\u001b[39;00m\n\u001b[0;32m   2197\u001b[0m \n\u001b[0;32m   2198\u001b[0m \u001b[38;5;124;03m    Parameters\u001b[39;00m\n\u001b[1;32m   (...)\u001b[0m\n\u001b[0;32m   2227\u001b[0m \u001b[38;5;124;03m    to an integer.\u001b[39;00m\n\u001b[0;32m   2228\u001b[0m \u001b[38;5;124;03m    \"\"\"\u001b[39;00m\n\u001b[1;32m-> 2229\u001b[0m     y \u001b[38;5;241m=\u001b[39m \u001b[43mcheck_array\u001b[49m\u001b[43m(\u001b[49m\u001b[43my\u001b[49m\u001b[43m,\u001b[49m\u001b[43m \u001b[49m\u001b[43minput_name\u001b[49m\u001b[38;5;241;43m=\u001b[39;49m\u001b[38;5;124;43m\"\u001b[39;49m\u001b[38;5;124;43my\u001b[39;49m\u001b[38;5;124;43m\"\u001b[39;49m\u001b[43m,\u001b[49m\u001b[43m \u001b[49m\u001b[43mensure_2d\u001b[49m\u001b[38;5;241;43m=\u001b[39;49m\u001b[38;5;28;43;01mFalse\u001b[39;49;00m\u001b[43m,\u001b[49m\u001b[43m \u001b[49m\u001b[43mdtype\u001b[49m\u001b[38;5;241;43m=\u001b[39;49m\u001b[38;5;28;43;01mNone\u001b[39;49;00m\u001b[43m)\u001b[49m\n\u001b[0;32m   2230\u001b[0m     \u001b[38;5;28;01mreturn\u001b[39;00m \u001b[38;5;28msuper\u001b[39m()\u001b[38;5;241m.\u001b[39msplit(X, y, groups)\n",
      "File \u001b[1;32mC:\\Programming\\Anaconda\\lib\\site-packages\\sklearn\\utils\\validation.py:957\u001b[0m, in \u001b[0;36mcheck_array\u001b[1;34m(array, accept_sparse, accept_large_sparse, dtype, order, copy, force_all_finite, ensure_2d, allow_nd, ensure_min_samples, ensure_min_features, estimator, input_name)\u001b[0m\n\u001b[0;32m    951\u001b[0m         \u001b[38;5;28;01mraise\u001b[39;00m \u001b[38;5;167;01mValueError\u001b[39;00m(\n\u001b[0;32m    952\u001b[0m             \u001b[38;5;124m\"\u001b[39m\u001b[38;5;124mFound array with dim \u001b[39m\u001b[38;5;132;01m%d\u001b[39;00m\u001b[38;5;124m. \u001b[39m\u001b[38;5;132;01m%s\u001b[39;00m\u001b[38;5;124m expected <= 2.\u001b[39m\u001b[38;5;124m\"\u001b[39m\n\u001b[0;32m    953\u001b[0m             \u001b[38;5;241m%\u001b[39m (array\u001b[38;5;241m.\u001b[39mndim, estimator_name)\n\u001b[0;32m    954\u001b[0m         )\n\u001b[0;32m    956\u001b[0m     \u001b[38;5;28;01mif\u001b[39;00m force_all_finite:\n\u001b[1;32m--> 957\u001b[0m         \u001b[43m_assert_all_finite\u001b[49m\u001b[43m(\u001b[49m\n\u001b[0;32m    958\u001b[0m \u001b[43m            \u001b[49m\u001b[43marray\u001b[49m\u001b[43m,\u001b[49m\n\u001b[0;32m    959\u001b[0m \u001b[43m            \u001b[49m\u001b[43minput_name\u001b[49m\u001b[38;5;241;43m=\u001b[39;49m\u001b[43minput_name\u001b[49m\u001b[43m,\u001b[49m\n\u001b[0;32m    960\u001b[0m \u001b[43m            \u001b[49m\u001b[43mestimator_name\u001b[49m\u001b[38;5;241;43m=\u001b[39;49m\u001b[43mestimator_name\u001b[49m\u001b[43m,\u001b[49m\n\u001b[0;32m    961\u001b[0m \u001b[43m            \u001b[49m\u001b[43mallow_nan\u001b[49m\u001b[38;5;241;43m=\u001b[39;49m\u001b[43mforce_all_finite\u001b[49m\u001b[43m \u001b[49m\u001b[38;5;241;43m==\u001b[39;49m\u001b[43m \u001b[49m\u001b[38;5;124;43m\"\u001b[39;49m\u001b[38;5;124;43mallow-nan\u001b[39;49m\u001b[38;5;124;43m\"\u001b[39;49m\u001b[43m,\u001b[49m\n\u001b[0;32m    962\u001b[0m \u001b[43m        \u001b[49m\u001b[43m)\u001b[49m\n\u001b[0;32m    964\u001b[0m \u001b[38;5;28;01mif\u001b[39;00m ensure_min_samples \u001b[38;5;241m>\u001b[39m \u001b[38;5;241m0\u001b[39m:\n\u001b[0;32m    965\u001b[0m     n_samples \u001b[38;5;241m=\u001b[39m _num_samples(array)\n",
      "File \u001b[1;32mC:\\Programming\\Anaconda\\lib\\site-packages\\sklearn\\utils\\validation.py:122\u001b[0m, in \u001b[0;36m_assert_all_finite\u001b[1;34m(X, allow_nan, msg_dtype, estimator_name, input_name)\u001b[0m\n\u001b[0;32m    119\u001b[0m \u001b[38;5;28;01mif\u001b[39;00m first_pass_isfinite:\n\u001b[0;32m    120\u001b[0m     \u001b[38;5;28;01mreturn\u001b[39;00m\n\u001b[1;32m--> 122\u001b[0m \u001b[43m_assert_all_finite_element_wise\u001b[49m\u001b[43m(\u001b[49m\n\u001b[0;32m    123\u001b[0m \u001b[43m    \u001b[49m\u001b[43mX\u001b[49m\u001b[43m,\u001b[49m\n\u001b[0;32m    124\u001b[0m \u001b[43m    \u001b[49m\u001b[43mxp\u001b[49m\u001b[38;5;241;43m=\u001b[39;49m\u001b[43mxp\u001b[49m\u001b[43m,\u001b[49m\n\u001b[0;32m    125\u001b[0m \u001b[43m    \u001b[49m\u001b[43mallow_nan\u001b[49m\u001b[38;5;241;43m=\u001b[39;49m\u001b[43mallow_nan\u001b[49m\u001b[43m,\u001b[49m\n\u001b[0;32m    126\u001b[0m \u001b[43m    \u001b[49m\u001b[43mmsg_dtype\u001b[49m\u001b[38;5;241;43m=\u001b[39;49m\u001b[43mmsg_dtype\u001b[49m\u001b[43m,\u001b[49m\n\u001b[0;32m    127\u001b[0m \u001b[43m    \u001b[49m\u001b[43mestimator_name\u001b[49m\u001b[38;5;241;43m=\u001b[39;49m\u001b[43mestimator_name\u001b[49m\u001b[43m,\u001b[49m\n\u001b[0;32m    128\u001b[0m \u001b[43m    \u001b[49m\u001b[43minput_name\u001b[49m\u001b[38;5;241;43m=\u001b[39;49m\u001b[43minput_name\u001b[49m\u001b[43m,\u001b[49m\n\u001b[0;32m    129\u001b[0m \u001b[43m\u001b[49m\u001b[43m)\u001b[49m\n",
      "File \u001b[1;32mC:\\Programming\\Anaconda\\lib\\site-packages\\sklearn\\utils\\validation.py:171\u001b[0m, in \u001b[0;36m_assert_all_finite_element_wise\u001b[1;34m(X, xp, allow_nan, msg_dtype, estimator_name, input_name)\u001b[0m\n\u001b[0;32m    154\u001b[0m \u001b[38;5;28;01mif\u001b[39;00m estimator_name \u001b[38;5;129;01mand\u001b[39;00m input_name \u001b[38;5;241m==\u001b[39m \u001b[38;5;124m\"\u001b[39m\u001b[38;5;124mX\u001b[39m\u001b[38;5;124m\"\u001b[39m \u001b[38;5;129;01mand\u001b[39;00m has_nan_error:\n\u001b[0;32m    155\u001b[0m     \u001b[38;5;66;03m# Improve the error message on how to handle missing values in\u001b[39;00m\n\u001b[0;32m    156\u001b[0m     \u001b[38;5;66;03m# scikit-learn.\u001b[39;00m\n\u001b[0;32m    157\u001b[0m     msg_err \u001b[38;5;241m+\u001b[39m\u001b[38;5;241m=\u001b[39m (\n\u001b[0;32m    158\u001b[0m         \u001b[38;5;124mf\u001b[39m\u001b[38;5;124m\"\u001b[39m\u001b[38;5;130;01m\\n\u001b[39;00m\u001b[38;5;132;01m{\u001b[39;00mestimator_name\u001b[38;5;132;01m}\u001b[39;00m\u001b[38;5;124m does not accept missing values\u001b[39m\u001b[38;5;124m\"\u001b[39m\n\u001b[0;32m    159\u001b[0m         \u001b[38;5;124m\"\u001b[39m\u001b[38;5;124m encoded as NaN natively. For supervised learning, you might want\u001b[39m\u001b[38;5;124m\"\u001b[39m\n\u001b[1;32m   (...)\u001b[0m\n\u001b[0;32m    169\u001b[0m         \u001b[38;5;124m\"\u001b[39m\u001b[38;5;124m#estimators-that-handle-nan-values\u001b[39m\u001b[38;5;124m\"\u001b[39m\n\u001b[0;32m    170\u001b[0m     )\n\u001b[1;32m--> 171\u001b[0m \u001b[38;5;28;01mraise\u001b[39;00m \u001b[38;5;167;01mValueError\u001b[39;00m(msg_err)\n",
      "\u001b[1;31mValueError\u001b[0m: Input y contains NaN."
     ]
    }
   ],
   "source": [
    "train, test = train_test_split(df, test_size=0.3, stratify = df.TIMESTAMP.dt.month)"
   ]
  },
  {
   "cell_type": "markdown",
   "id": "8d28fb7c",
   "metadata": {},
   "source": [
    "<font color='red'> **------------------------------------------------------------------------------------------------------------------------------------------------------------------------------------------------------------------** </font>"
   ]
  },
  {
   "cell_type": "code",
   "execution_count": 48,
   "id": "09996211",
   "metadata": {},
   "outputs": [],
   "source": [
    "train, test = train_test_split(df, test_size=0.3)"
   ]
  },
  {
   "cell_type": "code",
   "execution_count": 49,
   "id": "733b0693",
   "metadata": {
    "ExecuteTime": {
     "end_time": "2023-12-05T19:54:10.956771Z",
     "start_time": "2023-12-05T19:54:10.955338Z"
    }
   },
   "outputs": [],
   "source": [
    "del df, movies"
   ]
  },
  {
   "cell_type": "code",
   "execution_count": 50,
   "id": "c4241ee1",
   "metadata": {
    "ExecuteTime": {
     "end_time": "2023-12-05T19:54:10.959318Z",
     "start_time": "2023-12-05T19:54:10.957480Z"
    },
    "scrolled": true
   },
   "outputs": [
    {
     "data": {
      "text/plain": [
       "(23684822, 26)"
      ]
     },
     "execution_count": 50,
     "metadata": {},
     "output_type": "execute_result"
    }
   ],
   "source": [
    "train.shape"
   ]
  },
  {
   "cell_type": "markdown",
   "id": "d0e28bf8",
   "metadata": {},
   "source": [
    "<font color='red'> **------------------------------------------------------------------------------------------------------------------------------------------------------------------------------------------------------------------** </font>\n",
    "<font color='red'> **Проба спарс матриц** </font>"
   ]
  },
  {
   "cell_type": "markdown",
   "id": "413e36b5",
   "metadata": {},
   "source": [
    "!pip install rectools #специальная библиотека"
   ]
  },
  {
   "cell_type": "code",
   "execution_count": 51,
   "id": "2480d7db",
   "metadata": {},
   "outputs": [],
   "source": [
    "from rectools import Columns\n",
    "from rectools.dataset import Dataset"
   ]
  },
  {
   "cell_type": "code",
   "execution_count": 58,
   "id": "9d77b64f",
   "metadata": {},
   "outputs": [
    {
     "data": {
      "text/html": [
       "<div>\n",
       "<style scoped>\n",
       "    .dataframe tbody tr th:only-of-type {\n",
       "        vertical-align: middle;\n",
       "    }\n",
       "\n",
       "    .dataframe tbody tr th {\n",
       "        vertical-align: top;\n",
       "    }\n",
       "\n",
       "    .dataframe thead th {\n",
       "        text-align: right;\n",
       "    }\n",
       "</style>\n",
       "<table border=\"1\" class=\"dataframe\">\n",
       "  <thead>\n",
       "    <tr style=\"text-align: right;\">\n",
       "      <th></th>\n",
       "      <th>user_id</th>\n",
       "      <th>item_id</th>\n",
       "      <th>weight</th>\n",
       "      <th>datetime</th>\n",
       "    </tr>\n",
       "  </thead>\n",
       "  <tbody>\n",
       "    <tr>\n",
       "      <th>22171662</th>\n",
       "      <td>6373</td>\n",
       "      <td>261950.0</td>\n",
       "      <td>4.0</td>\n",
       "      <td>2016-05-12 14:25:15</td>\n",
       "    </tr>\n",
       "    <tr>\n",
       "      <th>10442183</th>\n",
       "      <td>1527</td>\n",
       "      <td>135898.0</td>\n",
       "      <td>5.0</td>\n",
       "      <td>2014-10-04 02:45:24</td>\n",
       "    </tr>\n",
       "    <tr>\n",
       "      <th>12143004</th>\n",
       "      <td>1983</td>\n",
       "      <td>215432.0</td>\n",
       "      <td>5.0</td>\n",
       "      <td>2007-06-17 00:24:10</td>\n",
       "    </tr>\n",
       "    <tr>\n",
       "      <th>22976775</th>\n",
       "      <td>7057</td>\n",
       "      <td>184535.0</td>\n",
       "      <td>3.0</td>\n",
       "      <td>2004-08-08 15:49:38</td>\n",
       "    </tr>\n",
       "    <tr>\n",
       "      <th>18380135</th>\n",
       "      <td>3917</td>\n",
       "      <td>119812.0</td>\n",
       "      <td>3.5</td>\n",
       "      <td>2010-03-18 16:01:51</td>\n",
       "    </tr>\n",
       "    <tr>\n",
       "      <th>...</th>\n",
       "      <td>...</td>\n",
       "      <td>...</td>\n",
       "      <td>...</td>\n",
       "      <td>...</td>\n",
       "    </tr>\n",
       "    <tr>\n",
       "      <th>11527229</th>\n",
       "      <td>1784</td>\n",
       "      <td>270892.0</td>\n",
       "      <td>3.0</td>\n",
       "      <td>2001-10-25 22:57:56</td>\n",
       "    </tr>\n",
       "    <tr>\n",
       "      <th>16816671</th>\n",
       "      <td>3248</td>\n",
       "      <td>86786.0</td>\n",
       "      <td>1.0</td>\n",
       "      <td>2017-04-03 10:31:51</td>\n",
       "    </tr>\n",
       "    <tr>\n",
       "      <th>7107342</th>\n",
       "      <td>1060</td>\n",
       "      <td>39635.0</td>\n",
       "      <td>3.0</td>\n",
       "      <td>1999-12-25 01:48:26</td>\n",
       "    </tr>\n",
       "    <tr>\n",
       "      <th>27035873</th>\n",
       "      <td>56715</td>\n",
       "      <td>113052.0</td>\n",
       "      <td>4.5</td>\n",
       "      <td>2008-11-20 23:46:37</td>\n",
       "    </tr>\n",
       "    <tr>\n",
       "      <th>820843</th>\n",
       "      <td>52</td>\n",
       "      <td>156070.0</td>\n",
       "      <td>4.0</td>\n",
       "      <td>1997-07-23 04:07:18</td>\n",
       "    </tr>\n",
       "  </tbody>\n",
       "</table>\n",
       "<p>23684822 rows × 4 columns</p>\n",
       "</div>"
      ],
      "text/plain": [
       "          user_id   item_id  weight            datetime\n",
       "22171662     6373  261950.0     4.0 2016-05-12 14:25:15\n",
       "10442183     1527  135898.0     5.0 2014-10-04 02:45:24\n",
       "12143004     1983  215432.0     5.0 2007-06-17 00:24:10\n",
       "22976775     7057  184535.0     3.0 2004-08-08 15:49:38\n",
       "18380135     3917  119812.0     3.5 2010-03-18 16:01:51\n",
       "...           ...       ...     ...                 ...\n",
       "11527229     1784  270892.0     3.0 2001-10-25 22:57:56\n",
       "16816671     3248   86786.0     1.0 2017-04-03 10:31:51\n",
       "7107342      1060   39635.0     3.0 1999-12-25 01:48:26\n",
       "27035873    56715  113052.0     4.5 2008-11-20 23:46:37\n",
       "820843         52  156070.0     4.0 1997-07-23 04:07:18\n",
       "\n",
       "[23684822 rows x 4 columns]"
      ]
     },
     "execution_count": 58,
     "metadata": {},
     "output_type": "execute_result"
    }
   ],
   "source": [
    "df_train = train[['MOVIEID','USERID','RATING','TIMESTAMP']]\n",
    "df_train.columns = ['user_id','item_id','weight','datetime']\n",
    "df_train"
   ]
  },
  {
   "cell_type": "code",
   "execution_count": 59,
   "id": "d3a18370",
   "metadata": {},
   "outputs": [],
   "source": [
    "sparse_df_train = Dataset.construct(\n",
    "    df_train,\n",
    "    make_dense_user_features=False  # for `sparse` format\n",
    ")"
   ]
  },
  {
   "cell_type": "code",
   "execution_count": 60,
   "id": "4fe11225",
   "metadata": {},
   "outputs": [
    {
     "data": {
      "text/plain": [
       "Dataset(user_id_map=IdMap(external_ids=array([  6373,   1527,   1983, ..., 210581, 276561, 143174], dtype=int64)), item_id_map=IdMap(external_ids=array([261950., 135898., 215432., ..., 214184., 269954.,  34221.])), interactions=Interactions(df=          user_id  item_id  weight            datetime\n",
       "22171662        0        0     4.0 2016-05-12 14:25:15\n",
       "10442183        1        1     5.0 2014-10-04 02:45:24\n",
       "12143004        2        2     5.0 2007-06-17 00:24:10\n",
       "22976775        3        3     3.0 2004-08-08 15:49:38\n",
       "18380135        4        4     3.5 2010-03-18 16:01:51\n",
       "...           ...      ...     ...                 ...\n",
       "11527229      372     3007     3.0 2001-10-25 22:57:56\n",
       "16816671     3027     6137     1.0 2017-04-03 10:31:51\n",
       "7107342       173   175371     3.0 1999-12-25 01:48:26\n",
       "27035873     1056     6647     4.5 2008-11-20 23:46:37\n",
       "820843        646   155351     4.0 1997-07-23 04:07:18\n",
       "\n",
       "[23684822 rows x 4 columns]), user_features=None, item_features=None)"
      ]
     },
     "execution_count": 60,
     "metadata": {},
     "output_type": "execute_result"
    }
   ],
   "source": [
    "sparse_df_train"
   ]
  },
  {
   "cell_type": "code",
   "execution_count": 62,
   "id": "89eb57ec",
   "metadata": {},
   "outputs": [
    {
     "data": {
      "text/plain": [
       "IdMap(external_ids=array([  6373,   1527,   1983, ..., 210581, 276561, 143174], dtype=int64))"
      ]
     },
     "execution_count": 62,
     "metadata": {},
     "output_type": "execute_result"
    }
   ],
   "source": [
    "sparse_df_train.user_id_map"
   ]
  },
  {
   "cell_type": "code",
   "execution_count": 63,
   "id": "f68643e6",
   "metadata": {},
   "outputs": [
    {
     "data": {
      "text/plain": [
       "IdMap(external_ids=array([261950., 135898., 215432., ..., 214184., 269954.,  34221.]))"
      ]
     },
     "execution_count": 63,
     "metadata": {},
     "output_type": "execute_result"
    }
   ],
   "source": [
    "sparse_df_train.item_id_map"
   ]
  },
  {
   "cell_type": "code",
   "execution_count": 64,
   "id": "16eba8aa",
   "metadata": {},
   "outputs": [
    {
     "data": {
      "text/plain": [
       "Interactions(df=          user_id  item_id  weight            datetime\n",
       "22171662        0        0     4.0 2016-05-12 14:25:15\n",
       "10442183        1        1     5.0 2014-10-04 02:45:24\n",
       "12143004        2        2     5.0 2007-06-17 00:24:10\n",
       "22976775        3        3     3.0 2004-08-08 15:49:38\n",
       "18380135        4        4     3.5 2010-03-18 16:01:51\n",
       "...           ...      ...     ...                 ...\n",
       "11527229      372     3007     3.0 2001-10-25 22:57:56\n",
       "16816671     3027     6137     1.0 2017-04-03 10:31:51\n",
       "7107342       173   175371     3.0 1999-12-25 01:48:26\n",
       "27035873     1056     6647     4.5 2008-11-20 23:46:37\n",
       "820843        646   155351     4.0 1997-07-23 04:07:18\n",
       "\n",
       "[23684822 rows x 4 columns])"
      ]
     },
     "execution_count": 64,
     "metadata": {},
     "output_type": "execute_result"
    }
   ],
   "source": [
    "sparse_df_train.interactions"
   ]
  },
  {
   "cell_type": "markdown",
   "id": "2ab99f57",
   "metadata": {},
   "source": [
    "> тут я немного не успел до конца разобрать, но вот по ссылке неплохая реализация еще есть + пример как в модель грузить\n",
    "> https://rekkobook.com/chapter1/collab_filter.html"
   ]
  },
  {
   "cell_type": "markdown",
   "id": "1e4fdb3b",
   "metadata": {},
   "source": [
    "<font color='red'> **------------------------------------------------------------------------------------------------------------------------------------------------------------------------------------------------------------------** </font>"
   ]
  },
  {
   "cell_type": "code",
   "execution_count": 26,
   "id": "7fecd039",
   "metadata": {
    "ExecuteTime": {
     "end_time": "2023-12-05T19:54:24.285779Z",
     "start_time": "2023-12-05T19:54:23.962689Z"
    }
   },
   "outputs": [
    {
     "data": {
      "text/html": [
       "<div>\n",
       "<style scoped>\n",
       "    .dataframe tbody tr th:only-of-type {\n",
       "        vertical-align: middle;\n",
       "    }\n",
       "\n",
       "    .dataframe tbody tr th {\n",
       "        vertical-align: top;\n",
       "    }\n",
       "\n",
       "    .dataframe thead th {\n",
       "        text-align: right;\n",
       "    }\n",
       "</style>\n",
       "<table border=\"1\" class=\"dataframe\">\n",
       "  <thead>\n",
       "    <tr style=\"text-align: right;\">\n",
       "      <th>MOVIEID</th>\n",
       "      <th>1</th>\n",
       "      <th>2</th>\n",
       "      <th>3</th>\n",
       "      <th>5</th>\n",
       "      <th>6</th>\n",
       "      <th>7</th>\n",
       "      <th>9</th>\n",
       "      <th>10</th>\n",
       "      <th>11</th>\n",
       "      <th>12</th>\n",
       "      <th>...</th>\n",
       "      <th>278702</th>\n",
       "      <th>278794</th>\n",
       "      <th>280114</th>\n",
       "      <th>280342</th>\n",
       "      <th>280900</th>\n",
       "      <th>281096</th>\n",
       "      <th>281190</th>\n",
       "      <th>282671</th>\n",
       "      <th>284411</th>\n",
       "      <th>288265</th>\n",
       "    </tr>\n",
       "    <tr>\n",
       "      <th>USERID</th>\n",
       "      <th></th>\n",
       "      <th></th>\n",
       "      <th></th>\n",
       "      <th></th>\n",
       "      <th></th>\n",
       "      <th></th>\n",
       "      <th></th>\n",
       "      <th></th>\n",
       "      <th></th>\n",
       "      <th></th>\n",
       "      <th></th>\n",
       "      <th></th>\n",
       "      <th></th>\n",
       "      <th></th>\n",
       "      <th></th>\n",
       "      <th></th>\n",
       "      <th></th>\n",
       "      <th></th>\n",
       "      <th></th>\n",
       "      <th></th>\n",
       "      <th></th>\n",
       "    </tr>\n",
       "  </thead>\n",
       "  <tbody>\n",
       "    <tr>\n",
       "      <th>155.0</th>\n",
       "      <td>0.0</td>\n",
       "      <td>0.0</td>\n",
       "      <td>0.0</td>\n",
       "      <td>0.0</td>\n",
       "      <td>0.0</td>\n",
       "      <td>0.0</td>\n",
       "      <td>0.0</td>\n",
       "      <td>0.0</td>\n",
       "      <td>0.0</td>\n",
       "      <td>0.0</td>\n",
       "      <td>...</td>\n",
       "      <td>0.0</td>\n",
       "      <td>0.0</td>\n",
       "      <td>0.0</td>\n",
       "      <td>0.0</td>\n",
       "      <td>0.0</td>\n",
       "      <td>0.0</td>\n",
       "      <td>0.0</td>\n",
       "      <td>0.0</td>\n",
       "      <td>0.0</td>\n",
       "      <td>0.0</td>\n",
       "    </tr>\n",
       "    <tr>\n",
       "      <th>184.0</th>\n",
       "      <td>0.0</td>\n",
       "      <td>0.0</td>\n",
       "      <td>0.0</td>\n",
       "      <td>0.0</td>\n",
       "      <td>0.0</td>\n",
       "      <td>0.0</td>\n",
       "      <td>0.0</td>\n",
       "      <td>0.0</td>\n",
       "      <td>0.0</td>\n",
       "      <td>0.0</td>\n",
       "      <td>...</td>\n",
       "      <td>0.0</td>\n",
       "      <td>0.0</td>\n",
       "      <td>0.0</td>\n",
       "      <td>0.0</td>\n",
       "      <td>0.0</td>\n",
       "      <td>0.0</td>\n",
       "      <td>0.0</td>\n",
       "      <td>0.0</td>\n",
       "      <td>0.0</td>\n",
       "      <td>0.0</td>\n",
       "    </tr>\n",
       "    <tr>\n",
       "      <th>195.0</th>\n",
       "      <td>0.0</td>\n",
       "      <td>0.0</td>\n",
       "      <td>0.0</td>\n",
       "      <td>0.0</td>\n",
       "      <td>0.0</td>\n",
       "      <td>0.0</td>\n",
       "      <td>0.0</td>\n",
       "      <td>0.0</td>\n",
       "      <td>0.0</td>\n",
       "      <td>0.0</td>\n",
       "      <td>...</td>\n",
       "      <td>0.0</td>\n",
       "      <td>0.0</td>\n",
       "      <td>0.0</td>\n",
       "      <td>0.0</td>\n",
       "      <td>0.0</td>\n",
       "      <td>0.0</td>\n",
       "      <td>0.0</td>\n",
       "      <td>0.0</td>\n",
       "      <td>0.0</td>\n",
       "      <td>0.0</td>\n",
       "    </tr>\n",
       "    <tr>\n",
       "      <th>213.0</th>\n",
       "      <td>0.0</td>\n",
       "      <td>0.0</td>\n",
       "      <td>0.0</td>\n",
       "      <td>0.0</td>\n",
       "      <td>0.0</td>\n",
       "      <td>0.0</td>\n",
       "      <td>0.0</td>\n",
       "      <td>0.0</td>\n",
       "      <td>0.0</td>\n",
       "      <td>0.0</td>\n",
       "      <td>...</td>\n",
       "      <td>0.0</td>\n",
       "      <td>0.0</td>\n",
       "      <td>0.0</td>\n",
       "      <td>0.0</td>\n",
       "      <td>0.0</td>\n",
       "      <td>0.0</td>\n",
       "      <td>0.0</td>\n",
       "      <td>0.0</td>\n",
       "      <td>0.0</td>\n",
       "      <td>0.0</td>\n",
       "    </tr>\n",
       "    <tr>\n",
       "      <th>224.0</th>\n",
       "      <td>0.0</td>\n",
       "      <td>0.0</td>\n",
       "      <td>0.0</td>\n",
       "      <td>0.0</td>\n",
       "      <td>0.0</td>\n",
       "      <td>0.0</td>\n",
       "      <td>0.0</td>\n",
       "      <td>0.0</td>\n",
       "      <td>0.0</td>\n",
       "      <td>0.0</td>\n",
       "      <td>...</td>\n",
       "      <td>0.0</td>\n",
       "      <td>0.0</td>\n",
       "      <td>0.0</td>\n",
       "      <td>0.0</td>\n",
       "      <td>0.0</td>\n",
       "      <td>0.0</td>\n",
       "      <td>0.0</td>\n",
       "      <td>0.0</td>\n",
       "      <td>0.0</td>\n",
       "      <td>0.0</td>\n",
       "    </tr>\n",
       "  </tbody>\n",
       "</table>\n",
       "<p>5 rows × 3762 columns</p>\n",
       "</div>"
      ],
      "text/plain": [
       "MOVIEID  1       2       3       5       6       7       9       10      \\\n",
       "USERID                                                                    \n",
       "155.0       0.0     0.0     0.0     0.0     0.0     0.0     0.0     0.0   \n",
       "184.0       0.0     0.0     0.0     0.0     0.0     0.0     0.0     0.0   \n",
       "195.0       0.0     0.0     0.0     0.0     0.0     0.0     0.0     0.0   \n",
       "213.0       0.0     0.0     0.0     0.0     0.0     0.0     0.0     0.0   \n",
       "224.0       0.0     0.0     0.0     0.0     0.0     0.0     0.0     0.0   \n",
       "\n",
       "MOVIEID  11      12      ...  278702  278794  280114  280342  280900  281096  \\\n",
       "USERID                   ...                                                   \n",
       "155.0       0.0     0.0  ...     0.0     0.0     0.0     0.0     0.0     0.0   \n",
       "184.0       0.0     0.0  ...     0.0     0.0     0.0     0.0     0.0     0.0   \n",
       "195.0       0.0     0.0  ...     0.0     0.0     0.0     0.0     0.0     0.0   \n",
       "213.0       0.0     0.0  ...     0.0     0.0     0.0     0.0     0.0     0.0   \n",
       "224.0       0.0     0.0  ...     0.0     0.0     0.0     0.0     0.0     0.0   \n",
       "\n",
       "MOVIEID  281190  282671  284411  288265  \n",
       "USERID                                   \n",
       "155.0       0.0     0.0     0.0     0.0  \n",
       "184.0       0.0     0.0     0.0     0.0  \n",
       "195.0       0.0     0.0     0.0     0.0  \n",
       "213.0       0.0     0.0     0.0     0.0  \n",
       "224.0       0.0     0.0     0.0     0.0  \n",
       "\n",
       "[5 rows x 3762 columns]"
      ]
     },
     "execution_count": 26,
     "metadata": {},
     "output_type": "execute_result"
    }
   ],
   "source": [
    "df_ratings = train[:10000].pivot(index = 'USERID', columns ='MOVIEID', values = 'RATING').fillna(0).astype('float16')\n",
    "df_ratings.head()"
   ]
  },
  {
   "cell_type": "code",
   "execution_count": 31,
   "id": "898c0a2f",
   "metadata": {
    "ExecuteTime": {
     "end_time": "2023-12-05T19:52:21.673758Z",
     "start_time": "2023-12-05T19:52:21.668109Z"
    }
   },
   "outputs": [
    {
     "data": {
      "text/plain": [
       "MOVIEID\n",
       "1         float16\n",
       "2         float16\n",
       "3         float16\n",
       "4         float16\n",
       "5         float16\n",
       "           ...   \n",
       "281096    float16\n",
       "281190    float16\n",
       "284879    float16\n",
       "285593    float16\n",
       "286897    float16\n",
       "Length: 3746, dtype: object"
      ]
     },
     "execution_count": 31,
     "metadata": {},
     "output_type": "execute_result"
    }
   ],
   "source": [
    "df_ratings.dtypes"
   ]
  },
  {
   "cell_type": "code",
   "execution_count": null,
   "id": "6128ddfd",
   "metadata": {},
   "outputs": [],
   "source": []
  },
  {
   "cell_type": "code",
   "execution_count": null,
   "id": "aabaaf0b",
   "metadata": {},
   "outputs": [],
   "source": [
    "# TODO\n",
    "svd = SVD()\n",
    "\n",
    "start = time.time()\n",
    "\n",
    "cross_validate(svd, data, measures=['RMSE', 'MAE'], cv=5, verbose=True)\n",
    "svd.fit(trainset)\n",
    "\n",
    "predictions = svd.test(testset)\n",
    "\n",
    "print(\"\\nTest Set Error\\n--------------\")\n",
    "accuracy.mae(predictions)\n",
    "print(\"--------------\\nFinished in {:.3f} sec.\".format(time.time()-start))"
   ]
  },
  {
   "cell_type": "code",
   "execution_count": null,
   "id": "aeae8e05",
   "metadata": {},
   "outputs": [],
   "source": []
  },
  {
   "cell_type": "code",
   "execution_count": null,
   "id": "652df537",
   "metadata": {},
   "outputs": [],
   "source": []
  }
 ],
 "metadata": {
  "kernelspec": {
   "display_name": "Python 3 (ipykernel)",
   "language": "python",
   "name": "python3"
  },
  "language_info": {
   "codemirror_mode": {
    "name": "ipython",
    "version": 3
   },
   "file_extension": ".py",
   "mimetype": "text/x-python",
   "name": "python",
   "nbconvert_exporter": "python",
   "pygments_lexer": "ipython3",
   "version": "3.9.12"
  },
  "toc": {
   "base_numbering": 1,
   "nav_menu": {},
   "number_sections": true,
   "sideBar": true,
   "skip_h1_title": false,
   "title_cell": "Table of Contents",
   "title_sidebar": "Contents",
   "toc_cell": false,
   "toc_position": {
    "height": "calc(100% - 180px)",
    "left": "10px",
    "top": "150px",
    "width": "270px"
   },
   "toc_section_display": true,
   "toc_window_display": true
  },
  "varInspector": {
   "cols": {
    "lenName": 16,
    "lenType": 16,
    "lenVar": 40
   },
   "kernels_config": {
    "python": {
     "delete_cmd_postfix": "",
     "delete_cmd_prefix": "del ",
     "library": "var_list.py",
     "varRefreshCmd": "print(var_dic_list())"
    },
    "r": {
     "delete_cmd_postfix": ") ",
     "delete_cmd_prefix": "rm(",
     "library": "var_list.r",
     "varRefreshCmd": "cat(var_dic_list()) "
    }
   },
   "types_to_exclude": [
    "module",
    "function",
    "builtin_function_or_method",
    "instance",
    "_Feature"
   ],
   "window_display": false
  }
 },
 "nbformat": 4,
 "nbformat_minor": 5
}
