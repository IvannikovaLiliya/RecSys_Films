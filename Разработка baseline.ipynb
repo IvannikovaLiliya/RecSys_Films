{
 "cells": [
  {
   "cell_type": "code",
   "execution_count": 1,
   "id": "74d57851",
   "metadata": {
    "ExecuteTime": {
     "end_time": "2023-12-05T19:53:57.190258Z",
     "start_time": "2023-12-05T19:53:56.036501Z"
    }
   },
   "outputs": [
    {
     "data": {
      "text/html": [
       "        <script type=\"text/javascript\">\n",
       "        window.PlotlyConfig = {MathJaxConfig: 'local'};\n",
       "        if (window.MathJax && window.MathJax.Hub && window.MathJax.Hub.Config) {window.MathJax.Hub.Config({SVG: {font: \"STIX-Web\"}});}\n",
       "        if (typeof require !== 'undefined') {\n",
       "        require.undef(\"plotly\");\n",
       "        requirejs.config({\n",
       "            paths: {\n",
       "                'plotly': ['https://cdn.plot.ly/plotly-2.27.0.min']\n",
       "            }\n",
       "        });\n",
       "        require(['plotly'], function(Plotly) {\n",
       "            window._Plotly = Plotly;\n",
       "        });\n",
       "        }\n",
       "        </script>\n",
       "        "
      ]
     },
     "metadata": {},
     "output_type": "display_data"
    }
   ],
   "source": [
    "import pandas as pd\n",
    "import plotly.graph_objs as go\n",
    "import string\n",
    "import re\n",
    "import numpy as np\n",
    "import seaborn as sns\n",
    "import matplotlib.pyplot as plt\n",
    "from matplotlib.pyplot import figure\n",
    "import cufflinks as cf\n",
    "from plotly.offline import iplot\n",
    "from tqdm import tqdm\n",
    "\n",
    "from collections import Counter\n",
    "from typing import Dict, Text\n",
    "from ast import literal_eval\n",
    "from datetime import datetime\n",
    "import plotly.express as px\n",
    "\n",
    "cf.go_offline()\n",
    "cf.set_config_file(offline = False, world_readable = True)\n",
    "\n",
    "import plotly.io as pio\n",
    "pio.renderers.default='notebook'\n",
    "\n",
    "import warnings\n",
    "warnings.simplefilter('ignore')"
   ]
  },
  {
   "cell_type": "code",
   "execution_count": 2,
   "id": "33cf6872",
   "metadata": {
    "ExecuteTime": {
     "end_time": "2023-12-05T19:53:57.262077Z",
     "start_time": "2023-12-05T19:53:57.191167Z"
    }
   },
   "outputs": [],
   "source": [
    "from numpy.linalg import svd\n",
    "from sklearn.metrics import accuracy_score\n",
    "from sklearn.model_selection import cross_validate\n",
    "from sklearn.model_selection import train_test_split"
   ]
  },
  {
   "cell_type": "markdown",
   "id": "a09ae255",
   "metadata": {},
   "source": [
    "# 0.IMPORT данных"
   ]
  },
  {
   "cell_type": "code",
   "execution_count": 12,
   "id": "5365982a",
   "metadata": {
    "ExecuteTime": {
     "end_time": "2023-12-05T19:53:57.266309Z",
     "start_time": "2023-12-05T19:53:57.263514Z"
    }
   },
   "outputs": [
    {
     "data": {
      "text/plain": [
       "'C:\\\\Users\\\\Владислав\\\\test_python_scripts\\\\project\\\\test project'"
      ]
     },
     "execution_count": 12,
     "metadata": {},
     "output_type": "execute_result"
    }
   ],
   "source": [
    "import os\n",
    "us = os.getcwd()\n",
    "us"
   ]
  },
  {
   "cell_type": "code",
   "execution_count": 13,
   "id": "cbc2b297",
   "metadata": {
    "ExecuteTime": {
     "end_time": "2023-12-05T19:53:57.313589Z",
     "start_time": "2023-12-05T19:53:57.267019Z"
    }
   },
   "outputs": [],
   "source": [
    "if 'liliyaivannikova' in us:\n",
    "    movies = pd.read_csv(r'/Users/liliyaivannikova/Documents/project/ml-latest/movies.csv')\n",
    "    rating = pd.read_csv(r'/Users/liliyaivannikova/Documents/project/ml-latest/ratings.csv')\n",
    "elif 'Владислав' in us:\n",
    "    movies = pd.read_csv(r'dataset/movies.csv')\n",
    "    rating = pd.read_csv(r'dataset/ratings.csv')"
   ]
  },
  {
   "cell_type": "code",
   "execution_count": 14,
   "id": "1ce21742",
   "metadata": {},
   "outputs": [
    {
     "name": "stdout",
     "output_type": "stream",
     "text": [
      "\n",
      "movies: (86537, 3)\n",
      "rating: (33832162, 4)\n",
      "\n"
     ]
    }
   ],
   "source": [
    "print(f'''\n",
    "movies: {movies.shape}\n",
    "rating: {rating.shape}\n",
    "''')"
   ]
  },
  {
   "cell_type": "code",
   "execution_count": 15,
   "id": "2f1bd9f3",
   "metadata": {
    "ExecuteTime": {
     "end_time": "2023-12-05T19:53:57.319125Z",
     "start_time": "2023-12-05T19:53:57.314577Z"
    }
   },
   "outputs": [
    {
     "data": {
      "text/html": [
       "<div>\n",
       "<style scoped>\n",
       "    .dataframe tbody tr th:only-of-type {\n",
       "        vertical-align: middle;\n",
       "    }\n",
       "\n",
       "    .dataframe tbody tr th {\n",
       "        vertical-align: top;\n",
       "    }\n",
       "\n",
       "    .dataframe thead th {\n",
       "        text-align: right;\n",
       "    }\n",
       "</style>\n",
       "<table border=\"1\" class=\"dataframe\">\n",
       "  <thead>\n",
       "    <tr style=\"text-align: right;\">\n",
       "      <th></th>\n",
       "      <th>MOVIEID</th>\n",
       "      <th>TITLE</th>\n",
       "      <th>GENRES</th>\n",
       "    </tr>\n",
       "  </thead>\n",
       "  <tbody>\n",
       "    <tr>\n",
       "      <th>0</th>\n",
       "      <td>1</td>\n",
       "      <td>Toy Story (1995)</td>\n",
       "      <td>Adventure|Animation|Children|Comedy|Fantasy</td>\n",
       "    </tr>\n",
       "    <tr>\n",
       "      <th>1</th>\n",
       "      <td>2</td>\n",
       "      <td>Jumanji (1995)</td>\n",
       "      <td>Adventure|Children|Fantasy</td>\n",
       "    </tr>\n",
       "    <tr>\n",
       "      <th>2</th>\n",
       "      <td>3</td>\n",
       "      <td>Grumpier Old Men (1995)</td>\n",
       "      <td>Comedy|Romance</td>\n",
       "    </tr>\n",
       "    <tr>\n",
       "      <th>3</th>\n",
       "      <td>4</td>\n",
       "      <td>Waiting to Exhale (1995)</td>\n",
       "      <td>Comedy|Drama|Romance</td>\n",
       "    </tr>\n",
       "    <tr>\n",
       "      <th>4</th>\n",
       "      <td>5</td>\n",
       "      <td>Father of the Bride Part II (1995)</td>\n",
       "      <td>Comedy</td>\n",
       "    </tr>\n",
       "  </tbody>\n",
       "</table>\n",
       "</div>"
      ],
      "text/plain": [
       "   MOVIEID                               TITLE  \\\n",
       "0        1                    Toy Story (1995)   \n",
       "1        2                      Jumanji (1995)   \n",
       "2        3             Grumpier Old Men (1995)   \n",
       "3        4            Waiting to Exhale (1995)   \n",
       "4        5  Father of the Bride Part II (1995)   \n",
       "\n",
       "                                        GENRES  \n",
       "0  Adventure|Animation|Children|Comedy|Fantasy  \n",
       "1                   Adventure|Children|Fantasy  \n",
       "2                               Comedy|Romance  \n",
       "3                         Comedy|Drama|Romance  \n",
       "4                                       Comedy  "
      ]
     },
     "execution_count": 15,
     "metadata": {},
     "output_type": "execute_result"
    }
   ],
   "source": [
    "movies.columns = [col.upper() for col in movies.columns]\n",
    "movies.head()"
   ]
  },
  {
   "cell_type": "code",
   "execution_count": 16,
   "id": "9129d676",
   "metadata": {
    "ExecuteTime": {
     "end_time": "2023-12-05T19:53:57.423035Z",
     "start_time": "2023-12-05T19:53:57.319898Z"
    }
   },
   "outputs": [],
   "source": [
    "movies['REALEASE'] = movies['TITLE'].str.extract(\"\\((\\d{4})\\)\", expand=True)\n",
    "movies['REALEASE'] = pd.to_datetime(movies['REALEASE'], format='%Y')\n",
    "movies['REALEASE'] = movies['REALEASE'].dt.year\n",
    "movies['TITLE'] = movies['TITLE'].str[:-7]"
   ]
  },
  {
   "cell_type": "code",
   "execution_count": 17,
   "id": "17b93cb4",
   "metadata": {},
   "outputs": [
    {
     "data": {
      "text/html": [
       "<div>\n",
       "<style scoped>\n",
       "    .dataframe tbody tr th:only-of-type {\n",
       "        vertical-align: middle;\n",
       "    }\n",
       "\n",
       "    .dataframe tbody tr th {\n",
       "        vertical-align: top;\n",
       "    }\n",
       "\n",
       "    .dataframe thead th {\n",
       "        text-align: right;\n",
       "    }\n",
       "</style>\n",
       "<table border=\"1\" class=\"dataframe\">\n",
       "  <thead>\n",
       "    <tr style=\"text-align: right;\">\n",
       "      <th></th>\n",
       "      <th>MOVIEID</th>\n",
       "      <th>TITLE</th>\n",
       "      <th>GENRES</th>\n",
       "      <th>REALEASE</th>\n",
       "    </tr>\n",
       "  </thead>\n",
       "  <tbody>\n",
       "    <tr>\n",
       "      <th>0</th>\n",
       "      <td>1</td>\n",
       "      <td>Toy Story</td>\n",
       "      <td>Adventure|Animation|Children|Comedy|Fantasy</td>\n",
       "      <td>1995.0</td>\n",
       "    </tr>\n",
       "    <tr>\n",
       "      <th>1</th>\n",
       "      <td>2</td>\n",
       "      <td>Jumanji</td>\n",
       "      <td>Adventure|Children|Fantasy</td>\n",
       "      <td>1995.0</td>\n",
       "    </tr>\n",
       "    <tr>\n",
       "      <th>2</th>\n",
       "      <td>3</td>\n",
       "      <td>Grumpier Old Men</td>\n",
       "      <td>Comedy|Romance</td>\n",
       "      <td>1995.0</td>\n",
       "    </tr>\n",
       "    <tr>\n",
       "      <th>3</th>\n",
       "      <td>4</td>\n",
       "      <td>Waiting to Exhale</td>\n",
       "      <td>Comedy|Drama|Romance</td>\n",
       "      <td>1995.0</td>\n",
       "    </tr>\n",
       "    <tr>\n",
       "      <th>4</th>\n",
       "      <td>5</td>\n",
       "      <td>Father of the Bride Part II</td>\n",
       "      <td>Comedy</td>\n",
       "      <td>1995.0</td>\n",
       "    </tr>\n",
       "    <tr>\n",
       "      <th>...</th>\n",
       "      <td>...</td>\n",
       "      <td>...</td>\n",
       "      <td>...</td>\n",
       "      <td>...</td>\n",
       "    </tr>\n",
       "    <tr>\n",
       "      <th>86532</th>\n",
       "      <td>288967</td>\n",
       "      <td>State of Siege: Temple Attack</td>\n",
       "      <td>Action|Drama</td>\n",
       "      <td>2021.0</td>\n",
       "    </tr>\n",
       "    <tr>\n",
       "      <th>86533</th>\n",
       "      <td>288971</td>\n",
       "      <td>Ouija Japan</td>\n",
       "      <td>Action|Horror</td>\n",
       "      <td>2021.0</td>\n",
       "    </tr>\n",
       "    <tr>\n",
       "      <th>86534</th>\n",
       "      <td>288975</td>\n",
       "      <td>The Men Who Made the Movies: Howard Hawks</td>\n",
       "      <td>Documentary</td>\n",
       "      <td>1973.0</td>\n",
       "    </tr>\n",
       "    <tr>\n",
       "      <th>86535</th>\n",
       "      <td>288977</td>\n",
       "      <td>Skinford: Death Sentence</td>\n",
       "      <td>Crime|Thriller</td>\n",
       "      <td>2023.0</td>\n",
       "    </tr>\n",
       "    <tr>\n",
       "      <th>86536</th>\n",
       "      <td>288983</td>\n",
       "      <td>UNZIPPED: An Autopsy of American Inequality</td>\n",
       "      <td>Documentary</td>\n",
       "      <td>2021.0</td>\n",
       "    </tr>\n",
       "  </tbody>\n",
       "</table>\n",
       "<p>86537 rows × 4 columns</p>\n",
       "</div>"
      ],
      "text/plain": [
       "       MOVIEID                                        TITLE  \\\n",
       "0            1                                    Toy Story   \n",
       "1            2                                      Jumanji   \n",
       "2            3                             Grumpier Old Men   \n",
       "3            4                            Waiting to Exhale   \n",
       "4            5                  Father of the Bride Part II   \n",
       "...        ...                                          ...   \n",
       "86532   288967                State of Siege: Temple Attack   \n",
       "86533   288971                                  Ouija Japan   \n",
       "86534   288975    The Men Who Made the Movies: Howard Hawks   \n",
       "86535   288977                     Skinford: Death Sentence   \n",
       "86536   288983  UNZIPPED: An Autopsy of American Inequality   \n",
       "\n",
       "                                            GENRES  REALEASE  \n",
       "0      Adventure|Animation|Children|Comedy|Fantasy    1995.0  \n",
       "1                       Adventure|Children|Fantasy    1995.0  \n",
       "2                                   Comedy|Romance    1995.0  \n",
       "3                             Comedy|Drama|Romance    1995.0  \n",
       "4                                           Comedy    1995.0  \n",
       "...                                            ...       ...  \n",
       "86532                                 Action|Drama    2021.0  \n",
       "86533                                Action|Horror    2021.0  \n",
       "86534                                  Documentary    1973.0  \n",
       "86535                               Crime|Thriller    2023.0  \n",
       "86536                                  Documentary    2021.0  \n",
       "\n",
       "[86537 rows x 4 columns]"
      ]
     },
     "execution_count": 17,
     "metadata": {},
     "output_type": "execute_result"
    }
   ],
   "source": [
    "movies"
   ]
  },
  {
   "cell_type": "code",
   "execution_count": 18,
   "id": "fcf0b520",
   "metadata": {
    "ExecuteTime": {
     "end_time": "2023-12-05T19:53:57.744529Z",
     "start_time": "2023-12-05T19:53:57.423699Z"
    }
   },
   "outputs": [],
   "source": [
    "dfx = movies['GENRES'].str.get_dummies(sep='|')\n",
    "for col in dfx.columns:\n",
    "    dfx[col] = dfx[col].astype('int8')\n"
   ]
  },
  {
   "cell_type": "code",
   "execution_count": 19,
   "id": "c1a6946c",
   "metadata": {
    "ExecuteTime": {
     "end_time": "2023-12-05T19:53:57.803979Z",
     "start_time": "2023-12-05T19:53:57.745319Z"
    }
   },
   "outputs": [],
   "source": [
    "movies = pd.concat([movies, dfx], axis=1).drop(columns=['GENRES'])\n",
    "movies['TITLE'] = movies['TITLE'].astype('category')\n",
    "movies['REALEASE'] = movies['REALEASE'].astype('float16')"
   ]
  },
  {
   "cell_type": "code",
   "execution_count": 20,
   "id": "365f3587",
   "metadata": {
    "ExecuteTime": {
     "end_time": "2023-12-05T19:53:57.808346Z",
     "start_time": "2023-12-05T19:53:57.805899Z"
    },
    "scrolled": true
   },
   "outputs": [
    {
     "data": {
      "text/plain": [
       "MOVIEID                  int64\n",
       "TITLE                 category\n",
       "REALEASE               float16\n",
       "(no genres listed)        int8\n",
       "Action                    int8\n",
       "Adventure                 int8\n",
       "Animation                 int8\n",
       "Children                  int8\n",
       "Comedy                    int8\n",
       "Crime                     int8\n",
       "Documentary               int8\n",
       "Drama                     int8\n",
       "Fantasy                   int8\n",
       "Film-Noir                 int8\n",
       "Horror                    int8\n",
       "IMAX                      int8\n",
       "Musical                   int8\n",
       "Mystery                   int8\n",
       "Romance                   int8\n",
       "Sci-Fi                    int8\n",
       "Thriller                  int8\n",
       "War                       int8\n",
       "Western                   int8\n",
       "dtype: object"
      ]
     },
     "execution_count": 20,
     "metadata": {},
     "output_type": "execute_result"
    }
   ],
   "source": [
    "movies.dtypes"
   ]
  },
  {
   "cell_type": "code",
   "execution_count": 21,
   "id": "ade07a2f",
   "metadata": {
    "ExecuteTime": {
     "end_time": "2023-12-05T19:53:57.814301Z",
     "start_time": "2023-12-05T19:53:57.808917Z"
    }
   },
   "outputs": [
    {
     "data": {
      "text/html": [
       "<div>\n",
       "<style scoped>\n",
       "    .dataframe tbody tr th:only-of-type {\n",
       "        vertical-align: middle;\n",
       "    }\n",
       "\n",
       "    .dataframe tbody tr th {\n",
       "        vertical-align: top;\n",
       "    }\n",
       "\n",
       "    .dataframe thead th {\n",
       "        text-align: right;\n",
       "    }\n",
       "</style>\n",
       "<table border=\"1\" class=\"dataframe\">\n",
       "  <thead>\n",
       "    <tr style=\"text-align: right;\">\n",
       "      <th></th>\n",
       "      <th>MOVIEID</th>\n",
       "      <th>TITLE</th>\n",
       "      <th>REALEASE</th>\n",
       "      <th>(no genres listed)</th>\n",
       "      <th>Action</th>\n",
       "      <th>Adventure</th>\n",
       "      <th>Animation</th>\n",
       "      <th>Children</th>\n",
       "      <th>Comedy</th>\n",
       "      <th>Crime</th>\n",
       "      <th>...</th>\n",
       "      <th>Film-Noir</th>\n",
       "      <th>Horror</th>\n",
       "      <th>IMAX</th>\n",
       "      <th>Musical</th>\n",
       "      <th>Mystery</th>\n",
       "      <th>Romance</th>\n",
       "      <th>Sci-Fi</th>\n",
       "      <th>Thriller</th>\n",
       "      <th>War</th>\n",
       "      <th>Western</th>\n",
       "    </tr>\n",
       "  </thead>\n",
       "  <tbody>\n",
       "    <tr>\n",
       "      <th>0</th>\n",
       "      <td>1</td>\n",
       "      <td>Toy Story</td>\n",
       "      <td>1995.0</td>\n",
       "      <td>0</td>\n",
       "      <td>0</td>\n",
       "      <td>1</td>\n",
       "      <td>1</td>\n",
       "      <td>1</td>\n",
       "      <td>1</td>\n",
       "      <td>0</td>\n",
       "      <td>...</td>\n",
       "      <td>0</td>\n",
       "      <td>0</td>\n",
       "      <td>0</td>\n",
       "      <td>0</td>\n",
       "      <td>0</td>\n",
       "      <td>0</td>\n",
       "      <td>0</td>\n",
       "      <td>0</td>\n",
       "      <td>0</td>\n",
       "      <td>0</td>\n",
       "    </tr>\n",
       "    <tr>\n",
       "      <th>1</th>\n",
       "      <td>2</td>\n",
       "      <td>Jumanji</td>\n",
       "      <td>1995.0</td>\n",
       "      <td>0</td>\n",
       "      <td>0</td>\n",
       "      <td>1</td>\n",
       "      <td>0</td>\n",
       "      <td>1</td>\n",
       "      <td>0</td>\n",
       "      <td>0</td>\n",
       "      <td>...</td>\n",
       "      <td>0</td>\n",
       "      <td>0</td>\n",
       "      <td>0</td>\n",
       "      <td>0</td>\n",
       "      <td>0</td>\n",
       "      <td>0</td>\n",
       "      <td>0</td>\n",
       "      <td>0</td>\n",
       "      <td>0</td>\n",
       "      <td>0</td>\n",
       "    </tr>\n",
       "    <tr>\n",
       "      <th>2</th>\n",
       "      <td>3</td>\n",
       "      <td>Grumpier Old Men</td>\n",
       "      <td>1995.0</td>\n",
       "      <td>0</td>\n",
       "      <td>0</td>\n",
       "      <td>0</td>\n",
       "      <td>0</td>\n",
       "      <td>0</td>\n",
       "      <td>1</td>\n",
       "      <td>0</td>\n",
       "      <td>...</td>\n",
       "      <td>0</td>\n",
       "      <td>0</td>\n",
       "      <td>0</td>\n",
       "      <td>0</td>\n",
       "      <td>0</td>\n",
       "      <td>1</td>\n",
       "      <td>0</td>\n",
       "      <td>0</td>\n",
       "      <td>0</td>\n",
       "      <td>0</td>\n",
       "    </tr>\n",
       "    <tr>\n",
       "      <th>3</th>\n",
       "      <td>4</td>\n",
       "      <td>Waiting to Exhale</td>\n",
       "      <td>1995.0</td>\n",
       "      <td>0</td>\n",
       "      <td>0</td>\n",
       "      <td>0</td>\n",
       "      <td>0</td>\n",
       "      <td>0</td>\n",
       "      <td>1</td>\n",
       "      <td>0</td>\n",
       "      <td>...</td>\n",
       "      <td>0</td>\n",
       "      <td>0</td>\n",
       "      <td>0</td>\n",
       "      <td>0</td>\n",
       "      <td>0</td>\n",
       "      <td>1</td>\n",
       "      <td>0</td>\n",
       "      <td>0</td>\n",
       "      <td>0</td>\n",
       "      <td>0</td>\n",
       "    </tr>\n",
       "    <tr>\n",
       "      <th>4</th>\n",
       "      <td>5</td>\n",
       "      <td>Father of the Bride Part II</td>\n",
       "      <td>1995.0</td>\n",
       "      <td>0</td>\n",
       "      <td>0</td>\n",
       "      <td>0</td>\n",
       "      <td>0</td>\n",
       "      <td>0</td>\n",
       "      <td>1</td>\n",
       "      <td>0</td>\n",
       "      <td>...</td>\n",
       "      <td>0</td>\n",
       "      <td>0</td>\n",
       "      <td>0</td>\n",
       "      <td>0</td>\n",
       "      <td>0</td>\n",
       "      <td>0</td>\n",
       "      <td>0</td>\n",
       "      <td>0</td>\n",
       "      <td>0</td>\n",
       "      <td>0</td>\n",
       "    </tr>\n",
       "  </tbody>\n",
       "</table>\n",
       "<p>5 rows × 23 columns</p>\n",
       "</div>"
      ],
      "text/plain": [
       "   MOVIEID                        TITLE  REALEASE  (no genres listed)  Action  \\\n",
       "0        1                    Toy Story    1995.0                   0       0   \n",
       "1        2                      Jumanji    1995.0                   0       0   \n",
       "2        3             Grumpier Old Men    1995.0                   0       0   \n",
       "3        4            Waiting to Exhale    1995.0                   0       0   \n",
       "4        5  Father of the Bride Part II    1995.0                   0       0   \n",
       "\n",
       "   Adventure  Animation  Children  Comedy  Crime  ...  Film-Noir  Horror  \\\n",
       "0          1          1         1       1      0  ...          0       0   \n",
       "1          1          0         1       0      0  ...          0       0   \n",
       "2          0          0         0       1      0  ...          0       0   \n",
       "3          0          0         0       1      0  ...          0       0   \n",
       "4          0          0         0       1      0  ...          0       0   \n",
       "\n",
       "   IMAX  Musical  Mystery  Romance  Sci-Fi  Thriller  War  Western  \n",
       "0     0        0        0        0       0         0    0        0  \n",
       "1     0        0        0        0       0         0    0        0  \n",
       "2     0        0        0        1       0         0    0        0  \n",
       "3     0        0        0        1       0         0    0        0  \n",
       "4     0        0        0        0       0         0    0        0  \n",
       "\n",
       "[5 rows x 23 columns]"
      ]
     },
     "execution_count": 21,
     "metadata": {},
     "output_type": "execute_result"
    }
   ],
   "source": [
    "movies.head()"
   ]
  },
  {
   "cell_type": "code",
   "execution_count": 22,
   "id": "64aeb5f0",
   "metadata": {
    "ExecuteTime": {
     "end_time": "2023-12-05T19:54:02.180021Z",
     "start_time": "2023-12-05T19:54:02.176918Z"
    }
   },
   "outputs": [
    {
     "data": {
      "text/html": [
       "<div>\n",
       "<style scoped>\n",
       "    .dataframe tbody tr th:only-of-type {\n",
       "        vertical-align: middle;\n",
       "    }\n",
       "\n",
       "    .dataframe tbody tr th {\n",
       "        vertical-align: top;\n",
       "    }\n",
       "\n",
       "    .dataframe thead th {\n",
       "        text-align: right;\n",
       "    }\n",
       "</style>\n",
       "<table border=\"1\" class=\"dataframe\">\n",
       "  <thead>\n",
       "    <tr style=\"text-align: right;\">\n",
       "      <th></th>\n",
       "      <th>USERID</th>\n",
       "      <th>MOVIEID</th>\n",
       "      <th>RATING</th>\n",
       "      <th>TIMESTAMP</th>\n",
       "    </tr>\n",
       "  </thead>\n",
       "  <tbody>\n",
       "    <tr>\n",
       "      <th>0</th>\n",
       "      <td>1</td>\n",
       "      <td>1</td>\n",
       "      <td>4.0</td>\n",
       "      <td>1225734739</td>\n",
       "    </tr>\n",
       "    <tr>\n",
       "      <th>1</th>\n",
       "      <td>1</td>\n",
       "      <td>110</td>\n",
       "      <td>4.0</td>\n",
       "      <td>1225865086</td>\n",
       "    </tr>\n",
       "    <tr>\n",
       "      <th>2</th>\n",
       "      <td>1</td>\n",
       "      <td>158</td>\n",
       "      <td>4.0</td>\n",
       "      <td>1225733503</td>\n",
       "    </tr>\n",
       "    <tr>\n",
       "      <th>3</th>\n",
       "      <td>1</td>\n",
       "      <td>260</td>\n",
       "      <td>4.5</td>\n",
       "      <td>1225735204</td>\n",
       "    </tr>\n",
       "    <tr>\n",
       "      <th>4</th>\n",
       "      <td>1</td>\n",
       "      <td>356</td>\n",
       "      <td>5.0</td>\n",
       "      <td>1225735119</td>\n",
       "    </tr>\n",
       "  </tbody>\n",
       "</table>\n",
       "</div>"
      ],
      "text/plain": [
       "   USERID  MOVIEID  RATING   TIMESTAMP\n",
       "0       1        1     4.0  1225734739\n",
       "1       1      110     4.0  1225865086\n",
       "2       1      158     4.0  1225733503\n",
       "3       1      260     4.5  1225735204\n",
       "4       1      356     5.0  1225735119"
      ]
     },
     "execution_count": 22,
     "metadata": {},
     "output_type": "execute_result"
    }
   ],
   "source": [
    "rating.columns = [col.upper() for col in rating.columns]\n",
    "rating.head()"
   ]
  },
  {
   "cell_type": "code",
   "execution_count": 23,
   "id": "f210bae6",
   "metadata": {
    "ExecuteTime": {
     "end_time": "2023-12-05T19:54:04.977813Z",
     "start_time": "2023-12-05T19:54:02.180543Z"
    }
   },
   "outputs": [
    {
     "data": {
      "text/html": [
       "<div>\n",
       "<style scoped>\n",
       "    .dataframe tbody tr th:only-of-type {\n",
       "        vertical-align: middle;\n",
       "    }\n",
       "\n",
       "    .dataframe tbody tr th {\n",
       "        vertical-align: top;\n",
       "    }\n",
       "\n",
       "    .dataframe thead th {\n",
       "        text-align: right;\n",
       "    }\n",
       "</style>\n",
       "<table border=\"1\" class=\"dataframe\">\n",
       "  <thead>\n",
       "    <tr style=\"text-align: right;\">\n",
       "      <th></th>\n",
       "      <th>MOVIEID</th>\n",
       "      <th>TITLE</th>\n",
       "      <th>REALEASE</th>\n",
       "      <th>(no genres listed)</th>\n",
       "      <th>Action</th>\n",
       "      <th>Adventure</th>\n",
       "      <th>Animation</th>\n",
       "      <th>Children</th>\n",
       "      <th>Comedy</th>\n",
       "      <th>Crime</th>\n",
       "      <th>...</th>\n",
       "      <th>Musical</th>\n",
       "      <th>Mystery</th>\n",
       "      <th>Romance</th>\n",
       "      <th>Sci-Fi</th>\n",
       "      <th>Thriller</th>\n",
       "      <th>War</th>\n",
       "      <th>Western</th>\n",
       "      <th>USERID</th>\n",
       "      <th>RATING</th>\n",
       "      <th>TIMESTAMP</th>\n",
       "    </tr>\n",
       "  </thead>\n",
       "  <tbody>\n",
       "    <tr>\n",
       "      <th>0</th>\n",
       "      <td>1</td>\n",
       "      <td>Toy Story</td>\n",
       "      <td>1995.0</td>\n",
       "      <td>0</td>\n",
       "      <td>0</td>\n",
       "      <td>1</td>\n",
       "      <td>1</td>\n",
       "      <td>1</td>\n",
       "      <td>1</td>\n",
       "      <td>0</td>\n",
       "      <td>...</td>\n",
       "      <td>0</td>\n",
       "      <td>0</td>\n",
       "      <td>0</td>\n",
       "      <td>0</td>\n",
       "      <td>0</td>\n",
       "      <td>0</td>\n",
       "      <td>0</td>\n",
       "      <td>1.0</td>\n",
       "      <td>4.0</td>\n",
       "      <td>1.225735e+09</td>\n",
       "    </tr>\n",
       "    <tr>\n",
       "      <th>1</th>\n",
       "      <td>1</td>\n",
       "      <td>Toy Story</td>\n",
       "      <td>1995.0</td>\n",
       "      <td>0</td>\n",
       "      <td>0</td>\n",
       "      <td>1</td>\n",
       "      <td>1</td>\n",
       "      <td>1</td>\n",
       "      <td>1</td>\n",
       "      <td>0</td>\n",
       "      <td>...</td>\n",
       "      <td>0</td>\n",
       "      <td>0</td>\n",
       "      <td>0</td>\n",
       "      <td>0</td>\n",
       "      <td>0</td>\n",
       "      <td>0</td>\n",
       "      <td>0</td>\n",
       "      <td>2.0</td>\n",
       "      <td>5.0</td>\n",
       "      <td>8.358160e+08</td>\n",
       "    </tr>\n",
       "    <tr>\n",
       "      <th>2</th>\n",
       "      <td>1</td>\n",
       "      <td>Toy Story</td>\n",
       "      <td>1995.0</td>\n",
       "      <td>0</td>\n",
       "      <td>0</td>\n",
       "      <td>1</td>\n",
       "      <td>1</td>\n",
       "      <td>1</td>\n",
       "      <td>1</td>\n",
       "      <td>0</td>\n",
       "      <td>...</td>\n",
       "      <td>0</td>\n",
       "      <td>0</td>\n",
       "      <td>0</td>\n",
       "      <td>0</td>\n",
       "      <td>0</td>\n",
       "      <td>0</td>\n",
       "      <td>0</td>\n",
       "      <td>7.0</td>\n",
       "      <td>4.0</td>\n",
       "      <td>9.745180e+08</td>\n",
       "    </tr>\n",
       "    <tr>\n",
       "      <th>3</th>\n",
       "      <td>1</td>\n",
       "      <td>Toy Story</td>\n",
       "      <td>1995.0</td>\n",
       "      <td>0</td>\n",
       "      <td>0</td>\n",
       "      <td>1</td>\n",
       "      <td>1</td>\n",
       "      <td>1</td>\n",
       "      <td>1</td>\n",
       "      <td>0</td>\n",
       "      <td>...</td>\n",
       "      <td>0</td>\n",
       "      <td>0</td>\n",
       "      <td>0</td>\n",
       "      <td>0</td>\n",
       "      <td>0</td>\n",
       "      <td>0</td>\n",
       "      <td>0</td>\n",
       "      <td>10.0</td>\n",
       "      <td>3.0</td>\n",
       "      <td>1.430666e+09</td>\n",
       "    </tr>\n",
       "    <tr>\n",
       "      <th>4</th>\n",
       "      <td>1</td>\n",
       "      <td>Toy Story</td>\n",
       "      <td>1995.0</td>\n",
       "      <td>0</td>\n",
       "      <td>0</td>\n",
       "      <td>1</td>\n",
       "      <td>1</td>\n",
       "      <td>1</td>\n",
       "      <td>1</td>\n",
       "      <td>0</td>\n",
       "      <td>...</td>\n",
       "      <td>0</td>\n",
       "      <td>0</td>\n",
       "      <td>0</td>\n",
       "      <td>0</td>\n",
       "      <td>0</td>\n",
       "      <td>0</td>\n",
       "      <td>0</td>\n",
       "      <td>12.0</td>\n",
       "      <td>5.0</td>\n",
       "      <td>8.625007e+08</td>\n",
       "    </tr>\n",
       "  </tbody>\n",
       "</table>\n",
       "<p>5 rows × 26 columns</p>\n",
       "</div>"
      ],
      "text/plain": [
       "   MOVIEID      TITLE  REALEASE  (no genres listed)  Action  Adventure  \\\n",
       "0        1  Toy Story    1995.0                   0       0          1   \n",
       "1        1  Toy Story    1995.0                   0       0          1   \n",
       "2        1  Toy Story    1995.0                   0       0          1   \n",
       "3        1  Toy Story    1995.0                   0       0          1   \n",
       "4        1  Toy Story    1995.0                   0       0          1   \n",
       "\n",
       "   Animation  Children  Comedy  Crime  ...  Musical  Mystery  Romance  Sci-Fi  \\\n",
       "0          1         1       1      0  ...        0        0        0       0   \n",
       "1          1         1       1      0  ...        0        0        0       0   \n",
       "2          1         1       1      0  ...        0        0        0       0   \n",
       "3          1         1       1      0  ...        0        0        0       0   \n",
       "4          1         1       1      0  ...        0        0        0       0   \n",
       "\n",
       "   Thriller  War  Western  USERID  RATING     TIMESTAMP  \n",
       "0         0    0        0     1.0     4.0  1.225735e+09  \n",
       "1         0    0        0     2.0     5.0  8.358160e+08  \n",
       "2         0    0        0     7.0     4.0  9.745180e+08  \n",
       "3         0    0        0    10.0     3.0  1.430666e+09  \n",
       "4         0    0        0    12.0     5.0  8.625007e+08  \n",
       "\n",
       "[5 rows x 26 columns]"
      ]
     },
     "execution_count": 23,
     "metadata": {},
     "output_type": "execute_result"
    }
   ],
   "source": [
    "df = movies.merge(rating, how=\"left\", on=\"MOVIEID\")\n",
    "df.head()"
   ]
  },
  {
   "cell_type": "code",
   "execution_count": 24,
   "id": "e910d8b6",
   "metadata": {
    "ExecuteTime": {
     "end_time": "2023-12-05T19:54:04.979833Z",
     "start_time": "2023-12-05T19:54:04.978483Z"
    }
   },
   "outputs": [],
   "source": [
    "del rating"
   ]
  },
  {
   "cell_type": "markdown",
   "id": "ad5e78a9",
   "metadata": {},
   "source": [
    "# 1. Препроцессинг общей таблицы"
   ]
  },
  {
   "cell_type": "code",
   "execution_count": 25,
   "id": "ad0c0e33",
   "metadata": {
    "ExecuteTime": {
     "end_time": "2023-12-05T19:54:05.190412Z",
     "start_time": "2023-12-05T19:54:04.980411Z"
    }
   },
   "outputs": [
    {
     "data": {
      "text/plain": [
       "\"df['YEAR'] = df['TIMESTAMP'].dt.year\\ndf['MONTH'] = df['TIMESTAMP'].dt.month\\ndf['TIME'] = df['TIMESTAMP'].dt.time\\ndf['DATE'] = df['TIMESTAMP'].dt.date\\ndf['WEEK_DAY'] = df['TIMESTAMP'].dt.day_name()\\ndf['DAY_NUM'] = df['TIMESTAMP'].dt.day_of_week\""
      ]
     },
     "execution_count": 25,
     "metadata": {},
     "output_type": "execute_result"
    }
   ],
   "source": [
    "df['TIMESTAMP'] = pd.to_datetime(df['TIMESTAMP'], unit='s')\n",
    "'''df['YEAR'] = df['TIMESTAMP'].dt.year\n",
    "df['MONTH'] = df['TIMESTAMP'].dt.month\n",
    "df['TIME'] = df['TIMESTAMP'].dt.time\n",
    "df['DATE'] = df['TIMESTAMP'].dt.date\n",
    "df['WEEK_DAY'] = df['TIMESTAMP'].dt.day_name()\n",
    "df['DAY_NUM'] = df['TIMESTAMP'].dt.day_of_week'''"
   ]
  },
  {
   "cell_type": "code",
   "execution_count": 26,
   "id": "178687f0",
   "metadata": {
    "ExecuteTime": {
     "end_time": "2023-12-05T19:54:05.192347Z",
     "start_time": "2023-12-05T19:54:05.191134Z"
    }
   },
   "outputs": [],
   "source": [
    "#df['RATING'] = df['RATING'].astype('float16')"
   ]
  },
  {
   "cell_type": "code",
   "execution_count": 27,
   "id": "8800cf6b",
   "metadata": {
    "ExecuteTime": {
     "end_time": "2023-12-05T19:54:05.199098Z",
     "start_time": "2023-12-05T19:54:05.193110Z"
    }
   },
   "outputs": [
    {
     "data": {
      "text/html": [
       "<div>\n",
       "<style scoped>\n",
       "    .dataframe tbody tr th:only-of-type {\n",
       "        vertical-align: middle;\n",
       "    }\n",
       "\n",
       "    .dataframe tbody tr th {\n",
       "        vertical-align: top;\n",
       "    }\n",
       "\n",
       "    .dataframe thead th {\n",
       "        text-align: right;\n",
       "    }\n",
       "</style>\n",
       "<table border=\"1\" class=\"dataframe\">\n",
       "  <thead>\n",
       "    <tr style=\"text-align: right;\">\n",
       "      <th></th>\n",
       "      <th>MOVIEID</th>\n",
       "      <th>TITLE</th>\n",
       "      <th>REALEASE</th>\n",
       "      <th>(no genres listed)</th>\n",
       "      <th>Action</th>\n",
       "      <th>Adventure</th>\n",
       "      <th>Animation</th>\n",
       "      <th>Children</th>\n",
       "      <th>Comedy</th>\n",
       "      <th>Crime</th>\n",
       "      <th>...</th>\n",
       "      <th>Musical</th>\n",
       "      <th>Mystery</th>\n",
       "      <th>Romance</th>\n",
       "      <th>Sci-Fi</th>\n",
       "      <th>Thriller</th>\n",
       "      <th>War</th>\n",
       "      <th>Western</th>\n",
       "      <th>USERID</th>\n",
       "      <th>RATING</th>\n",
       "      <th>TIMESTAMP</th>\n",
       "    </tr>\n",
       "  </thead>\n",
       "  <tbody>\n",
       "    <tr>\n",
       "      <th>0</th>\n",
       "      <td>1</td>\n",
       "      <td>Toy Story</td>\n",
       "      <td>1995.0</td>\n",
       "      <td>0</td>\n",
       "      <td>0</td>\n",
       "      <td>1</td>\n",
       "      <td>1</td>\n",
       "      <td>1</td>\n",
       "      <td>1</td>\n",
       "      <td>0</td>\n",
       "      <td>...</td>\n",
       "      <td>0</td>\n",
       "      <td>0</td>\n",
       "      <td>0</td>\n",
       "      <td>0</td>\n",
       "      <td>0</td>\n",
       "      <td>0</td>\n",
       "      <td>0</td>\n",
       "      <td>1.0</td>\n",
       "      <td>4.0</td>\n",
       "      <td>2008-11-03 17:52:19</td>\n",
       "    </tr>\n",
       "    <tr>\n",
       "      <th>1</th>\n",
       "      <td>1</td>\n",
       "      <td>Toy Story</td>\n",
       "      <td>1995.0</td>\n",
       "      <td>0</td>\n",
       "      <td>0</td>\n",
       "      <td>1</td>\n",
       "      <td>1</td>\n",
       "      <td>1</td>\n",
       "      <td>1</td>\n",
       "      <td>0</td>\n",
       "      <td>...</td>\n",
       "      <td>0</td>\n",
       "      <td>0</td>\n",
       "      <td>0</td>\n",
       "      <td>0</td>\n",
       "      <td>0</td>\n",
       "      <td>0</td>\n",
       "      <td>0</td>\n",
       "      <td>2.0</td>\n",
       "      <td>5.0</td>\n",
       "      <td>1996-06-26 19:06:11</td>\n",
       "    </tr>\n",
       "    <tr>\n",
       "      <th>2</th>\n",
       "      <td>1</td>\n",
       "      <td>Toy Story</td>\n",
       "      <td>1995.0</td>\n",
       "      <td>0</td>\n",
       "      <td>0</td>\n",
       "      <td>1</td>\n",
       "      <td>1</td>\n",
       "      <td>1</td>\n",
       "      <td>1</td>\n",
       "      <td>0</td>\n",
       "      <td>...</td>\n",
       "      <td>0</td>\n",
       "      <td>0</td>\n",
       "      <td>0</td>\n",
       "      <td>0</td>\n",
       "      <td>0</td>\n",
       "      <td>0</td>\n",
       "      <td>0</td>\n",
       "      <td>7.0</td>\n",
       "      <td>4.0</td>\n",
       "      <td>2000-11-18 03:27:04</td>\n",
       "    </tr>\n",
       "    <tr>\n",
       "      <th>3</th>\n",
       "      <td>1</td>\n",
       "      <td>Toy Story</td>\n",
       "      <td>1995.0</td>\n",
       "      <td>0</td>\n",
       "      <td>0</td>\n",
       "      <td>1</td>\n",
       "      <td>1</td>\n",
       "      <td>1</td>\n",
       "      <td>1</td>\n",
       "      <td>0</td>\n",
       "      <td>...</td>\n",
       "      <td>0</td>\n",
       "      <td>0</td>\n",
       "      <td>0</td>\n",
       "      <td>0</td>\n",
       "      <td>0</td>\n",
       "      <td>0</td>\n",
       "      <td>0</td>\n",
       "      <td>10.0</td>\n",
       "      <td>3.0</td>\n",
       "      <td>2015-05-03 15:19:54</td>\n",
       "    </tr>\n",
       "    <tr>\n",
       "      <th>4</th>\n",
       "      <td>1</td>\n",
       "      <td>Toy Story</td>\n",
       "      <td>1995.0</td>\n",
       "      <td>0</td>\n",
       "      <td>0</td>\n",
       "      <td>1</td>\n",
       "      <td>1</td>\n",
       "      <td>1</td>\n",
       "      <td>1</td>\n",
       "      <td>0</td>\n",
       "      <td>...</td>\n",
       "      <td>0</td>\n",
       "      <td>0</td>\n",
       "      <td>0</td>\n",
       "      <td>0</td>\n",
       "      <td>0</td>\n",
       "      <td>0</td>\n",
       "      <td>0</td>\n",
       "      <td>12.0</td>\n",
       "      <td>5.0</td>\n",
       "      <td>1997-05-01 15:32:18</td>\n",
       "    </tr>\n",
       "  </tbody>\n",
       "</table>\n",
       "<p>5 rows × 26 columns</p>\n",
       "</div>"
      ],
      "text/plain": [
       "   MOVIEID      TITLE  REALEASE  (no genres listed)  Action  Adventure  \\\n",
       "0        1  Toy Story    1995.0                   0       0          1   \n",
       "1        1  Toy Story    1995.0                   0       0          1   \n",
       "2        1  Toy Story    1995.0                   0       0          1   \n",
       "3        1  Toy Story    1995.0                   0       0          1   \n",
       "4        1  Toy Story    1995.0                   0       0          1   \n",
       "\n",
       "   Animation  Children  Comedy  Crime  ...  Musical  Mystery  Romance  Sci-Fi  \\\n",
       "0          1         1       1      0  ...        0        0        0       0   \n",
       "1          1         1       1      0  ...        0        0        0       0   \n",
       "2          1         1       1      0  ...        0        0        0       0   \n",
       "3          1         1       1      0  ...        0        0        0       0   \n",
       "4          1         1       1      0  ...        0        0        0       0   \n",
       "\n",
       "   Thriller  War  Western  USERID  RATING           TIMESTAMP  \n",
       "0         0    0        0     1.0     4.0 2008-11-03 17:52:19  \n",
       "1         0    0        0     2.0     5.0 1996-06-26 19:06:11  \n",
       "2         0    0        0     7.0     4.0 2000-11-18 03:27:04  \n",
       "3         0    0        0    10.0     3.0 2015-05-03 15:19:54  \n",
       "4         0    0        0    12.0     5.0 1997-05-01 15:32:18  \n",
       "\n",
       "[5 rows x 26 columns]"
      ]
     },
     "execution_count": 27,
     "metadata": {},
     "output_type": "execute_result"
    }
   ],
   "source": [
    "df.head()"
   ]
  },
  {
   "cell_type": "code",
   "execution_count": 28,
   "id": "f5a6cd67",
   "metadata": {
    "ExecuteTime": {
     "end_time": "2023-12-05T19:54:05.202445Z",
     "start_time": "2023-12-05T19:54:05.200012Z"
    },
    "scrolled": true
   },
   "outputs": [
    {
     "data": {
      "text/plain": [
       "MOVIEID                        int64\n",
       "TITLE                       category\n",
       "REALEASE                     float16\n",
       "(no genres listed)              int8\n",
       "Action                          int8\n",
       "Adventure                       int8\n",
       "Animation                       int8\n",
       "Children                        int8\n",
       "Comedy                          int8\n",
       "Crime                           int8\n",
       "Documentary                     int8\n",
       "Drama                           int8\n",
       "Fantasy                         int8\n",
       "Film-Noir                       int8\n",
       "Horror                          int8\n",
       "IMAX                            int8\n",
       "Musical                         int8\n",
       "Mystery                         int8\n",
       "Romance                         int8\n",
       "Sci-Fi                          int8\n",
       "Thriller                        int8\n",
       "War                             int8\n",
       "Western                         int8\n",
       "USERID                       float64\n",
       "RATING                       float64\n",
       "TIMESTAMP             datetime64[ns]\n",
       "dtype: object"
      ]
     },
     "execution_count": 28,
     "metadata": {},
     "output_type": "execute_result"
    }
   ],
   "source": [
    "df.dtypes"
   ]
  },
  {
   "cell_type": "code",
   "execution_count": 29,
   "id": "6294d074",
   "metadata": {
    "ExecuteTime": {
     "end_time": "2023-12-05T19:54:05.469796Z",
     "start_time": "2023-12-05T19:54:05.203322Z"
    }
   },
   "outputs": [],
   "source": [
    "stat_movies = df.groupby('MOVIEID')['USERID'].count().reset_index()"
   ]
  },
  {
   "cell_type": "code",
   "execution_count": 30,
   "id": "0a10c06b",
   "metadata": {
    "ExecuteTime": {
     "end_time": "2023-12-05T19:54:05.473477Z",
     "start_time": "2023-12-05T19:54:05.470499Z"
    }
   },
   "outputs": [
    {
     "data": {
      "text/html": [
       "<div>\n",
       "<style scoped>\n",
       "    .dataframe tbody tr th:only-of-type {\n",
       "        vertical-align: middle;\n",
       "    }\n",
       "\n",
       "    .dataframe tbody tr th {\n",
       "        vertical-align: top;\n",
       "    }\n",
       "\n",
       "    .dataframe thead th {\n",
       "        text-align: right;\n",
       "    }\n",
       "</style>\n",
       "<table border=\"1\" class=\"dataframe\">\n",
       "  <thead>\n",
       "    <tr style=\"text-align: right;\">\n",
       "      <th></th>\n",
       "      <th>MOVIEID</th>\n",
       "      <th>USERID</th>\n",
       "    </tr>\n",
       "  </thead>\n",
       "  <tbody>\n",
       "    <tr>\n",
       "      <th>0</th>\n",
       "      <td>1</td>\n",
       "      <td>76813</td>\n",
       "    </tr>\n",
       "    <tr>\n",
       "      <th>1</th>\n",
       "      <td>2</td>\n",
       "      <td>30209</td>\n",
       "    </tr>\n",
       "    <tr>\n",
       "      <th>2</th>\n",
       "      <td>3</td>\n",
       "      <td>15820</td>\n",
       "    </tr>\n",
       "    <tr>\n",
       "      <th>3</th>\n",
       "      <td>4</td>\n",
       "      <td>3028</td>\n",
       "    </tr>\n",
       "    <tr>\n",
       "      <th>4</th>\n",
       "      <td>5</td>\n",
       "      <td>15801</td>\n",
       "    </tr>\n",
       "    <tr>\n",
       "      <th>...</th>\n",
       "      <td>...</td>\n",
       "      <td>...</td>\n",
       "    </tr>\n",
       "    <tr>\n",
       "      <th>86532</th>\n",
       "      <td>288967</td>\n",
       "      <td>1</td>\n",
       "    </tr>\n",
       "    <tr>\n",
       "      <th>86533</th>\n",
       "      <td>288971</td>\n",
       "      <td>1</td>\n",
       "    </tr>\n",
       "    <tr>\n",
       "      <th>86534</th>\n",
       "      <td>288975</td>\n",
       "      <td>1</td>\n",
       "    </tr>\n",
       "    <tr>\n",
       "      <th>86535</th>\n",
       "      <td>288977</td>\n",
       "      <td>1</td>\n",
       "    </tr>\n",
       "    <tr>\n",
       "      <th>86536</th>\n",
       "      <td>288983</td>\n",
       "      <td>1</td>\n",
       "    </tr>\n",
       "  </tbody>\n",
       "</table>\n",
       "<p>86537 rows × 2 columns</p>\n",
       "</div>"
      ],
      "text/plain": [
       "       MOVIEID  USERID\n",
       "0            1   76813\n",
       "1            2   30209\n",
       "2            3   15820\n",
       "3            4    3028\n",
       "4            5   15801\n",
       "...        ...     ...\n",
       "86532   288967       1\n",
       "86533   288971       1\n",
       "86534   288975       1\n",
       "86535   288977       1\n",
       "86536   288983       1\n",
       "\n",
       "[86537 rows x 2 columns]"
      ]
     },
     "execution_count": 30,
     "metadata": {},
     "output_type": "execute_result"
    }
   ],
   "source": [
    "stat_movies"
   ]
  },
  {
   "cell_type": "code",
   "execution_count": 31,
   "id": "081c7869",
   "metadata": {
    "ExecuteTime": {
     "end_time": "2023-12-05T19:54:05.477072Z",
     "start_time": "2023-12-05T19:54:05.474082Z"
    }
   },
   "outputs": [
    {
     "data": {
      "text/plain": [
       "5.0"
      ]
     },
     "execution_count": 31,
     "metadata": {},
     "output_type": "execute_result"
    }
   ],
   "source": [
    "# зададим как порог минимальной оценки\n",
    "min_threshold = stat_movies['USERID'].quantile(0.5)\n",
    "min_threshold"
   ]
  },
  {
   "cell_type": "markdown",
   "id": "c825e06b",
   "metadata": {},
   "source": [
    "<font color='red'> **------------------------------------------------------------------------------------------------------------------------------------------------------------------------------------------------------------------** </font>"
   ]
  },
  {
   "cell_type": "markdown",
   "id": "e58fe25d",
   "metadata": {},
   "source": [
    "<font color='red'> **Убрал записи  пустыми значениями ~3298, это около 0.01%, фигня короче, можно сносить.** </font>"
   ]
  },
  {
   "cell_type": "code",
   "execution_count": 43,
   "id": "14787f95",
   "metadata": {},
   "outputs": [
    {
     "data": {
      "text/plain": [
       "(33832162, 26)"
      ]
     },
     "execution_count": 43,
     "metadata": {},
     "output_type": "execute_result"
    }
   ],
   "source": [
    "df.shape"
   ]
  },
  {
   "cell_type": "code",
   "execution_count": 41,
   "id": "6a3e63d3",
   "metadata": {},
   "outputs": [],
   "source": [
    "df = df[~((df.TIMESTAMP.isna())|(df.USERID.isna())|(df.RATING.isna()))]"
   ]
  },
  {
   "cell_type": "code",
   "execution_count": 42,
   "id": "1f1a1835",
   "metadata": {
    "ExecuteTime": {
     "end_time": "2023-12-05T19:54:10.954700Z",
     "start_time": "2023-12-05T19:54:05.477830Z"
    }
   },
   "outputs": [],
   "source": [
    "train, test = train_test_split(df, test_size=0.3, stratify = df.TIMESTAMP.dt.month)"
   ]
  },
  {
   "cell_type": "code",
   "execution_count": 46,
   "id": "733b0693",
   "metadata": {
    "ExecuteTime": {
     "end_time": "2023-12-05T19:54:10.956771Z",
     "start_time": "2023-12-05T19:54:10.955338Z"
    }
   },
   "outputs": [],
   "source": [
    "del df, movies"
   ]
  },
  {
   "cell_type": "code",
   "execution_count": 47,
   "id": "c4241ee1",
   "metadata": {
    "ExecuteTime": {
     "end_time": "2023-12-05T19:54:10.959318Z",
     "start_time": "2023-12-05T19:54:10.957480Z"
    },
    "scrolled": true
   },
   "outputs": [
    {
     "data": {
      "text/plain": [
       "(23682513, 26)"
      ]
     },
     "execution_count": 47,
     "metadata": {},
     "output_type": "execute_result"
    }
   ],
   "source": [
    "train.shape"
   ]
  },
  {
   "cell_type": "markdown",
   "id": "d0e28bf8",
   "metadata": {},
   "source": [
    "<font color='red'> **------------------------------------------------------------------------------------------------------------------------------------------------------------------------------------------------------------------** </font>\n",
    "<font color='red'> **Проба спарс матриц** </font>"
   ]
  },
  {
   "cell_type": "markdown",
   "id": "413e36b5",
   "metadata": {},
   "source": [
    "!pip install rectools #специальная библиотека"
   ]
  },
  {
   "cell_type": "code",
   "execution_count": 51,
   "id": "2480d7db",
   "metadata": {},
   "outputs": [],
   "source": [
    "from rectools import Columns\n",
    "from rectools.dataset import Dataset"
   ]
  },
  {
   "cell_type": "code",
   "execution_count": 58,
   "id": "9d77b64f",
   "metadata": {},
   "outputs": [
    {
     "data": {
      "text/html": [
       "<div>\n",
       "<style scoped>\n",
       "    .dataframe tbody tr th:only-of-type {\n",
       "        vertical-align: middle;\n",
       "    }\n",
       "\n",
       "    .dataframe tbody tr th {\n",
       "        vertical-align: top;\n",
       "    }\n",
       "\n",
       "    .dataframe thead th {\n",
       "        text-align: right;\n",
       "    }\n",
       "</style>\n",
       "<table border=\"1\" class=\"dataframe\">\n",
       "  <thead>\n",
       "    <tr style=\"text-align: right;\">\n",
       "      <th></th>\n",
       "      <th>user_id</th>\n",
       "      <th>item_id</th>\n",
       "      <th>weight</th>\n",
       "      <th>datetime</th>\n",
       "    </tr>\n",
       "  </thead>\n",
       "  <tbody>\n",
       "    <tr>\n",
       "      <th>22171662</th>\n",
       "      <td>6373</td>\n",
       "      <td>261950.0</td>\n",
       "      <td>4.0</td>\n",
       "      <td>2016-05-12 14:25:15</td>\n",
       "    </tr>\n",
       "    <tr>\n",
       "      <th>10442183</th>\n",
       "      <td>1527</td>\n",
       "      <td>135898.0</td>\n",
       "      <td>5.0</td>\n",
       "      <td>2014-10-04 02:45:24</td>\n",
       "    </tr>\n",
       "    <tr>\n",
       "      <th>12143004</th>\n",
       "      <td>1983</td>\n",
       "      <td>215432.0</td>\n",
       "      <td>5.0</td>\n",
       "      <td>2007-06-17 00:24:10</td>\n",
       "    </tr>\n",
       "    <tr>\n",
       "      <th>22976775</th>\n",
       "      <td>7057</td>\n",
       "      <td>184535.0</td>\n",
       "      <td>3.0</td>\n",
       "      <td>2004-08-08 15:49:38</td>\n",
       "    </tr>\n",
       "    <tr>\n",
       "      <th>18380135</th>\n",
       "      <td>3917</td>\n",
       "      <td>119812.0</td>\n",
       "      <td>3.5</td>\n",
       "      <td>2010-03-18 16:01:51</td>\n",
       "    </tr>\n",
       "    <tr>\n",
       "      <th>...</th>\n",
       "      <td>...</td>\n",
       "      <td>...</td>\n",
       "      <td>...</td>\n",
       "      <td>...</td>\n",
       "    </tr>\n",
       "    <tr>\n",
       "      <th>11527229</th>\n",
       "      <td>1784</td>\n",
       "      <td>270892.0</td>\n",
       "      <td>3.0</td>\n",
       "      <td>2001-10-25 22:57:56</td>\n",
       "    </tr>\n",
       "    <tr>\n",
       "      <th>16816671</th>\n",
       "      <td>3248</td>\n",
       "      <td>86786.0</td>\n",
       "      <td>1.0</td>\n",
       "      <td>2017-04-03 10:31:51</td>\n",
       "    </tr>\n",
       "    <tr>\n",
       "      <th>7107342</th>\n",
       "      <td>1060</td>\n",
       "      <td>39635.0</td>\n",
       "      <td>3.0</td>\n",
       "      <td>1999-12-25 01:48:26</td>\n",
       "    </tr>\n",
       "    <tr>\n",
       "      <th>27035873</th>\n",
       "      <td>56715</td>\n",
       "      <td>113052.0</td>\n",
       "      <td>4.5</td>\n",
       "      <td>2008-11-20 23:46:37</td>\n",
       "    </tr>\n",
       "    <tr>\n",
       "      <th>820843</th>\n",
       "      <td>52</td>\n",
       "      <td>156070.0</td>\n",
       "      <td>4.0</td>\n",
       "      <td>1997-07-23 04:07:18</td>\n",
       "    </tr>\n",
       "  </tbody>\n",
       "</table>\n",
       "<p>23684822 rows × 4 columns</p>\n",
       "</div>"
      ],
      "text/plain": [
       "          user_id   item_id  weight            datetime\n",
       "22171662     6373  261950.0     4.0 2016-05-12 14:25:15\n",
       "10442183     1527  135898.0     5.0 2014-10-04 02:45:24\n",
       "12143004     1983  215432.0     5.0 2007-06-17 00:24:10\n",
       "22976775     7057  184535.0     3.0 2004-08-08 15:49:38\n",
       "18380135     3917  119812.0     3.5 2010-03-18 16:01:51\n",
       "...           ...       ...     ...                 ...\n",
       "11527229     1784  270892.0     3.0 2001-10-25 22:57:56\n",
       "16816671     3248   86786.0     1.0 2017-04-03 10:31:51\n",
       "7107342      1060   39635.0     3.0 1999-12-25 01:48:26\n",
       "27035873    56715  113052.0     4.5 2008-11-20 23:46:37\n",
       "820843         52  156070.0     4.0 1997-07-23 04:07:18\n",
       "\n",
       "[23684822 rows x 4 columns]"
      ]
     },
     "execution_count": 58,
     "metadata": {},
     "output_type": "execute_result"
    }
   ],
   "source": [
    "df_train = train[['MOVIEID','USERID','RATING','TIMESTAMP']]\n",
    "df_train.columns = ['user_id','item_id','weight','datetime']\n",
    "df_train"
   ]
  },
  {
   "cell_type": "code",
   "execution_count": 59,
   "id": "d3a18370",
   "metadata": {},
   "outputs": [],
   "source": [
    "sparse_df_train = Dataset.construct(\n",
    "    df_train,\n",
    "    make_dense_user_features=False  # for `sparse` format\n",
    ")"
   ]
  },
  {
   "cell_type": "code",
   "execution_count": 60,
   "id": "4fe11225",
   "metadata": {},
   "outputs": [
    {
     "data": {
      "text/plain": [
       "Dataset(user_id_map=IdMap(external_ids=array([  6373,   1527,   1983, ..., 210581, 276561, 143174], dtype=int64)), item_id_map=IdMap(external_ids=array([261950., 135898., 215432., ..., 214184., 269954.,  34221.])), interactions=Interactions(df=          user_id  item_id  weight            datetime\n",
       "22171662        0        0     4.0 2016-05-12 14:25:15\n",
       "10442183        1        1     5.0 2014-10-04 02:45:24\n",
       "12143004        2        2     5.0 2007-06-17 00:24:10\n",
       "22976775        3        3     3.0 2004-08-08 15:49:38\n",
       "18380135        4        4     3.5 2010-03-18 16:01:51\n",
       "...           ...      ...     ...                 ...\n",
       "11527229      372     3007     3.0 2001-10-25 22:57:56\n",
       "16816671     3027     6137     1.0 2017-04-03 10:31:51\n",
       "7107342       173   175371     3.0 1999-12-25 01:48:26\n",
       "27035873     1056     6647     4.5 2008-11-20 23:46:37\n",
       "820843        646   155351     4.0 1997-07-23 04:07:18\n",
       "\n",
       "[23684822 rows x 4 columns]), user_features=None, item_features=None)"
      ]
     },
     "execution_count": 60,
     "metadata": {},
     "output_type": "execute_result"
    }
   ],
   "source": [
    "sparse_df_train"
   ]
  },
  {
   "cell_type": "code",
   "execution_count": 62,
   "id": "89eb57ec",
   "metadata": {},
   "outputs": [
    {
     "data": {
      "text/plain": [
       "IdMap(external_ids=array([  6373,   1527,   1983, ..., 210581, 276561, 143174], dtype=int64))"
      ]
     },
     "execution_count": 62,
     "metadata": {},
     "output_type": "execute_result"
    }
   ],
   "source": [
    "sparse_df_train.user_id_map"
   ]
  },
  {
   "cell_type": "code",
   "execution_count": 63,
   "id": "f68643e6",
   "metadata": {},
   "outputs": [
    {
     "data": {
      "text/plain": [
       "IdMap(external_ids=array([261950., 135898., 215432., ..., 214184., 269954.,  34221.]))"
      ]
     },
     "execution_count": 63,
     "metadata": {},
     "output_type": "execute_result"
    }
   ],
   "source": [
    "sparse_df_train.item_id_map"
   ]
  },
  {
   "cell_type": "code",
   "execution_count": 64,
   "id": "16eba8aa",
   "metadata": {},
   "outputs": [
    {
     "data": {
      "text/plain": [
       "Interactions(df=          user_id  item_id  weight            datetime\n",
       "22171662        0        0     4.0 2016-05-12 14:25:15\n",
       "10442183        1        1     5.0 2014-10-04 02:45:24\n",
       "12143004        2        2     5.0 2007-06-17 00:24:10\n",
       "22976775        3        3     3.0 2004-08-08 15:49:38\n",
       "18380135        4        4     3.5 2010-03-18 16:01:51\n",
       "...           ...      ...     ...                 ...\n",
       "11527229      372     3007     3.0 2001-10-25 22:57:56\n",
       "16816671     3027     6137     1.0 2017-04-03 10:31:51\n",
       "7107342       173   175371     3.0 1999-12-25 01:48:26\n",
       "27035873     1056     6647     4.5 2008-11-20 23:46:37\n",
       "820843        646   155351     4.0 1997-07-23 04:07:18\n",
       "\n",
       "[23684822 rows x 4 columns])"
      ]
     },
     "execution_count": 64,
     "metadata": {},
     "output_type": "execute_result"
    }
   ],
   "source": [
    "sparse_df_train.interactions"
   ]
  },
  {
   "cell_type": "markdown",
   "id": "2ab99f57",
   "metadata": {},
   "source": [
    "> тут я немного не успел до конца разобрать, но вот по ссылке неплохая реализация еще есть + пример как в модель грузить\n",
    "> https://rekkobook.com/chapter1/collab_filter.html"
   ]
  },
  {
   "cell_type": "markdown",
   "id": "1e4fdb3b",
   "metadata": {},
   "source": [
    "<font color='red'> **------------------------------------------------------------------------------------------------------------------------------------------------------------------------------------------------------------------** </font>"
   ]
  },
  {
   "cell_type": "code",
   "execution_count": 26,
   "id": "7fecd039",
   "metadata": {
    "ExecuteTime": {
     "end_time": "2023-12-05T19:54:24.285779Z",
     "start_time": "2023-12-05T19:54:23.962689Z"
    }
   },
   "outputs": [
    {
     "data": {
      "text/html": [
       "<div>\n",
       "<style scoped>\n",
       "    .dataframe tbody tr th:only-of-type {\n",
       "        vertical-align: middle;\n",
       "    }\n",
       "\n",
       "    .dataframe tbody tr th {\n",
       "        vertical-align: top;\n",
       "    }\n",
       "\n",
       "    .dataframe thead th {\n",
       "        text-align: right;\n",
       "    }\n",
       "</style>\n",
       "<table border=\"1\" class=\"dataframe\">\n",
       "  <thead>\n",
       "    <tr style=\"text-align: right;\">\n",
       "      <th>MOVIEID</th>\n",
       "      <th>1</th>\n",
       "      <th>2</th>\n",
       "      <th>3</th>\n",
       "      <th>5</th>\n",
       "      <th>6</th>\n",
       "      <th>7</th>\n",
       "      <th>9</th>\n",
       "      <th>10</th>\n",
       "      <th>11</th>\n",
       "      <th>12</th>\n",
       "      <th>...</th>\n",
       "      <th>278702</th>\n",
       "      <th>278794</th>\n",
       "      <th>280114</th>\n",
       "      <th>280342</th>\n",
       "      <th>280900</th>\n",
       "      <th>281096</th>\n",
       "      <th>281190</th>\n",
       "      <th>282671</th>\n",
       "      <th>284411</th>\n",
       "      <th>288265</th>\n",
       "    </tr>\n",
       "    <tr>\n",
       "      <th>USERID</th>\n",
       "      <th></th>\n",
       "      <th></th>\n",
       "      <th></th>\n",
       "      <th></th>\n",
       "      <th></th>\n",
       "      <th></th>\n",
       "      <th></th>\n",
       "      <th></th>\n",
       "      <th></th>\n",
       "      <th></th>\n",
       "      <th></th>\n",
       "      <th></th>\n",
       "      <th></th>\n",
       "      <th></th>\n",
       "      <th></th>\n",
       "      <th></th>\n",
       "      <th></th>\n",
       "      <th></th>\n",
       "      <th></th>\n",
       "      <th></th>\n",
       "      <th></th>\n",
       "    </tr>\n",
       "  </thead>\n",
       "  <tbody>\n",
       "    <tr>\n",
       "      <th>155.0</th>\n",
       "      <td>0.0</td>\n",
       "      <td>0.0</td>\n",
       "      <td>0.0</td>\n",
       "      <td>0.0</td>\n",
       "      <td>0.0</td>\n",
       "      <td>0.0</td>\n",
       "      <td>0.0</td>\n",
       "      <td>0.0</td>\n",
       "      <td>0.0</td>\n",
       "      <td>0.0</td>\n",
       "      <td>...</td>\n",
       "      <td>0.0</td>\n",
       "      <td>0.0</td>\n",
       "      <td>0.0</td>\n",
       "      <td>0.0</td>\n",
       "      <td>0.0</td>\n",
       "      <td>0.0</td>\n",
       "      <td>0.0</td>\n",
       "      <td>0.0</td>\n",
       "      <td>0.0</td>\n",
       "      <td>0.0</td>\n",
       "    </tr>\n",
       "    <tr>\n",
       "      <th>184.0</th>\n",
       "      <td>0.0</td>\n",
       "      <td>0.0</td>\n",
       "      <td>0.0</td>\n",
       "      <td>0.0</td>\n",
       "      <td>0.0</td>\n",
       "      <td>0.0</td>\n",
       "      <td>0.0</td>\n",
       "      <td>0.0</td>\n",
       "      <td>0.0</td>\n",
       "      <td>0.0</td>\n",
       "      <td>...</td>\n",
       "      <td>0.0</td>\n",
       "      <td>0.0</td>\n",
       "      <td>0.0</td>\n",
       "      <td>0.0</td>\n",
       "      <td>0.0</td>\n",
       "      <td>0.0</td>\n",
       "      <td>0.0</td>\n",
       "      <td>0.0</td>\n",
       "      <td>0.0</td>\n",
       "      <td>0.0</td>\n",
       "    </tr>\n",
       "    <tr>\n",
       "      <th>195.0</th>\n",
       "      <td>0.0</td>\n",
       "      <td>0.0</td>\n",
       "      <td>0.0</td>\n",
       "      <td>0.0</td>\n",
       "      <td>0.0</td>\n",
       "      <td>0.0</td>\n",
       "      <td>0.0</td>\n",
       "      <td>0.0</td>\n",
       "      <td>0.0</td>\n",
       "      <td>0.0</td>\n",
       "      <td>...</td>\n",
       "      <td>0.0</td>\n",
       "      <td>0.0</td>\n",
       "      <td>0.0</td>\n",
       "      <td>0.0</td>\n",
       "      <td>0.0</td>\n",
       "      <td>0.0</td>\n",
       "      <td>0.0</td>\n",
       "      <td>0.0</td>\n",
       "      <td>0.0</td>\n",
       "      <td>0.0</td>\n",
       "    </tr>\n",
       "    <tr>\n",
       "      <th>213.0</th>\n",
       "      <td>0.0</td>\n",
       "      <td>0.0</td>\n",
       "      <td>0.0</td>\n",
       "      <td>0.0</td>\n",
       "      <td>0.0</td>\n",
       "      <td>0.0</td>\n",
       "      <td>0.0</td>\n",
       "      <td>0.0</td>\n",
       "      <td>0.0</td>\n",
       "      <td>0.0</td>\n",
       "      <td>...</td>\n",
       "      <td>0.0</td>\n",
       "      <td>0.0</td>\n",
       "      <td>0.0</td>\n",
       "      <td>0.0</td>\n",
       "      <td>0.0</td>\n",
       "      <td>0.0</td>\n",
       "      <td>0.0</td>\n",
       "      <td>0.0</td>\n",
       "      <td>0.0</td>\n",
       "      <td>0.0</td>\n",
       "    </tr>\n",
       "    <tr>\n",
       "      <th>224.0</th>\n",
       "      <td>0.0</td>\n",
       "      <td>0.0</td>\n",
       "      <td>0.0</td>\n",
       "      <td>0.0</td>\n",
       "      <td>0.0</td>\n",
       "      <td>0.0</td>\n",
       "      <td>0.0</td>\n",
       "      <td>0.0</td>\n",
       "      <td>0.0</td>\n",
       "      <td>0.0</td>\n",
       "      <td>...</td>\n",
       "      <td>0.0</td>\n",
       "      <td>0.0</td>\n",
       "      <td>0.0</td>\n",
       "      <td>0.0</td>\n",
       "      <td>0.0</td>\n",
       "      <td>0.0</td>\n",
       "      <td>0.0</td>\n",
       "      <td>0.0</td>\n",
       "      <td>0.0</td>\n",
       "      <td>0.0</td>\n",
       "    </tr>\n",
       "  </tbody>\n",
       "</table>\n",
       "<p>5 rows × 3762 columns</p>\n",
       "</div>"
      ],
      "text/plain": [
       "MOVIEID  1       2       3       5       6       7       9       10      \\\n",
       "USERID                                                                    \n",
       "155.0       0.0     0.0     0.0     0.0     0.0     0.0     0.0     0.0   \n",
       "184.0       0.0     0.0     0.0     0.0     0.0     0.0     0.0     0.0   \n",
       "195.0       0.0     0.0     0.0     0.0     0.0     0.0     0.0     0.0   \n",
       "213.0       0.0     0.0     0.0     0.0     0.0     0.0     0.0     0.0   \n",
       "224.0       0.0     0.0     0.0     0.0     0.0     0.0     0.0     0.0   \n",
       "\n",
       "MOVIEID  11      12      ...  278702  278794  280114  280342  280900  281096  \\\n",
       "USERID                   ...                                                   \n",
       "155.0       0.0     0.0  ...     0.0     0.0     0.0     0.0     0.0     0.0   \n",
       "184.0       0.0     0.0  ...     0.0     0.0     0.0     0.0     0.0     0.0   \n",
       "195.0       0.0     0.0  ...     0.0     0.0     0.0     0.0     0.0     0.0   \n",
       "213.0       0.0     0.0  ...     0.0     0.0     0.0     0.0     0.0     0.0   \n",
       "224.0       0.0     0.0  ...     0.0     0.0     0.0     0.0     0.0     0.0   \n",
       "\n",
       "MOVIEID  281190  282671  284411  288265  \n",
       "USERID                                   \n",
       "155.0       0.0     0.0     0.0     0.0  \n",
       "184.0       0.0     0.0     0.0     0.0  \n",
       "195.0       0.0     0.0     0.0     0.0  \n",
       "213.0       0.0     0.0     0.0     0.0  \n",
       "224.0       0.0     0.0     0.0     0.0  \n",
       "\n",
       "[5 rows x 3762 columns]"
      ]
     },
     "execution_count": 26,
     "metadata": {},
     "output_type": "execute_result"
    }
   ],
   "source": [
    "df_ratings = train[:10000].pivot(index = 'USERID', columns ='MOVIEID', values = 'RATING').fillna(0).astype('float16')\n",
    "df_ratings.head()"
   ]
  },
  {
   "cell_type": "code",
   "execution_count": 31,
   "id": "898c0a2f",
   "metadata": {
    "ExecuteTime": {
     "end_time": "2023-12-05T19:52:21.673758Z",
     "start_time": "2023-12-05T19:52:21.668109Z"
    }
   },
   "outputs": [
    {
     "data": {
      "text/plain": [
       "MOVIEID\n",
       "1         float16\n",
       "2         float16\n",
       "3         float16\n",
       "4         float16\n",
       "5         float16\n",
       "           ...   \n",
       "281096    float16\n",
       "281190    float16\n",
       "284879    float16\n",
       "285593    float16\n",
       "286897    float16\n",
       "Length: 3746, dtype: object"
      ]
     },
     "execution_count": 31,
     "metadata": {},
     "output_type": "execute_result"
    }
   ],
   "source": [
    "df_ratings.dtypes"
   ]
  },
  {
   "cell_type": "code",
   "execution_count": null,
   "id": "6128ddfd",
   "metadata": {},
   "outputs": [],
   "source": []
  },
  {
   "cell_type": "code",
   "execution_count": null,
   "id": "aabaaf0b",
   "metadata": {},
   "outputs": [],
   "source": [
    "# TODO\n",
    "svd = SVD()\n",
    "\n",
    "start = time.time()\n",
    "\n",
    "cross_validate(svd, data, measures=['RMSE', 'MAE'], cv=5, verbose=True)\n",
    "svd.fit(trainset)\n",
    "\n",
    "predictions = svd.test(testset)\n",
    "\n",
    "print(\"\\nTest Set Error\\n--------------\")\n",
    "accuracy.mae(predictions)\n",
    "print(\"--------------\\nFinished in {:.3f} sec.\".format(time.time()-start))"
   ]
  },
  {
   "cell_type": "code",
   "execution_count": null,
   "id": "aeae8e05",
   "metadata": {},
   "outputs": [],
   "source": []
  },
  {
   "cell_type": "code",
   "execution_count": null,
   "id": "652df537",
   "metadata": {},
   "outputs": [],
   "source": []
  }
 ],
 "metadata": {
  "kernelspec": {
   "display_name": "Python 3 (ipykernel)",
   "language": "python",
   "name": "python3"
  },
  "language_info": {
   "codemirror_mode": {
    "name": "ipython",
    "version": 3
   },
   "file_extension": ".py",
   "mimetype": "text/x-python",
   "name": "python",
   "nbconvert_exporter": "python",
   "pygments_lexer": "ipython3",
   "version": "3.9.12"
  },
  "toc": {
   "base_numbering": 1,
   "nav_menu": {},
   "number_sections": true,
   "sideBar": true,
   "skip_h1_title": false,
   "title_cell": "Table of Contents",
   "title_sidebar": "Contents",
   "toc_cell": false,
   "toc_position": {
    "height": "calc(100% - 180px)",
    "left": "10px",
    "top": "150px",
    "width": "270px"
   },
   "toc_section_display": true,
   "toc_window_display": true
  },
  "varInspector": {
   "cols": {
    "lenName": 16,
    "lenType": 16,
    "lenVar": 40
   },
   "kernels_config": {
    "python": {
     "delete_cmd_postfix": "",
     "delete_cmd_prefix": "del ",
     "library": "var_list.py",
     "varRefreshCmd": "print(var_dic_list())"
    },
    "r": {
     "delete_cmd_postfix": ") ",
     "delete_cmd_prefix": "rm(",
     "library": "var_list.r",
     "varRefreshCmd": "cat(var_dic_list()) "
    }
   },
   "types_to_exclude": [
    "module",
    "function",
    "builtin_function_or_method",
    "instance",
    "_Feature"
   ],
   "window_display": false
  }
 },
 "nbformat": 4,
 "nbformat_minor": 5
}
