{
 "cells": [
  {
   "cell_type": "markdown",
   "id": "c5f10c28",
   "metadata": {},
   "source": [
    "# Import"
   ]
  },
  {
   "cell_type": "code",
   "execution_count": 1,
   "id": "960a7ece",
   "metadata": {
    "ExecuteTime": {
     "end_time": "2024-01-14T10:35:52.022651Z",
     "start_time": "2024-01-14T10:35:51.886853Z"
    }
   },
   "outputs": [
    {
     "name": "stderr",
     "output_type": "stream",
     "text": [
      "/Users/liliyaivannikova/anaconda3/envs/myenv/lib/python3.10/site-packages/lightfm/_lightfm_fast.py:9: UserWarning: LightFM was compiled without OpenMP support. Only a single thread will be used.\n",
      "  warnings.warn(\n"
     ]
    }
   ],
   "source": [
    "import pandas as pd\n",
    "import pickle\n",
    "from lightfm import LightFM"
   ]
  },
  {
   "cell_type": "code",
   "execution_count": 109,
   "id": "fc1062e6",
   "metadata": {
    "ExecuteTime": {
     "end_time": "2024-01-14T11:16:43.814911Z",
     "start_time": "2024-01-14T11:16:43.810444Z"
    }
   },
   "outputs": [],
   "source": [
    "class LightFMRecSyc():\n",
    "\n",
    "    def __init__(self, model=None, RecSycFilms = None, IMDb_df=None, Genre = None):\n",
    "\n",
    "        self.model = model\n",
    "        self.IMDb_df = IMDb_df\n",
    "        self.Genre = Genre\n",
    "        self.RecSycFilms = RecSycFilms\n",
    "\n",
    "    def IMDb(self):\n",
    "        \"\"\"\n",
    "            Обработка кейсов, когда нет оценок по user_id\n",
    "        \"\"\"\n",
    "        if self.Genre is None:\n",
    "            return self.IMDb_df['TITLE']\n",
    "        else:\n",
    "            return self.IMDb_df.loc[self.IMDb_df[self.Genre] == 1, 'TITLE']\n",
    "\n",
    "    def recommend(self, user_id, k, movies_to_predict):\n",
    "        \"\"\"\n",
    "            Расчет рекомендаций\n",
    "        \"\"\"\n",
    "        # Если ранее такого пользователя не было, используем IMDb\n",
    "        try:\n",
    "\n",
    "            n_movies = self.RecSycFilms['item_id'].unique()\n",
    "\n",
    "            prediction = self.model.predict(user_ids=user_id * len(movies_to_predict),\n",
    "                                            item_ids=movies_to_predict\n",
    "                                            )\n",
    "            dict_items = dict(zip(movies_to_predict, prediction))\n",
    "            \n",
    "            if self.Genre is None:\n",
    "                \n",
    "                items_s = list(dict(sorted(dict_items.items(), key=lambda item: item[1], reverse=True)).keys())[:k]\n",
    "            \n",
    "            else:\n",
    "                \n",
    "                genre_films = moveis_fin.loc[moveis_fin[self.Genre] == 1, 'MOVIEID'].to_list()\n",
    "                set_films = set(dict_items.keys()) & set(genre_films)\n",
    "                dict_genre = {key: dict_items[key] for key in list(set_films)}\n",
    "                items_s = list(dict(sorted(dict_genre.items(), key=lambda item: item[1], reverse=True)).keys())[:k]\n",
    "                \n",
    "            predict = list()\n",
    "\n",
    "            for movie in range(0, k):\n",
    "                \n",
    "                predict.append(self.RecSycFilms.loc[self.RecSycFilms['item_id'].isin([items_s[movie]]),\n",
    "                                                    'TITLE'].item())\n",
    "            return predict\n",
    "\n",
    "        except:\n",
    "            return self.IMDb()[:k].to_list()"
   ]
  },
  {
   "cell_type": "code",
   "execution_count": 112,
   "id": "35873924",
   "metadata": {
    "ExecuteTime": {
     "end_time": "2024-01-14T11:17:03.575700Z",
     "start_time": "2024-01-14T11:17:03.505880Z"
    }
   },
   "outputs": [],
   "source": [
    "RecSycFilms = pd.read_csv('RecSycFilms.csv', sep='\\t', index_col=0)\n",
    "moveis_fin = pd.read_csv('IMDb.csv', sep='\\t', index_col=0)\n",
    "\n",
    "with open(\"movies_to_predict\", \"rb\") as fp:  # Unpickling\n",
    "    movies_to_predict = pickle.load(fp)\n",
    "\n",
    "ClassRecSyc = pickle.load(open('model_pred.pkl', 'rb'))"
   ]
  },
  {
   "cell_type": "code",
   "execution_count": 113,
   "id": "c1e89e3a",
   "metadata": {
    "ExecuteTime": {
     "end_time": "2024-01-14T11:17:04.924868Z",
     "start_time": "2024-01-14T11:17:04.907962Z"
    }
   },
   "outputs": [
    {
     "data": {
      "text/plain": [
       "['Плезантвиль',\n",
       " 'Прогулка в облаках',\n",
       " 'Bread and Chocolate (Pane e cioccolata)',\n",
       " 'Чeм заняться мертвецу в Денвере',\n",
       " 'Покидая Лас-Вегас']"
      ]
     },
     "execution_count": 113,
     "metadata": {},
     "output_type": "execute_result"
    }
   ],
   "source": [
    "lfm = LightFMRecSyc(model=ClassRecSyc, RecSycFilms=RecSycFilms,\n",
    "                    IMDb_df=moveis_fin, Genre='Drama')\n",
    "lfm.recommend(user_id = [7438], k = 5, movies_to_predict = movies_to_predict)"
   ]
  },
  {
   "cell_type": "code",
   "execution_count": 115,
   "id": "2ad0da36",
   "metadata": {
    "ExecuteTime": {
     "end_time": "2024-01-14T11:25:03.481799Z",
     "start_time": "2024-01-14T11:25:03.468057Z"
    }
   },
   "outputs": [
    {
     "data": {
      "text/plain": [
       "['История игрушек 2',\n",
       " 'История игрушек',\n",
       " 'Мой сосед Тоторо',\n",
       " 'Мулан',\n",
       " 'Пиноккио']"
      ]
     },
     "execution_count": 115,
     "metadata": {},
     "output_type": "execute_result"
    }
   ],
   "source": [
    "lfm = LightFMRecSyc(model=ClassRecSyc, RecSycFilms=RecSycFilms,\n",
    "                    IMDb_df=moveis_fin, Genre='Animation')\n",
    "lfm.recommend(user_id = [7438], k = 5, movies_to_predict = movies_to_predict)"
   ]
  },
  {
   "cell_type": "code",
   "execution_count": null,
   "id": "045daf15",
   "metadata": {},
   "outputs": [],
   "source": [
    "#30323, 30349, 195, 1010, 1019900"
   ]
  },
  {
   "cell_type": "code",
   "execution_count": 19,
   "id": "68407bc6",
   "metadata": {
    "ExecuteTime": {
     "end_time": "2024-01-14T10:39:01.523942Z",
     "start_time": "2024-01-14T10:39:01.502453Z"
    }
   },
   "outputs": [
    {
     "data": {
      "text/plain": [
       "['Дело Исайи', 'Отелло', 'Музей Маргариты', 'Дилетанты', 'Балто']"
      ]
     },
     "execution_count": 19,
     "metadata": {},
     "output_type": "execute_result"
    }
   ],
   "source": [
    "lfm.recommend(user_id = [30323], k = 5, movies_to_predict = movies_to_predict)"
   ]
  },
  {
   "cell_type": "code",
   "execution_count": 59,
   "id": "f46e54df",
   "metadata": {
    "ExecuteTime": {
     "end_time": "2024-01-14T10:45:28.302670Z",
     "start_time": "2024-01-14T10:45:28.280259Z"
    }
   },
   "outputs": [
    {
     "data": {
      "text/plain": [
       "['Шоссе',\n",
       " 'Brothers in Trouble',\n",
       " 'Музей Маргариты',\n",
       " 'Солдат Джейн',\n",
       " 'Луна-соблазнительница']"
      ]
     },
     "execution_count": 59,
     "metadata": {},
     "output_type": "execute_result"
    }
   ],
   "source": [
    "lfm.recommend(user_id = [30349], k = 5, movies_to_predict = movies_to_predict)"
   ]
  },
  {
   "cell_type": "code",
   "execution_count": 57,
   "id": "9754d980",
   "metadata": {
    "ExecuteTime": {
     "end_time": "2024-01-14T10:45:08.284510Z",
     "start_time": "2024-01-14T10:45:08.261654Z"
    }
   },
   "outputs": [
    {
     "data": {
      "text/plain": [
       "['Old Yeller', 'Rocky II', 'Apollon 13', 'Шоссе', 'Выбор игры']"
      ]
     },
     "execution_count": 57,
     "metadata": {},
     "output_type": "execute_result"
    }
   ],
   "source": [
    "lfm.recommend(user_id = [195], k = 5, movies_to_predict = movies_to_predict)"
   ]
  },
  {
   "cell_type": "code",
   "execution_count": 52,
   "id": "53e0690a",
   "metadata": {
    "ExecuteTime": {
     "end_time": "2024-01-14T10:43:23.839463Z",
     "start_time": "2024-01-14T10:43:23.817194Z"
    }
   },
   "outputs": [
    {
     "data": {
      "text/plain": [
       "['Братья МакМаллен',\n",
       " 'Плохие парни',\n",
       " 'Чужая Америка',\n",
       " 'From the Journals of Jean Seberg',\n",
       " 'Девушка в кадиллаке']"
      ]
     },
     "execution_count": 52,
     "metadata": {},
     "output_type": "execute_result"
    }
   ],
   "source": [
    "lfm.recommend(user_id = [1010], k = 5, movies_to_predict = movies_to_predict)"
   ]
  },
  {
   "cell_type": "code",
   "execution_count": 64,
   "id": "72278b66",
   "metadata": {
    "ExecuteTime": {
     "end_time": "2024-01-14T10:48:32.391648Z",
     "start_time": "2024-01-14T10:48:32.384139Z"
    }
   },
   "outputs": [
    {
     "data": {
      "text/plain": [
       "['Побег из Шоушенка',\n",
       " 'Крёстный отец',\n",
       " 'Паразиты',\n",
       " 'Братья по оружию',\n",
       " 'Крёстный отец 2']"
      ]
     },
     "execution_count": 64,
     "metadata": {},
     "output_type": "execute_result"
    }
   ],
   "source": [
    "lfm.recommend(user_id = [1019900], k = 5, movies_to_predict = movies_to_predict)"
   ]
  },
  {
   "cell_type": "code",
   "execution_count": 72,
   "id": "3eb1adbc",
   "metadata": {
    "ExecuteTime": {
     "end_time": "2024-01-14T11:00:23.867421Z",
     "start_time": "2024-01-14T11:00:23.839781Z"
    }
   },
   "outputs": [
    {
     "data": {
      "text/plain": [
       "['Плохие парни',\n",
       " 'Шлюха',\n",
       " 'Бутылочная ракета',\n",
       " 'Музей Маргариты',\n",
       " 'Один из двух']"
      ]
     },
     "execution_count": 72,
     "metadata": {},
     "output_type": "execute_result"
    }
   ],
   "source": [
    "lfm.recommend(user_id = [1], k = 5, movies_to_predict = movies_to_predict)"
   ]
  },
  {
   "cell_type": "code",
   "execution_count": 73,
   "id": "c3442305",
   "metadata": {
    "ExecuteTime": {
     "end_time": "2024-01-14T11:00:33.317113Z",
     "start_time": "2024-01-14T11:00:33.294653Z"
    }
   },
   "outputs": [
    {
     "data": {
      "text/plain": [
       "['Old Yeller',\n",
       " 'Шоссе',\n",
       " 'Луна-соблазнительница',\n",
       " 'Солдат Джейн',\n",
       " 'Музей Маргариты']"
      ]
     },
     "execution_count": 73,
     "metadata": {},
     "output_type": "execute_result"
    }
   ],
   "source": [
    "lfm.recommend(user_id = [2], k = 5, movies_to_predict = movies_to_predict)"
   ]
  },
  {
   "cell_type": "code",
   "execution_count": null,
   "id": "6990573a",
   "metadata": {},
   "outputs": [],
   "source": []
  }
 ],
 "metadata": {
  "kernelspec": {
   "display_name": "Python 3 (ipykernel)",
   "language": "python",
   "name": "python3"
  },
  "language_info": {
   "codemirror_mode": {
    "name": "ipython",
    "version": 3
   },
   "file_extension": ".py",
   "mimetype": "text/x-python",
   "name": "python",
   "nbconvert_exporter": "python",
   "pygments_lexer": "ipython3",
   "version": "3.10.13"
  },
  "toc": {
   "base_numbering": 1,
   "nav_menu": {},
   "number_sections": true,
   "sideBar": true,
   "skip_h1_title": false,
   "title_cell": "Table of Contents",
   "title_sidebar": "Contents",
   "toc_cell": false,
   "toc_position": {
    "height": "calc(100% - 180px)",
    "left": "10px",
    "top": "150px",
    "width": "270px"
   },
   "toc_section_display": true,
   "toc_window_display": true
  },
  "varInspector": {
   "cols": {
    "lenName": 16,
    "lenType": 16,
    "lenVar": 40
   },
   "kernels_config": {
    "python": {
     "delete_cmd_postfix": "",
     "delete_cmd_prefix": "del ",
     "library": "var_list.py",
     "varRefreshCmd": "print(var_dic_list())"
    },
    "r": {
     "delete_cmd_postfix": ") ",
     "delete_cmd_prefix": "rm(",
     "library": "var_list.r",
     "varRefreshCmd": "cat(var_dic_list()) "
    }
   },
   "types_to_exclude": [
    "module",
    "function",
    "builtin_function_or_method",
    "instance",
    "_Feature"
   ],
   "window_display": false
  }
 },
 "nbformat": 4,
 "nbformat_minor": 5
}
