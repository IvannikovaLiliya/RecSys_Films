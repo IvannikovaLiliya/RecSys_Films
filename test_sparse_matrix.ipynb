{
 "cells": [
  {
   "cell_type": "markdown",
   "id": "62f9e6b7",
   "metadata": {},
   "source": [
    "!pip install implicit"
   ]
  },
  {
   "cell_type": "markdown",
   "id": "f3f61b57",
   "metadata": {},
   "source": [
    "!pip install rectools"
   ]
  },
  {
   "cell_type": "code",
   "execution_count": 1,
   "id": "b9a0b37f",
   "metadata": {},
   "outputs": [],
   "source": [
    "import os\n",
    "\n",
    "import numpy as np\n",
    "import pandas as pd\n",
    "\n",
    "from implicit.als import AlternatingLeastSquares\n",
    "\n",
    "from rectools import Columns\n",
    "from rectools.dataset import Dataset\n",
    "from rectools.models import ImplicitALSWrapperModel\n",
    "\n",
    "#os.environ[\"OPENBLAS_NUM_THREADS\"] = \"1\"  # For implicit ALS\n"
   ]
  },
  {
   "cell_type": "code",
   "execution_count": 5,
   "id": "b49e5376",
   "metadata": {},
   "outputs": [
    {
     "name": "stdout",
     "output_type": "stream",
     "text": [
      "(1000209, 4)\n",
      "CPU times: total: 3.17 s\n",
      "Wall time: 3.17 s\n"
     ]
    },
    {
     "data": {
      "text/html": [
       "<div>\n",
       "<style scoped>\n",
       "    .dataframe tbody tr th:only-of-type {\n",
       "        vertical-align: middle;\n",
       "    }\n",
       "\n",
       "    .dataframe tbody tr th {\n",
       "        vertical-align: top;\n",
       "    }\n",
       "\n",
       "    .dataframe thead th {\n",
       "        text-align: right;\n",
       "    }\n",
       "</style>\n",
       "<table border=\"1\" class=\"dataframe\">\n",
       "  <thead>\n",
       "    <tr style=\"text-align: right;\">\n",
       "      <th></th>\n",
       "      <th>user_id</th>\n",
       "      <th>item_id</th>\n",
       "      <th>weight</th>\n",
       "      <th>datetime</th>\n",
       "    </tr>\n",
       "  </thead>\n",
       "  <tbody>\n",
       "    <tr>\n",
       "      <th>0</th>\n",
       "      <td>1</td>\n",
       "      <td>1193</td>\n",
       "      <td>5</td>\n",
       "      <td>978300760</td>\n",
       "    </tr>\n",
       "    <tr>\n",
       "      <th>1</th>\n",
       "      <td>1</td>\n",
       "      <td>661</td>\n",
       "      <td>3</td>\n",
       "      <td>978302109</td>\n",
       "    </tr>\n",
       "    <tr>\n",
       "      <th>2</th>\n",
       "      <td>1</td>\n",
       "      <td>914</td>\n",
       "      <td>3</td>\n",
       "      <td>978301968</td>\n",
       "    </tr>\n",
       "    <tr>\n",
       "      <th>3</th>\n",
       "      <td>1</td>\n",
       "      <td>3408</td>\n",
       "      <td>4</td>\n",
       "      <td>978300275</td>\n",
       "    </tr>\n",
       "    <tr>\n",
       "      <th>4</th>\n",
       "      <td>1</td>\n",
       "      <td>2355</td>\n",
       "      <td>5</td>\n",
       "      <td>978824291</td>\n",
       "    </tr>\n",
       "  </tbody>\n",
       "</table>\n",
       "</div>"
      ],
      "text/plain": [
       "   user_id  item_id  weight   datetime\n",
       "0        1     1193       5  978300760\n",
       "1        1      661       3  978302109\n",
       "2        1      914       3  978301968\n",
       "3        1     3408       4  978300275\n",
       "4        1     2355       5  978824291"
      ]
     },
     "execution_count": 5,
     "metadata": {},
     "output_type": "execute_result"
    }
   ],
   "source": [
    "%%time\n",
    "ratings = pd.read_csv(\n",
    "    \"test_sparse_matrix_dataset_ratings.dat\",\n",
    "    sep=\"::\",\n",
    "    engine=\"python\",  # Because of 2-chars separators\n",
    "    header=None,\n",
    "    names=[Columns.User, Columns.Item, Columns.Weight, Columns.Datetime],\n",
    ")\n",
    "print(ratings.shape)\n",
    "ratings.head()\n"
   ]
  },
  {
   "cell_type": "code",
   "execution_count": 6,
   "id": "67aba0c8",
   "metadata": {},
   "outputs": [
    {
     "name": "stdout",
     "output_type": "stream",
     "text": [
      "(6040, 5)\n",
      "CPU times: total: 15.6 ms\n",
      "Wall time: 17 ms\n"
     ]
    },
    {
     "data": {
      "text/html": [
       "<div>\n",
       "<style scoped>\n",
       "    .dataframe tbody tr th:only-of-type {\n",
       "        vertical-align: middle;\n",
       "    }\n",
       "\n",
       "    .dataframe tbody tr th {\n",
       "        vertical-align: top;\n",
       "    }\n",
       "\n",
       "    .dataframe thead th {\n",
       "        text-align: right;\n",
       "    }\n",
       "</style>\n",
       "<table border=\"1\" class=\"dataframe\">\n",
       "  <thead>\n",
       "    <tr style=\"text-align: right;\">\n",
       "      <th></th>\n",
       "      <th>user_id</th>\n",
       "      <th>sex</th>\n",
       "      <th>age</th>\n",
       "      <th>occupation</th>\n",
       "      <th>zip_code</th>\n",
       "    </tr>\n",
       "  </thead>\n",
       "  <tbody>\n",
       "    <tr>\n",
       "      <th>0</th>\n",
       "      <td>1</td>\n",
       "      <td>F</td>\n",
       "      <td>1</td>\n",
       "      <td>10</td>\n",
       "      <td>48067</td>\n",
       "    </tr>\n",
       "    <tr>\n",
       "      <th>1</th>\n",
       "      <td>2</td>\n",
       "      <td>M</td>\n",
       "      <td>56</td>\n",
       "      <td>16</td>\n",
       "      <td>70072</td>\n",
       "    </tr>\n",
       "    <tr>\n",
       "      <th>2</th>\n",
       "      <td>3</td>\n",
       "      <td>M</td>\n",
       "      <td>25</td>\n",
       "      <td>15</td>\n",
       "      <td>55117</td>\n",
       "    </tr>\n",
       "    <tr>\n",
       "      <th>3</th>\n",
       "      <td>4</td>\n",
       "      <td>M</td>\n",
       "      <td>45</td>\n",
       "      <td>7</td>\n",
       "      <td>02460</td>\n",
       "    </tr>\n",
       "    <tr>\n",
       "      <th>4</th>\n",
       "      <td>5</td>\n",
       "      <td>M</td>\n",
       "      <td>25</td>\n",
       "      <td>20</td>\n",
       "      <td>55455</td>\n",
       "    </tr>\n",
       "  </tbody>\n",
       "</table>\n",
       "</div>"
      ],
      "text/plain": [
       "   user_id sex  age  occupation zip_code\n",
       "0        1   F    1          10    48067\n",
       "1        2   M   56          16    70072\n",
       "2        3   M   25          15    55117\n",
       "3        4   M   45           7    02460\n",
       "4        5   M   25          20    55455"
      ]
     },
     "execution_count": 6,
     "metadata": {},
     "output_type": "execute_result"
    }
   ],
   "source": [
    "%%time\n",
    "users = pd.read_csv(\n",
    "    \"test_sparse_matrix_dataset_users.dat\",\n",
    "    sep=\"::\",\n",
    "    engine=\"python\",\n",
    "    header=None,\n",
    "    names=[Columns.User, \"sex\", \"age\", \"occupation\", \"zip_code\"],\n",
    ")\n",
    "print(users.shape)\n",
    "users.head()"
   ]
  },
  {
   "cell_type": "code",
   "execution_count": 7,
   "id": "59ef7427",
   "metadata": {},
   "outputs": [],
   "source": [
    "# берем только тех пользователей, которые есть в таблице рейтинга\n",
    "users = users.loc[users[\"user_id\"].isin(ratings[\"user_id\"])].copy()"
   ]
  },
  {
   "cell_type": "markdown",
   "id": "daa6bb38",
   "metadata": {},
   "source": [
    "# Пример построения спарс-матрицы (разряженной матрицы)"
   ]
  },
  {
   "cell_type": "code",
   "execution_count": 9,
   "id": "8f14a9b1",
   "metadata": {},
   "outputs": [
    {
     "data": {
      "text/plain": [
       "[        id value feature\n",
       " 0        1     F     sex\n",
       " 1        2     M     sex\n",
       " 2        3     M     sex\n",
       " 3        4     M     sex\n",
       " 4        5     M     sex\n",
       " ...    ...   ...     ...\n",
       " 6035  6036     F     sex\n",
       " 6036  6037     F     sex\n",
       " 6037  6038     F     sex\n",
       " 6038  6039     F     sex\n",
       " 6039  6040     M     sex\n",
       " \n",
       " [6040 rows x 3 columns],\n",
       "         id  value feature\n",
       " 0        1      1     age\n",
       " 1        2     56     age\n",
       " 2        3     25     age\n",
       " 3        4     45     age\n",
       " 4        5     25     age\n",
       " ...    ...    ...     ...\n",
       " 6035  6036     25     age\n",
       " 6036  6037     45     age\n",
       " 6037  6038     56     age\n",
       " 6038  6039     45     age\n",
       " 6039  6040     25     age\n",
       " \n",
       " [6040 rows x 3 columns],\n",
       "         id  value     feature\n",
       " 0        1     10  occupation\n",
       " 1        2     16  occupation\n",
       " 2        3     15  occupation\n",
       " 3        4      7  occupation\n",
       " 4        5     20  occupation\n",
       " ...    ...    ...         ...\n",
       " 6035  6036     15  occupation\n",
       " 6036  6037      1  occupation\n",
       " 6037  6038      1  occupation\n",
       " 6038  6039      0  occupation\n",
       " 6039  6040      6  occupation\n",
       " \n",
       " [6040 rows x 3 columns]]"
      ]
     },
     "execution_count": 9,
     "metadata": {},
     "output_type": "execute_result"
    }
   ],
   "source": [
    "# подготовка плоской таблицы с 3 фичами по пользователю\n",
    "user_features_frames = []\n",
    "for feature in [\"sex\", \"age\", \"occupation\"]:\n",
    "    feature_frame = users.reindex(columns=[\"user_id\", feature])\n",
    "    feature_frame.columns = [\"id\", \"value\"]\n",
    "    feature_frame[\"feature\"] = feature\n",
    "    user_features_frames.append(feature_frame)\n",
    "    \n",
    "user_features_frames"
   ]
  },
  {
   "cell_type": "code",
   "execution_count": 10,
   "id": "e875e664",
   "metadata": {},
   "outputs": [
    {
     "data": {
      "text/html": [
       "<div>\n",
       "<style scoped>\n",
       "    .dataframe tbody tr th:only-of-type {\n",
       "        vertical-align: middle;\n",
       "    }\n",
       "\n",
       "    .dataframe tbody tr th {\n",
       "        vertical-align: top;\n",
       "    }\n",
       "\n",
       "    .dataframe thead th {\n",
       "        text-align: right;\n",
       "    }\n",
       "</style>\n",
       "<table border=\"1\" class=\"dataframe\">\n",
       "  <thead>\n",
       "    <tr style=\"text-align: right;\">\n",
       "      <th></th>\n",
       "      <th>id</th>\n",
       "      <th>value</th>\n",
       "      <th>feature</th>\n",
       "    </tr>\n",
       "  </thead>\n",
       "  <tbody>\n",
       "    <tr>\n",
       "      <th>0</th>\n",
       "      <td>1</td>\n",
       "      <td>F</td>\n",
       "      <td>sex</td>\n",
       "    </tr>\n",
       "    <tr>\n",
       "      <th>1</th>\n",
       "      <td>2</td>\n",
       "      <td>M</td>\n",
       "      <td>sex</td>\n",
       "    </tr>\n",
       "    <tr>\n",
       "      <th>2</th>\n",
       "      <td>3</td>\n",
       "      <td>M</td>\n",
       "      <td>sex</td>\n",
       "    </tr>\n",
       "    <tr>\n",
       "      <th>3</th>\n",
       "      <td>4</td>\n",
       "      <td>M</td>\n",
       "      <td>sex</td>\n",
       "    </tr>\n",
       "    <tr>\n",
       "      <th>4</th>\n",
       "      <td>5</td>\n",
       "      <td>M</td>\n",
       "      <td>sex</td>\n",
       "    </tr>\n",
       "    <tr>\n",
       "      <th>...</th>\n",
       "      <td>...</td>\n",
       "      <td>...</td>\n",
       "      <td>...</td>\n",
       "    </tr>\n",
       "    <tr>\n",
       "      <th>6035</th>\n",
       "      <td>6036</td>\n",
       "      <td>15</td>\n",
       "      <td>occupation</td>\n",
       "    </tr>\n",
       "    <tr>\n",
       "      <th>6036</th>\n",
       "      <td>6037</td>\n",
       "      <td>1</td>\n",
       "      <td>occupation</td>\n",
       "    </tr>\n",
       "    <tr>\n",
       "      <th>6037</th>\n",
       "      <td>6038</td>\n",
       "      <td>1</td>\n",
       "      <td>occupation</td>\n",
       "    </tr>\n",
       "    <tr>\n",
       "      <th>6038</th>\n",
       "      <td>6039</td>\n",
       "      <td>0</td>\n",
       "      <td>occupation</td>\n",
       "    </tr>\n",
       "    <tr>\n",
       "      <th>6039</th>\n",
       "      <td>6040</td>\n",
       "      <td>6</td>\n",
       "      <td>occupation</td>\n",
       "    </tr>\n",
       "  </tbody>\n",
       "</table>\n",
       "<p>18120 rows × 3 columns</p>\n",
       "</div>"
      ],
      "text/plain": [
       "        id value     feature\n",
       "0        1     F         sex\n",
       "1        2     M         sex\n",
       "2        3     M         sex\n",
       "3        4     M         sex\n",
       "4        5     M         sex\n",
       "...    ...   ...         ...\n",
       "6035  6036    15  occupation\n",
       "6036  6037     1  occupation\n",
       "6037  6038     1  occupation\n",
       "6038  6039     0  occupation\n",
       "6039  6040     6  occupation\n",
       "\n",
       "[18120 rows x 3 columns]"
      ]
     },
     "execution_count": 10,
     "metadata": {},
     "output_type": "execute_result"
    }
   ],
   "source": [
    "user_features = pd.concat(user_features_frames)\n",
    "user_features"
   ]
  },
  {
   "cell_type": "code",
   "execution_count": 11,
   "id": "066dca1c",
   "metadata": {},
   "outputs": [
    {
     "name": "stdout",
     "output_type": "stream",
     "text": [
      "CPU times: total: 62.5 ms\n",
      "Wall time: 56 ms\n"
     ]
    }
   ],
   "source": [
    "%%time\n",
    "# сборка датасета\n",
    "sparse_features_dataset = Dataset.construct(\n",
    "    ratings,\n",
    "    user_features_df=user_features,  # our flatten dataframe\n",
    "    cat_user_features=[\"sex\", \"age\"], # these will be one-hot-encoded. All other features must be numerical already\n",
    "    make_dense_user_features=False  # for `sparse` format\n",
    ")"
   ]
  },
  {
   "cell_type": "code",
   "execution_count": 12,
   "id": "9e9bf815",
   "metadata": {},
   "outputs": [
    {
     "data": {
      "text/plain": [
       "Dataset(user_id_map=IdMap(external_ids=array([   1,    2,    3, ..., 6038, 6039, 6040], dtype=int64)), item_id_map=IdMap(external_ids=array([1193,  661,  914, ..., 2845, 3607, 2909], dtype=int64)), interactions=Interactions(df=         user_id  item_id  weight                      datetime\n",
       "0              0        0     5.0 1970-01-01 00:00:00.978300760\n",
       "1              0        1     3.0 1970-01-01 00:00:00.978302109\n",
       "2              0        2     3.0 1970-01-01 00:00:00.978301968\n",
       "3              0        3     4.0 1970-01-01 00:00:00.978300275\n",
       "4              0        4     5.0 1970-01-01 00:00:00.978824291\n",
       "...          ...      ...     ...                           ...\n",
       "1000204     6039      772     1.0 1970-01-01 00:00:00.956716541\n",
       "1000205     6039     1106     5.0 1970-01-01 00:00:00.956704887\n",
       "1000206     6039      365     5.0 1970-01-01 00:00:00.956704746\n",
       "1000207     6039      152     4.0 1970-01-01 00:00:00.956715648\n",
       "1000208     6039       26     4.0 1970-01-01 00:00:00.956715569\n",
       "\n",
       "[1000209 rows x 4 columns]), user_features=SparseFeatures(values=<6040x10 sparse matrix of type '<class 'numpy.float32'>'\n",
       "\twith 18120 stored elements in Compressed Sparse Row format>, names=(('occupation', '__is_direct_feature'), ('sex', 'F'), ('sex', 'M'), ('age', 1), ('age', 56), ('age', 25), ('age', 45), ('age', 50), ('age', 35), ('age', 18))), item_features=None)"
      ]
     },
     "execution_count": 12,
     "metadata": {},
     "output_type": "execute_result"
    }
   ],
   "source": [
    "sparse_features_dataset"
   ]
  },
  {
   "cell_type": "code",
   "execution_count": 16,
   "id": "22087c0a",
   "metadata": {},
   "outputs": [
    {
     "data": {
      "text/plain": [
       "IdMap(external_ids=array([   1,    2,    3, ..., 6038, 6039, 6040], dtype=int64))"
      ]
     },
     "execution_count": 16,
     "metadata": {},
     "output_type": "execute_result"
    }
   ],
   "source": [
    "sparse_features_dataset.user_id_map"
   ]
  },
  {
   "cell_type": "code",
   "execution_count": 17,
   "id": "ebf85bc4",
   "metadata": {},
   "outputs": [
    {
     "data": {
      "text/plain": [
       "IdMap(external_ids=array([1193,  661,  914, ..., 2845, 3607, 2909], dtype=int64))"
      ]
     },
     "execution_count": 17,
     "metadata": {},
     "output_type": "execute_result"
    }
   ],
   "source": [
    "sparse_features_dataset.item_id_map"
   ]
  },
  {
   "cell_type": "code",
   "execution_count": 18,
   "id": "a1a559cc",
   "metadata": {},
   "outputs": [
    {
     "data": {
      "text/plain": [
       "Interactions(df=         user_id  item_id  weight                      datetime\n",
       "0              0        0     5.0 1970-01-01 00:00:00.978300760\n",
       "1              0        1     3.0 1970-01-01 00:00:00.978302109\n",
       "2              0        2     3.0 1970-01-01 00:00:00.978301968\n",
       "3              0        3     4.0 1970-01-01 00:00:00.978300275\n",
       "4              0        4     5.0 1970-01-01 00:00:00.978824291\n",
       "...          ...      ...     ...                           ...\n",
       "1000204     6039      772     1.0 1970-01-01 00:00:00.956716541\n",
       "1000205     6039     1106     5.0 1970-01-01 00:00:00.956704887\n",
       "1000206     6039      365     5.0 1970-01-01 00:00:00.956704746\n",
       "1000207     6039      152     4.0 1970-01-01 00:00:00.956715648\n",
       "1000208     6039       26     4.0 1970-01-01 00:00:00.956715569\n",
       "\n",
       "[1000209 rows x 4 columns])"
      ]
     },
     "execution_count": 18,
     "metadata": {},
     "output_type": "execute_result"
    }
   ],
   "source": [
    "sparse_features_dataset.interactions"
   ]
  },
  {
   "cell_type": "markdown",
   "id": "29114352",
   "metadata": {},
   "source": [
    "В этом наборе данных пользовательские функции теперь хранятся в разреженном формате.    \n",
    "    \n",
    "В cat_user_features извлекаются все возможные значения, горячекодируются и сохраняются в разреженной матрице.    \n",
    "    \n",
    "Значения всех остальных признаков (прямых) хранятся в одной и той же разреженной матрице (один столбец для одного прямого признака). Здесь мы делаем «оккупацию» прямой функцией просто для быстрого примера хранения данных. На самом деле оно имеет категоричный характер.    \n",
    "    \n",
    "Строки разреженной матрицы соответствуют внутренним идентификаторам пользователей в наборе данных. Они идентичны номерам строк в матрице ui_csr, которая используется для обучения модели в большинстве рекомендательных моделей.    \n",
    "    \n",
    "Давайте заглянем внутрь набора данных, чтобы проверить, как хранятся данные.    "
   ]
  },
  {
   "cell_type": "code",
   "execution_count": 19,
   "id": "593239ec",
   "metadata": {},
   "outputs": [
    {
     "data": {
      "text/plain": [
       "<6040x10 sparse matrix of type '<class 'numpy.float32'>'\n",
       "\twith 18120 stored elements in Compressed Sparse Row format>"
      ]
     },
     "execution_count": 19,
     "metadata": {},
     "output_type": "execute_result"
    }
   ],
   "source": [
    "sparse_features_dataset.user_features.values"
   ]
  },
  {
   "cell_type": "code",
   "execution_count": 20,
   "id": "00474a1c",
   "metadata": {},
   "outputs": [
    {
     "data": {
      "text/plain": [
       "(('occupation', '__is_direct_feature'),\n",
       " ('sex', 'F'),\n",
       " ('sex', 'M'),\n",
       " ('age', 1),\n",
       " ('age', 56),\n",
       " ('age', 25),\n",
       " ('age', 45),\n",
       " ('age', 50),\n",
       " ('age', 35),\n",
       " ('age', 18))"
      ]
     },
     "execution_count": 20,
     "metadata": {},
     "output_type": "execute_result"
    }
   ],
   "source": [
    "sparse_features_dataset.user_features.names"
   ]
  },
  {
   "cell_type": "code",
   "execution_count": 22,
   "id": "4dd85c3d",
   "metadata": {},
   "outputs": [
    {
     "data": {
      "text/plain": [
       "array([[10.,  1.,  0.,  1.,  0.,  0.,  0.,  0.,  0.,  0.],\n",
       "       [16.,  0.,  1.,  0.,  1.,  0.,  0.,  0.,  0.,  0.],\n",
       "       [15.,  0.,  1.,  0.,  0.,  1.,  0.,  0.,  0.,  0.],\n",
       "       [ 7.,  0.,  1.,  0.,  0.,  0.,  1.,  0.,  0.,  0.],\n",
       "       [20.,  0.,  1.,  0.,  0.,  1.,  0.,  0.,  0.,  0.]], dtype=float32)"
      ]
     },
     "execution_count": 22,
     "metadata": {},
     "output_type": "execute_result"
    }
   ],
   "source": [
    "sparse_features_dataset.user_features.values[:5].toarray()"
   ]
  },
  {
   "cell_type": "markdown",
   "id": "a90afd1b",
   "metadata": {},
   "source": [
    "# Пример построения плотной матрицы"
   ]
  },
  {
   "cell_type": "markdown",
   "id": "f02f5f6d",
   "metadata": {},
   "source": [
    "Теперь давайте создадим набор данных с плотными функциями.    \n",
    "    \n",
    "Нам нужен классический фрейм данных с одним столбцом для каждого объекта и одной строкой для каждого субъекта (пользователя или элемента).    \n",
    "    \n",
    "Важно: все значения функций должны быть числовыми.    \n",
    "    \n",
    "Важно: Вы должны установить функции для всех объектов (пользователей или элементов). Если у вас нет какой-либо функции для какого-либо пользователя (элемента), используйте любой метод (ноль, среднее значение и т. д.) для ее заполнения    "
   ]
  },
  {
   "cell_type": "code",
   "execution_count": 23,
   "id": "800536d4",
   "metadata": {},
   "outputs": [
    {
     "data": {
      "text/html": [
       "<div>\n",
       "<style scoped>\n",
       "    .dataframe tbody tr th:only-of-type {\n",
       "        vertical-align: middle;\n",
       "    }\n",
       "\n",
       "    .dataframe tbody tr th {\n",
       "        vertical-align: top;\n",
       "    }\n",
       "\n",
       "    .dataframe thead th {\n",
       "        text-align: right;\n",
       "    }\n",
       "</style>\n",
       "<table border=\"1\" class=\"dataframe\">\n",
       "  <thead>\n",
       "    <tr style=\"text-align: right;\">\n",
       "      <th></th>\n",
       "      <th>user_id</th>\n",
       "      <th>age</th>\n",
       "      <th>occupation</th>\n",
       "    </tr>\n",
       "  </thead>\n",
       "  <tbody>\n",
       "    <tr>\n",
       "      <th>0</th>\n",
       "      <td>1</td>\n",
       "      <td>1</td>\n",
       "      <td>10</td>\n",
       "    </tr>\n",
       "    <tr>\n",
       "      <th>1</th>\n",
       "      <td>2</td>\n",
       "      <td>56</td>\n",
       "      <td>16</td>\n",
       "    </tr>\n",
       "    <tr>\n",
       "      <th>2</th>\n",
       "      <td>3</td>\n",
       "      <td>25</td>\n",
       "      <td>15</td>\n",
       "    </tr>\n",
       "    <tr>\n",
       "      <th>3</th>\n",
       "      <td>4</td>\n",
       "      <td>45</td>\n",
       "      <td>7</td>\n",
       "    </tr>\n",
       "    <tr>\n",
       "      <th>4</th>\n",
       "      <td>5</td>\n",
       "      <td>25</td>\n",
       "      <td>20</td>\n",
       "    </tr>\n",
       "  </tbody>\n",
       "</table>\n",
       "</div>"
      ],
      "text/plain": [
       "   user_id  age  occupation\n",
       "0        1    1          10\n",
       "1        2   56          16\n",
       "2        3   25          15\n",
       "3        4   45           7\n",
       "4        5   25          20"
      ]
     },
     "execution_count": 23,
     "metadata": {},
     "output_type": "execute_result"
    }
   ],
   "source": [
    "user_numeric_features = users[[Columns.User, \"age\", \"occupation\"]]\n",
    "user_numeric_features.head()"
   ]
  },
  {
   "cell_type": "code",
   "execution_count": 24,
   "id": "6b33504e",
   "metadata": {},
   "outputs": [],
   "source": [
    "dense_features_dataset = Dataset.construct(\n",
    "    ratings,\n",
    "    user_features_df=user_numeric_features,\n",
    "    make_dense_user_features=True  # for `dense` format\n",
    ")"
   ]
  },
  {
   "cell_type": "code",
   "execution_count": 25,
   "id": "dee68fe3",
   "metadata": {},
   "outputs": [
    {
     "data": {
      "text/plain": [
       "('age', 'occupation')"
      ]
     },
     "execution_count": 25,
     "metadata": {},
     "output_type": "execute_result"
    }
   ],
   "source": [
    "dense_features_dataset.user_features.names"
   ]
  },
  {
   "cell_type": "code",
   "execution_count": 26,
   "id": "a66fd6a4",
   "metadata": {},
   "outputs": [
    {
     "data": {
      "text/plain": [
       "array([[ 1., 10.],\n",
       "       [56., 16.],\n",
       "       [25., 15.],\n",
       "       [45.,  7.],\n",
       "       [25., 20.]], dtype=float32)"
      ]
     },
     "execution_count": 26,
     "metadata": {},
     "output_type": "execute_result"
    }
   ],
   "source": [
    "dense_features_dataset.user_features.values[:5]"
   ]
  },
  {
   "cell_type": "markdown",
   "id": "f7356869",
   "metadata": {},
   "source": [
    "# Передача функций в модели"
   ]
  },
  {
   "cell_type": "markdown",
   "id": "1736d66d",
   "metadata": {},
   "source": [
    "Теперь мы можем просто подогнать модель, используя подготовленный набор данных. Для этого мы выбираем модели, которые поддерживают использование функций в обучении (например, iALS, LightFM, DSSM, PopularInCategory)"
   ]
  },
  {
   "cell_type": "code",
   "execution_count": 27,
   "id": "4e803071",
   "metadata": {},
   "outputs": [
    {
     "name": "stderr",
     "output_type": "stream",
     "text": [
      "C:\\Programming\\Anaconda\\lib\\site-packages\\implicit\\cpu\\als.py:95: RuntimeWarning: OpenBLAS is configured to use 16 threads. It is highly recommended to disable its internal threadpool by setting the environment variable 'OPENBLAS_NUM_THREADS=1' or by calling 'threadpoolctl.threadpool_limits(1, \"blas\")'. Having OpenBLAS use a threadpool can lead to severe performance issues here.\n",
      "  check_blas_config()\n"
     ]
    },
    {
     "data": {
      "application/vnd.jupyter.widget-view+json": {
       "model_id": "45710d2675b74d978f9909c994d1ecf5",
       "version_major": 2,
       "version_minor": 0
      },
      "text/plain": [
       "  0%|          | 0/1 [00:00<?, ?it/s]"
      ]
     },
     "metadata": {},
     "output_type": "display_data"
    },
    {
     "data": {
      "text/plain": [
       "<rectools.models.implicit_als.ImplicitALSWrapperModel at 0x26bae822460>"
      ]
     },
     "execution_count": 27,
     "metadata": {},
     "output_type": "execute_result"
    }
   ],
   "source": [
    "model = ImplicitALSWrapperModel(AlternatingLeastSquares(10, num_threads=32))\n",
    "model.fit(dense_features_dataset)"
   ]
  },
  {
   "cell_type": "code",
   "execution_count": 28,
   "id": "724a2d0b",
   "metadata": {},
   "outputs": [
    {
     "name": "stderr",
     "output_type": "stream",
     "text": [
      "C:\\Programming\\Anaconda\\lib\\site-packages\\rectools\\dataset\\features.py:420: UserWarning: Converting sparse features to dense array may cause MemoryError\n",
      "  warnings.warn(\"Converting sparse features to dense array may cause MemoryError\")\n"
     ]
    },
    {
     "data": {
      "application/vnd.jupyter.widget-view+json": {
       "model_id": "7a110a7ff3e84e94904d801bb4a09f9f",
       "version_major": 2,
       "version_minor": 0
      },
      "text/plain": [
       "  0%|          | 0/1 [00:00<?, ?it/s]"
      ]
     },
     "metadata": {},
     "output_type": "display_data"
    },
    {
     "data": {
      "text/plain": [
       "<rectools.models.implicit_als.ImplicitALSWrapperModel at 0x26bae7d8f70>"
      ]
     },
     "execution_count": 28,
     "metadata": {},
     "output_type": "execute_result"
    }
   ],
   "source": [
    "model = ImplicitALSWrapperModel(AlternatingLeastSquares(10, num_threads=32))\n",
    "model.fit(sparse_features_dataset)"
   ]
  },
  {
   "cell_type": "markdown",
   "id": "ee20842a",
   "metadata": {},
   "source": [
    "# Заметки"
   ]
  },
  {
   "cell_type": "markdown",
   "id": "08b8d256",
   "metadata": {},
   "source": [
    "* Если модели требуются функции в определенном формате, она автоматически преобразует их. Вот почему мы можем получить предупреждение, устанавливая iALS с редкими функциями. Модель в любом случае подойдет, только помните о возможных проблемах с памятью\n",
    "* LightFM и DSSM предпочитают функции горячего кодирования. Поэтому хорошей идеей будет бинаризировать все прямые признаки и сделать их категориальными. Но вы также можете попробовать применить MinMaxScaler к прямым значениям.\n",
    "* iALS хорошо работает как с прямыми, так и с категориальными признаками. Прямые функции могут быть MinMaxScaled.\n",
    "* PopularInCategory требует небольшого количества функций и выбранной категории из-за ее природы."
   ]
  }
 ],
 "metadata": {
  "kernelspec": {
   "display_name": "Python 3 (ipykernel)",
   "language": "python",
   "name": "python3"
  },
  "language_info": {
   "codemirror_mode": {
    "name": "ipython",
    "version": 3
   },
   "file_extension": ".py",
   "mimetype": "text/x-python",
   "name": "python",
   "nbconvert_exporter": "python",
   "pygments_lexer": "ipython3",
   "version": "3.9.12"
  }
 },
 "nbformat": 4,
 "nbformat_minor": 5
}
