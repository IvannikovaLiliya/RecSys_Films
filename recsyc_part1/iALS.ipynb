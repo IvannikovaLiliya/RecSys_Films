{
 "cells": [
  {
   "cell_type": "markdown",
   "id": "c5f10c28",
   "metadata": {},
   "source": [
    "# Import"
   ]
  },
  {
   "cell_type": "code",
   "execution_count": 2,
   "id": "74d57851",
   "metadata": {
    "ExecuteTime": {
     "end_time": "2024-02-01T17:43:08.990762Z",
     "start_time": "2024-02-01T17:43:08.539939Z"
    }
   },
   "outputs": [],
   "source": [
    "import pandas as pd\n",
    "import numpy as np\n",
    "import matplotlib.pyplot as plt\n",
    "from matplotlib.pyplot import figure\n",
    "\n",
    "from tqdm import tqdm\n",
    "import scipy.sparse as sp\n",
    "\n",
    "import warnings\n",
    "warnings.simplefilter('ignore')\n",
    "\n",
    "from numpy.linalg import svd\n",
    "\n",
    "from rectools.dataset import Dataset\n",
    "from implicit.evaluation import mean_average_precision_at_k\n",
    "from rectools.metrics.ranking import MAP\n",
    "import scipy.sparse as scs\n",
    "\n",
    "import os"
   ]
  },
  {
   "cell_type": "code",
   "execution_count": 3,
   "id": "5365982a",
   "metadata": {
    "ExecuteTime": {
     "end_time": "2024-02-01T17:43:08.994764Z",
     "start_time": "2024-02-01T17:43:08.991899Z"
    }
   },
   "outputs": [
    {
     "data": {
      "text/plain": [
       "'/Users/liliyaivannikova/Documents/project/git/RecSys_Films/recsyc_part1'"
      ]
     },
     "execution_count": 3,
     "metadata": {},
     "output_type": "execute_result"
    }
   ],
   "source": [
    "us = os.getcwd()\n",
    "us"
   ]
  },
  {
   "cell_type": "code",
   "execution_count": 4,
   "id": "cbc2b297",
   "metadata": {
    "ExecuteTime": {
     "end_time": "2024-02-01T17:43:13.484886Z",
     "start_time": "2024-02-01T17:43:08.995469Z"
    }
   },
   "outputs": [],
   "source": [
    "if 'liliyaivannikova' in us:\n",
    "    PATH = r'/Users/liliyaivannikova/Documents/project/ml-latest/'\n",
    "    movies = pd.read_csv(PATH + r'movies.csv')\n",
    "    rating = pd.read_csv(PATH + r'ratings.csv')\n",
    "elif 'Владислав' in us:\n",
    "    movies = pd.read_csv(r'dataset/movies.csv')\n",
    "    rating = pd.read_csv(r'dataset/ratings.csv')"
   ]
  },
  {
   "cell_type": "code",
   "execution_count": 5,
   "id": "1ce21742",
   "metadata": {
    "ExecuteTime": {
     "end_time": "2024-02-01T17:43:13.488031Z",
     "start_time": "2024-02-01T17:43:13.486239Z"
    }
   },
   "outputs": [
    {
     "name": "stdout",
     "output_type": "stream",
     "text": [
      "\n",
      "movies: (86537, 3)\n",
      "rating: (33832162, 4)\n",
      "\n"
     ]
    }
   ],
   "source": [
    "print(f'''\n",
    "movies: {movies.shape}\n",
    "rating: {rating.shape}\n",
    "''')"
   ]
  },
  {
   "cell_type": "code",
   "execution_count": 6,
   "id": "9129d676",
   "metadata": {
    "ExecuteTime": {
     "end_time": "2024-02-01T17:43:13.592340Z",
     "start_time": "2024-02-01T17:43:13.488728Z"
    }
   },
   "outputs": [],
   "source": [
    "movies.columns = [col.upper() for col in movies.columns]\n",
    "\n",
    "movies['REALEASE'] = movies['TITLE'].str.extract(\"\\((\\d{4})\\)\", expand=True)\n",
    "movies['REALEASE'] = pd.to_datetime(movies['REALEASE'], format='%Y')\n",
    "movies['REALEASE'] = movies['REALEASE'].dt.year\n",
    "movies['TITLE'] = movies['TITLE'].str[:-7]"
   ]
  },
  {
   "cell_type": "code",
   "execution_count": 7,
   "id": "c1a6946c",
   "metadata": {
    "ExecuteTime": {
     "end_time": "2024-02-01T17:43:13.668864Z",
     "start_time": "2024-02-01T17:43:13.593318Z"
    }
   },
   "outputs": [],
   "source": [
    "movies['TITLE'] = movies['TITLE'].astype('category')\n",
    "movies['REALEASE'] = movies['REALEASE'].astype('float16')\n",
    "movies['GENRES'] = movies['GENRES'].str.replace('|', ',')"
   ]
  },
  {
   "cell_type": "code",
   "execution_count": 8,
   "id": "64aeb5f0",
   "metadata": {
    "ExecuteTime": {
     "end_time": "2024-02-01T17:43:13.996081Z",
     "start_time": "2024-02-01T17:43:13.669925Z"
    }
   },
   "outputs": [],
   "source": [
    "rating.columns = [col.upper() for col in rating.columns]\n",
    "rating['TIMESTAMP'] = pd.to_datetime(rating['TIMESTAMP'], unit='s')"
   ]
  },
  {
   "cell_type": "markdown",
   "id": "ad5e78a9",
   "metadata": {},
   "source": [
    "# Обработка полей"
   ]
  },
  {
   "cell_type": "code",
   "execution_count": 9,
   "id": "79eea478",
   "metadata": {
    "ExecuteTime": {
     "end_time": "2024-02-01T17:43:14.270012Z",
     "start_time": "2024-02-01T17:43:13.996954Z"
    }
   },
   "outputs": [
    {
     "data": {
      "text/plain": [
       "3.0"
      ]
     },
     "execution_count": 9,
     "metadata": {},
     "output_type": "execute_result"
    }
   ],
   "source": [
    "rating_stat = rating.groupby('USERID')['MOVIEID'].count().reset_index()\n",
    "rating_stat['MOVIEID'].quantile(0.05)"
   ]
  },
  {
   "cell_type": "code",
   "execution_count": 10,
   "id": "0e7308d0",
   "metadata": {
    "ExecuteTime": {
     "end_time": "2024-02-01T17:43:14.273813Z",
     "start_time": "2024-02-01T17:43:14.270913Z"
    }
   },
   "outputs": [],
   "source": [
    "#rating_stat['FLAG_05'] = np.where(rating_stat['MOVIEID'] > rating_stat['MOVIEID'].quantile(0.05), 1, 0)\n",
    "rating_stat['FLAG_05'] = np.where(rating_stat['MOVIEID'] > 20, 1, 0)"
   ]
  },
  {
   "cell_type": "code",
   "execution_count": 11,
   "id": "40a5550d",
   "metadata": {
    "ExecuteTime": {
     "end_time": "2024-02-01T17:43:15.953565Z",
     "start_time": "2024-02-01T17:43:14.276457Z"
    }
   },
   "outputs": [],
   "source": [
    "rating = rating.merge(rating_stat[['USERID', 'FLAG_05']], how = 'left', on = 'USERID')"
   ]
  },
  {
   "cell_type": "code",
   "execution_count": 12,
   "id": "b44bd844",
   "metadata": {
    "ExecuteTime": {
     "end_time": "2024-02-01T17:43:15.959945Z",
     "start_time": "2024-02-01T17:43:15.954287Z"
    }
   },
   "outputs": [
    {
     "data": {
      "text/html": [
       "<div>\n",
       "<style scoped>\n",
       "    .dataframe tbody tr th:only-of-type {\n",
       "        vertical-align: middle;\n",
       "    }\n",
       "\n",
       "    .dataframe tbody tr th {\n",
       "        vertical-align: top;\n",
       "    }\n",
       "\n",
       "    .dataframe thead th {\n",
       "        text-align: right;\n",
       "    }\n",
       "</style>\n",
       "<table border=\"1\" class=\"dataframe\">\n",
       "  <thead>\n",
       "    <tr style=\"text-align: right;\">\n",
       "      <th></th>\n",
       "      <th>USERID</th>\n",
       "      <th>MOVIEID</th>\n",
       "      <th>RATING</th>\n",
       "      <th>TIMESTAMP</th>\n",
       "      <th>FLAG_05</th>\n",
       "    </tr>\n",
       "  </thead>\n",
       "  <tbody>\n",
       "    <tr>\n",
       "      <th>0</th>\n",
       "      <td>1</td>\n",
       "      <td>1</td>\n",
       "      <td>4.0</td>\n",
       "      <td>2008-11-03 17:52:19</td>\n",
       "      <td>1</td>\n",
       "    </tr>\n",
       "    <tr>\n",
       "      <th>1</th>\n",
       "      <td>1</td>\n",
       "      <td>110</td>\n",
       "      <td>4.0</td>\n",
       "      <td>2008-11-05 06:04:46</td>\n",
       "      <td>1</td>\n",
       "    </tr>\n",
       "    <tr>\n",
       "      <th>2</th>\n",
       "      <td>1</td>\n",
       "      <td>158</td>\n",
       "      <td>4.0</td>\n",
       "      <td>2008-11-03 17:31:43</td>\n",
       "      <td>1</td>\n",
       "    </tr>\n",
       "    <tr>\n",
       "      <th>3</th>\n",
       "      <td>1</td>\n",
       "      <td>260</td>\n",
       "      <td>4.5</td>\n",
       "      <td>2008-11-03 18:00:04</td>\n",
       "      <td>1</td>\n",
       "    </tr>\n",
       "    <tr>\n",
       "      <th>4</th>\n",
       "      <td>1</td>\n",
       "      <td>356</td>\n",
       "      <td>5.0</td>\n",
       "      <td>2008-11-03 17:58:39</td>\n",
       "      <td>1</td>\n",
       "    </tr>\n",
       "  </tbody>\n",
       "</table>\n",
       "</div>"
      ],
      "text/plain": [
       "   USERID  MOVIEID  RATING           TIMESTAMP  FLAG_05\n",
       "0       1        1     4.0 2008-11-03 17:52:19        1\n",
       "1       1      110     4.0 2008-11-05 06:04:46        1\n",
       "2       1      158     4.0 2008-11-03 17:31:43        1\n",
       "3       1      260     4.5 2008-11-03 18:00:04        1\n",
       "4       1      356     5.0 2008-11-03 17:58:39        1"
      ]
     },
     "execution_count": 12,
     "metadata": {},
     "output_type": "execute_result"
    }
   ],
   "source": [
    "rating.head()"
   ]
  },
  {
   "cell_type": "code",
   "execution_count": 13,
   "id": "6a3e63d3",
   "metadata": {
    "ExecuteTime": {
     "end_time": "2024-02-01T17:43:18.540281Z",
     "start_time": "2024-02-01T17:43:15.960752Z"
    }
   },
   "outputs": [
    {
     "name": "stdout",
     "output_type": "stream",
     "text": [
      "(32346391, 5)\n"
     ]
    }
   ],
   "source": [
    "# удаляем пропуски\n",
    "rating = rating[~((rating.TIMESTAMP.isna())|(rating.USERID.isna())|(rating.RATING.isna()))]\n",
    "# удаляем странного юзера\n",
    "rating.query('USERID != 189614', inplace = True)\n",
    "# удалим юзеров, у которых оценок меньше 3 (по 5 квантилю)\n",
    "rating.query('FLAG_05 == 1', inplace = True)\n",
    "print(rating.shape)"
   ]
  },
  {
   "cell_type": "code",
   "execution_count": null,
   "id": "12122c50",
   "metadata": {},
   "outputs": [],
   "source": []
  },
  {
   "cell_type": "markdown",
   "id": "f36bf73c",
   "metadata": {},
   "source": [
    "# train-test split"
   ]
  },
  {
   "cell_type": "code",
   "execution_count": 14,
   "id": "f19681c3",
   "metadata": {
    "ExecuteTime": {
     "end_time": "2024-02-01T17:43:18.543067Z",
     "start_time": "2024-02-01T17:43:18.541110Z"
    }
   },
   "outputs": [],
   "source": [
    "rating.rename({'USERID':'user_id',\n",
    "            'MOVIEID':'item_id',\n",
    "            'RATING':'weight',\n",
    "            'TIMESTAMP':'datetime'}, axis=1, inplace=True)"
   ]
  },
  {
   "cell_type": "markdown",
   "id": "79d87a7a",
   "metadata": {
    "ExecuteTime": {
     "end_time": "2024-01-31T17:27:49.807886Z",
     "start_time": "2024-01-31T17:27:48.511236Z"
    }
   },
   "source": [
    "Разделим выборку на обучение и тест следующим образом: для каждого пользователя в тестовую выборку попадут 10 его последних оценок."
   ]
  },
  {
   "cell_type": "code",
   "execution_count": 15,
   "id": "6b3ddef5",
   "metadata": {
    "ExecuteTime": {
     "end_time": "2024-02-01T17:43:18.764704Z",
     "start_time": "2024-02-01T17:43:18.543721Z"
    }
   },
   "outputs": [
    {
     "data": {
      "text/plain": [
       "(198927, 81555)"
      ]
     },
     "execution_count": 15,
     "metadata": {},
     "output_type": "execute_result"
    }
   ],
   "source": [
    "num_users, num_movies = rating['user_id'].nunique(), rating['item_id'].nunique()\n",
    "num_users, num_movies"
   ]
  },
  {
   "cell_type": "code",
   "execution_count": 16,
   "id": "9f73957d",
   "metadata": {
    "ExecuteTime": {
     "end_time": "2024-02-01T17:43:18.953091Z",
     "start_time": "2024-02-01T17:43:18.765571Z"
    }
   },
   "outputs": [],
   "source": [
    "user_df = pd.DataFrame(np.vstack((np.arange(1, num_users+1), rating['user_id'].unique())).T, \n",
    "                         columns= ['user_id_mod', 'user_id'])\n",
    "item_df = pd.DataFrame(np.vstack((np.arange(1, num_movies+1), rating['item_id'].unique())).T, \n",
    "                         columns= ['item_id_mod', 'item_id'])"
   ]
  },
  {
   "cell_type": "code",
   "execution_count": 17,
   "id": "570e84d6",
   "metadata": {
    "ExecuteTime": {
     "end_time": "2024-02-01T17:43:23.369243Z",
     "start_time": "2024-02-01T17:43:18.953811Z"
    }
   },
   "outputs": [],
   "source": [
    "rating = rating.merge(user_df, how = 'left', on = 'user_id')\n",
    "rating = rating.merge(item_df, how = 'left', on = 'item_id')"
   ]
  },
  {
   "cell_type": "code",
   "execution_count": 18,
   "id": "ea63b8a7",
   "metadata": {
    "ExecuteTime": {
     "end_time": "2024-02-01T17:44:05.054628Z",
     "start_time": "2024-02-01T17:43:23.371151Z"
    }
   },
   "outputs": [
    {
     "data": {
      "text/plain": [
       "((30357121, 7), (1989270, 7))"
      ]
     },
     "execution_count": 18,
     "metadata": {},
     "output_type": "execute_result"
    }
   ],
   "source": [
    "train_ratings, test_ratings = [], []\n",
    "num_test_samples = 10\n",
    "\n",
    "for userId, user_data in rating.groupby('user_id'):\n",
    "    train_ratings += [user_data[:-num_test_samples]]\n",
    "    test_ratings += [user_data[-num_test_samples:]]\n",
    "\n",
    "train_ratings = pd.concat(train_ratings)\n",
    "test_ratings = pd.concat(test_ratings)\n",
    "train_ratings.shape, test_ratings.shape"
   ]
  },
  {
   "cell_type": "code",
   "execution_count": 19,
   "id": "b98e84b1",
   "metadata": {
    "ExecuteTime": {
     "end_time": "2024-02-01T17:44:05.104112Z",
     "start_time": "2024-02-01T17:44:05.055626Z"
    }
   },
   "outputs": [],
   "source": [
    "del rating"
   ]
  },
  {
   "cell_type": "code",
   "execution_count": 20,
   "id": "64e0ae44",
   "metadata": {
    "ExecuteTime": {
     "end_time": "2024-02-01T17:44:05.108896Z",
     "start_time": "2024-02-01T17:44:05.105085Z"
    }
   },
   "outputs": [
    {
     "data": {
      "text/html": [
       "<div>\n",
       "<style scoped>\n",
       "    .dataframe tbody tr th:only-of-type {\n",
       "        vertical-align: middle;\n",
       "    }\n",
       "\n",
       "    .dataframe tbody tr th {\n",
       "        vertical-align: top;\n",
       "    }\n",
       "\n",
       "    .dataframe thead th {\n",
       "        text-align: right;\n",
       "    }\n",
       "</style>\n",
       "<table border=\"1\" class=\"dataframe\">\n",
       "  <thead>\n",
       "    <tr style=\"text-align: right;\">\n",
       "      <th></th>\n",
       "      <th>user_id</th>\n",
       "      <th>item_id</th>\n",
       "      <th>weight</th>\n",
       "      <th>datetime</th>\n",
       "      <th>FLAG_05</th>\n",
       "      <th>user_id_mod</th>\n",
       "      <th>item_id_mod</th>\n",
       "    </tr>\n",
       "  </thead>\n",
       "  <tbody>\n",
       "    <tr>\n",
       "      <th>0</th>\n",
       "      <td>1</td>\n",
       "      <td>1</td>\n",
       "      <td>4.0</td>\n",
       "      <td>2008-11-03 17:52:19</td>\n",
       "      <td>1</td>\n",
       "      <td>1</td>\n",
       "      <td>1</td>\n",
       "    </tr>\n",
       "    <tr>\n",
       "      <th>1</th>\n",
       "      <td>1</td>\n",
       "      <td>110</td>\n",
       "      <td>4.0</td>\n",
       "      <td>2008-11-05 06:04:46</td>\n",
       "      <td>1</td>\n",
       "      <td>1</td>\n",
       "      <td>2</td>\n",
       "    </tr>\n",
       "    <tr>\n",
       "      <th>2</th>\n",
       "      <td>1</td>\n",
       "      <td>158</td>\n",
       "      <td>4.0</td>\n",
       "      <td>2008-11-03 17:31:43</td>\n",
       "      <td>1</td>\n",
       "      <td>1</td>\n",
       "      <td>3</td>\n",
       "    </tr>\n",
       "  </tbody>\n",
       "</table>\n",
       "</div>"
      ],
      "text/plain": [
       "   user_id  item_id  weight            datetime  FLAG_05  user_id_mod  \\\n",
       "0        1        1     4.0 2008-11-03 17:52:19        1            1   \n",
       "1        1      110     4.0 2008-11-05 06:04:46        1            1   \n",
       "2        1      158     4.0 2008-11-03 17:31:43        1            1   \n",
       "\n",
       "   item_id_mod  \n",
       "0            1  \n",
       "1            2  \n",
       "2            3  "
      ]
     },
     "execution_count": 20,
     "metadata": {},
     "output_type": "execute_result"
    }
   ],
   "source": [
    "train_ratings.head(3)"
   ]
  },
  {
   "cell_type": "code",
   "execution_count": 23,
   "id": "e2c1e719",
   "metadata": {
    "ExecuteTime": {
     "end_time": "2024-02-02T05:53:17.008708Z",
     "start_time": "2024-02-01T17:48:12.536238Z"
    }
   },
   "outputs": [
    {
     "name": "stderr",
     "output_type": "stream",
     "text": [
      "  0%|          | 0/10 [12:05:02<?, ?it/s]\n"
     ]
    },
    {
     "ename": "KeyboardInterrupt",
     "evalue": "",
     "output_type": "error",
     "traceback": [
      "\u001b[0;31m---------------------------------------------------------------------------\u001b[0m",
      "\u001b[0;31mKeyboardInterrupt\u001b[0m                         Traceback (most recent call last)",
      "Cell \u001b[0;32mIn[23], line 23\u001b[0m\n\u001b[1;32m     19\u001b[0m             Y[i] \u001b[38;5;241m=\u001b[39m np\u001b[38;5;241m.\u001b[39mlinalg\u001b[38;5;241m.\u001b[39minv(XX\u001b[38;5;241m.\u001b[39msum(axis\u001b[38;5;241m=\u001b[39m\u001b[38;5;241m0\u001b[39m) \u001b[38;5;241m+\u001b[39m eps \u001b[38;5;241m*\u001b[39m np\u001b[38;5;241m.\u001b[39meye(num_dims)) \u001b[38;5;241m@\u001b[39m RX[i]\n\u001b[1;32m     21\u001b[0m     \u001b[38;5;28;01mreturn\u001b[39;00m R, X, Y\n\u001b[0;32m---> 23\u001b[0m R, X, Y \u001b[38;5;241m=\u001b[39m \u001b[43mALS\u001b[49m\u001b[43m(\u001b[49m\u001b[43mtrain_ratings\u001b[49m\u001b[43m[\u001b[49m\u001b[38;5;124;43m'\u001b[39;49m\u001b[38;5;124;43muser_id_mod\u001b[39;49m\u001b[38;5;124;43m'\u001b[39;49m\u001b[43m]\u001b[49m\u001b[43m,\u001b[49m\u001b[43m \u001b[49m\u001b[43mtrain_ratings\u001b[49m\u001b[43m[\u001b[49m\u001b[38;5;124;43m'\u001b[39;49m\u001b[38;5;124;43mitem_id_mod\u001b[39;49m\u001b[38;5;124;43m'\u001b[39;49m\u001b[43m]\u001b[49m\u001b[43m,\u001b[49m\u001b[43m \u001b[49m\u001b[43mtrain_ratings\u001b[49m\u001b[43m[\u001b[49m\u001b[38;5;124;43m'\u001b[39;49m\u001b[38;5;124;43mweight\u001b[39;49m\u001b[38;5;124;43m'\u001b[39;49m\u001b[43m]\u001b[49m\u001b[43m,\u001b[49m\u001b[43m \u001b[49m\n\u001b[1;32m     24\u001b[0m \u001b[43m              \u001b[49m\u001b[43mnum_users\u001b[49m\u001b[38;5;241;43m+\u001b[39;49m\u001b[38;5;241;43m1\u001b[39;49m\u001b[43m,\u001b[49m\u001b[43m \u001b[49m\u001b[43mnum_movies\u001b[49m\u001b[38;5;241;43m+\u001b[39;49m\u001b[38;5;241;43m1\u001b[39;49m\u001b[43m,\u001b[49m\u001b[43m \u001b[49m\u001b[43mnum_iters\u001b[49m\u001b[38;5;241;43m=\u001b[39;49m\u001b[38;5;241;43m10\u001b[39;49m\u001b[43m)\u001b[49m\n",
      "Cell \u001b[0;32mIn[23], line 12\u001b[0m, in \u001b[0;36mALS\u001b[0;34m(user_ids, item_ids, ratings, num_users, num_items, num_dims, num_iters, eps)\u001b[0m\n\u001b[1;32m     10\u001b[0m     Y_rel \u001b[38;5;241m=\u001b[39m Y[relevant_items]\n\u001b[1;32m     11\u001b[0m     YY \u001b[38;5;241m=\u001b[39m Y_rel\u001b[38;5;241m.\u001b[39mreshape(\u001b[38;5;241m-\u001b[39m\u001b[38;5;241m1\u001b[39m, num_dims, \u001b[38;5;241m1\u001b[39m) \u001b[38;5;241m*\u001b[39m Y_rel\u001b[38;5;241m.\u001b[39mreshape(\u001b[38;5;241m-\u001b[39m\u001b[38;5;241m1\u001b[39m, \u001b[38;5;241m1\u001b[39m, num_dims)\n\u001b[0;32m---> 12\u001b[0m     X[u] \u001b[38;5;241m=\u001b[39m \u001b[43mnp\u001b[49m\u001b[38;5;241;43m.\u001b[39;49m\u001b[43mlinalg\u001b[49m\u001b[38;5;241;43m.\u001b[39;49m\u001b[43minv\u001b[49m\u001b[43m(\u001b[49m\u001b[43mYY\u001b[49m\u001b[38;5;241;43m.\u001b[39;49m\u001b[43msum\u001b[49m\u001b[43m(\u001b[49m\u001b[43maxis\u001b[49m\u001b[38;5;241;43m=\u001b[39;49m\u001b[38;5;241;43m0\u001b[39;49m\u001b[43m)\u001b[49m\u001b[43m \u001b[49m\u001b[38;5;241;43m+\u001b[39;49m\u001b[43m \u001b[49m\u001b[43meps\u001b[49m\u001b[43m \u001b[49m\u001b[38;5;241;43m*\u001b[39;49m\u001b[43m \u001b[49m\u001b[43mnp\u001b[49m\u001b[38;5;241;43m.\u001b[39;49m\u001b[43meye\u001b[49m\u001b[43m(\u001b[49m\u001b[43mnum_dims\u001b[49m\u001b[43m)\u001b[49m\u001b[43m)\u001b[49m \u001b[38;5;241m@\u001b[39m RY[u]\n\u001b[1;32m     14\u001b[0m RX \u001b[38;5;241m=\u001b[39m R\u001b[38;5;241m.\u001b[39mT \u001b[38;5;241m@\u001b[39m X\n\u001b[1;32m     15\u001b[0m \u001b[38;5;28;01mfor\u001b[39;00m i \u001b[38;5;129;01min\u001b[39;00m \u001b[38;5;28mrange\u001b[39m(num_items):\n",
      "File \u001b[0;32m~/anaconda3/envs/myenv/lib/python3.10/site-packages/numpy/linalg/linalg.py:561\u001b[0m, in \u001b[0;36minv\u001b[0;34m(a)\u001b[0m\n\u001b[1;32m    559\u001b[0m signature \u001b[38;5;241m=\u001b[39m \u001b[38;5;124m'\u001b[39m\u001b[38;5;124mD->D\u001b[39m\u001b[38;5;124m'\u001b[39m \u001b[38;5;28;01mif\u001b[39;00m isComplexType(t) \u001b[38;5;28;01melse\u001b[39;00m \u001b[38;5;124m'\u001b[39m\u001b[38;5;124md->d\u001b[39m\u001b[38;5;124m'\u001b[39m\n\u001b[1;32m    560\u001b[0m extobj \u001b[38;5;241m=\u001b[39m get_linalg_error_extobj(_raise_linalgerror_singular)\n\u001b[0;32m--> 561\u001b[0m ainv \u001b[38;5;241m=\u001b[39m \u001b[43m_umath_linalg\u001b[49m\u001b[38;5;241;43m.\u001b[39;49m\u001b[43minv\u001b[49m\u001b[43m(\u001b[49m\u001b[43ma\u001b[49m\u001b[43m,\u001b[49m\u001b[43m \u001b[49m\u001b[43msignature\u001b[49m\u001b[38;5;241;43m=\u001b[39;49m\u001b[43msignature\u001b[49m\u001b[43m,\u001b[49m\u001b[43m \u001b[49m\u001b[43mextobj\u001b[49m\u001b[38;5;241;43m=\u001b[39;49m\u001b[43mextobj\u001b[49m\u001b[43m)\u001b[49m\n\u001b[1;32m    562\u001b[0m \u001b[38;5;28;01mreturn\u001b[39;00m wrap(ainv\u001b[38;5;241m.\u001b[39mastype(result_t, copy\u001b[38;5;241m=\u001b[39m\u001b[38;5;28;01mFalse\u001b[39;00m))\n",
      "\u001b[0;31mKeyboardInterrupt\u001b[0m: "
     ]
    }
   ],
   "source": [
    "def ALS(user_ids, item_ids, ratings, num_users, num_items, num_dims=32, num_iters=10, eps=1e-7):\n",
    "    R = scs.coo_array((ratings, (user_ids, item_ids)), shape=(num_users, num_items)).tocsr()\n",
    "    X = np.random.randn(num_users, num_dims) #U\n",
    "    Y = np.random.randn(num_items, num_dims) #V\n",
    "    \n",
    "    for t in tqdm(range(num_iters)):\n",
    "        RY = R @ Y\n",
    "        for u in range(num_users):\n",
    "            relevant_items = item_ids[user_ids == u]\n",
    "            Y_rel = Y[relevant_items]\n",
    "            YY = Y_rel.reshape(-1, num_dims, 1) * Y_rel.reshape(-1, 1, num_dims)\n",
    "            X[u] = np.linalg.inv(YY.sum(axis=0) + eps * np.eye(num_dims)) @ RY[u]\n",
    "\n",
    "        RX = R.T @ X\n",
    "        for i in range(num_items):\n",
    "            relevant_users = user_ids[item_ids == i]\n",
    "            X_rel = X[relevant_users]\n",
    "            XX = X_rel.reshape(-1, num_dims, 1) * X_rel.reshape(-1, 1, num_dims)\n",
    "            Y[i] = np.linalg.inv(XX.sum(axis=0) + eps * np.eye(num_dims)) @ RX[i]\n",
    "    \n",
    "    return R, X, Y\n",
    "\n",
    "R, X, Y = ALS(train_ratings['user_id_mod'], train_ratings['item_id_mod'], train_ratings['weight'], \n",
    "              num_users+1, num_movies+1, num_iters=10)"
   ]
  },
  {
   "cell_type": "code",
   "execution_count": null,
   "id": "b9484efb",
   "metadata": {},
   "outputs": [],
   "source": []
  },
  {
   "cell_type": "code",
   "execution_count": null,
   "id": "ed119c98",
   "metadata": {},
   "outputs": [],
   "source": []
  },
  {
   "cell_type": "code",
   "execution_count": null,
   "id": "f600e196",
   "metadata": {},
   "outputs": [],
   "source": []
  },
  {
   "cell_type": "markdown",
   "id": "e726d04d",
   "metadata": {},
   "source": [
    "# Гиперпараметры, подбор"
   ]
  },
  {
   "cell_type": "code",
   "execution_count": 24,
   "id": "a218f101",
   "metadata": {
    "ExecuteTime": {
     "end_time": "2024-01-31T17:52:47.514307Z",
     "start_time": "2024-01-31T17:52:47.508537Z"
    }
   },
   "outputs": [],
   "source": [
    "class KNN():\n",
    "\n",
    "    def __init__(self, model = None, user_id = None):\n",
    "        if model is None:\n",
    "            self.model = ImplicitItemKNNWrapperModel(CosineRecommender(K=10))\n",
    "        else:\n",
    "            self.model = model\n",
    "    \n",
    "        self.user_id = user_id\n",
    "    \n",
    "    def fit(self, df_train):\n",
    "\n",
    "        self.model.fit(df_train)\n",
    "\n",
    "    def recommend(self, df_train, k):\n",
    "\n",
    "        prediction = self.model.recommend(users = user_id, \n",
    "                                      dataset=df_train,\n",
    "                                      k = k,\n",
    "                                      filter_viewed = True\n",
    "                                    )\n",
    "        return prediction"
   ]
  },
  {
   "cell_type": "code",
   "execution_count": 25,
   "id": "63d1d76f",
   "metadata": {
    "ExecuteTime": {
     "end_time": "2024-01-31T17:52:48.245418Z",
     "start_time": "2024-01-31T17:52:48.104348Z"
    }
   },
   "outputs": [],
   "source": [
    "user_ids = rating['user_id'].unique()"
   ]
  },
  {
   "cell_type": "code",
   "execution_count": null,
   "id": "be48ec39",
   "metadata": {
    "ExecuteTime": {
     "start_time": "2024-01-31T17:52:49.124Z"
    }
   },
   "outputs": [
    {
     "name": "stderr",
     "output_type": "stream",
     "text": [
      "\r",
      "  0%|          | 0/4 [00:00<?, ?it/s]"
     ]
    }
   ],
   "source": [
    "mapk_list = list()\n",
    "k_list = np.arange(2, 10, 2)\n",
    "\n",
    "for k in tqdm(k_list):\n",
    "    model = ImplicitItemKNNWrapperModel(CosineRecommender(K=k))  \n",
    "    \n",
    "    knn_model = KNN(model, user_ids)\n",
    "    knn_model.fit(rating_dataset)\n",
    "    reco = knn_model.recommend(rating_dataset, k=k)\n",
    "    mapk_list.append(MAP(k=k).calc_per_user(reco, rating_dataset).mean())\n",
    "    "
   ]
  },
  {
   "cell_type": "code",
   "execution_count": 23,
   "id": "b0400199",
   "metadata": {
    "ExecuteTime": {
     "end_time": "2024-01-15T17:24:38.470421Z",
     "start_time": "2024-01-15T17:24:38.467513Z"
    }
   },
   "outputs": [],
   "source": [
    "mapk_arr = np.array(mapk_list)*100"
   ]
  },
  {
   "cell_type": "code",
   "execution_count": 24,
   "id": "d81a4155",
   "metadata": {
    "ExecuteTime": {
     "end_time": "2024-01-15T17:24:39.937289Z",
     "start_time": "2024-01-15T17:24:39.752615Z"
    }
   },
   "outputs": [
    {
     "data": {
      "image/png": "[encoded data removed]",
      "text/plain": [
       "<Figure size 600x400 with 1 Axes>"
      ]
     },
     "metadata": {},
     "output_type": "display_data"
    }
   ],
   "source": [
    "fig = plt.figure(figsize=(6,4))\n",
    "\n",
    "plt.plot(k_list, mapk_arr, markersize=8)\n",
    "\n",
    "plt.xlabel('Число соседей, k', fontsize=12)\n",
    "plt.ylabel('Качество модели, MAP@K, %', fontsize=12)\n",
    "plt.title('Динамика MAP@K в зависимости от числа соседей', fontsize=12)\n",
    "plt.grid(True)\n",
    "plt.savefig('knn_k.png')\n",
    "plt.show()"
   ]
  },
  {
   "cell_type": "code",
   "execution_count": 25,
   "id": "862cdcf9",
   "metadata": {
    "ExecuteTime": {
     "end_time": "2024-01-15T17:27:53.116956Z",
     "start_time": "2024-01-15T17:24:46.211078Z"
    }
   },
   "outputs": [],
   "source": [
    "model = ImplicitItemKNNWrapperModel(CosineRecommender(K=100))\n",
    "\n",
    "knn_model = KNN(model, train_df)\n",
    "knn_model.fit(train)\n",
    "reco = knn_model.recommend(train, k=100)"
   ]
  },
  {
   "cell_type": "code",
   "execution_count": 33,
   "id": "196ab401",
   "metadata": {
    "ExecuteTime": {
     "end_time": "2024-01-15T17:43:39.129596Z",
     "start_time": "2024-01-15T17:43:34.226712Z"
    }
   },
   "outputs": [
    {
     "data": {
      "text/plain": [
       "1.4769547443490076"
      ]
     },
     "execution_count": 33,
     "metadata": {},
     "output_type": "execute_result"
    }
   ],
   "source": [
    "MAP(k=100).calc_per_user(reco, test_df).mean()*100"
   ]
  },
  {
   "cell_type": "code",
   "execution_count": 27,
   "id": "40e84014",
   "metadata": {
    "ExecuteTime": {
     "end_time": "2024-01-15T17:29:49.151812Z",
     "start_time": "2024-01-15T17:29:49.147122Z"
    }
   },
   "outputs": [
    {
     "data": {
      "text/plain": [
       "((33306949, 4), (491881, 4))"
      ]
     },
     "execution_count": 27,
     "metadata": {},
     "output_type": "execute_result"
    }
   ],
   "source": [
    "train_df.shape, test_df.shape"
   ]
  },
  {
   "cell_type": "code",
   "execution_count": 32,
   "id": "96cc32d4",
   "metadata": {
    "ExecuteTime": {
     "end_time": "2024-01-15T17:32:00.102340Z",
     "start_time": "2024-01-15T17:32:00.025086Z"
    }
   },
   "outputs": [
    {
     "data": {
      "text/plain": [
       "(Timestamp('1995-01-09 11:46:44'), Timestamp('2023-07-20 08:53:33'))"
      ]
     },
     "execution_count": 32,
     "metadata": {},
     "output_type": "execute_result"
    }
   ],
   "source": [
    "train_df['datetime'].min(), test_df['datetime'].max()"
   ]
  },
  {
   "cell_type": "code",
   "execution_count": null,
   "id": "85016354",
   "metadata": {},
   "outputs": [],
   "source": []
  }
 ],
 "metadata": {
  "kernelspec": {
   "display_name": "Python 3 (ipykernel)",
   "language": "python",
   "name": "python3"
  },
  "language_info": {
   "codemirror_mode": {
    "name": "ipython",
    "version": 3
   },
   "file_extension": ".py",
   "mimetype": "text/x-python",
   "name": "python",
   "nbconvert_exporter": "python",
   "pygments_lexer": "ipython3",
   "version": "3.11.5"
  },
  "toc": {
   "base_numbering": 1,
   "nav_menu": {},
   "number_sections": true,
   "sideBar": true,
   "skip_h1_title": false,
   "title_cell": "Table of Contents",
   "title_sidebar": "Contents",
   "toc_cell": false,
   "toc_position": {
    "height": "calc(100% - 180px)",
    "left": "10px",
    "top": "150px",
    "width": "270px"
   },
   "toc_section_display": true,
   "toc_window_display": true
  },
  "varInspector": {
   "cols": {
    "lenName": 16,
    "lenType": 16,
    "lenVar": 40
   },
   "kernels_config": {
    "python": {
     "delete_cmd_postfix": "",
     "delete_cmd_prefix": "del ",
     "library": "var_list.py",
     "varRefreshCmd": "print(var_dic_list())"
    },
    "r": {
     "delete_cmd_postfix": ") ",
     "delete_cmd_prefix": "rm(",
     "library": "var_list.r",
     "varRefreshCmd": "cat(var_dic_list()) "
    }
   },
   "types_to_exclude": [
    "module",
    "function",
    "builtin_function_or_method",
    "instance",
    "_Feature"
   ],
   "window_display": false
  }
 },
 "nbformat": 4,
 "nbformat_minor": 5
}
