{
 "cells": [
  {
   "cell_type": "markdown",
   "id": "c5f10c28",
   "metadata": {},
   "source": [
    "# Import"
   ]
  },
  {
   "cell_type": "code",
   "execution_count": 1,
   "id": "74d57851",
   "metadata": {
    "ExecuteTime": {
     "end_time": "2024-02-19T13:12:43.964482Z",
     "start_time": "2024-02-19T13:12:43.529006Z"
    }
   },
   "outputs": [],
   "source": [
    "import pandas as pd\n",
    "import numpy as np\n",
    "import matplotlib.pyplot as plt\n",
    "from matplotlib.pyplot import figure\n",
    "\n",
    "from tqdm import tqdm\n",
    "import scipy.sparse as sp\n",
    "\n",
    "import warnings\n",
    "warnings.simplefilter('ignore')\n",
    "\n",
    "from numpy.linalg import svd\n",
    "\n",
    "from rectools.dataset import Dataset\n",
    "from implicit.als import AlternatingLeastSquares\n",
    "from implicit.evaluation import mean_average_precision_at_k\n",
    "from rectools.metrics.ranking import MAP\n",
    "import scipy.sparse as scs\n",
    "\n",
    "import os"
   ]
  },
  {
   "cell_type": "code",
   "execution_count": 2,
   "id": "5365982a",
   "metadata": {
    "ExecuteTime": {
     "end_time": "2024-02-19T13:12:43.968252Z",
     "start_time": "2024-02-19T13:12:43.965571Z"
    }
   },
   "outputs": [
    {
     "data": {
      "text/plain": [
       "'/Users/liliyaivannikova/Documents/project/git/RecSys_Films/recsyc_part1'"
      ]
     },
     "execution_count": 2,
     "metadata": {},
     "output_type": "execute_result"
    }
   ],
   "source": [
    "us = os.getcwd()\n",
    "us"
   ]
  },
  {
   "cell_type": "code",
   "execution_count": 3,
   "id": "cbc2b297",
   "metadata": {
    "ExecuteTime": {
     "end_time": "2024-02-19T13:12:48.381427Z",
     "start_time": "2024-02-19T13:12:43.968919Z"
    }
   },
   "outputs": [],
   "source": [
    "if 'liliyaivannikova' in us:\n",
    "    PATH = r'/Users/liliyaivannikova/Documents/project/ml-latest/'\n",
    "    movies = pd.read_csv(PATH + r'movies.csv')\n",
    "    rating = pd.read_csv(PATH + r'ratings.csv')\n",
    "elif 'Владислав' in us:\n",
    "    movies = pd.read_csv(r'dataset/movies.csv')\n",
    "    rating = pd.read_csv(r'dataset/ratings.csv')"
   ]
  },
  {
   "cell_type": "code",
   "execution_count": 4,
   "id": "1ce21742",
   "metadata": {
    "ExecuteTime": {
     "end_time": "2024-02-19T13:12:48.385274Z",
     "start_time": "2024-02-19T13:12:48.382898Z"
    }
   },
   "outputs": [
    {
     "name": "stdout",
     "output_type": "stream",
     "text": [
      "\n",
      "movies: (86537, 3)\n",
      "rating: (33832162, 4)\n",
      "\n"
     ]
    }
   ],
   "source": [
    "print(f'''\n",
    "movies: {movies.shape}\n",
    "rating: {rating.shape}\n",
    "''')"
   ]
  },
  {
   "cell_type": "code",
   "execution_count": 5,
   "id": "9129d676",
   "metadata": {
    "ExecuteTime": {
     "end_time": "2024-02-19T13:12:48.482773Z",
     "start_time": "2024-02-19T13:12:48.386042Z"
    }
   },
   "outputs": [],
   "source": [
    "movies.columns = [col.upper() for col in movies.columns]\n",
    "\n",
    "movies['REALEASE'] = movies['TITLE'].str.extract(\"\\((\\d{4})\\)\", expand=True)\n",
    "movies['REALEASE'] = pd.to_datetime(movies['REALEASE'], format='%Y')\n",
    "movies['REALEASE'] = movies['REALEASE'].dt.year\n",
    "movies['TITLE'] = movies['TITLE'].str[:-7]"
   ]
  },
  {
   "cell_type": "code",
   "execution_count": 6,
   "id": "c1a6946c",
   "metadata": {
    "ExecuteTime": {
     "end_time": "2024-02-19T13:12:48.554604Z",
     "start_time": "2024-02-19T13:12:48.483525Z"
    }
   },
   "outputs": [],
   "source": [
    "movies['TITLE'] = movies['TITLE'].astype('category')\n",
    "movies['REALEASE'] = movies['REALEASE'].astype('float16')\n",
    "movies['GENRES'] = movies['GENRES'].str.replace('|', ',')"
   ]
  },
  {
   "cell_type": "code",
   "execution_count": 7,
   "id": "64aeb5f0",
   "metadata": {
    "ExecuteTime": {
     "end_time": "2024-02-19T13:12:48.867813Z",
     "start_time": "2024-02-19T13:12:48.555330Z"
    }
   },
   "outputs": [],
   "source": [
    "rating.columns = [col.upper() for col in rating.columns]\n",
    "rating['TIMESTAMP'] = pd.to_datetime(rating['TIMESTAMP'], unit='s')"
   ]
  },
  {
   "cell_type": "markdown",
   "id": "ad5e78a9",
   "metadata": {},
   "source": [
    "# Обработка полей"
   ]
  },
  {
   "cell_type": "code",
   "execution_count": 8,
   "id": "79eea478",
   "metadata": {
    "ExecuteTime": {
     "end_time": "2024-02-19T13:12:49.130332Z",
     "start_time": "2024-02-19T13:12:48.868564Z"
    }
   },
   "outputs": [
    {
     "data": {
      "text/plain": [
       "3.0"
      ]
     },
     "execution_count": 8,
     "metadata": {},
     "output_type": "execute_result"
    }
   ],
   "source": [
    "rating_stat = rating.groupby('USERID')['MOVIEID'].count().reset_index()\n",
    "rating_stat['MOVIEID'].quantile(0.05)"
   ]
  },
  {
   "cell_type": "code",
   "execution_count": 9,
   "id": "0e7308d0",
   "metadata": {
    "ExecuteTime": {
     "end_time": "2024-02-19T13:12:49.134523Z",
     "start_time": "2024-02-19T13:12:49.131128Z"
    }
   },
   "outputs": [],
   "source": [
    "#rating_stat['FLAG_05'] = np.where(rating_stat['MOVIEID'] > rating_stat['MOVIEID'].quantile(0.05), 1, 0)\n",
    "rating_stat['FLAG_05'] = np.where(rating_stat['MOVIEID'] > 20, 1, 0)"
   ]
  },
  {
   "cell_type": "code",
   "execution_count": 10,
   "id": "40a5550d",
   "metadata": {
    "ExecuteTime": {
     "end_time": "2024-02-19T13:12:50.717882Z",
     "start_time": "2024-02-19T13:12:49.136918Z"
    }
   },
   "outputs": [],
   "source": [
    "rating = rating.merge(rating_stat[['USERID', 'FLAG_05']], how = 'left', on = 'USERID')"
   ]
  },
  {
   "cell_type": "code",
   "execution_count": 11,
   "id": "b44bd844",
   "metadata": {
    "ExecuteTime": {
     "end_time": "2024-02-19T13:12:50.723704Z",
     "start_time": "2024-02-19T13:12:50.718639Z"
    }
   },
   "outputs": [
    {
     "data": {
      "text/html": [
       "<div>\n",
       "<style scoped>\n",
       "    .dataframe tbody tr th:only-of-type {\n",
       "        vertical-align: middle;\n",
       "    }\n",
       "\n",
       "    .dataframe tbody tr th {\n",
       "        vertical-align: top;\n",
       "    }\n",
       "\n",
       "    .dataframe thead th {\n",
       "        text-align: right;\n",
       "    }\n",
       "</style>\n",
       "<table border=\"1\" class=\"dataframe\">\n",
       "  <thead>\n",
       "    <tr style=\"text-align: right;\">\n",
       "      <th></th>\n",
       "      <th>USERID</th>\n",
       "      <th>MOVIEID</th>\n",
       "      <th>RATING</th>\n",
       "      <th>TIMESTAMP</th>\n",
       "      <th>FLAG_05</th>\n",
       "    </tr>\n",
       "  </thead>\n",
       "  <tbody>\n",
       "    <tr>\n",
       "      <th>0</th>\n",
       "      <td>1</td>\n",
       "      <td>1</td>\n",
       "      <td>4.0</td>\n",
       "      <td>2008-11-03 17:52:19</td>\n",
       "      <td>1</td>\n",
       "    </tr>\n",
       "    <tr>\n",
       "      <th>1</th>\n",
       "      <td>1</td>\n",
       "      <td>110</td>\n",
       "      <td>4.0</td>\n",
       "      <td>2008-11-05 06:04:46</td>\n",
       "      <td>1</td>\n",
       "    </tr>\n",
       "    <tr>\n",
       "      <th>2</th>\n",
       "      <td>1</td>\n",
       "      <td>158</td>\n",
       "      <td>4.0</td>\n",
       "      <td>2008-11-03 17:31:43</td>\n",
       "      <td>1</td>\n",
       "    </tr>\n",
       "    <tr>\n",
       "      <th>3</th>\n",
       "      <td>1</td>\n",
       "      <td>260</td>\n",
       "      <td>4.5</td>\n",
       "      <td>2008-11-03 18:00:04</td>\n",
       "      <td>1</td>\n",
       "    </tr>\n",
       "    <tr>\n",
       "      <th>4</th>\n",
       "      <td>1</td>\n",
       "      <td>356</td>\n",
       "      <td>5.0</td>\n",
       "      <td>2008-11-03 17:58:39</td>\n",
       "      <td>1</td>\n",
       "    </tr>\n",
       "  </tbody>\n",
       "</table>\n",
       "</div>"
      ],
      "text/plain": [
       "   USERID  MOVIEID  RATING           TIMESTAMP  FLAG_05\n",
       "0       1        1     4.0 2008-11-03 17:52:19        1\n",
       "1       1      110     4.0 2008-11-05 06:04:46        1\n",
       "2       1      158     4.0 2008-11-03 17:31:43        1\n",
       "3       1      260     4.5 2008-11-03 18:00:04        1\n",
       "4       1      356     5.0 2008-11-03 17:58:39        1"
      ]
     },
     "execution_count": 11,
     "metadata": {},
     "output_type": "execute_result"
    }
   ],
   "source": [
    "rating.head()"
   ]
  },
  {
   "cell_type": "code",
   "execution_count": 12,
   "id": "6a3e63d3",
   "metadata": {
    "ExecuteTime": {
     "end_time": "2024-02-19T13:12:52.720341Z",
     "start_time": "2024-02-19T13:12:50.724606Z"
    }
   },
   "outputs": [
    {
     "name": "stdout",
     "output_type": "stream",
     "text": [
      "(32346391, 5)\n"
     ]
    }
   ],
   "source": [
    "# удаляем пропуски\n",
    "rating = rating[~((rating.TIMESTAMP.isna())|(rating.USERID.isna())|(rating.RATING.isna()))]\n",
    "# удаляем странного юзера\n",
    "rating.query('USERID != 189614', inplace = True)\n",
    "# удалим юзеров, у которых оценок меньше 3 (по 5 квантилю)\n",
    "rating.query('FLAG_05 == 1', inplace = True)\n",
    "print(rating.shape)"
   ]
  },
  {
   "cell_type": "code",
   "execution_count": null,
   "id": "12122c50",
   "metadata": {},
   "outputs": [],
   "source": []
  },
  {
   "cell_type": "markdown",
   "id": "f36bf73c",
   "metadata": {},
   "source": [
    "# train-test split"
   ]
  },
  {
   "cell_type": "code",
   "execution_count": 13,
   "id": "f19681c3",
   "metadata": {
    "ExecuteTime": {
     "end_time": "2024-02-19T13:12:52.723229Z",
     "start_time": "2024-02-19T13:12:52.721187Z"
    }
   },
   "outputs": [],
   "source": [
    "rating.rename({'USERID':'user_id',\n",
    "            'MOVIEID':'item_id',\n",
    "            'RATING':'weight',\n",
    "            'TIMESTAMP':'datetime'}, axis=1, inplace=True)"
   ]
  },
  {
   "cell_type": "markdown",
   "id": "79d87a7a",
   "metadata": {
    "ExecuteTime": {
     "end_time": "2024-01-31T17:27:49.807886Z",
     "start_time": "2024-01-31T17:27:48.511236Z"
    }
   },
   "source": [
    "Разделим выборку на обучение и тест следующим образом: для каждого пользователя в тестовую выборку попадут 10 его последних оценок."
   ]
  },
  {
   "cell_type": "code",
   "execution_count": 14,
   "id": "6b3ddef5",
   "metadata": {
    "ExecuteTime": {
     "end_time": "2024-02-19T13:12:52.936263Z",
     "start_time": "2024-02-19T13:12:52.723815Z"
    }
   },
   "outputs": [
    {
     "data": {
      "text/plain": [
       "(198927, 81555)"
      ]
     },
     "execution_count": 14,
     "metadata": {},
     "output_type": "execute_result"
    }
   ],
   "source": [
    "num_users, num_movies = rating['user_id'].nunique(), rating['item_id'].nunique()\n",
    "num_users, num_movies"
   ]
  },
  {
   "cell_type": "code",
   "execution_count": 15,
   "id": "9f73957d",
   "metadata": {
    "ExecuteTime": {
     "end_time": "2024-02-19T13:12:53.119587Z",
     "start_time": "2024-02-19T13:12:52.937080Z"
    }
   },
   "outputs": [],
   "source": [
    "user_df = pd.DataFrame(np.vstack((np.arange(1, num_users+1), rating['user_id'].unique())).T, \n",
    "                         columns= ['user_id_mod', 'user_id'])\n",
    "item_df = pd.DataFrame(np.vstack((np.arange(1, num_movies+1), rating['item_id'].unique())).T, \n",
    "                         columns= ['item_id_mod', 'item_id'])"
   ]
  },
  {
   "cell_type": "code",
   "execution_count": 16,
   "id": "570e84d6",
   "metadata": {
    "ExecuteTime": {
     "end_time": "2024-02-19T13:12:57.230767Z",
     "start_time": "2024-02-19T13:12:53.120303Z"
    }
   },
   "outputs": [],
   "source": [
    "rating = rating.merge(user_df, how = 'left', on = 'user_id')\n",
    "rating = rating.merge(item_df, how = 'left', on = 'item_id')"
   ]
  },
  {
   "cell_type": "code",
   "execution_count": 17,
   "id": "ea63b8a7",
   "metadata": {
    "ExecuteTime": {
     "end_time": "2024-02-19T13:13:39.305367Z",
     "start_time": "2024-02-19T13:12:57.232333Z"
    }
   },
   "outputs": [
    {
     "data": {
      "text/plain": [
       "((30357121, 7), (1989270, 7))"
      ]
     },
     "execution_count": 17,
     "metadata": {},
     "output_type": "execute_result"
    }
   ],
   "source": [
    "train_ratings, test_ratings = [], []\n",
    "num_test_samples = 10\n",
    "\n",
    "for userId, user_data in rating.groupby('user_id'):\n",
    "    train_ratings += [user_data[:-num_test_samples]]\n",
    "    test_ratings += [user_data[-num_test_samples:]]\n",
    "\n",
    "train_ratings = pd.concat(train_ratings)\n",
    "test_ratings = pd.concat(test_ratings)\n",
    "train_ratings.shape, test_ratings.shape"
   ]
  },
  {
   "cell_type": "code",
   "execution_count": 18,
   "id": "b98e84b1",
   "metadata": {
    "ExecuteTime": {
     "end_time": "2024-02-19T13:13:39.347720Z",
     "start_time": "2024-02-19T13:13:39.306393Z"
    }
   },
   "outputs": [],
   "source": [
    "del rating"
   ]
  },
  {
   "cell_type": "code",
   "execution_count": 19,
   "id": "64e0ae44",
   "metadata": {
    "ExecuteTime": {
     "end_time": "2024-02-19T13:13:39.352079Z",
     "start_time": "2024-02-19T13:13:39.348527Z"
    }
   },
   "outputs": [
    {
     "data": {
      "text/html": [
       "<div>\n",
       "<style scoped>\n",
       "    .dataframe tbody tr th:only-of-type {\n",
       "        vertical-align: middle;\n",
       "    }\n",
       "\n",
       "    .dataframe tbody tr th {\n",
       "        vertical-align: top;\n",
       "    }\n",
       "\n",
       "    .dataframe thead th {\n",
       "        text-align: right;\n",
       "    }\n",
       "</style>\n",
       "<table border=\"1\" class=\"dataframe\">\n",
       "  <thead>\n",
       "    <tr style=\"text-align: right;\">\n",
       "      <th></th>\n",
       "      <th>user_id</th>\n",
       "      <th>item_id</th>\n",
       "      <th>weight</th>\n",
       "      <th>datetime</th>\n",
       "      <th>FLAG_05</th>\n",
       "      <th>user_id_mod</th>\n",
       "      <th>item_id_mod</th>\n",
       "    </tr>\n",
       "  </thead>\n",
       "  <tbody>\n",
       "    <tr>\n",
       "      <th>0</th>\n",
       "      <td>1</td>\n",
       "      <td>1</td>\n",
       "      <td>4.0</td>\n",
       "      <td>2008-11-03 17:52:19</td>\n",
       "      <td>1</td>\n",
       "      <td>1</td>\n",
       "      <td>1</td>\n",
       "    </tr>\n",
       "    <tr>\n",
       "      <th>1</th>\n",
       "      <td>1</td>\n",
       "      <td>110</td>\n",
       "      <td>4.0</td>\n",
       "      <td>2008-11-05 06:04:46</td>\n",
       "      <td>1</td>\n",
       "      <td>1</td>\n",
       "      <td>2</td>\n",
       "    </tr>\n",
       "    <tr>\n",
       "      <th>2</th>\n",
       "      <td>1</td>\n",
       "      <td>158</td>\n",
       "      <td>4.0</td>\n",
       "      <td>2008-11-03 17:31:43</td>\n",
       "      <td>1</td>\n",
       "      <td>1</td>\n",
       "      <td>3</td>\n",
       "    </tr>\n",
       "  </tbody>\n",
       "</table>\n",
       "</div>"
      ],
      "text/plain": [
       "   user_id  item_id  weight            datetime  FLAG_05  user_id_mod  \\\n",
       "0        1        1     4.0 2008-11-03 17:52:19        1            1   \n",
       "1        1      110     4.0 2008-11-05 06:04:46        1            1   \n",
       "2        1      158     4.0 2008-11-03 17:31:43        1            1   \n",
       "\n",
       "   item_id_mod  \n",
       "0            1  \n",
       "1            2  \n",
       "2            3  "
      ]
     },
     "execution_count": 19,
     "metadata": {},
     "output_type": "execute_result"
    }
   ],
   "source": [
    "train_ratings.head(3)"
   ]
  },
  {
   "cell_type": "code",
   "execution_count": 20,
   "id": "c4edbe5b",
   "metadata": {
    "ExecuteTime": {
     "end_time": "2024-02-19T13:13:40.665323Z",
     "start_time": "2024-02-19T13:13:39.352863Z"
    }
   },
   "outputs": [],
   "source": [
    "user_items = scs.coo_array((train_ratings['weight'], (train_ratings['user_id_mod'], train_ratings['item_id_mod'])), \n",
    "                  shape=(num_users + 1, num_movies + 1)).tocsr()"
   ]
  },
  {
   "cell_type": "code",
   "execution_count": 21,
   "id": "15352670",
   "metadata": {
    "ExecuteTime": {
     "end_time": "2024-02-19T13:13:40.667750Z",
     "start_time": "2024-02-19T13:13:40.666094Z"
    }
   },
   "outputs": [],
   "source": [
    "from implicit.als import AlternatingLeastSquares"
   ]
  },
  {
   "cell_type": "code",
   "execution_count": 22,
   "id": "2a3c58f9",
   "metadata": {
    "ExecuteTime": {
     "end_time": "2024-02-19T13:14:39.697652Z",
     "start_time": "2024-02-19T13:14:39.673106Z"
    }
   },
   "outputs": [],
   "source": [
    "als_model = AlternatingLeastSquares(iterations=50, regularization = 0.05,\n",
    "                                    random_state=0, \n",
    "                                    alpha=2.0, num_threads=2)"
   ]
  },
  {
   "cell_type": "code",
   "execution_count": 23,
   "id": "ed119c98",
   "metadata": {
    "ExecuteTime": {
     "end_time": "2024-02-19T13:35:29.175244Z",
     "start_time": "2024-02-19T13:14:39.699513Z"
    }
   },
   "outputs": [
    {
     "name": "stderr",
     "output_type": "stream",
     "text": [
      "100%|██████████| 50/50 [20:49<00:00, 24.98s/it]\n"
     ]
    }
   ],
   "source": [
    "als_model.fit(user_items)"
   ]
  },
  {
   "cell_type": "code",
   "execution_count": 32,
   "id": "f600e196",
   "metadata": {
    "ExecuteTime": {
     "end_time": "2024-02-19T13:37:32.785452Z",
     "start_time": "2024-02-19T13:37:32.702074Z"
    }
   },
   "outputs": [],
   "source": [
    "userid = 1\n",
    "ids, scores = als_model.recommend(userid, user_items[:, [userid]], \n",
    "                                  N=10, filter_already_liked_items=False)"
   ]
  },
  {
   "cell_type": "code",
   "execution_count": 33,
   "id": "f064d21c",
   "metadata": {
    "ExecuteTime": {
     "end_time": "2024-02-19T13:37:34.046441Z",
     "start_time": "2024-02-19T13:37:34.041079Z"
    }
   },
   "outputs": [
    {
     "data": {
      "text/plain": [
       "(array([1.073283  , 1.0533159 , 1.0225102 , 1.0154611 , 1.0140581 ,\n",
       "        0.98006964, 0.9677618 , 0.95948553, 0.956915  , 0.932565  ],\n",
       "       dtype=float32),\n",
       " array([ 27,  39,  41,   2,  13,  11,  46,  23,   4, 226], dtype=int32))"
      ]
     },
     "execution_count": 33,
     "metadata": {},
     "output_type": "execute_result"
    }
   ],
   "source": [
    "scores, ids"
   ]
  },
  {
   "cell_type": "code",
   "execution_count": 34,
   "id": "5fb5d22e",
   "metadata": {
    "ExecuteTime": {
     "end_time": "2024-02-19T13:37:36.013992Z",
     "start_time": "2024-02-19T13:37:35.929089Z"
    }
   },
   "outputs": [],
   "source": [
    "test_user_items = scs.coo_array((test_ratings['weight'], \n",
    "                                 (test_ratings['user_id_mod'], test_ratings['item_id_mod'])), \n",
    "                                  shape=(num_users + 1, num_movies + 1)).tocsr()"
   ]
  },
  {
   "cell_type": "markdown",
   "id": "330da888",
   "metadata": {
    "ExecuteTime": {
     "end_time": "2024-02-18T13:11:14.575820Z",
     "start_time": "2024-02-18T13:11:14.570890Z"
    }
   },
   "source": [
    "# recommend"
   ]
  },
  {
   "cell_type": "code",
   "execution_count": 35,
   "id": "7179045f",
   "metadata": {
    "ExecuteTime": {
     "end_time": "2024-02-19T13:38:38.067984Z",
     "start_time": "2024-02-19T13:37:40.513815Z"
    }
   },
   "outputs": [],
   "source": [
    "ids, scores = als_model.recommend(test_ratings['user_id_mod'].unique(), \n",
    "                                  test_user_items, filter_already_liked_items=False)"
   ]
  },
  {
   "cell_type": "code",
   "execution_count": 36,
   "id": "7f99c932",
   "metadata": {
    "ExecuteTime": {
     "end_time": "2024-02-19T13:38:48.078361Z",
     "start_time": "2024-02-19T13:38:47.285273Z"
    }
   },
   "outputs": [],
   "source": [
    "reco = pd.DataFrame()\n",
    "reco['user_id'] = pd.DataFrame(np.repeat(test_ratings['user_id_mod'].unique(), \n",
    "                                             10, axis=0), columns=['user_id_mod'])\n",
    "reco['item_id'] = np.ravel(ids)\n",
    "reco['score'] = np.ravel(scores)\n",
    "reco['rank'] = reco.groupby(\"user_id\")[\"score\"].rank(method=\"first\", ascending=False)"
   ]
  },
  {
   "cell_type": "code",
   "execution_count": 37,
   "id": "d8ce68d3",
   "metadata": {
    "ExecuteTime": {
     "end_time": "2024-02-19T13:38:49.172896Z",
     "start_time": "2024-02-19T13:38:49.168310Z"
    }
   },
   "outputs": [
    {
     "data": {
      "text/html": [
       "<div>\n",
       "<style scoped>\n",
       "    .dataframe tbody tr th:only-of-type {\n",
       "        vertical-align: middle;\n",
       "    }\n",
       "\n",
       "    .dataframe tbody tr th {\n",
       "        vertical-align: top;\n",
       "    }\n",
       "\n",
       "    .dataframe thead th {\n",
       "        text-align: right;\n",
       "    }\n",
       "</style>\n",
       "<table border=\"1\" class=\"dataframe\">\n",
       "  <thead>\n",
       "    <tr style=\"text-align: right;\">\n",
       "      <th></th>\n",
       "      <th>user_id</th>\n",
       "      <th>item_id</th>\n",
       "      <th>score</th>\n",
       "      <th>rank</th>\n",
       "    </tr>\n",
       "  </thead>\n",
       "  <tbody>\n",
       "    <tr>\n",
       "      <th>0</th>\n",
       "      <td>1</td>\n",
       "      <td>27</td>\n",
       "      <td>1.073283</td>\n",
       "      <td>1.0</td>\n",
       "    </tr>\n",
       "    <tr>\n",
       "      <th>1</th>\n",
       "      <td>1</td>\n",
       "      <td>39</td>\n",
       "      <td>1.053316</td>\n",
       "      <td>2.0</td>\n",
       "    </tr>\n",
       "    <tr>\n",
       "      <th>2</th>\n",
       "      <td>1</td>\n",
       "      <td>41</td>\n",
       "      <td>1.022510</td>\n",
       "      <td>3.0</td>\n",
       "    </tr>\n",
       "    <tr>\n",
       "      <th>3</th>\n",
       "      <td>1</td>\n",
       "      <td>2</td>\n",
       "      <td>1.015461</td>\n",
       "      <td>4.0</td>\n",
       "    </tr>\n",
       "    <tr>\n",
       "      <th>4</th>\n",
       "      <td>1</td>\n",
       "      <td>13</td>\n",
       "      <td>1.014058</td>\n",
       "      <td>5.0</td>\n",
       "    </tr>\n",
       "  </tbody>\n",
       "</table>\n",
       "</div>"
      ],
      "text/plain": [
       "   user_id  item_id     score  rank\n",
       "0        1       27  1.073283   1.0\n",
       "1        1       39  1.053316   2.0\n",
       "2        1       41  1.022510   3.0\n",
       "3        1        2  1.015461   4.0\n",
       "4        1       13  1.014058   5.0"
      ]
     },
     "execution_count": 37,
     "metadata": {},
     "output_type": "execute_result"
    }
   ],
   "source": [
    "reco.head()"
   ]
  },
  {
   "cell_type": "code",
   "execution_count": 38,
   "id": "a81862f3",
   "metadata": {
    "ExecuteTime": {
     "end_time": "2024-02-19T13:38:52.224480Z",
     "start_time": "2024-02-19T13:38:51.947120Z"
    }
   },
   "outputs": [],
   "source": [
    "# это пока выглядит как костыль, я поправлю :)\n",
    "train_ratings['user_id_true'] = train_ratings['user_id']\n",
    "train_ratings['user_id'] = train_ratings['user_id_mod']\n",
    "train_ratings['item_id_true'] = train_ratings['item_id']\n",
    "train_ratings['item_id'] = train_ratings['item_id_mod']\n",
    "\n",
    "test_ratings['user_id_true'] = test_ratings['user_id']\n",
    "test_ratings['user_id'] = test_ratings['user_id_mod']\n",
    "test_ratings['item_id_true'] = test_ratings['item_id']\n",
    "test_ratings['item_id'] = test_ratings['item_id_mod']"
   ]
  },
  {
   "cell_type": "code",
   "execution_count": 41,
   "id": "70f33c43",
   "metadata": {
    "ExecuteTime": {
     "end_time": "2024-02-19T13:39:05.556833Z",
     "start_time": "2024-02-19T13:39:05.047637Z"
    }
   },
   "outputs": [
    {
     "data": {
      "text/plain": [
       "0.016136572712603117"
      ]
     },
     "execution_count": 41,
     "metadata": {},
     "output_type": "execute_result"
    }
   ],
   "source": [
    "MAP(k=3).calc_per_user(reco, test_ratings).mean() * 100"
   ]
  },
  {
   "cell_type": "code",
   "execution_count": null,
   "id": "b1a8c0bc",
   "metadata": {
    "ExecuteTime": {
     "end_time": "2024-02-19T10:46:07.130367Z",
     "start_time": "2024-02-19T10:46:07.127522Z"
    }
   },
   "outputs": [],
   "source": []
  }
 ],
 "metadata": {
  "kernelspec": {
   "display_name": "Python 3 (ipykernel)",
   "language": "python",
   "name": "python3"
  },
  "language_info": {
   "codemirror_mode": {
    "name": "ipython",
    "version": 3
   },
   "file_extension": ".py",
   "mimetype": "text/x-python",
   "name": "python",
   "nbconvert_exporter": "python",
   "pygments_lexer": "ipython3",
   "version": "3.10.13"
  },
  "toc": {
   "base_numbering": 1,
   "nav_menu": {},
   "number_sections": true,
   "sideBar": true,
   "skip_h1_title": false,
   "title_cell": "Table of Contents",
   "title_sidebar": "Contents",
   "toc_cell": false,
   "toc_position": {
    "height": "calc(100% - 180px)",
    "left": "10px",
    "top": "150px",
    "width": "270px"
   },
   "toc_section_display": true,
   "toc_window_display": true
  },
  "varInspector": {
   "cols": {
    "lenName": 16,
    "lenType": 16,
    "lenVar": 40
   },
   "kernels_config": {
    "python": {
     "delete_cmd_postfix": "",
     "delete_cmd_prefix": "del ",
     "library": "var_list.py",
     "varRefreshCmd": "print(var_dic_list())"
    },
    "r": {
     "delete_cmd_postfix": ") ",
     "delete_cmd_prefix": "rm(",
     "library": "var_list.r",
     "varRefreshCmd": "cat(var_dic_list()) "
    }
   },
   "types_to_exclude": [
    "module",
    "function",
    "builtin_function_or_method",
    "instance",
    "_Feature"
   ],
   "window_display": false
  }
 },
 "nbformat": 4,
 "nbformat_minor": 5
}
