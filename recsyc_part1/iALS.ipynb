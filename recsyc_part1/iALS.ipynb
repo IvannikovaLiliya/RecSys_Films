{
 "cells": [
  {
   "cell_type": "markdown",
   "id": "c5f10c28",
   "metadata": {},
   "source": [
    "# Import"
   ]
  },
  {
   "cell_type": "markdown",
   "id": "237fe245",
   "metadata": {},
   "source": [
    "numpy==1.26.4\n",
    "pandas==1.5.3\n",
    "python-dateutil==2.8.2\n",
    "pytz==2024.1\n",
    "six==1.16.0\n",
    "implicit==0.7.2\n",
    "scipy==1.11.4"
   ]
  },
  {
   "cell_type": "code",
   "execution_count": 1,
   "id": "74d57851",
   "metadata": {
    "ExecuteTime": {
     "end_time": "2024-02-20T13:49:40.106575Z",
     "start_time": "2024-02-20T13:49:39.681359Z"
    }
   },
   "outputs": [],
   "source": [
    "import pandas as pd\n",
    "import numpy as np\n",
    "import matplotlib.pyplot as plt\n",
    "from matplotlib.pyplot import figure\n",
    "\n",
    "from tqdm import tqdm\n",
    "import scipy.sparse as sp\n",
    "\n",
    "import warnings\n",
    "warnings.simplefilter('ignore')\n",
    "\n",
    "from numpy.linalg import svd\n",
    "\n",
    "from rectools.dataset import Dataset\n",
    "from implicit.als import AlternatingLeastSquares\n",
    "from implicit.evaluation import mean_average_precision_at_k\n",
    "from rectools.metrics.ranking import MAP\n",
    "import scipy.sparse as scs\n",
    "\n",
    "import os"
   ]
  },
  {
   "cell_type": "code",
   "execution_count": 2,
   "id": "5365982a",
   "metadata": {
    "ExecuteTime": {
     "end_time": "2024-02-20T13:49:40.110484Z",
     "start_time": "2024-02-20T13:49:40.107743Z"
    }
   },
   "outputs": [
    {
     "data": {
      "text/plain": [
       "'C:\\\\Users\\\\Владислав\\\\PycharmProjects\\\\RecSys_Films\\\\recsyc_part1'"
      ]
     },
     "execution_count": 2,
     "metadata": {},
     "output_type": "execute_result"
    }
   ],
   "source": [
    "us = os.getcwd()\n",
    "us"
   ]
  },
  {
   "cell_type": "code",
   "execution_count": 3,
   "id": "aff2ec7d",
   "metadata": {
    "ExecuteTime": {
     "end_time": "2024-02-20T13:49:44.911674Z",
     "start_time": "2024-02-20T13:49:40.111280Z"
    }
   },
   "outputs": [
    {
     "name": "stdout",
     "output_type": "stream",
     "text": [
      "CPU times: total: 7.12 s\n",
      "Wall time: 7.12 s\n"
     ]
    }
   ],
   "source": [
    "%%time\n",
    "us = os.getcwd()\n",
    "\n",
    "if 'liliyaivannikova' in us:\n",
    "    PATH = r'/Users/liliyaivannikova/Documents/project/ml-latest/'\n",
    "elif 'Владислав' in us:\n",
    "    PATH = 'C:/Users/Владислав/test_python_scripts/project/test project/dataset/'\n",
    "    \n",
    "movies = pd.read_csv(PATH + r'movies.csv')\n",
    "rating = pd.read_csv(PATH + r'ratings.csv')"
   ]
  },
  {
   "cell_type": "markdown",
   "id": "48540c69",
   "metadata": {},
   "source": [
    "%%time\n",
    "movies = pd.read_csv(\n",
    "    \"ml-1m/movies.dat\",\n",
    "    sep=\"::\",\n",
    "    engine=\"python\",\n",
    "    header=None,\n",
    "    names=['movieId','title','genres'],\n",
    "    encoding='latin-1'\n",
    ")\n",
    "rating = pd.read_csv(\n",
    "    \"ml-1m/ratings.dat\",\n",
    "    sep=\"::\",\n",
    "    engine=\"python\",\n",
    "    header=None,\n",
    "    names=['userId','movieId','rating','timestamp'],\n",
    ")"
   ]
  },
  {
   "cell_type": "code",
   "execution_count": 4,
   "id": "1ce21742",
   "metadata": {
    "ExecuteTime": {
     "end_time": "2024-02-20T13:49:44.914899Z",
     "start_time": "2024-02-20T13:49:44.912911Z"
    }
   },
   "outputs": [
    {
     "name": "stdout",
     "output_type": "stream",
     "text": [
      "\n",
      "movies: (86537, 3)\n",
      "rating: (33832162, 4)\n",
      "\n"
     ]
    }
   ],
   "source": [
    "print(f'''\n",
    "movies: {movies.shape}\n",
    "rating: {rating.shape}\n",
    "''')"
   ]
  },
  {
   "cell_type": "code",
   "execution_count": 5,
   "id": "9129d676",
   "metadata": {
    "ExecuteTime": {
     "end_time": "2024-02-20T13:49:45.015225Z",
     "start_time": "2024-02-20T13:49:44.916426Z"
    }
   },
   "outputs": [],
   "source": [
    "movies.columns = [col.upper() for col in movies.columns]\n",
    "\n",
    "movies['REALEASE'] = movies['TITLE'].str.extract(\"\\((\\d{4})\\)\", expand=True)\n",
    "movies['REALEASE'] = pd.to_datetime(movies['REALEASE'], format='%Y')\n",
    "movies['REALEASE'] = movies['REALEASE'].dt.year\n",
    "movies['TITLE'] = movies['TITLE'].str[:-7]"
   ]
  },
  {
   "cell_type": "code",
   "execution_count": 6,
   "id": "c1a6946c",
   "metadata": {
    "ExecuteTime": {
     "end_time": "2024-02-20T13:49:45.093325Z",
     "start_time": "2024-02-20T13:49:45.016283Z"
    }
   },
   "outputs": [],
   "source": [
    "movies['TITLE'] = movies['TITLE'].astype('category')\n",
    "movies['REALEASE'] = movies['REALEASE'].astype('float16')\n",
    "movies['GENRES'] = movies['GENRES'].str.replace('|', ',')"
   ]
  },
  {
   "cell_type": "code",
   "execution_count": 7,
   "id": "64aeb5f0",
   "metadata": {
    "ExecuteTime": {
     "end_time": "2024-02-20T13:49:45.418476Z",
     "start_time": "2024-02-20T13:49:45.094090Z"
    }
   },
   "outputs": [],
   "source": [
    "rating.columns = [col.upper() for col in rating.columns]\n",
    "rating['TIMESTAMP'] = pd.to_datetime(rating['TIMESTAMP'], unit='s')"
   ]
  },
  {
   "cell_type": "markdown",
   "id": "ad5e78a9",
   "metadata": {},
   "source": [
    "# Обработка полей"
   ]
  },
  {
   "cell_type": "code",
   "execution_count": 8,
   "id": "79eea478",
   "metadata": {
    "ExecuteTime": {
     "end_time": "2024-02-20T13:50:46.775871Z",
     "start_time": "2024-02-20T13:50:46.465070Z"
    }
   },
   "outputs": [
    {
     "data": {
      "text/plain": [
       "3.0"
      ]
     },
     "execution_count": 8,
     "metadata": {},
     "output_type": "execute_result"
    }
   ],
   "source": [
    "rating_stat = rating.groupby('USERID')['MOVIEID'].count().reset_index()\n",
    "rating_stat['MOVIEID'].quantile(0.05)"
   ]
  },
  {
   "cell_type": "code",
   "execution_count": 9,
   "id": "0e7308d0",
   "metadata": {
    "ExecuteTime": {
     "end_time": "2024-02-20T13:50:47.142317Z",
     "start_time": "2024-02-20T13:50:47.135531Z"
    }
   },
   "outputs": [],
   "source": [
    "#rating_stat['FLAG_05'] = np.where(rating_stat['MOVIEID'] > rating_stat['MOVIEID'].quantile(0.05), 1, 0)\n",
    "rating_stat['FLAG_05'] = np.where(rating_stat['MOVIEID'] > 20, 1, 0)"
   ]
  },
  {
   "cell_type": "code",
   "execution_count": 10,
   "id": "40a5550d",
   "metadata": {
    "ExecuteTime": {
     "end_time": "2024-02-20T13:50:49.793716Z",
     "start_time": "2024-02-20T13:50:48.184509Z"
    }
   },
   "outputs": [],
   "source": [
    "rating = rating.merge(rating_stat[['USERID', 'FLAG_05']], how = 'left', on = 'USERID')"
   ]
  },
  {
   "cell_type": "code",
   "execution_count": 11,
   "id": "b44bd844",
   "metadata": {
    "ExecuteTime": {
     "end_time": "2024-02-20T13:50:50.271685Z",
     "start_time": "2024-02-20T13:50:50.258714Z"
    }
   },
   "outputs": [
    {
     "data": {
      "text/html": [
       "<div>\n",
       "<style scoped>\n",
       "    .dataframe tbody tr th:only-of-type {\n",
       "        vertical-align: middle;\n",
       "    }\n",
       "\n",
       "    .dataframe tbody tr th {\n",
       "        vertical-align: top;\n",
       "    }\n",
       "\n",
       "    .dataframe thead th {\n",
       "        text-align: right;\n",
       "    }\n",
       "</style>\n",
       "<table border=\"1\" class=\"dataframe\">\n",
       "  <thead>\n",
       "    <tr style=\"text-align: right;\">\n",
       "      <th></th>\n",
       "      <th>USERID</th>\n",
       "      <th>MOVIEID</th>\n",
       "      <th>RATING</th>\n",
       "      <th>TIMESTAMP</th>\n",
       "      <th>FLAG_05</th>\n",
       "    </tr>\n",
       "  </thead>\n",
       "  <tbody>\n",
       "    <tr>\n",
       "      <th>0</th>\n",
       "      <td>1</td>\n",
       "      <td>1</td>\n",
       "      <td>4.0</td>\n",
       "      <td>2008-11-03 17:52:19</td>\n",
       "      <td>1</td>\n",
       "    </tr>\n",
       "    <tr>\n",
       "      <th>1</th>\n",
       "      <td>1</td>\n",
       "      <td>110</td>\n",
       "      <td>4.0</td>\n",
       "      <td>2008-11-05 06:04:46</td>\n",
       "      <td>1</td>\n",
       "    </tr>\n",
       "    <tr>\n",
       "      <th>2</th>\n",
       "      <td>1</td>\n",
       "      <td>158</td>\n",
       "      <td>4.0</td>\n",
       "      <td>2008-11-03 17:31:43</td>\n",
       "      <td>1</td>\n",
       "    </tr>\n",
       "    <tr>\n",
       "      <th>3</th>\n",
       "      <td>1</td>\n",
       "      <td>260</td>\n",
       "      <td>4.5</td>\n",
       "      <td>2008-11-03 18:00:04</td>\n",
       "      <td>1</td>\n",
       "    </tr>\n",
       "    <tr>\n",
       "      <th>4</th>\n",
       "      <td>1</td>\n",
       "      <td>356</td>\n",
       "      <td>5.0</td>\n",
       "      <td>2008-11-03 17:58:39</td>\n",
       "      <td>1</td>\n",
       "    </tr>\n",
       "  </tbody>\n",
       "</table>\n",
       "</div>"
      ],
      "text/plain": [
       "   USERID  MOVIEID  RATING           TIMESTAMP  FLAG_05\n",
       "0       1        1     4.0 2008-11-03 17:52:19        1\n",
       "1       1      110     4.0 2008-11-05 06:04:46        1\n",
       "2       1      158     4.0 2008-11-03 17:31:43        1\n",
       "3       1      260     4.5 2008-11-03 18:00:04        1\n",
       "4       1      356     5.0 2008-11-03 17:58:39        1"
      ]
     },
     "execution_count": 11,
     "metadata": {},
     "output_type": "execute_result"
    }
   ],
   "source": [
    "rating.head()"
   ]
  },
  {
   "cell_type": "code",
   "execution_count": 12,
   "id": "6a3e63d3",
   "metadata": {
    "ExecuteTime": {
     "end_time": "2024-02-20T13:50:53.881213Z",
     "start_time": "2024-02-20T13:50:51.005128Z"
    }
   },
   "outputs": [
    {
     "name": "stdout",
     "output_type": "stream",
     "text": [
      "(32346391, 5)\n"
     ]
    }
   ],
   "source": [
    "# удаляем пропуски\n",
    "rating = rating[~((rating.TIMESTAMP.isna())|(rating.USERID.isna())|(rating.RATING.isna()))]\n",
    "# удаляем странного юзера\n",
    "rating.query('USERID != 189614', inplace = True)\n",
    "# удалим юзеров, у которых оценок меньше 3 (по 5 квантилю)\n",
    "rating.query('FLAG_05 == 1', inplace = True)\n",
    "print(rating.shape)"
   ]
  },
  {
   "cell_type": "markdown",
   "id": "f36bf73c",
   "metadata": {},
   "source": [
    "# train-test split"
   ]
  },
  {
   "cell_type": "code",
   "execution_count": 13,
   "id": "f19681c3",
   "metadata": {
    "ExecuteTime": {
     "end_time": "2024-02-20T13:50:55.132615Z",
     "start_time": "2024-02-20T13:50:55.127652Z"
    }
   },
   "outputs": [],
   "source": [
    "rating.rename({'USERID':'user_id_true',\n",
    "            'MOVIEID':'item_id_true',\n",
    "            'RATING':'weight',\n",
    "            'TIMESTAMP':'datetime'}, axis=1, inplace=True)"
   ]
  },
  {
   "cell_type": "markdown",
   "id": "79d87a7a",
   "metadata": {
    "ExecuteTime": {
     "end_time": "2024-01-31T17:27:49.807886Z",
     "start_time": "2024-01-31T17:27:48.511236Z"
    }
   },
   "source": [
    "Разделим выборку на обучение и тест следующим образом: для каждого пользователя в тестовую выборку попадут 10 его последних оценок."
   ]
  },
  {
   "cell_type": "code",
   "execution_count": 14,
   "id": "6b3ddef5",
   "metadata": {
    "ExecuteTime": {
     "end_time": "2024-02-20T13:50:58.286422Z",
     "start_time": "2024-02-20T13:50:58.036723Z"
    }
   },
   "outputs": [
    {
     "data": {
      "text/plain": [
       "(198927, 81555)"
      ]
     },
     "execution_count": 14,
     "metadata": {},
     "output_type": "execute_result"
    }
   ],
   "source": [
    "num_users, num_movies = rating['user_id_true'].nunique(), rating['item_id_true'].nunique()\n",
    "num_users, num_movies"
   ]
  },
  {
   "cell_type": "code",
   "execution_count": 15,
   "id": "9f73957d",
   "metadata": {
    "ExecuteTime": {
     "end_time": "2024-02-20T13:51:11.517508Z",
     "start_time": "2024-02-20T13:51:11.296907Z"
    }
   },
   "outputs": [],
   "source": [
    "user_df = pd.DataFrame(np.vstack((np.arange(1, num_users+1), rating['user_id_true'].unique())).T, \n",
    "                         columns= ['user_id', 'user_id_true'])\n",
    "item_df = pd.DataFrame(np.vstack((np.arange(1, num_movies+1), rating['item_id_true'].unique())).T, \n",
    "                         columns= ['item_id', 'item_id_true'])"
   ]
  },
  {
   "cell_type": "code",
   "execution_count": 16,
   "id": "570e84d6",
   "metadata": {
    "ExecuteTime": {
     "end_time": "2024-02-20T13:51:18.251222Z",
     "start_time": "2024-02-20T13:51:13.625545Z"
    }
   },
   "outputs": [],
   "source": [
    "rating = rating.merge(user_df, how = 'left', on = 'user_id_true')\n",
    "rating = rating.merge(item_df, how = 'left', on = 'item_id_true')"
   ]
  },
  {
   "cell_type": "code",
   "execution_count": 17,
   "id": "b75f2c94",
   "metadata": {
    "ExecuteTime": {
     "end_time": "2024-02-20T13:54:57.087324Z",
     "start_time": "2024-02-20T13:54:40.429976Z"
    }
   },
   "outputs": [],
   "source": [
    "rating.sort_values(['user_id_true', 'datetime'], inplace=True)"
   ]
  },
  {
   "cell_type": "code",
   "execution_count": 18,
   "id": "ea63b8a7",
   "metadata": {
    "ExecuteTime": {
     "end_time": "2024-02-20T13:55:43.720954Z",
     "start_time": "2024-02-20T13:54:59.136738Z"
    }
   },
   "outputs": [
    {
     "data": {
      "text/plain": [
       "((30357121, 7), (1989270, 7))"
      ]
     },
     "execution_count": 18,
     "metadata": {},
     "output_type": "execute_result"
    }
   ],
   "source": [
    "train_ratings, test_ratings = [], []\n",
    "num_test_samples = 10\n",
    "\n",
    "for userId, user_data in rating.groupby('user_id'):\n",
    "    train_ratings += [user_data[:-num_test_samples]]\n",
    "    test_ratings += [user_data[-num_test_samples:]]\n",
    "\n",
    "train_ratings = pd.concat(train_ratings)\n",
    "test_ratings = pd.concat(test_ratings)\n",
    "train_ratings.shape, test_ratings.shape"
   ]
  },
  {
   "cell_type": "code",
   "execution_count": 19,
   "id": "b98e84b1",
   "metadata": {
    "ExecuteTime": {
     "end_time": "2024-02-20T13:56:05.192049Z",
     "start_time": "2024-02-20T13:56:05.111906Z"
    }
   },
   "outputs": [],
   "source": [
    "del rating"
   ]
  },
  {
   "cell_type": "code",
   "execution_count": 20,
   "id": "64e0ae44",
   "metadata": {
    "ExecuteTime": {
     "end_time": "2024-02-20T13:56:06.220775Z",
     "start_time": "2024-02-20T13:56:06.209122Z"
    }
   },
   "outputs": [
    {
     "data": {
      "text/html": [
       "<div>\n",
       "<style scoped>\n",
       "    .dataframe tbody tr th:only-of-type {\n",
       "        vertical-align: middle;\n",
       "    }\n",
       "\n",
       "    .dataframe tbody tr th {\n",
       "        vertical-align: top;\n",
       "    }\n",
       "\n",
       "    .dataframe thead th {\n",
       "        text-align: right;\n",
       "    }\n",
       "</style>\n",
       "<table border=\"1\" class=\"dataframe\">\n",
       "  <thead>\n",
       "    <tr style=\"text-align: right;\">\n",
       "      <th></th>\n",
       "      <th>user_id_true</th>\n",
       "      <th>item_id_true</th>\n",
       "      <th>weight</th>\n",
       "      <th>datetime</th>\n",
       "      <th>FLAG_05</th>\n",
       "      <th>user_id</th>\n",
       "      <th>item_id</th>\n",
       "    </tr>\n",
       "  </thead>\n",
       "  <tbody>\n",
       "    <tr>\n",
       "      <th>2</th>\n",
       "      <td>1</td>\n",
       "      <td>158</td>\n",
       "      <td>4.0</td>\n",
       "      <td>2008-11-03 17:31:43</td>\n",
       "      <td>1</td>\n",
       "      <td>1</td>\n",
       "      <td>3</td>\n",
       "    </tr>\n",
       "    <tr>\n",
       "      <th>37</th>\n",
       "      <td>1</td>\n",
       "      <td>4896</td>\n",
       "      <td>4.0</td>\n",
       "      <td>2008-11-03 17:31:56</td>\n",
       "      <td>1</td>\n",
       "      <td>1</td>\n",
       "      <td>38</td>\n",
       "    </tr>\n",
       "    <tr>\n",
       "      <th>6</th>\n",
       "      <td>1</td>\n",
       "      <td>596</td>\n",
       "      <td>4.0</td>\n",
       "      <td>2008-11-03 17:32:04</td>\n",
       "      <td>1</td>\n",
       "      <td>1</td>\n",
       "      <td>7</td>\n",
       "    </tr>\n",
       "  </tbody>\n",
       "</table>\n",
       "</div>"
      ],
      "text/plain": [
       "    user_id_true  item_id_true  weight            datetime  FLAG_05  user_id  \\\n",
       "2              1           158     4.0 2008-11-03 17:31:43        1        1   \n",
       "37             1          4896     4.0 2008-11-03 17:31:56        1        1   \n",
       "6              1           596     4.0 2008-11-03 17:32:04        1        1   \n",
       "\n",
       "    item_id  \n",
       "2         3  \n",
       "37       38  \n",
       "6         7  "
      ]
     },
     "execution_count": 20,
     "metadata": {},
     "output_type": "execute_result"
    }
   ],
   "source": [
    "train_ratings.head(3)"
   ]
  },
  {
   "cell_type": "code",
   "execution_count": 21,
   "id": "c4edbe5b",
   "metadata": {
    "ExecuteTime": {
     "end_time": "2024-02-20T13:56:26.453157Z",
     "start_time": "2024-02-20T13:56:25.100570Z"
    }
   },
   "outputs": [],
   "source": [
    "user_items = scs.coo_array((pd.to_numeric(train_ratings['weight'],downcast=\"float\"),\n",
    "                            (pd.to_numeric(train_ratings['user_id'],downcast=\"integer\"),\n",
    "                             pd.to_numeric(train_ratings['item_id'],downcast=\"integer\")\n",
    "                            )), \n",
    "                  shape=(num_users + 1, num_movies + 1)).tocsr()"
   ]
  },
  {
   "cell_type": "markdown",
   "id": "ea7a0570",
   "metadata": {},
   "source": [
    "# Перебор гиперпараметров"
   ]
  },
  {
   "cell_type": "code",
   "execution_count": 22,
   "id": "62a621cb",
   "metadata": {},
   "outputs": [
    {
     "data": {
      "application/vnd.jupyter.widget-view+json": {
       "model_id": "c995ebc2a8204bfd9235a1e2194820a2",
       "version_major": 2,
       "version_minor": 0
      },
      "text/plain": [
       "  0%|          | 0/60 [00:00<?, ?it/s]"
      ]
     },
     "metadata": {},
     "output_type": "display_data"
    }
   ],
   "source": [
    "from tqdm.contrib import itertools\n",
    "import time\n",
    "\n",
    "\n",
    "mapk_list = []\n",
    "\n",
    "regularization_list = np.array([0.001, 0.01, 0.1, 0.5, 1])\n",
    "factors_list = [3,5,10,100]\n",
    "alpha_list = np.array([2.,3.,4.])\n",
    "\n",
    "for r, a, f in itertools.product(regularization_list,alpha_list,factors_list):\n",
    "\n",
    "    from implicit.cpu.als import AlternatingLeastSquares\n",
    "    als_model = AlternatingLeastSquares(factors = f,\n",
    "                                        iterations=5,\n",
    "                                        regularization = r,\n",
    "                                        random_state=0, \n",
    "                                        alpha=a,\n",
    "                                        num_threads=8)\n",
    "    als_model.fit(user_items,show_progress = False)\n",
    "    \n",
    "    test_user_items = scs.coo_array((test_ratings['weight'], \n",
    "                                 (test_ratings['user_id'],\n",
    "                                  test_ratings['item_id'])), \n",
    "                                  shape=(num_users + 1, num_movies + 1)).tocsr()\n",
    "    \n",
    "    \n",
    "    ids, scores = als_model.recommend(test_ratings['user_id'].unique(),\n",
    "                                      test_user_items,\n",
    "                                      N=10,\n",
    "                                      filter_already_liked_items=False)\n",
    "    reco = pd.DataFrame()\n",
    "    reco['user_id'] = pd.DataFrame(np.repeat(test_ratings['user_id'].unique(),\n",
    "                                             repeats = 10,\n",
    "                                             axis=0), columns=['user_id'])\n",
    "    reco['item_id'] = np.ravel(ids)\n",
    "    reco['score'] = np.ravel(scores)\n",
    "    reco['rank'] = reco.groupby(\"user_id\")[\"score\"].rank(method=\"first\", ascending=False)\n",
    "    \n",
    "    map_k = MAP(k=10).calc_per_user(reco, test_ratings).mean() * 100\n",
    "    del reco\n",
    "    mapk_list.append([f,r,a,map_k])\n",
    "    "
   ]
  },
  {
   "cell_type": "code",
   "execution_count": 23,
   "id": "ba0af071",
   "metadata": {
    "scrolled": false
   },
   "outputs": [
    {
     "data": {
      "text/html": [
       "<div>\n",
       "<style scoped>\n",
       "    .dataframe tbody tr th:only-of-type {\n",
       "        vertical-align: middle;\n",
       "    }\n",
       "\n",
       "    .dataframe tbody tr th {\n",
       "        vertical-align: top;\n",
       "    }\n",
       "\n",
       "    .dataframe thead th {\n",
       "        text-align: right;\n",
       "    }\n",
       "</style>\n",
       "<table border=\"1\" class=\"dataframe\">\n",
       "  <thead>\n",
       "    <tr style=\"text-align: right;\">\n",
       "      <th></th>\n",
       "      <th>Factors</th>\n",
       "      <th>regularization</th>\n",
       "      <th>alpha</th>\n",
       "      <th>map_10</th>\n",
       "    </tr>\n",
       "  </thead>\n",
       "  <tbody>\n",
       "    <tr>\n",
       "      <th>56</th>\n",
       "      <td>3</td>\n",
       "      <td>1.000</td>\n",
       "      <td>4.0</td>\n",
       "      <td>1.025790</td>\n",
       "    </tr>\n",
       "    <tr>\n",
       "      <th>44</th>\n",
       "      <td>3</td>\n",
       "      <td>0.500</td>\n",
       "      <td>4.0</td>\n",
       "      <td>1.024351</td>\n",
       "    </tr>\n",
       "    <tr>\n",
       "      <th>32</th>\n",
       "      <td>3</td>\n",
       "      <td>0.100</td>\n",
       "      <td>4.0</td>\n",
       "      <td>1.022763</td>\n",
       "    </tr>\n",
       "    <tr>\n",
       "      <th>52</th>\n",
       "      <td>3</td>\n",
       "      <td>1.000</td>\n",
       "      <td>3.0</td>\n",
       "      <td>1.018938</td>\n",
       "    </tr>\n",
       "    <tr>\n",
       "      <th>40</th>\n",
       "      <td>3</td>\n",
       "      <td>0.500</td>\n",
       "      <td>3.0</td>\n",
       "      <td>1.016231</td>\n",
       "    </tr>\n",
       "    <tr>\n",
       "      <th>20</th>\n",
       "      <td>3</td>\n",
       "      <td>0.010</td>\n",
       "      <td>4.0</td>\n",
       "      <td>1.016032</td>\n",
       "    </tr>\n",
       "    <tr>\n",
       "      <th>8</th>\n",
       "      <td>3</td>\n",
       "      <td>0.001</td>\n",
       "      <td>4.0</td>\n",
       "      <td>1.015062</td>\n",
       "    </tr>\n",
       "    <tr>\n",
       "      <th>0</th>\n",
       "      <td>3</td>\n",
       "      <td>0.001</td>\n",
       "      <td>2.0</td>\n",
       "      <td>1.014536</td>\n",
       "    </tr>\n",
       "    <tr>\n",
       "      <th>12</th>\n",
       "      <td>3</td>\n",
       "      <td>0.010</td>\n",
       "      <td>2.0</td>\n",
       "      <td>1.014319</td>\n",
       "    </tr>\n",
       "    <tr>\n",
       "      <th>24</th>\n",
       "      <td>3</td>\n",
       "      <td>0.100</td>\n",
       "      <td>2.0</td>\n",
       "      <td>1.014299</td>\n",
       "    </tr>\n",
       "  </tbody>\n",
       "</table>\n",
       "</div>"
      ],
      "text/plain": [
       "    Factors  regularization  alpha    map_10\n",
       "56        3           1.000    4.0  1.025790\n",
       "44        3           0.500    4.0  1.024351\n",
       "32        3           0.100    4.0  1.022763\n",
       "52        3           1.000    3.0  1.018938\n",
       "40        3           0.500    3.0  1.016231\n",
       "20        3           0.010    4.0  1.016032\n",
       "8         3           0.001    4.0  1.015062\n",
       "0         3           0.001    2.0  1.014536\n",
       "12        3           0.010    2.0  1.014319\n",
       "24        3           0.100    2.0  1.014299"
      ]
     },
     "execution_count": 23,
     "metadata": {},
     "output_type": "execute_result"
    }
   ],
   "source": [
    "pd.set_option('display.max_rows', None)\n",
    "pd.DataFrame(mapk_list, columns = ['Factors','regularization','alpha', 'map_10']).sort_values(['map_10'],ascending=False).head(10)"
   ]
  },
  {
   "cell_type": "markdown",
   "id": "396c52c8",
   "metadata": {},
   "source": [
    "# Обучение модельки + реки для трейна"
   ]
  },
  {
   "cell_type": "code",
   "execution_count": 33,
   "id": "15352670",
   "metadata": {
    "ExecuteTime": {
     "end_time": "2024-02-20T13:56:27.357617Z",
     "start_time": "2024-02-20T13:56:27.354729Z"
    }
   },
   "outputs": [],
   "source": [
    "from implicit.cpu.als import AlternatingLeastSquares"
   ]
  },
  {
   "cell_type": "code",
   "execution_count": 34,
   "id": "2a3c58f9",
   "metadata": {
    "ExecuteTime": {
     "end_time": "2024-02-20T13:56:39.714526Z",
     "start_time": "2024-02-20T13:56:39.676409Z"
    }
   },
   "outputs": [
    {
     "data": {
      "application/vnd.jupyter.widget-view+json": {
       "model_id": "966acdc81c384628922e67d062b2bfbf",
       "version_major": 2,
       "version_minor": 0
      },
      "text/plain": [
       "  0%|          | 0/50 [00:00<?, ?it/s]"
      ]
     },
     "metadata": {},
     "output_type": "display_data"
    }
   ],
   "source": [
    "als_model = AlternatingLeastSquares(factors = 3,\n",
    "                                    iterations=50,\n",
    "                                    regularization = 1.0,\n",
    "                                    random_state=0, \n",
    "                                    alpha=4.0,\n",
    "                                    num_threads=8)\n",
    "als_model.fit(user_items)"
   ]
  },
  {
   "cell_type": "code",
   "execution_count": 35,
   "id": "f600e196",
   "metadata": {
    "ExecuteTime": {
     "end_time": "2024-02-20T14:49:42.675816Z",
     "start_time": "2024-02-20T14:49:42.587805Z"
    }
   },
   "outputs": [
    {
     "data": {
      "text/plain": [
       "(array([0.8401008 , 0.81823945, 0.8179725 , 0.80663353, 0.7931324 ,\n",
       "        0.7846249 , 0.7821287 , 0.75964725, 0.7567396 , 0.7543485 ],\n",
       "       dtype=float32),\n",
       " array([115,   5, 111, 146,   4, 137,  27,   2, 134,  77]))"
      ]
     },
     "execution_count": 35,
     "metadata": {},
     "output_type": "execute_result"
    }
   ],
   "source": [
    "userid = 1\n",
    "ids, scores = als_model.recommend(userid,\n",
    "                                  user_items[:, [userid]], \n",
    "                                  N=10,\n",
    "                                  filter_already_liked_items=False)\n",
    "scores, ids"
   ]
  },
  {
   "cell_type": "markdown",
   "id": "330da888",
   "metadata": {
    "ExecuteTime": {
     "end_time": "2024-02-18T13:11:14.575820Z",
     "start_time": "2024-02-18T13:11:14.570890Z"
    }
   },
   "source": [
    "# Реки для теста + замер метрики"
   ]
  },
  {
   "cell_type": "code",
   "execution_count": 36,
   "id": "ea399723",
   "metadata": {},
   "outputs": [],
   "source": [
    "# кол-во рекомендаций"
   ]
  },
  {
   "cell_type": "code",
   "execution_count": 37,
   "id": "5fb5d22e",
   "metadata": {
    "ExecuteTime": {
     "end_time": "2024-02-20T14:49:56.069391Z",
     "start_time": "2024-02-20T14:49:55.989291Z"
    }
   },
   "outputs": [],
   "source": [
    "test_user_items = scs.coo_array((test_ratings['weight'], \n",
    "                                 (test_ratings['user_id'],\n",
    "                                  test_ratings['item_id'])), \n",
    "                                  shape=(num_users + 1, num_movies + 1)).tocsr()"
   ]
  },
  {
   "cell_type": "code",
   "execution_count": 38,
   "id": "7179045f",
   "metadata": {
    "ExecuteTime": {
     "end_time": "2024-02-20T14:50:52.509649Z",
     "start_time": "2024-02-20T14:50:05.614870Z"
    }
   },
   "outputs": [],
   "source": [
    "ids, scores = als_model.recommend(test_ratings['user_id'].unique(),\n",
    "                                  test_user_items,\n",
    "                                  N=10,\n",
    "                                  filter_already_liked_items=False)"
   ]
  },
  {
   "cell_type": "code",
   "execution_count": 39,
   "id": "7f99c932",
   "metadata": {
    "ExecuteTime": {
     "end_time": "2024-02-20T15:00:27.820969Z",
     "start_time": "2024-02-20T15:00:27.175972Z"
    }
   },
   "outputs": [],
   "source": [
    "reco = pd.DataFrame()\n",
    "reco['user_id'] = pd.DataFrame(np.repeat(test_ratings['user_id'].unique(), \n",
    "                                             10, axis=0), columns=['user_id'])\n",
    "reco['item_id'] = np.ravel(ids)\n",
    "reco['score'] = np.ravel(scores)\n",
    "reco['rank'] = reco.groupby(\"user_id\")[\"score\"].rank(method=\"first\", ascending=False)"
   ]
  },
  {
   "cell_type": "code",
   "execution_count": 40,
   "id": "a2748b8d",
   "metadata": {},
   "outputs": [
    {
     "data": {
      "text/html": [
       "<div>\n",
       "<style scoped>\n",
       "    .dataframe tbody tr th:only-of-type {\n",
       "        vertical-align: middle;\n",
       "    }\n",
       "\n",
       "    .dataframe tbody tr th {\n",
       "        vertical-align: top;\n",
       "    }\n",
       "\n",
       "    .dataframe thead th {\n",
       "        text-align: right;\n",
       "    }\n",
       "</style>\n",
       "<table border=\"1\" class=\"dataframe\">\n",
       "  <thead>\n",
       "    <tr style=\"text-align: right;\">\n",
       "      <th></th>\n",
       "      <th>user_id</th>\n",
       "      <th>item_id</th>\n",
       "      <th>score</th>\n",
       "      <th>rank</th>\n",
       "    </tr>\n",
       "  </thead>\n",
       "  <tbody>\n",
       "    <tr>\n",
       "      <th>0</th>\n",
       "      <td>1</td>\n",
       "      <td>115</td>\n",
       "      <td>0.840101</td>\n",
       "      <td>1.0</td>\n",
       "    </tr>\n",
       "    <tr>\n",
       "      <th>1</th>\n",
       "      <td>1</td>\n",
       "      <td>5</td>\n",
       "      <td>0.818239</td>\n",
       "      <td>2.0</td>\n",
       "    </tr>\n",
       "    <tr>\n",
       "      <th>2</th>\n",
       "      <td>1</td>\n",
       "      <td>111</td>\n",
       "      <td>0.817973</td>\n",
       "      <td>3.0</td>\n",
       "    </tr>\n",
       "    <tr>\n",
       "      <th>3</th>\n",
       "      <td>1</td>\n",
       "      <td>146</td>\n",
       "      <td>0.806634</td>\n",
       "      <td>4.0</td>\n",
       "    </tr>\n",
       "    <tr>\n",
       "      <th>4</th>\n",
       "      <td>1</td>\n",
       "      <td>4</td>\n",
       "      <td>0.793132</td>\n",
       "      <td>5.0</td>\n",
       "    </tr>\n",
       "  </tbody>\n",
       "</table>\n",
       "</div>"
      ],
      "text/plain": [
       "   user_id  item_id     score  rank\n",
       "0        1      115  0.840101   1.0\n",
       "1        1        5  0.818239   2.0\n",
       "2        1      111  0.817973   3.0\n",
       "3        1      146  0.806634   4.0\n",
       "4        1        4  0.793132   5.0"
      ]
     },
     "execution_count": 40,
     "metadata": {},
     "output_type": "execute_result"
    }
   ],
   "source": [
    "reco.head()"
   ]
  },
  {
   "cell_type": "code",
   "execution_count": 41,
   "id": "70f33c43",
   "metadata": {
    "ExecuteTime": {
     "end_time": "2024-02-20T15:00:35.627493Z",
     "start_time": "2024-02-20T15:00:35.057771Z"
    }
   },
   "outputs": [
    {
     "data": {
      "text/plain": [
       "1.0667182808785007"
      ]
     },
     "execution_count": 41,
     "metadata": {},
     "output_type": "execute_result"
    }
   ],
   "source": [
    "MAP(k=10).calc_per_user(reco, test_ratings).mean() * 100"
   ]
  },
  {
   "cell_type": "markdown",
   "id": "c06efca6",
   "metadata": {},
   "source": []
  }
 ],
 "metadata": {
  "kernelspec": {
   "display_name": "Python 3 (ipykernel)",
   "language": "python",
   "name": "python3"
  },
  "language_info": {
   "codemirror_mode": {
    "name": "ipython",
    "version": 3
   },
   "file_extension": ".py",
   "mimetype": "text/x-python",
   "name": "python",
   "nbconvert_exporter": "python",
   "pygments_lexer": "ipython3",
   "version": "3.9.12"
  },
  "toc": {
   "base_numbering": 1,
   "nav_menu": {},
   "number_sections": true,
   "sideBar": true,
   "skip_h1_title": false,
   "title_cell": "Table of Contents",
   "title_sidebar": "Contents",
   "toc_cell": false,
   "toc_position": {
    "height": "calc(100% - 180px)",
    "left": "10px",
    "top": "150px",
    "width": "270px"
   },
   "toc_section_display": true,
   "toc_window_display": true
  },
  "varInspector": {
   "cols": {
    "lenName": 16,
    "lenType": 16,
    "lenVar": 40
   },
   "kernels_config": {
    "python": {
     "delete_cmd_postfix": "",
     "delete_cmd_prefix": "del ",
     "library": "var_list.py",
     "varRefreshCmd": "print(var_dic_list())"
    },
    "r": {
     "delete_cmd_postfix": ") ",
     "delete_cmd_prefix": "rm(",
     "library": "var_list.r",
     "varRefreshCmd": "cat(var_dic_list()) "
    }
   },
   "types_to_exclude": [
    "module",
    "function",
    "builtin_function_or_method",
    "instance",
    "_Feature"
   ],
   "window_display": false
  }
 },
 "nbformat": 4,
 "nbformat_minor": 5
}
