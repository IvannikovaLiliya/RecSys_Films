{
 "cells": [
  {
   "cell_type": "markdown",
   "id": "c5f10c28",
   "metadata": {},
   "source": [
    "# Import"
   ]
  },
  {
   "cell_type": "code",
   "execution_count": 1,
   "id": "74d57851",
   "metadata": {
    "ExecuteTime": {
     "end_time": "2024-01-14T12:14:06.463798Z",
     "start_time": "2024-01-14T12:14:05.580356Z"
    }
   },
   "outputs": [],
   "source": [
    "import pandas as pd\n",
    "import numpy as np\n",
    "import matplotlib.pyplot as plt\n",
    "from matplotlib.pyplot import figure\n",
    "\n",
    "from tqdm import tqdm\n",
    "import scipy.sparse as sp\n",
    "\n",
    "import warnings\n",
    "warnings.simplefilter('ignore')\n",
    "\n",
    "from numpy.linalg import svd\n",
    "\n",
    "from rectools.dataset import Dataset\n",
    "from rectools.models import ImplicitItemKNNWrapperModel\n",
    "from implicit.evaluation import mean_average_precision_at_k\n",
    "\n",
    "from implicit.nearest_neighbours import TFIDFRecommender, CosineRecommender\n",
    "import os"
   ]
  },
  {
   "cell_type": "code",
   "execution_count": 2,
   "id": "5365982a",
   "metadata": {
    "ExecuteTime": {
     "end_time": "2024-01-14T12:14:06.467825Z",
     "start_time": "2024-01-14T12:14:06.465038Z"
    }
   },
   "outputs": [
    {
     "data": {
      "text/plain": [
       "'/Users/liliyaivannikova/Documents/project/git/RecSys_Films'"
      ]
     },
     "execution_count": 2,
     "metadata": {},
     "output_type": "execute_result"
    }
   ],
   "source": [
    "us = os.getcwd()\n",
    "us"
   ]
  },
  {
   "cell_type": "code",
   "execution_count": 3,
   "id": "cbc2b297",
   "metadata": {
    "ExecuteTime": {
     "end_time": "2024-01-14T12:14:10.993913Z",
     "start_time": "2024-01-14T12:14:06.468696Z"
    }
   },
   "outputs": [],
   "source": [
    "if 'liliyaivannikova' in us:\n",
    "    PATH = r'/Users/liliyaivannikova/Documents/project/ml-latest/'\n",
    "    movies = pd.read_csv(PATH + r'movies.csv')\n",
    "    rating = pd.read_csv(PATH + r'ratings.csv')\n",
    "elif 'Владислав' in us:\n",
    "    movies = pd.read_csv(r'dataset/movies.csv')\n",
    "    rating = pd.read_csv(r'dataset/ratings.csv')"
   ]
  },
  {
   "cell_type": "code",
   "execution_count": 4,
   "id": "1ce21742",
   "metadata": {
    "ExecuteTime": {
     "end_time": "2024-01-14T12:14:10.997203Z",
     "start_time": "2024-01-14T12:14:10.995311Z"
    }
   },
   "outputs": [
    {
     "name": "stdout",
     "output_type": "stream",
     "text": [
      "\n",
      "movies: (86537, 3)\n",
      "rating: (33832162, 4)\n",
      "\n"
     ]
    }
   ],
   "source": [
    "print(f'''\n",
    "movies: {movies.shape}\n",
    "rating: {rating.shape}\n",
    "''')"
   ]
  },
  {
   "cell_type": "code",
   "execution_count": 5,
   "id": "9129d676",
   "metadata": {
    "ExecuteTime": {
     "end_time": "2024-01-14T12:14:11.105973Z",
     "start_time": "2024-01-14T12:14:10.998025Z"
    }
   },
   "outputs": [],
   "source": [
    "movies.columns = [col.upper() for col in movies.columns]\n",
    "\n",
    "movies['REALEASE'] = movies['TITLE'].str.extract(\"\\((\\d{4})\\)\", expand=True)\n",
    "movies['REALEASE'] = pd.to_datetime(movies['REALEASE'], format='%Y')\n",
    "movies['REALEASE'] = movies['REALEASE'].dt.year\n",
    "movies['TITLE'] = movies['TITLE'].str[:-7]"
   ]
  },
  {
   "cell_type": "code",
   "execution_count": 6,
   "id": "fcf0b520",
   "metadata": {
    "ExecuteTime": {
     "end_time": "2024-01-14T12:14:11.381042Z",
     "start_time": "2024-01-14T12:14:11.106813Z"
    }
   },
   "outputs": [],
   "source": [
    "dfx = movies['GENRES'].str.get_dummies(sep='|')\n",
    "for col in dfx.columns:\n",
    "    dfx[col] = dfx[col].astype('int8')"
   ]
  },
  {
   "cell_type": "code",
   "execution_count": 7,
   "id": "c1a6946c",
   "metadata": {
    "ExecuteTime": {
     "end_time": "2024-01-14T12:14:11.461479Z",
     "start_time": "2024-01-14T12:14:11.381953Z"
    }
   },
   "outputs": [],
   "source": [
    "movies = pd.concat([movies, dfx], axis=1) #.drop(columns=['GENRES'])\n",
    "movies['TITLE'] = movies['TITLE'].astype('category')\n",
    "movies['REALEASE'] = movies['REALEASE'].astype('float16')\n",
    "movies['GENRES'] = movies['GENRES'].str.replace('|', ',')"
   ]
  },
  {
   "cell_type": "code",
   "execution_count": 8,
   "id": "64aeb5f0",
   "metadata": {
    "ExecuteTime": {
     "end_time": "2024-01-14T12:14:11.787600Z",
     "start_time": "2024-01-14T12:14:11.462432Z"
    }
   },
   "outputs": [],
   "source": [
    "rating.columns = [col.upper() for col in rating.columns]\n",
    "rating['TIMESTAMP'] = pd.to_datetime(rating['TIMESTAMP'], unit='s')"
   ]
  },
  {
   "cell_type": "markdown",
   "id": "ad5e78a9",
   "metadata": {},
   "source": [
    "# Обработка полей"
   ]
  },
  {
   "cell_type": "code",
   "execution_count": 9,
   "id": "6a3e63d3",
   "metadata": {
    "ExecuteTime": {
     "end_time": "2024-01-14T12:14:12.369488Z",
     "start_time": "2024-01-14T12:14:11.788600Z"
    }
   },
   "outputs": [
    {
     "name": "stdout",
     "output_type": "stream",
     "text": [
      "(33832162, 4)\n",
      "(33832162, 4)\n"
     ]
    }
   ],
   "source": [
    "print(rating.shape)\n",
    "rating = rating[~((rating.TIMESTAMP.isna())|(rating.USERID.isna())|(rating.RATING.isna()))]\n",
    "print(rating.shape)"
   ]
  },
  {
   "cell_type": "code",
   "execution_count": 10,
   "id": "62a475d2",
   "metadata": {
    "ExecuteTime": {
     "end_time": "2024-01-14T12:14:12.908835Z",
     "start_time": "2024-01-14T12:14:12.371658Z"
    }
   },
   "outputs": [
    {
     "name": "stdout",
     "output_type": "stream",
     "text": [
      "(33832162, 4)\n",
      "(33798830, 4)\n"
     ]
    }
   ],
   "source": [
    "# при eda нашла странного юзера, уберем его при построении\n",
    "print(rating.shape)\n",
    "rating.query('USERID != 189614', inplace = True)\n",
    "print(rating.shape)"
   ]
  },
  {
   "cell_type": "code",
   "execution_count": null,
   "id": "12122c50",
   "metadata": {},
   "outputs": [],
   "source": []
  },
  {
   "cell_type": "markdown",
   "id": "f36bf73c",
   "metadata": {},
   "source": [
    "# Collaborative Filtering"
   ]
  },
  {
   "cell_type": "code",
   "execution_count": 11,
   "id": "cd157aed",
   "metadata": {
    "ExecuteTime": {
     "end_time": "2024-01-14T12:14:12.911828Z",
     "start_time": "2024-01-14T12:14:12.909702Z"
    }
   },
   "outputs": [],
   "source": [
    "def TrainTestSplit(df, n_days):\n",
    "    '''\n",
    "    df - датафрейм для разделения выборки\n",
    "    n_days - количество дней, которые попадут в тест\n",
    "    '''\n",
    "    #df['weight'] = np.where(df['RATING'] >= 4, 1, 0)\n",
    "    train_df = df.loc[df['datetime'] < df['datetime'].max() - pd.DateOffset(days=n_days)].copy()\n",
    "    test_df = df.loc[df['datetime'] >= df['datetime'].max() - pd.DateOffset(days=n_days)].copy()\n",
    "\n",
    "    return train_df, test_df"
   ]
  },
  {
   "cell_type": "code",
   "execution_count": 13,
   "id": "f19681c3",
   "metadata": {
    "ExecuteTime": {
     "end_time": "2024-01-14T12:14:12.917417Z",
     "start_time": "2024-01-14T12:14:12.915741Z"
    }
   },
   "outputs": [],
   "source": [
    "rating.rename({'USERID':'user_id',\n",
    "            'MOVIEID':'item_id',\n",
    "            'RATING':'weight',\n",
    "            'TIMESTAMP':'datetime'}, axis=1, inplace=True)"
   ]
  },
  {
   "cell_type": "code",
   "execution_count": 14,
   "id": "f1ed720a",
   "metadata": {
    "ExecuteTime": {
     "end_time": "2024-01-14T12:14:30.815165Z",
     "start_time": "2024-01-14T12:14:30.029585Z"
    }
   },
   "outputs": [],
   "source": [
    "train_df, test_df = TrainTestSplit(rating, 180)"
   ]
  },
  {
   "cell_type": "code",
   "execution_count": 15,
   "id": "4e53f1fb",
   "metadata": {
    "ExecuteTime": {
     "end_time": "2024-01-14T12:14:39.389289Z",
     "start_time": "2024-01-14T12:14:38.402002Z"
    }
   },
   "outputs": [],
   "source": [
    "train = Dataset.construct(train_df)\n",
    "test = Dataset.construct(test_df)"
   ]
  },
  {
   "cell_type": "code",
   "execution_count": 18,
   "id": "320d159c",
   "metadata": {
    "ExecuteTime": {
     "end_time": "2024-01-14T12:20:57.409617Z",
     "start_time": "2024-01-14T12:20:57.399960Z"
    }
   },
   "outputs": [],
   "source": [
    "from rectools.metrics.ranking import MAP"
   ]
  },
  {
   "cell_type": "markdown",
   "id": "e726d04d",
   "metadata": {},
   "source": [
    "# Гиперпараметры, подбор"
   ]
  },
  {
   "cell_type": "code",
   "execution_count": 30,
   "id": "be48ec39",
   "metadata": {
    "ExecuteTime": {
     "end_time": "2024-01-14T14:15:33.490320Z",
     "start_time": "2024-01-14T12:56:30.026318Z"
    }
   },
   "outputs": [
    {
     "name": "stderr",
     "output_type": "stream",
     "text": [
      "100%|████████████████████████████████████████| 21/21 [1:19:03<00:00, 225.88s/it]\n"
     ]
    }
   ],
   "source": [
    "mapk_list = list()\n",
    "k_list = np.arange(3, 104, 5)\n",
    "\n",
    "for k in tqdm(k_list):\n",
    "    model = ImplicitItemKNNWrapperModel(CosineRecommender(K=k))  \n",
    "    \n",
    "    knn_model = KNN(model, train_df)\n",
    "    knn_model.fit(train)\n",
    "    reco = knn_model.recommend(train, k=k)\n",
    "    mapk_list.append(MAP(k=k).calc_per_user(reco, test_df).mean())\n",
    "    "
   ]
  },
  {
   "cell_type": "code",
   "execution_count": 32,
   "id": "b0400199",
   "metadata": {
    "ExecuteTime": {
     "end_time": "2024-01-14T14:16:37.411041Z",
     "start_time": "2024-01-14T14:16:37.409284Z"
    }
   },
   "outputs": [],
   "source": [
    "mapk_arr = np.array(mapk_list)*100"
   ]
  },
  {
   "cell_type": "code",
   "execution_count": 33,
   "id": "d81a4155",
   "metadata": {
    "ExecuteTime": {
     "end_time": "2024-01-14T14:16:39.133711Z",
     "start_time": "2024-01-14T14:16:39.044381Z"
    }
   },
   "outputs": [
    {
     "data": {
      "image/png": "[encoded data removed]",
      "text/plain": [
       "<Figure size 600x400 with 1 Axes>"
      ]
     },
     "metadata": {},
     "output_type": "display_data"
    }
   ],
   "source": [
    "fig = plt.figure(figsize=(6,4))\n",
    "\n",
    "plt.plot(k_list, mapk_arr, markersize=8)\n",
    "\n",
    "plt.xlabel('Число соседей, k', fontsize=12)\n",
    "plt.ylabel('Качество модеи, MAP@K, %', fontsize=12)\n",
    "plt.title('Динамика MAP@K в зависимости от числа соседей', fontsize=12)\n",
    "plt.grid(True)\n",
    "plt.savefig('knn_k.png')\n",
    "plt.show()"
   ]
  },
  {
   "cell_type": "code",
   "execution_count": null,
   "id": "862cdcf9",
   "metadata": {},
   "outputs": [],
   "source": [
    "model = ImplicitItemKNNWrapperModel(CosineRecommender(K=100))\n",
    "\n",
    "knn_model = KNN(model, train_df)\n",
    "knn_model.fit(train)\n",
    "reco = knn_model.recommend(train, k=100)"
   ]
  },
  {
   "cell_type": "code",
   "execution_count": 36,
   "id": "196ab401",
   "metadata": {
    "ExecuteTime": {
     "end_time": "2024-01-14T14:23:17.187835Z",
     "start_time": "2024-01-14T14:23:13.026408Z"
    }
   },
   "outputs": [
    {
     "data": {
      "text/plain": [
       "1.4769547443490076"
      ]
     },
     "execution_count": 36,
     "metadata": {},
     "output_type": "execute_result"
    }
   ],
   "source": [
    "MAP(k=100).calc_per_user(reco, test_df).mean()*100"
   ]
  },
  {
   "cell_type": "code",
   "execution_count": null,
   "id": "40e84014",
   "metadata": {},
   "outputs": [],
   "source": []
  }
 ],
 "metadata": {
  "kernelspec": {
   "display_name": "Python 3 (ipykernel)",
   "language": "python",
   "name": "python3"
  },
  "language_info": {
   "codemirror_mode": {
    "name": "ipython",
    "version": 3
   },
   "file_extension": ".py",
   "mimetype": "text/x-python",
   "name": "python",
   "nbconvert_exporter": "python",
   "pygments_lexer": "ipython3",
   "version": "3.10.13"
  },
  "toc": {
   "base_numbering": 1,
   "nav_menu": {},
   "number_sections": true,
   "sideBar": true,
   "skip_h1_title": false,
   "title_cell": "Table of Contents",
   "title_sidebar": "Contents",
   "toc_cell": false,
   "toc_position": {
    "height": "calc(100% - 180px)",
    "left": "10px",
    "top": "150px",
    "width": "270px"
   },
   "toc_section_display": true,
   "toc_window_display": true
  },
  "varInspector": {
   "cols": {
    "lenName": 16,
    "lenType": 16,
    "lenVar": 40
   },
   "kernels_config": {
    "python": {
     "delete_cmd_postfix": "",
     "delete_cmd_prefix": "del ",
     "library": "var_list.py",
     "varRefreshCmd": "print(var_dic_list())"
    },
    "r": {
     "delete_cmd_postfix": ") ",
     "delete_cmd_prefix": "rm(",
     "library": "var_list.r",
     "varRefreshCmd": "cat(var_dic_list()) "
    }
   },
   "types_to_exclude": [
    "module",
    "function",
    "builtin_function_or_method",
    "instance",
    "_Feature"
   ],
   "window_display": false
  }
 },
 "nbformat": 4,
 "nbformat_minor": 5
}
