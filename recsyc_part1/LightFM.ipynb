{
 "cells": [
  {
   "cell_type": "markdown",
   "id": "c5f10c28",
   "metadata": {},
   "source": [
    "# Import"
   ]
  },
  {
   "cell_type": "code",
   "execution_count": 1,
   "id": "74d57851",
   "metadata": {
    "ExecuteTime": {
     "end_time": "2024-02-27T15:33:45.676674Z",
     "start_time": "2024-02-27T15:33:43.331845Z"
    }
   },
   "outputs": [],
   "source": [
    "import pandas as pd\n",
    "import plotly.graph_objs as go\n",
    "import string\n",
    "import re\n",
    "import numpy as np\n",
    "import seaborn as sns\n",
    "import matplotlib.pyplot as plt\n",
    "from matplotlib.pyplot import figure\n",
    "#import cufflinks as cf\n",
    "from plotly.offline import iplot\n",
    "from tqdm import tqdm\n",
    "\n",
    "from collections import Counter\n",
    "from typing import Dict, Text\n",
    "from ast import literal_eval\n",
    "from datetime import datetime\n",
    "import plotly.express as px\n",
    "\n",
    "import plotly.io as pio\n",
    "pio.renderers.default='notebook'\n",
    "\n",
    "import warnings\n",
    "warnings.simplefilter('ignore')\n",
    "\n",
    "from rectools import Columns\n",
    "from rectools.dataset import Dataset\n",
    "\n",
    "from lightfm import LightFM\n",
    "from lightfm.data import Dataset\n",
    "import scipy.sparse as sp\n",
    "from lightfm.evaluation import precision_at_k\n",
    "\n",
    "import os"
   ]
  },
  {
   "cell_type": "code",
   "execution_count": null,
   "id": "df0bf18b",
   "metadata": {},
   "outputs": [],
   "source": [
    "# функция для расчета map@k\n",
    "\n",
    "def mapk(model, df_test, df_train, k, item_features = None):\n",
    "    test_precision = precision_at_k(model=model, \n",
    "                            test_interactions=df_test,\n",
    "                            k=k,\n",
    "                            item_features = item_features,\n",
    "                            train_interactions=df_train)\n",
    "    map_at_k = test_precision.mean()\n",
    "    return map_at_k"
   ]
  },
  {
   "cell_type": "code",
   "execution_count": 3,
   "id": "cbc2b297",
   "metadata": {
    "ExecuteTime": {
     "end_time": "2024-02-27T15:33:52.001559Z",
     "start_time": "2024-02-27T15:33:47.227130Z"
    }
   },
   "outputs": [],
   "source": [
    "us = os.getcwd()\n",
    "print(us)\n",
    "\n",
    "if 'liliyaivannikova' in us:\n",
    "    PATH = r'/Users/liliyaivannikova/Documents/project/ml-latest/'\n",
    "    movies = pd.read_csv(PATH + r'movies.csv')\n",
    "    rating = pd.read_csv(PATH + r'ratings.csv')\n",
    "elif 'Владислав' in us:\n",
    "    movies = pd.read_csv(r'dataset/movies.csv')\n",
    "    rating = pd.read_csv(r'dataset/ratings.csv')\n",
    "    \n",
    "print(f'''\n",
    "movies: {movies.shape}\n",
    "rating: {rating.shape}\n",
    "''')"
   ]
  },
  {
   "cell_type": "code",
   "execution_count": 5,
   "id": "9129d676",
   "metadata": {
    "ExecuteTime": {
     "end_time": "2024-02-27T15:39:44.690997Z",
     "start_time": "2024-02-27T15:39:44.543046Z"
    }
   },
   "outputs": [],
   "source": [
    "movies.columns = [col.upper() for col in movies.columns]\n",
    "movies['REALEASE'] = movies['TITLE'].str.extract(\"\\((\\d{4})\\)\", expand=True)\n",
    "movies['REALEASE'] = pd.to_datetime(movies['REALEASE'], format='%Y')\n",
    "movies['REALEASE'] = movies['REALEASE'].dt.year\n",
    "movies['TITLE'] = movies['TITLE'].str[:-7]\n",
    "\n",
    "# dummy-кодирование жанров\n",
    "dfx = movies['GENRES'].str.get_dummies(sep='|')\n",
    "for col in dfx.columns:\n",
    "    dfx[col] = dfx[col].astype('int8')\n",
    "    \n",
    "movies = pd.concat([movies, dfx], axis=1) #.drop(columns=['GENRES'])\n",
    "movies['TITLE'] = movies['TITLE'].astype('category')\n",
    "movies['REALEASE'] = movies['REALEASE'].astype('float16')\n",
    "movies['GENRES'] = movies['GENRES'].str.replace('|', ',')\n",
    "\n",
    "rating.columns = [col.upper() for col in rating.columns]\n",
    "rating['TIMESTAMP'] = pd.to_datetime(rating['TIMESTAMP'], unit='s')"
   ]
  },
  {
   "cell_type": "markdown",
   "id": "ad5e78a9",
   "metadata": {},
   "source": [
    "# Фильтрация строк"
   ]
  },
  {
   "cell_type": "code",
   "execution_count": 205,
   "id": "14787f95",
   "metadata": {
    "ExecuteTime": {
     "end_time": "2024-02-29T11:04:31.480901Z",
     "start_time": "2024-02-29T11:04:31.465142Z"
    }
   },
   "outputs": [
    {
     "data": {
      "text/plain": [
       "21.0"
      ]
     },
     "execution_count": 205,
     "metadata": {},
     "output_type": "execute_result"
    }
   ],
   "source": [
    "# считаем кол-во оценок в рамках userid\n",
    "rating_stat = rating.groupby('USERID')['MOVIEID'].count().reset_index()\n",
    "rating_stat['MOVIEID'].quantile(0.4)"
   ]
  },
  {
   "cell_type": "code",
   "execution_count": 12,
   "id": "5387f24d",
   "metadata": {
    "ExecuteTime": {
     "end_time": "2024-02-27T15:40:30.152731Z",
     "start_time": "2024-02-27T15:40:30.137886Z"
    }
   },
   "outputs": [
    {
     "data": {
      "text/html": [
       "<div>\n",
       "<style scoped>\n",
       "    .dataframe tbody tr th:only-of-type {\n",
       "        vertical-align: middle;\n",
       "    }\n",
       "\n",
       "    .dataframe tbody tr th {\n",
       "        vertical-align: top;\n",
       "    }\n",
       "\n",
       "    .dataframe thead th {\n",
       "        text-align: right;\n",
       "    }\n",
       "</style>\n",
       "<table border=\"1\" class=\"dataframe\">\n",
       "  <thead>\n",
       "    <tr style=\"text-align: right;\">\n",
       "      <th></th>\n",
       "      <th>USERID</th>\n",
       "      <th>MOVIEID</th>\n",
       "      <th>RATING</th>\n",
       "      <th>TIMESTAMP</th>\n",
       "      <th>FLAG_05</th>\n",
       "    </tr>\n",
       "  </thead>\n",
       "  <tbody>\n",
       "    <tr>\n",
       "      <th>0</th>\n",
       "      <td>1</td>\n",
       "      <td>1</td>\n",
       "      <td>4.0</td>\n",
       "      <td>2008-11-03 17:52:19</td>\n",
       "      <td>1</td>\n",
       "    </tr>\n",
       "    <tr>\n",
       "      <th>1</th>\n",
       "      <td>1</td>\n",
       "      <td>110</td>\n",
       "      <td>4.0</td>\n",
       "      <td>2008-11-05 06:04:46</td>\n",
       "      <td>1</td>\n",
       "    </tr>\n",
       "    <tr>\n",
       "      <th>2</th>\n",
       "      <td>1</td>\n",
       "      <td>158</td>\n",
       "      <td>4.0</td>\n",
       "      <td>2008-11-03 17:31:43</td>\n",
       "      <td>1</td>\n",
       "    </tr>\n",
       "    <tr>\n",
       "      <th>3</th>\n",
       "      <td>1</td>\n",
       "      <td>260</td>\n",
       "      <td>4.5</td>\n",
       "      <td>2008-11-03 18:00:04</td>\n",
       "      <td>1</td>\n",
       "    </tr>\n",
       "    <tr>\n",
       "      <th>4</th>\n",
       "      <td>1</td>\n",
       "      <td>356</td>\n",
       "      <td>5.0</td>\n",
       "      <td>2008-11-03 17:58:39</td>\n",
       "      <td>1</td>\n",
       "    </tr>\n",
       "  </tbody>\n",
       "</table>\n",
       "</div>"
      ],
      "text/plain": [
       "   USERID  MOVIEID  RATING           TIMESTAMP  FLAG_05\n",
       "0       1        1     4.0 2008-11-03 17:52:19        1\n",
       "1       1      110     4.0 2008-11-05 06:04:46        1\n",
       "2       1      158     4.0 2008-11-03 17:31:43        1\n",
       "3       1      260     4.5 2008-11-03 18:00:04        1\n",
       "4       1      356     5.0 2008-11-03 17:58:39        1"
      ]
     },
     "execution_count": 12,
     "metadata": {},
     "output_type": "execute_result"
    }
   ],
   "source": [
    "#rating_stat['FLAG_05'] = np.where(rating_stat['MOVIEID'] > rating_stat['MOVIEID'].quantile(0.05), 1, 0)\n",
    "'''при текущих симуляцих мы отфильтровали наш набор данных, оставив для построения только userid, которые\n",
    "оценили больше 20 фильмов\n",
    "'''\n",
    "rating_stat['FLAG_05'] = np.where(rating_stat['MOVIEID'] > rating_stat['MOVIEID'].quantile(0.4), 1, 0)\n",
    "rating = rating.merge(rating_stat[['USERID', 'FLAG_05']], how = 'left', on = 'USERID')\n",
    "rating.head()"
   ]
  },
  {
   "cell_type": "code",
   "execution_count": 13,
   "id": "e47eb771",
   "metadata": {
    "ExecuteTime": {
     "end_time": "2024-02-27T15:40:34.327553Z",
     "start_time": "2024-02-27T15:40:32.146405Z"
    }
   },
   "outputs": [
    {
     "name": "stdout",
     "output_type": "stream",
     "text": [
      "(32346391, 5)\n"
     ]
    }
   ],
   "source": [
    "'''\n",
    "По результатам EDA\n",
    "'''\n",
    "# удаляем пропуски\n",
    "rating = rating[~((rating.TIMESTAMP.isna())|(rating.USERID.isna())|(rating.RATING.isna()))]\n",
    "# удаляем странного юзера \n",
    "rating.query('USERID != 189614', inplace = True)\n",
    "# удалим юзеров, у которых оценок меньше 3 (по 5 квантилю)\n",
    "rating.query('FLAG_05 == 1', inplace = True)\n",
    "print(rating.shape)"
   ]
  },
  {
   "cell_type": "markdown",
   "id": "63ddc7ad",
   "metadata": {},
   "source": [
    "# train-test-split"
   ]
  },
  {
   "cell_type": "code",
   "execution_count": 14,
   "id": "358a1b04",
   "metadata": {
    "ExecuteTime": {
     "end_time": "2024-02-27T15:40:42.797338Z",
     "start_time": "2024-02-27T15:40:42.793308Z"
    }
   },
   "outputs": [],
   "source": [
    "rating.rename({'USERID':'user_id',\n",
    "            'MOVIEID':'item_id',\n",
    "            'RATING':'weight',\n",
    "            'TIMESTAMP':'datetime'}, axis=1, inplace=True)\n",
    "\n",
    "movies.rename({'MOVIEID':'item_id'}, axis=1, inplace=True)"
   ]
  },
  {
   "cell_type": "code",
   "execution_count": 17,
   "id": "be40fff7",
   "metadata": {
    "ExecuteTime": {
     "end_time": "2024-02-27T15:41:54.265726Z",
     "start_time": "2024-02-27T15:41:15.121374Z"
    }
   },
   "outputs": [
    {
     "data": {
      "text/plain": [
       "((30357121, 5), (1989270, 5))"
      ]
     },
     "execution_count": 17,
     "metadata": {},
     "output_type": "execute_result"
    }
   ],
   "source": [
    "'''\n",
    "бьем на train/test по времени (20 последних оценок идут в test)\n",
    "'''\n",
    "rating.sort_values(['user_id', 'datetime'], inplace=True)\n",
    "\n",
    "train_ratings, test_ratings = [], []\n",
    "num_test_samples = 10\n",
    "\n",
    "for userId, user_data in rating.groupby('user_id'):\n",
    "    train_ratings += [user_data[:-num_test_samples]]\n",
    "    test_ratings += [user_data[-num_test_samples:]]\n",
    "\n",
    "train_ratings = pd.concat(train_ratings)\n",
    "test_ratings = pd.concat(test_ratings)\n",
    "train_ratings.shape, test_ratings.shape"
   ]
  },
  {
   "cell_type": "code",
   "execution_count": 18,
   "id": "7b24fbf1",
   "metadata": {
    "ExecuteTime": {
     "end_time": "2024-02-27T15:42:14.637676Z",
     "start_time": "2024-02-27T15:42:14.572798Z"
    }
   },
   "outputs": [],
   "source": [
    "del rating"
   ]
  },
  {
   "cell_type": "code",
   "execution_count": null,
   "id": "2b5b1dc4",
   "metadata": {},
   "outputs": [],
   "source": []
  },
  {
   "cell_type": "markdown",
   "id": "2447160e",
   "metadata": {},
   "source": [
    "# LightFM"
   ]
  },
  {
   "cell_type": "code",
   "execution_count": 28,
   "id": "cf3bca15",
   "metadata": {
    "ExecuteTime": {
     "end_time": "2024-02-27T16:12:55.721397Z",
     "start_time": "2024-02-27T16:12:54.503639Z"
    }
   },
   "outputs": [],
   "source": [
    "# формирование спарс матриц\n",
    "dataset = Dataset()\n",
    "dataset.fit(train_ratings['user_id'].unique(), train_ratings['item_id'].unique(), \n",
    "            item_features=movies['GENRES'].values)\n",
    "\n",
    "dataset.fit_partial(users=test_ratings['user_id'], items=test_ratings['item_id'],\n",
    "                   item_features=movies['GENRES'].values)\n",
    "\n",
    "train_mat, _ = dataset.build_interactions(train_ratings.loc[:, ['user_id', 'item_id']].values.tolist())\n",
    "test_mat, _ = dataset.build_interactions(test_ratings.loc[:, ['user_id', 'item_id']].values.tolist())\n",
    "\n",
    "train_movies = movies.loc[movies['item_id'].isin(train_ratings['item_id']), ['item_id', 'GENRES']]\n",
    "features = [[v[0], v[1:].values.tolist()] for i, v in train_movies.loc[:, ['item_id', 'GENRES']].iterrows()]\n",
    "movies_features = dataset.build_item_features(features)"
   ]
  },
  {
   "cell_type": "markdown",
   "id": "1bfe4263",
   "metadata": {},
   "source": [
    "## Обучение модели без доп фичей"
   ]
  },
  {
   "cell_type": "code",
   "execution_count": 38,
   "id": "6cc6a08c",
   "metadata": {
    "ExecuteTime": {
     "end_time": "2024-02-28T08:43:38.053029Z",
     "start_time": "2024-02-28T08:43:38.047503Z"
    }
   },
   "outputs": [],
   "source": [
    "NO_COMPONENTS = 64\n",
    "LOSS = 'warp'\n",
    "RANDOM_STATE = 42\n",
    "EPOCHS = 5\n",
    "LEARNING_RATE = 0.01"
   ]
  },
  {
   "cell_type": "code",
   "execution_count": 42,
   "id": "7c428ff5",
   "metadata": {
    "ExecuteTime": {
     "end_time": "2024-02-28T08:55:10.989058Z",
     "start_time": "2024-02-28T08:46:51.686577Z"
    }
   },
   "outputs": [
    {
     "data": {
      "text/plain": [
       "3.1327573000974844"
      ]
     },
     "execution_count": 42,
     "metadata": {},
     "output_type": "execute_result"
    }
   ],
   "source": [
    "%%time\n",
    "lfm_model = LightFM(\n",
    "    no_components = NO_COMPONENTS,\n",
    "    loss = LOSS,\n",
    "    learning_rate = LEARNING_RATE,\n",
    "    random_state = RANDOM_STATE\n",
    "    )\n",
    "\n",
    "lfm_model.fit_partial(\n",
    "        train_mat, \n",
    "        epochs=EPOCHS,\n",
    "        num_threads = 4)\n",
    "\n",
    "mapk(model = lfm_model, df_test = test_mat, df_train = train_mat, k = 10)*100"
   ]
  },
  {
   "cell_type": "markdown",
   "id": "8f6c20d7",
   "metadata": {},
   "source": [
    "## Обучение модели с доп фичами (добавили жанры)"
   ]
  },
  {
   "cell_type": "code",
   "execution_count": 51,
   "id": "cfcbdb16",
   "metadata": {
    "ExecuteTime": {
     "end_time": "2024-02-28T09:30:14.345670Z",
     "start_time": "2024-02-28T09:17:22.638315Z"
    }
   },
   "outputs": [
    {
     "data": {
      "text/plain": [
       "6.105707213282585"
      ]
     },
     "execution_count": 51,
     "metadata": {},
     "output_type": "execute_result"
    }
   ],
   "source": [
    "%%time\n",
    "lfm_model = LightFM(\n",
    "    no_components = NO_COMPONENTS,\n",
    "    loss = LOSS,\n",
    "    learning_rate = LEARNING_RATE,\n",
    "    random_state = RANDOM_STATE\n",
    "    )\n",
    "\n",
    "lfm_model.fit_partial(\n",
    "        train_mat, \n",
    "        epochs=EPOCHS,\n",
    "        item_features = movies_features,\n",
    "        num_threads = 4\n",
    "    )\n",
    "\n",
    "mapk(model = lfm_model, df_test = test_mat, df_train = train_mat, k = 10,\n",
    "        item_features = movies_features)*100"
   ]
  },
  {
   "cell_type": "markdown",
   "id": "5e835b04",
   "metadata": {},
   "source": [
    "# Подбор гиперапараметров"
   ]
  },
  {
   "cell_type": "code",
   "execution_count": 175,
   "id": "a819cfad",
   "metadata": {
    "ExecuteTime": {
     "end_time": "2024-02-28T19:42:45.418152Z",
     "start_time": "2024-02-28T19:42:43.335293Z"
    }
   },
   "outputs": [],
   "source": [
    "'''\n",
    "Тут симуляция. Так как на всем наборе данных это считается несколько дней.\n",
    "Берем user_id, у которых более 200 оценок\n",
    "'''\n",
    "\n",
    "items_s = (train_ratings['item_id'].value_counts() > 15000)\n",
    "users_s = (train_ratings['user_id'].value_counts() > 1000)\n",
    "\n",
    "items_s = items_s[items_s].index.tolist()\n",
    "users_s = users_s[users_s].index.tolist()\n",
    "\n",
    "train_s = train_ratings.loc[(train_ratings['item_id'].isin(items_s)) & \n",
    "                            (train_ratings['user_id'].isin(users_s))]\n",
    "# отбираем случайные наблюдения на тесте по выбранным выше userid\n",
    "test_s = test_ratings.loc[(test_ratings['item_id'].isin(items_s)) & \n",
    "                            (test_ratings['user_id'].isin(users_s))]\n",
    "'''\n",
    "Формирование спарс матриц на подмножестве\n",
    "'''\n",
    "dataset_s = Dataset()\n",
    "dataset_s.fit(train_s['user_id'].unique(), train_s['item_id'].unique(), \n",
    "                item_features=movies['GENRES'].values)\n",
    "\n",
    "dataset_s.fit_partial(users=test_s['user_id'], items=test_s['item_id'],\n",
    "                       item_features=movies['GENRES'].values)\n",
    "\n",
    "train_mat_s, _ = dataset.build_interactions(train_s.loc[:, ['user_id', 'item_id']].values.tolist())\n",
    "test_mat_s, _ = dataset.build_interactions(test_s.loc[:, ['user_id', 'item_id']].values.tolist())\n",
    "\n",
    "train_movies_s = movies.loc[movies['item_id'].isin(train_s['item_id']), ['item_id', 'GENRES']]\n",
    "features_s = [[v[0], v[1:].values.tolist()] for i, v in train_movies_s.loc[:, ['item_id', 'GENRES']].iterrows()]\n",
    "movies_features_s = dataset.build_item_features(features_s)\n"
   ]
  },
  {
   "cell_type": "code",
   "execution_count": 176,
   "id": "949d5674",
   "metadata": {
    "ExecuteTime": {
     "end_time": "2024-02-28T20:54:28.703159Z",
     "start_time": "2024-02-28T19:42:55.506628Z"
    }
   },
   "outputs": [
    {
     "name": "stderr",
     "output_type": "stream",
     "text": [
      "100%|██████████| 50/50 [1:11:33<00:00, 85.86s/it]"
     ]
    },
    {
     "name": "stdout",
     "output_type": "stream",
     "text": [
      "CPU times: user 1h 11min 17s, sys: 1.76 s, total: 1h 11min 18s\n",
      "Wall time: 1h 11min 33s\n"
     ]
    },
    {
     "name": "stderr",
     "output_type": "stream",
     "text": [
      "\n"
     ]
    }
   ],
   "source": [
    "%%time\n",
    "\n",
    "'''\n",
    "Изучим влияние loss ф-ии\n",
    "'''\n",
    "epochs = 100 # количество эпох\n",
    "\n",
    "# алгоритм на warp\n",
    "warp_model = LightFM(no_components=NO_COMPONENTS,\n",
    "                    loss='warp',\n",
    "                    learning_rate = LEARNING_RATE,\n",
    "                    random_state = RANDOM_STATE)\n",
    "\n",
    "# алгоритм на bpr\n",
    "bpr_model = LightFM(no_components=NO_COMPONENTS,\n",
    "                    loss='bpr',\n",
    "                    learning_rate = LEARNING_RATE,\n",
    "                    random_state = RANDOM_STATE)\n",
    "\n",
    "\n",
    "warp_mapk = []\n",
    "bpr_mapk = []\n",
    "\n",
    "for epoch in tqdm(range(0, epochs, 2)):\n",
    "    \n",
    "    '''\n",
    "    Обучение моделей с помощью warp/bpr\n",
    "    '''\n",
    "    warp_model.fit_partial(train_mat_s, epochs=1, \n",
    "                              item_features = movies_features_s,\n",
    "                              num_threads = 4)\n",
    "    warp_mapk.append(precision_at_k(model=warp_model, \n",
    "                            test_interactions=test_mat_s,\n",
    "                            k=3,\n",
    "                            item_features = movies_features_s,\n",
    "                            train_interactions=train_mat_s).mean())\n",
    "    \n",
    "    bpr_model.fit_partial(train_mat_s, epochs=1, \n",
    "                              item_features = movies_features,\n",
    "                              num_threads = 4)\n",
    "    bpr_mapk.append(precision_at_k(model=bpr_model, \n",
    "                            test_interactions=test_mat_s,\n",
    "                            k=3,\n",
    "                            item_features = movies_features_s,\n",
    "                            train_interactions=train_mat_s).mean())"
   ]
  },
  {
   "cell_type": "code",
   "execution_count": 191,
   "id": "81fa07b0",
   "metadata": {
    "ExecuteTime": {
     "end_time": "2024-02-29T11:01:35.967097Z",
     "start_time": "2024-02-29T11:01:35.852491Z"
    }
   },
   "outputs": [
    {
     "data": {
      "image/png": "[encoded data removed]",
      "text/plain": [
       "<Figure size 640x480 with 1 Axes>"
      ]
     },
     "metadata": {},
     "output_type": "display_data"
    }
   ],
   "source": [
    "x = np.arange(1, epochs, 2)\n",
    "plt.plot(x, np.array(warp_mapk)*100)\n",
    "plt.plot(x, np.array(bpr_mapk)*100)\n",
    "plt.xlabel('Номер эпохи')\n",
    "plt.ylabel('MAP@k = 3')\n",
    "plt.legend(['WARP MAPK', 'BPR MAPK'], loc='upper right')\n",
    "plt.savefig('lightfm_loss.png')\n",
    "plt.show()"
   ]
  },
  {
   "cell_type": "code",
   "execution_count": 178,
   "id": "b9492711",
   "metadata": {
    "ExecuteTime": {
     "end_time": "2024-02-28T22:25:51.917005Z",
     "start_time": "2024-02-28T21:00:18.882157Z"
    }
   },
   "outputs": [
    {
     "name": "stderr",
     "output_type": "stream",
     "text": [
      "100%|██████████| 50/50 [1:25:33<00:00, 102.66s/it]  "
     ]
    },
    {
     "name": "stdout",
     "output_type": "stream",
     "text": [
      "CPU times: user 10min 26s, sys: 611 ms, total: 10min 27s\n",
      "Wall time: 1h 25min 33s\n"
     ]
    },
    {
     "name": "stderr",
     "output_type": "stream",
     "text": [
      "\n"
     ]
    }
   ],
   "source": [
    "%%time\n",
    "\n",
    "'''\n",
    "Изучим влияние loss ф-ии\n",
    "'''\n",
    "epochs = 100 # количество эпох\n",
    "\n",
    "# алгоритм на warp\n",
    "grad_model = LightFM(no_components=NO_COMPONENTS,\n",
    "                    loss='warp',\n",
    "                    learning_rate = LEARNING_RATE,\n",
    "                    learning_schedule='adagrad',\n",
    "                    random_state = RANDOM_STATE)\n",
    "\n",
    "# алгоритм на bpr\n",
    "delta_model = LightFM(no_components=NO_COMPONENTS,\n",
    "                    loss='warp',\n",
    "                    learning_rate = LEARNING_RATE,\n",
    "                    learning_schedule='adadelta',\n",
    "                    random_state = RANDOM_STATE)\n",
    "\n",
    "\n",
    "grad_mapk = []\n",
    "delta_mapk = []\n",
    "\n",
    "for epoch in tqdm(range(0, epochs, 2)):\n",
    "    \n",
    "    '''\n",
    "    Обучение моделей с помощью warp/bpr\n",
    "    '''\n",
    "    grad_model.fit_partial(train_mat_s, epochs=1, \n",
    "                              item_features = movies_features_s,\n",
    "                              num_threads = 4)\n",
    "    grad_mapk.append(precision_at_k(model=grad_model, \n",
    "                            test_interactions=test_mat_s,\n",
    "                            k=3,\n",
    "                            item_features = movies_features_s,\n",
    "                            train_interactions=train_mat_s).mean())\n",
    "    \n",
    "    delta_model.fit_partial(train_mat_s, epochs=1, \n",
    "                              item_features = movies_features,\n",
    "                              num_threads = 4)\n",
    "    delta_mapk.append(precision_at_k(model=delta_model, \n",
    "                            test_interactions=test_mat_s,\n",
    "                            k=3,\n",
    "                            item_features = movies_features_s,\n",
    "                            train_interactions=train_mat_s).mean())"
   ]
  },
  {
   "cell_type": "code",
   "execution_count": 192,
   "id": "1be76bb9",
   "metadata": {
    "ExecuteTime": {
     "end_time": "2024-02-29T11:01:40.176637Z",
     "start_time": "2024-02-29T11:01:40.047573Z"
    }
   },
   "outputs": [
    {
     "data": {
      "image/png": "[encoded data removed]",
      "text/plain": [
       "<Figure size 640x480 with 1 Axes>"
      ]
     },
     "metadata": {},
     "output_type": "display_data"
    }
   ],
   "source": [
    "x = np.arange(1, epochs, 2)\n",
    "plt.plot(x, np.array(grad_mapk)*100)\n",
    "plt.plot(x, np.array(delta_mapk)*100)\n",
    "plt.xlabel('Номер эпохи')\n",
    "plt.ylabel('MAP@k = 3')\n",
    "plt.legend(['GRAD MAPK', 'DELTA MAPK'], loc='upper right')\n",
    "plt.savefig('lightfm_grad.png')\n",
    "plt.show()"
   ]
  },
  {
   "cell_type": "markdown",
   "id": "8e9c225e",
   "metadata": {},
   "source": [
    "# Финальная модель лучшего качества"
   ]
  },
  {
   "cell_type": "code",
   "execution_count": 184,
   "id": "2e082fde",
   "metadata": {
    "ExecuteTime": {
     "end_time": "2024-02-29T07:18:12.881397Z",
     "start_time": "2024-02-29T05:36:26.190324Z"
    }
   },
   "outputs": [
    {
     "data": {
      "text/plain": [
       "<lightfm.lightfm.LightFM at 0x16bebd840>"
      ]
     },
     "execution_count": 184,
     "metadata": {},
     "output_type": "execute_result"
    }
   ],
   "source": [
    "%%time\n",
    "model = LightFM(no_components=NO_COMPONENTS,\n",
    "                    loss='warp',\n",
    "                    learning_rate = LEARNING_RATE,\n",
    "                    learning_schedule='adagrad',\n",
    "                    random_state = RANDOM_STATE)\n",
    "\n",
    "# Обучение\n",
    "model.fit(train_mat, \n",
    "              epochs=100, \n",
    "              item_features = movies_features,\n",
    "              num_threads = 4)"
   ]
  },
  {
   "cell_type": "code",
   "execution_count": 186,
   "id": "351e57ce",
   "metadata": {
    "ExecuteTime": {
     "end_time": "2024-02-29T07:32:55.959853Z",
     "start_time": "2024-02-29T07:32:55.817935Z"
    }
   },
   "outputs": [],
   "source": [
    "import pickle\n",
    "\n",
    "pickle.dump(model, open('lfm_model_fin_v2.pkl', 'wb'))"
   ]
  },
  {
   "cell_type": "code",
   "execution_count": 187,
   "id": "6a14f0b4",
   "metadata": {
    "ExecuteTime": {
     "end_time": "2024-02-29T09:29:30.624769Z",
     "start_time": "2024-02-29T07:34:44.468789Z"
    }
   },
   "outputs": [
    {
     "name": "stderr",
     "output_type": "stream",
     "text": [
      "100%|██████████| 9/9 [1:54:46<00:00, 765.13s/it]\n"
     ]
    }
   ],
   "source": [
    "mapk_list_k = list()\n",
    "K = np.arange(2, 20, 2)\n",
    "\n",
    "for k in tqdm(K):\n",
    "    \n",
    "    mapk_list_k.append(mapk(model = model, df_test = test_mat, df_train = train_mat,\n",
    "                              k = k, item_features = movies_features))\n",
    "    \n",
    "mapk_comp_arr = np.array(mapk_list_k)*100"
   ]
  },
  {
   "cell_type": "code",
   "execution_count": 189,
   "id": "3fdd5849",
   "metadata": {
    "ExecuteTime": {
     "end_time": "2024-02-29T10:46:49.211356Z",
     "start_time": "2024-02-29T10:46:49.064472Z"
    }
   },
   "outputs": [
    {
     "data": {
      "image/png": "[encoded data removed]",
      "text/plain": [
       "<Figure size 600x400 with 1 Axes>"
      ]
     },
     "metadata": {},
     "output_type": "display_data"
    }
   ],
   "source": [
    "fig = plt.figure(figsize=(6,4))\n",
    "\n",
    "plt.plot(K, mapk_comp_arr, markersize=8)\n",
    "\n",
    "plt.xlabel('Количество рекомендаций', fontsize=12)\n",
    "plt.ylabel('Качество модели, MAP@K, %', fontsize=12)\n",
    "plt.title('Динамика MAP@K в зависимости от количества рекомендаций', fontsize=12)\n",
    "plt.grid(True)\n",
    "plt.savefig('lightfm_k.png')\n",
    "plt.show()"
   ]
  },
  {
   "cell_type": "code",
   "execution_count": null,
   "id": "02277c96",
   "metadata": {},
   "outputs": [],
   "source": []
  },
  {
   "cell_type": "code",
   "execution_count": 190,
   "id": "1e70e18e",
   "metadata": {
    "ExecuteTime": {
     "end_time": "2024-02-29T10:59:55.499642Z",
     "start_time": "2024-02-29T10:47:20.333327Z"
    },
    "scrolled": true
   },
   "outputs": [
    {
     "data": {
      "text/plain": [
       "7.697848975658417"
      ]
     },
     "execution_count": 190,
     "metadata": {},
     "output_type": "execute_result"
    }
   ],
   "source": [
    "mapk(model = model, df_test = test_mat, \n",
    "     df_train = train_mat, k = 10, item_features = movies_features)*100"
   ]
  },
  {
   "cell_type": "code",
   "execution_count": null,
   "id": "c39ce81e",
   "metadata": {},
   "outputs": [],
   "source": []
  },
  {
   "cell_type": "code",
   "execution_count": null,
   "id": "3c72978b",
   "metadata": {},
   "outputs": [],
   "source": []
  }
 ],
 "metadata": {
  "kernelspec": {
   "display_name": "Python 3 (ipykernel)",
   "language": "python",
   "name": "python3"
  },
  "language_info": {
   "codemirror_mode": {
    "name": "ipython",
    "version": 3
   },
   "file_extension": ".py",
   "mimetype": "text/x-python",
   "name": "python",
   "nbconvert_exporter": "python",
   "pygments_lexer": "ipython3",
   "version": "3.10.13"
  },
  "toc": {
   "base_numbering": 1,
   "nav_menu": {},
   "number_sections": true,
   "sideBar": true,
   "skip_h1_title": false,
   "title_cell": "Table of Contents",
   "title_sidebar": "Contents",
   "toc_cell": false,
   "toc_position": {
    "height": "calc(100% - 180px)",
    "left": "10px",
    "top": "150px",
    "width": "270px"
   },
   "toc_section_display": true,
   "toc_window_display": true
  },
  "varInspector": {
   "cols": {
    "lenName": 16,
    "lenType": 16,
    "lenVar": 40
   },
   "kernels_config": {
    "python": {
     "delete_cmd_postfix": "",
     "delete_cmd_prefix": "del ",
     "library": "var_list.py",
     "varRefreshCmd": "print(var_dic_list())"
    },
    "r": {
     "delete_cmd_postfix": ") ",
     "delete_cmd_prefix": "rm(",
     "library": "var_list.r",
     "varRefreshCmd": "cat(var_dic_list()) "
    }
   },
   "types_to_exclude": [
    "module",
    "function",
    "builtin_function_or_method",
    "instance",
    "_Feature"
   ],
   "window_display": false
  }
 },
 "nbformat": 4,
 "nbformat_minor": 5
}
