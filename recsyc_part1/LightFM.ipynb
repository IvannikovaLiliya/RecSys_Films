{
 "cells": [
  {
   "cell_type": "markdown",
   "id": "c5f10c28",
   "metadata": {},
   "source": [
    "# Import"
   ]
  },
  {
   "cell_type": "code",
   "execution_count": 1,
   "id": "74d57851",
   "metadata": {
    "ExecuteTime": {
     "end_time": "2024-01-13T21:04:09.480166Z",
     "start_time": "2024-01-13T21:04:08.685769Z"
    }
   },
   "outputs": [],
   "source": [
    "import pandas as pd\n",
    "import plotly.graph_objs as go\n",
    "import string\n",
    "import re\n",
    "import numpy as np\n",
    "import seaborn as sns\n",
    "import matplotlib.pyplot as plt\n",
    "from matplotlib.pyplot import figure\n",
    "#import cufflinks as cf\n",
    "from plotly.offline import iplot\n",
    "from tqdm import tqdm\n",
    "\n",
    "from collections import Counter\n",
    "from typing import Dict, Text\n",
    "from ast import literal_eval\n",
    "from datetime import datetime\n",
    "import plotly.express as px\n",
    "\n",
    "#cf.go_offline()\n",
    "#cf.set_config_file(offline = False, world_readable = True)\n",
    "\n",
    "import plotly.io as pio\n",
    "pio.renderers.default='notebook'\n",
    "\n",
    "import warnings\n",
    "warnings.simplefilter('ignore')\n",
    "\n",
    "from rectools import Columns\n",
    "from rectools.dataset import Dataset\n",
    "\n",
    "from lightfm import LightFM\n",
    "from lightfm.data import Dataset\n",
    "import scipy.sparse as sp\n",
    "from lightfm.evaluation import precision_at_k\n",
    "\n",
    "import os"
   ]
  },
  {
   "cell_type": "code",
   "execution_count": 2,
   "id": "5365982a",
   "metadata": {
    "ExecuteTime": {
     "end_time": "2024-01-13T21:04:09.483964Z",
     "start_time": "2024-01-13T21:04:09.481338Z"
    }
   },
   "outputs": [
    {
     "data": {
      "text/plain": [
       "'/Users/liliyaivannikova/Documents/project/git/RecSys_Films'"
      ]
     },
     "execution_count": 2,
     "metadata": {},
     "output_type": "execute_result"
    }
   ],
   "source": [
    "us = os.getcwd()\n",
    "us"
   ]
  },
  {
   "cell_type": "code",
   "execution_count": 3,
   "id": "cbc2b297",
   "metadata": {
    "ExecuteTime": {
     "end_time": "2024-01-13T21:04:13.806166Z",
     "start_time": "2024-01-13T21:04:09.484670Z"
    }
   },
   "outputs": [],
   "source": [
    "if 'liliyaivannikova' in us:\n",
    "    PATH = r'/Users/liliyaivannikova/Documents/project/ml-latest/'\n",
    "    movies = pd.read_csv(PATH + r'movies.csv')\n",
    "    rating = pd.read_csv(PATH + r'ratings.csv')\n",
    "elif 'Владислав' in us:\n",
    "    movies = pd.read_csv(r'dataset/movies.csv')\n",
    "    rating = pd.read_csv(r'dataset/ratings.csv')"
   ]
  },
  {
   "cell_type": "code",
   "execution_count": 4,
   "id": "1ce21742",
   "metadata": {
    "ExecuteTime": {
     "end_time": "2024-01-13T21:04:13.809295Z",
     "start_time": "2024-01-13T21:04:13.807555Z"
    }
   },
   "outputs": [
    {
     "name": "stdout",
     "output_type": "stream",
     "text": [
      "\n",
      "movies: (86537, 3)\n",
      "rating: (33832162, 4)\n",
      "\n"
     ]
    }
   ],
   "source": [
    "print(f'''\n",
    "movies: {movies.shape}\n",
    "rating: {rating.shape}\n",
    "''')"
   ]
  },
  {
   "cell_type": "code",
   "execution_count": 5,
   "id": "9129d676",
   "metadata": {
    "ExecuteTime": {
     "end_time": "2024-01-13T21:04:13.906148Z",
     "start_time": "2024-01-13T21:04:13.810127Z"
    }
   },
   "outputs": [],
   "source": [
    "movies.columns = [col.upper() for col in movies.columns]\n",
    "movies['REALEASE'] = movies['TITLE'].str.extract(\"\\((\\d{4})\\)\", expand=True)\n",
    "movies['REALEASE'] = pd.to_datetime(movies['REALEASE'], format='%Y')\n",
    "movies['REALEASE'] = movies['REALEASE'].dt.year\n",
    "movies['TITLE'] = movies['TITLE'].str[:-7]"
   ]
  },
  {
   "cell_type": "code",
   "execution_count": 6,
   "id": "fcf0b520",
   "metadata": {
    "ExecuteTime": {
     "end_time": "2024-01-13T21:04:14.156901Z",
     "start_time": "2024-01-13T21:04:13.907066Z"
    }
   },
   "outputs": [],
   "source": [
    "# dummy-кодирование жанров\n",
    "dfx = movies['GENRES'].str.get_dummies(sep='|')\n",
    "for col in dfx.columns:\n",
    "    dfx[col] = dfx[col].astype('int8')"
   ]
  },
  {
   "cell_type": "code",
   "execution_count": 7,
   "id": "c1a6946c",
   "metadata": {
    "ExecuteTime": {
     "end_time": "2024-01-13T21:04:14.227625Z",
     "start_time": "2024-01-13T21:04:14.157706Z"
    }
   },
   "outputs": [],
   "source": [
    "movies = pd.concat([movies, dfx], axis=1) #.drop(columns=['GENRES'])\n",
    "movies['TITLE'] = movies['TITLE'].astype('category')\n",
    "movies['REALEASE'] = movies['REALEASE'].astype('float16')\n",
    "movies['GENRES'] = movies['GENRES'].str.replace('|', ',')"
   ]
  },
  {
   "cell_type": "code",
   "execution_count": 8,
   "id": "64aeb5f0",
   "metadata": {
    "ExecuteTime": {
     "end_time": "2024-01-13T21:04:14.515895Z",
     "start_time": "2024-01-13T21:04:14.228420Z"
    }
   },
   "outputs": [],
   "source": [
    "rating.columns = [col.upper() for col in rating.columns]\n",
    "rating['TIMESTAMP'] = pd.to_datetime(rating['TIMESTAMP'], unit='s')"
   ]
  },
  {
   "cell_type": "markdown",
   "id": "ad5e78a9",
   "metadata": {},
   "source": [
    "# Фильтрация строк"
   ]
  },
  {
   "cell_type": "code",
   "execution_count": 9,
   "id": "14787f95",
   "metadata": {
    "ExecuteTime": {
     "end_time": "2024-01-13T21:04:15.050655Z",
     "start_time": "2024-01-13T21:04:14.516686Z"
    }
   },
   "outputs": [
    {
     "name": "stdout",
     "output_type": "stream",
     "text": [
      "(33832162, 4)\n",
      "(33832162, 4)\n"
     ]
    }
   ],
   "source": [
    "# пустые поля\n",
    "print(rating.shape)\n",
    "rating = rating[~((rating.TIMESTAMP.isna())|(rating.USERID.isna())|(rating.RATING.isna()))]\n",
    "print(rating.shape)"
   ]
  },
  {
   "cell_type": "code",
   "execution_count": 10,
   "id": "7a431f56",
   "metadata": {
    "ExecuteTime": {
     "end_time": "2024-01-13T21:04:15.569322Z",
     "start_time": "2024-01-13T21:04:15.052765Z"
    }
   },
   "outputs": [
    {
     "name": "stdout",
     "output_type": "stream",
     "text": [
      "(33832162, 4)\n",
      "(33798830, 4)\n"
     ]
    }
   ],
   "source": [
    "# при eda нашла странного юзера, уберем его при построении\n",
    "print(rating.shape)\n",
    "rating.query('USERID != 189614', inplace = True)\n",
    "print(rating.shape)"
   ]
  },
  {
   "cell_type": "code",
   "execution_count": null,
   "id": "324185b7",
   "metadata": {},
   "outputs": [],
   "source": []
  },
  {
   "cell_type": "markdown",
   "id": "2447160e",
   "metadata": {},
   "source": [
    "# LightFM"
   ]
  },
  {
   "cell_type": "code",
   "execution_count": 11,
   "id": "091dc891",
   "metadata": {
    "ExecuteTime": {
     "end_time": "2024-01-13T21:04:15.572076Z",
     "start_time": "2024-01-13T21:04:15.570251Z"
    }
   },
   "outputs": [],
   "source": [
    "def TrainTestSplit(df, n_days):\n",
    "    '''\n",
    "    df - датафрейм для разделения выборки\n",
    "    n_days - количество дней, которые попадут в тест\n",
    "    '''\n",
    "    #df['weight'] = np.where(df['RATING'] >= 4, 1, 0)\n",
    "    train_df = df.loc[df['datetime'] < df['datetime'].max() - pd.DateOffset(days=n_days),\n",
    "                     ['item_id', 'user_id', 'weight']].copy()\n",
    "    test_df = df.loc[df['datetime'] >= df['datetime'].max() - pd.DateOffset(days=n_days),\n",
    "                    ['item_id', 'user_id', 'weight']].copy()\n",
    "\n",
    "    return train_df, test_df"
   ]
  },
  {
   "cell_type": "code",
   "execution_count": 12,
   "id": "8015fa2d",
   "metadata": {
    "ExecuteTime": {
     "end_time": "2024-01-13T21:04:15.576458Z",
     "start_time": "2024-01-13T21:04:15.572850Z"
    }
   },
   "outputs": [],
   "source": [
    "class LightFMRecSyc():\n",
    "\n",
    "    def __init__(self, model = None, df = None, IMDb_df = None, Genre = None):\n",
    "        \n",
    "        if model is None:\n",
    "            self.model = LightFM(learning_rate = 0.05,\n",
    "                                 loss = 'warp', \n",
    "                                 random_state = 111)\n",
    "        else:\n",
    "            self.model = model\n",
    "        \n",
    "        self.df = df\n",
    "        self.IMDb_df = IMDb_df\n",
    "        self.Genre = Genre\n",
    "        \n",
    "    def IMDb(self):\n",
    "        \"\"\"\n",
    "            Обработка кейсов, когда нет оценок по user_id\n",
    "        \"\"\"\n",
    "        if self.df is None:\n",
    "            return None\n",
    "        else:\n",
    "       \n",
    "            return self.IMDb_df['TITLE']\n",
    "               \n",
    "        \n",
    "    def fit(self, df_train, epochs, item_features, num_threads):\n",
    "        \"\"\"\n",
    "            Обучение модели LightFM\n",
    "        \"\"\"\n",
    "        self.model.fit_partial(df_train, \n",
    "                            epochs = epochs, \n",
    "                            item_features = item_features,\n",
    "                            num_threads = num_threads)\n",
    "            \n",
    "    def predict(self, user_id, k):\n",
    "        \"\"\"\n",
    "            Рекомендации для пользователей\n",
    "        \"\"\"\n",
    "        predictions = {}\n",
    "        for user in user_id:\n",
    "            predictions[user] = self.recommend(user_id=user, k=k)\n",
    "        return predictions\n",
    "\n",
    "\n",
    "    def recommend(self, user_id, k, movies_to_predict):\n",
    "        \"\"\"\n",
    "            Расчет рекомендаций\n",
    "        \"\"\"\n",
    "        # Если ранее такого пользователя не было, используем IMDb\n",
    "        try:\n",
    "            \n",
    "            n_movies = self.df['item_id'].unique()\n",
    "\n",
    "            prediction = self.model.predict(user_ids = user_id * len(movies_to_predict), \n",
    "                                        item_ids = movies_to_predict * len(user_id)\n",
    "                                        )\n",
    "            predict = np.array(n_movies)[np.argsort(-prediction)][:k]\n",
    "            return predict.tolist()\n",
    "        \n",
    "        except:\n",
    "            return self.IMDb()[:k].to_list()"
   ]
  },
  {
   "cell_type": "code",
   "execution_count": 13,
   "id": "33e0a3f6",
   "metadata": {
    "ExecuteTime": {
     "end_time": "2024-01-13T21:04:15.578706Z",
     "start_time": "2024-01-13T21:04:15.577181Z"
    }
   },
   "outputs": [],
   "source": [
    "def mapk(model, df_test, k, item_features):\n",
    "    test_precision = precision_at_k(model=model, \n",
    "                            test_interactions=df_test,\n",
    "                            k=k,\n",
    "                            item_features = movies_features)\n",
    "    map_at_k = sum(test_precision)/len(test_precision)\n",
    "    return map_at_k"
   ]
  },
  {
   "cell_type": "code",
   "execution_count": 14,
   "id": "d7ed8ec9",
   "metadata": {
    "ExecuteTime": {
     "end_time": "2024-01-13T21:04:15.581325Z",
     "start_time": "2024-01-13T21:04:15.579508Z"
    }
   },
   "outputs": [],
   "source": [
    "rating.rename({'USERID':'user_id',\n",
    "            'MOVIEID':'item_id',\n",
    "            'RATING':'weight',\n",
    "            'TIMESTAMP':'datetime'}, axis=1, inplace=True)"
   ]
  },
  {
   "cell_type": "code",
   "execution_count": 15,
   "id": "964334c8",
   "metadata": {
    "ExecuteTime": {
     "end_time": "2024-01-13T21:04:15.585638Z",
     "start_time": "2024-01-13T21:04:15.582942Z"
    }
   },
   "outputs": [],
   "source": [
    "movies.rename({'MOVIEID':'item_id'}, axis=1, inplace=True)"
   ]
  },
  {
   "cell_type": "code",
   "execution_count": 16,
   "id": "31176ded",
   "metadata": {
    "ExecuteTime": {
     "end_time": "2024-01-13T21:04:16.408019Z",
     "start_time": "2024-01-13T21:04:15.586579Z"
    }
   },
   "outputs": [],
   "source": [
    "train_df, test_df = TrainTestSplit(rating, 180)"
   ]
  },
  {
   "cell_type": "code",
   "execution_count": 17,
   "id": "750118be",
   "metadata": {
    "ExecuteTime": {
     "end_time": "2024-01-13T21:04:30.461426Z",
     "start_time": "2024-01-13T21:04:16.408947Z"
    }
   },
   "outputs": [],
   "source": [
    "dataset = Dataset()\n",
    "dataset.fit(train_df['user_id'], train_df['item_id'], item_features=movies['GENRES'].values)\n",
    "dataset.fit_partial(users=test_df['user_id'], items=test_df['item_id'])"
   ]
  },
  {
   "cell_type": "code",
   "execution_count": 18,
   "id": "b713e5fe",
   "metadata": {
    "ExecuteTime": {
     "end_time": "2024-01-13T21:05:02.384675Z",
     "start_time": "2024-01-13T21:04:30.462176Z"
    }
   },
   "outputs": [],
   "source": [
    "interactions, _ = dataset.build_interactions(train_df.loc[:, ['user_id', 'item_id']].values.tolist())\n",
    "interactions_test, _ = dataset.build_interactions(test_df.loc[:, ['user_id', 'item_id']].values.tolist())"
   ]
  },
  {
   "cell_type": "code",
   "execution_count": 19,
   "id": "18d063ff",
   "metadata": {
    "ExecuteTime": {
     "end_time": "2024-01-13T21:05:04.429683Z",
     "start_time": "2024-01-13T21:05:02.385475Z"
    }
   },
   "outputs": [],
   "source": [
    "train_movies = movies.loc[movies['item_id'].isin(train_df['item_id']), ['item_id', 'GENRES']]\n",
    "features = [[v[0], v[1:].values.tolist()] for i, v in train_movies.loc[:, ['item_id', 'GENRES']].iterrows()]\n",
    "movies_features = dataset.build_item_features(features)"
   ]
  },
  {
   "cell_type": "code",
   "execution_count": 20,
   "id": "13504368",
   "metadata": {
    "ExecuteTime": {
     "end_time": "2024-01-13T21:05:04.439007Z",
     "start_time": "2024-01-13T21:05:04.430415Z"
    }
   },
   "outputs": [],
   "source": [
    "movies_to_predict = [dataset._item_id_mapping[x] for x in test_df['item_id'].unique()]"
   ]
  },
  {
   "cell_type": "markdown",
   "id": "567129c6",
   "metadata": {},
   "source": [
    "## подбор гиперпараметров"
   ]
  },
  {
   "cell_type": "code",
   "execution_count": 22,
   "id": "c11c0e1c",
   "metadata": {
    "ExecuteTime": {
     "end_time": "2024-01-14T13:02:54.050874Z",
     "start_time": "2024-01-13T21:05:23.206978Z"
    }
   },
   "outputs": [
    {
     "name": "stderr",
     "output_type": "stream",
     "text": [
      "100%|██████████████████████████████████████| 40/40 [15:57:30<00:00, 1436.27s/it]\n"
     ]
    }
   ],
   "source": [
    "mapk_list_ep = list()\n",
    "epochs = np.arange(6, 46, 1)\n",
    "\n",
    "for epoch in tqdm(epochs):\n",
    "    model = LightFM(no_components=10,\n",
    "                loss='warp', \n",
    "                random_state=111,\n",
    "                learning_rate=0.05)   \n",
    "    \n",
    "    lfm_model = LightFMRecSyc(model, rating)\n",
    "    \n",
    "    lfm_model.fit(interactions, \n",
    "              epochs=epoch, \n",
    "              item_features = movies_features,\n",
    "              num_threads = 75)\n",
    "    \n",
    "    mapk_list_ep.append(mapk(model = lfm_model.model, df_test = interactions_test, \n",
    "                          k = 10, item_features = movies_features))\n",
    "    "
   ]
  },
  {
   "cell_type": "code",
   "execution_count": 24,
   "id": "cf006e46",
   "metadata": {
    "ExecuteTime": {
     "end_time": "2024-01-14T13:03:57.330764Z",
     "start_time": "2024-01-14T13:03:57.329133Z"
    }
   },
   "outputs": [],
   "source": [
    "mapk_ep_arr = np.array(mapk_list_ep)*100"
   ]
  },
  {
   "cell_type": "code",
   "execution_count": 28,
   "id": "2a4456f3",
   "metadata": {
    "ExecuteTime": {
     "end_time": "2024-01-14T13:06:09.733092Z",
     "start_time": "2024-01-14T13:06:09.626322Z"
    }
   },
   "outputs": [
    {
     "data": {
      "image/png": "[encoded data removed]",
      "text/plain": [
       "<Figure size 600x400 with 1 Axes>"
      ]
     },
     "metadata": {},
     "output_type": "display_data"
    }
   ],
   "source": [
    "fig = plt.figure(figsize=(6,4))\n",
    "\n",
    "plt.plot(epochs, mapk_ep_arr, markersize=8)\n",
    "\n",
    "plt.xlabel('Количество эпох', fontsize=12)\n",
    "plt.ylabel('Качество модели, MAP@K, %', fontsize=12)\n",
    "plt.title('Динамика MAP@K в зависимости от количества эпох', fontsize=12)\n",
    "plt.grid(True)\n",
    "plt.savefig('lightfm_epochs.png')\n",
    "plt.show()"
   ]
  },
  {
   "cell_type": "code",
   "execution_count": null,
   "id": "b4cbf71e",
   "metadata": {},
   "outputs": [],
   "source": []
  },
  {
   "cell_type": "code",
   "execution_count": null,
   "id": "e1747da6",
   "metadata": {},
   "outputs": [],
   "source": []
  },
  {
   "cell_type": "markdown",
   "id": "8e9c225e",
   "metadata": {},
   "source": [
    "## Финальная модель лучшего качества"
   ]
  },
  {
   "cell_type": "code",
   "execution_count": 32,
   "id": "2e082fde",
   "metadata": {
    "ExecuteTime": {
     "end_time": "2024-01-14T13:14:09.253794Z",
     "start_time": "2024-01-14T13:14:09.250120Z"
    }
   },
   "outputs": [],
   "source": [
    "model = LightFM(no_components=10,\n",
    "                loss='warp', \n",
    "                random_state=111,\n",
    "                learning_rate=0.05)\n",
    "\n",
    "lfm_model = LightFMRecSyc(model, rating)"
   ]
  },
  {
   "cell_type": "code",
   "execution_count": 33,
   "id": "c7e637f8",
   "metadata": {
    "ExecuteTime": {
     "end_time": "2024-01-14T13:57:32.926637Z",
     "start_time": "2024-01-14T13:14:13.475622Z"
    }
   },
   "outputs": [],
   "source": [
    "# Обучение\n",
    "lfm_model.fit(interactions, \n",
    "              epochs=40, \n",
    "              item_features = movies_features,\n",
    "              num_threads = 75)"
   ]
  },
  {
   "cell_type": "code",
   "execution_count": 34,
   "id": "351e57ce",
   "metadata": {
    "ExecuteTime": {
     "end_time": "2024-01-14T14:14:44.998422Z",
     "start_time": "2024-01-14T14:14:44.953660Z"
    }
   },
   "outputs": [],
   "source": [
    "import pickle\n",
    "\n",
    "pickle.dump(lfm_model.model, open('lfm_model_fin.pkl', 'wb'))"
   ]
  },
  {
   "cell_type": "code",
   "execution_count": 35,
   "id": "6a14f0b4",
   "metadata": {
    "ExecuteTime": {
     "end_time": "2024-01-14T14:22:10.780138Z",
     "start_time": "2024-01-14T14:14:48.995259Z"
    }
   },
   "outputs": [
    {
     "name": "stderr",
     "output_type": "stream",
     "text": [
      "100%|█████████████████████████████████████████████| 7/7 [07:21<00:00, 63.11s/it]\n"
     ]
    }
   ],
   "source": [
    "mapk_list_k = list()\n",
    "K = np.arange(2, 15, 2)\n",
    "\n",
    "for k in tqdm(K):\n",
    "    \n",
    "    mapk_list_k.append(mapk(model = lfm_model.model, df_test = interactions_test, \n",
    "                          k = k, item_features = movies_features))\n",
    "    "
   ]
  },
  {
   "cell_type": "code",
   "execution_count": 37,
   "id": "5ad2ad5c",
   "metadata": {
    "ExecuteTime": {
     "end_time": "2024-01-14T14:23:59.451854Z",
     "start_time": "2024-01-14T14:23:59.448721Z"
    }
   },
   "outputs": [],
   "source": [
    "mapk_comp_arr = np.array(mapk_list_k)*100"
   ]
  },
  {
   "cell_type": "code",
   "execution_count": 44,
   "id": "3fdd5849",
   "metadata": {
    "ExecuteTime": {
     "end_time": "2024-01-14T14:29:57.983288Z",
     "start_time": "2024-01-14T14:29:57.853214Z"
    }
   },
   "outputs": [
    {
     "data": {
      "image/png": "[encoded data removed]",
      "text/plain": [
       "<Figure size 600x400 with 1 Axes>"
      ]
     },
     "metadata": {},
     "output_type": "display_data"
    }
   ],
   "source": [
    "fig = plt.figure(figsize=(6,4))\n",
    "\n",
    "plt.plot(K, mapk_comp_arr, markersize=8)\n",
    "\n",
    "plt.xlabel('Количество рекомендаций', fontsize=12)\n",
    "plt.ylabel('Качество модели, MAP@K, %', fontsize=12)\n",
    "plt.title('Динамика MAP@K в зависимости от количества рекомендаций', fontsize=12)\n",
    "plt.grid(True)\n",
    "plt.savefig('lightfm_k.png')\n",
    "plt.show()"
   ]
  },
  {
   "cell_type": "code",
   "execution_count": null,
   "id": "02277c96",
   "metadata": {},
   "outputs": [],
   "source": []
  },
  {
   "cell_type": "code",
   "execution_count": 46,
   "id": "1e70e18e",
   "metadata": {
    "ExecuteTime": {
     "end_time": "2024-01-14T14:32:49.248389Z",
     "start_time": "2024-01-14T14:31:39.329947Z"
    },
    "scrolled": true
   },
   "outputs": [
    {
     "data": {
      "text/plain": [
       "15.503608493047723"
      ]
     },
     "execution_count": 46,
     "metadata": {},
     "output_type": "execute_result"
    }
   ],
   "source": [
    "mapk(model = lfm_model.model, df_test = interactions_test, k = 3, item_features = movies_features)*100"
   ]
  },
  {
   "cell_type": "code",
   "execution_count": null,
   "id": "c39ce81e",
   "metadata": {},
   "outputs": [],
   "source": []
  },
  {
   "cell_type": "code",
   "execution_count": null,
   "id": "3c72978b",
   "metadata": {},
   "outputs": [],
   "source": []
  }
 ],
 "metadata": {
  "kernelspec": {
   "display_name": "Python 3 (ipykernel)",
   "language": "python",
   "name": "python3"
  },
  "language_info": {
   "codemirror_mode": {
    "name": "ipython",
    "version": 3
   },
   "file_extension": ".py",
   "mimetype": "text/x-python",
   "name": "python",
   "nbconvert_exporter": "python",
   "pygments_lexer": "ipython3",
   "version": "3.10.13"
  },
  "toc": {
   "base_numbering": 1,
   "nav_menu": {},
   "number_sections": true,
   "sideBar": true,
   "skip_h1_title": false,
   "title_cell": "Table of Contents",
   "title_sidebar": "Contents",
   "toc_cell": false,
   "toc_position": {
    "height": "calc(100% - 180px)",
    "left": "10px",
    "top": "150px",
    "width": "270px"
   },
   "toc_section_display": true,
   "toc_window_display": true
  },
  "varInspector": {
   "cols": {
    "lenName": 16,
    "lenType": 16,
    "lenVar": 40
   },
   "kernels_config": {
    "python": {
     "delete_cmd_postfix": "",
     "delete_cmd_prefix": "del ",
     "library": "var_list.py",
     "varRefreshCmd": "print(var_dic_list())"
    },
    "r": {
     "delete_cmd_postfix": ") ",
     "delete_cmd_prefix": "rm(",
     "library": "var_list.r",
     "varRefreshCmd": "cat(var_dic_list()) "
    }
   },
   "types_to_exclude": [
    "module",
    "function",
    "builtin_function_or_method",
    "instance",
    "_Feature"
   ],
   "window_display": false
  }
 },
 "nbformat": 4,
 "nbformat_minor": 5
}
